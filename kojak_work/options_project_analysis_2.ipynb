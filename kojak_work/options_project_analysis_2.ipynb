{
 "cells": [
  {
   "cell_type": "code",
   "execution_count": 252,
   "metadata": {
    "collapsed": false
   },
   "outputs": [],
   "source": [
    "import csv\n",
    "import pandas as pd\n",
    "from pandas import *\n",
    "from __future__ import division\n",
    "from pandas.tseries.offsets import *\n",
    "import dateutil.rrule as dr\n",
    "import dateutil.parser as dp\n",
    "import dateutil.relativedelta as drel\n",
    "import numpy as np\n",
    "import matplotlib.pyplot as plt\n",
    "import statsmodels.api as sm"
   ]
  },
  {
   "cell_type": "code",
   "execution_count": 253,
   "metadata": {
    "collapsed": true
   },
   "outputs": [],
   "source": [
    "pd.options.mode.chained_assignment = None"
   ]
  },
  {
   "cell_type": "markdown",
   "metadata": {},
   "source": [
    "## Loading files"
   ]
  },
  {
   "cell_type": "code",
   "execution_count": 254,
   "metadata": {
    "collapsed": false
   },
   "outputs": [],
   "source": [
    "#spd = read_csv('http://real-chart.finance.yahoo.com/table.csv?s=%5EGSPC&a=00&b=1&c=1974&d=05&e=19&f=2015&g=d&ignore=.csv',\n",
    "#               delimiter=',', header=0, \n",
    "#               names=['date','o','h','l','close','vol','c'])\n",
    "#spw = read_csv('http://real-chart.finance.yahoo.com/table.csv?s=%5EGSPC&a=00&b=1&c=1974&d=05&e=19&f=2015&g=w&ignore=.csv',\n",
    "#               delimiter=',', header=0, \n",
    "#               names=['date','o','h','l','close','vol','c'])\n",
    "\n",
    "#http://real-chart.finance.yahoo.com/table.csv?s=DAL&a=04&b=3&c=2008&d=05&e=9&f=2015&g=d&ignore=.csv\n",
    "#http://real-chart.finance.yahoo.com/table.csv?s=%5EGSPC&a=00&b=1&c=1974&d=05&e=9&f=2015&g=d&ignore=.csv"
   ]
  },
  {
   "cell_type": "markdown",
   "metadata": {},
   "source": [
    "### Insert row for date = 2001-09-17 (missing in yahoo data) in spw after download (append + concat)"
   ]
  },
  {
   "cell_type": "code",
   "execution_count": 255,
   "metadata": {
    "collapsed": true
   },
   "outputs": [],
   "source": [
    "#spd.to_csv('spd.csv')\n",
    "#spw.to_csv('spw.csv')"
   ]
  },
  {
   "cell_type": "code",
   "execution_count": 256,
   "metadata": {
    "collapsed": true
   },
   "outputs": [],
   "source": [
    "spd = read_csv('spd.csv', delimiter=',', header=0, usecols=[1,2,3,4,5,6,7])\n",
    "spw = read_csv('spw.csv', delimiter=',', header=0, usecols=[1,2,3,4,5,6,7])"
   ]
  },
  {
   "cell_type": "code",
   "execution_count": 257,
   "metadata": {
    "collapsed": false
   },
   "outputs": [
    {
     "data": {
      "text/html": [
       "<div style=\"max-height:1000px;max-width:1500px;overflow:auto;\">\n",
       "<table border=\"1\" class=\"dataframe\">\n",
       "  <thead>\n",
       "    <tr style=\"text-align: right;\">\n",
       "      <th></th>\n",
       "      <th>date</th>\n",
       "      <th>o</th>\n",
       "      <th>h</th>\n",
       "      <th>l</th>\n",
       "      <th>close</th>\n",
       "      <th>vol</th>\n",
       "      <th>c</th>\n",
       "    </tr>\n",
       "  </thead>\n",
       "  <tbody>\n",
       "    <tr>\n",
       "      <th>715</th>\n",
       "      <td> 2001-10-01</td>\n",
       "      <td> 1040.939941</td>\n",
       "      <td> 1084.119995</td>\n",
       "      <td> 1026.760010</td>\n",
       "      <td> 1071.380005</td>\n",
       "      <td> 1405360000</td>\n",
       "      <td> 1071.380005</td>\n",
       "    </tr>\n",
       "    <tr>\n",
       "      <th>716</th>\n",
       "      <td> 2001-09-24</td>\n",
       "      <td>  965.799988</td>\n",
       "      <td> 1040.939941</td>\n",
       "      <td>  965.799988</td>\n",
       "      <td> 1040.939941</td>\n",
       "      <td> 1595600000</td>\n",
       "      <td> 1040.939941</td>\n",
       "    </tr>\n",
       "    <tr>\n",
       "      <th>717</th>\n",
       "      <td> 2001-09-17</td>\n",
       "      <td> 1092.540039</td>\n",
       "      <td> 1092.540039</td>\n",
       "      <td>  944.750000</td>\n",
       "      <td>  965.799988</td>\n",
       "      <td> 6182790000</td>\n",
       "      <td>  965.799988</td>\n",
       "    </tr>\n",
       "    <tr>\n",
       "      <th>718</th>\n",
       "      <td> 2001-09-10</td>\n",
       "      <td> 1085.780029</td>\n",
       "      <td> 1096.939941</td>\n",
       "      <td> 1073.150024</td>\n",
       "      <td> 1092.540039</td>\n",
       "      <td> 1276600000</td>\n",
       "      <td> 1092.540039</td>\n",
       "    </tr>\n",
       "  </tbody>\n",
       "</table>\n",
       "</div>"
      ],
      "text/plain": [
       "           date            o            h            l        close  \\\n",
       "715  2001-10-01  1040.939941  1084.119995  1026.760010  1071.380005   \n",
       "716  2001-09-24   965.799988  1040.939941   965.799988  1040.939941   \n",
       "717  2001-09-17  1092.540039  1092.540039   944.750000   965.799988   \n",
       "718  2001-09-10  1085.780029  1096.939941  1073.150024  1092.540039   \n",
       "\n",
       "            vol            c  \n",
       "715  1405360000  1071.380005  \n",
       "716  1595600000  1040.939941  \n",
       "717  6182790000   965.799988  \n",
       "718  1276600000  1092.540039  "
      ]
     },
     "execution_count": 257,
     "metadata": {},
     "output_type": "execute_result"
    }
   ],
   "source": [
    "spw.iloc[715:719]"
   ]
  },
  {
   "cell_type": "code",
   "execution_count": 258,
   "metadata": {
    "collapsed": true
   },
   "outputs": [],
   "source": [
    "#spd.rename(columns={'Unnamed: 0':'nrow'}, inplace=True)\n",
    "#spw.rename(columns={'Unnamed: 0':'nrow'}, inplace=True)"
   ]
  },
  {
   "cell_type": "code",
   "execution_count": 259,
   "metadata": {
    "collapsed": false
   },
   "outputs": [
    {
     "name": "stdout",
     "output_type": "stream",
     "text": [
      "<class 'pandas.tslib.Timestamp'> <class 'pandas.tslib.Timestamp'>\n"
     ]
    }
   ],
   "source": [
    "spd['date'] = pd.to_datetime(spd['date'])\n",
    "spw['date'] = pd.to_datetime(spw['date'])\n",
    "print type(spd.date[0]), type(spw.date[0])"
   ]
  },
  {
   "cell_type": "code",
   "execution_count": 260,
   "metadata": {
    "collapsed": false
   },
   "outputs": [
    {
     "data": {
      "text/html": [
       "<div style=\"max-height:1000px;max-width:1500px;overflow:auto;\">\n",
       "<table border=\"1\" class=\"dataframe\">\n",
       "  <thead>\n",
       "    <tr style=\"text-align: right;\">\n",
       "      <th></th>\n",
       "      <th>date</th>\n",
       "      <th>o</th>\n",
       "      <th>h</th>\n",
       "      <th>l</th>\n",
       "      <th>close</th>\n",
       "      <th>vol</th>\n",
       "      <th>c</th>\n",
       "    </tr>\n",
       "  </thead>\n",
       "  <tbody>\n",
       "    <tr>\n",
       "      <th>0</th>\n",
       "      <td>2015-06-19</td>\n",
       "      <td> 2121.060059</td>\n",
       "      <td> 2121.639893</td>\n",
       "      <td> 2109.449951</td>\n",
       "      <td> 2109.989990</td>\n",
       "      <td> 4449810000</td>\n",
       "      <td> 2109.989990</td>\n",
       "    </tr>\n",
       "    <tr>\n",
       "      <th>1</th>\n",
       "      <td>2015-06-18</td>\n",
       "      <td> 2101.580078</td>\n",
       "      <td> 2126.649902</td>\n",
       "      <td> 2101.580078</td>\n",
       "      <td> 2121.239990</td>\n",
       "      <td> 3520360000</td>\n",
       "      <td> 2121.239990</td>\n",
       "    </tr>\n",
       "    <tr>\n",
       "      <th>2</th>\n",
       "      <td>2015-06-17</td>\n",
       "      <td> 2097.399902</td>\n",
       "      <td> 2106.790039</td>\n",
       "      <td> 2088.860107</td>\n",
       "      <td> 2100.439941</td>\n",
       "      <td> 3222240000</td>\n",
       "      <td> 2100.439941</td>\n",
       "    </tr>\n",
       "  </tbody>\n",
       "</table>\n",
       "</div>"
      ],
      "text/plain": [
       "        date            o            h            l        close         vol  \\\n",
       "0 2015-06-19  2121.060059  2121.639893  2109.449951  2109.989990  4449810000   \n",
       "1 2015-06-18  2101.580078  2126.649902  2101.580078  2121.239990  3520360000   \n",
       "2 2015-06-17  2097.399902  2106.790039  2088.860107  2100.439941  3222240000   \n",
       "\n",
       "             c  \n",
       "0  2109.989990  \n",
       "1  2121.239990  \n",
       "2  2100.439941  "
      ]
     },
     "execution_count": 260,
     "metadata": {},
     "output_type": "execute_result"
    }
   ],
   "source": [
    "spd.head(3)"
   ]
  },
  {
   "cell_type": "code",
   "execution_count": 261,
   "metadata": {
    "collapsed": false
   },
   "outputs": [
    {
     "data": {
      "text/html": [
       "<div style=\"max-height:1000px;max-width:1500px;overflow:auto;\">\n",
       "<table border=\"1\" class=\"dataframe\">\n",
       "  <thead>\n",
       "    <tr style=\"text-align: right;\">\n",
       "      <th></th>\n",
       "      <th>date</th>\n",
       "      <th>o</th>\n",
       "      <th>h</th>\n",
       "      <th>l</th>\n",
       "      <th>close</th>\n",
       "      <th>vol</th>\n",
       "      <th>c</th>\n",
       "    </tr>\n",
       "  </thead>\n",
       "  <tbody>\n",
       "    <tr>\n",
       "      <th>10459</th>\n",
       "      <td>1974-01-04</td>\n",
       "      <td> 99.800003</td>\n",
       "      <td> 100.699997</td>\n",
       "      <td> 97.699997</td>\n",
       "      <td> 98.900002</td>\n",
       "      <td> 21700000</td>\n",
       "      <td> 98.900002</td>\n",
       "    </tr>\n",
       "    <tr>\n",
       "      <th>10460</th>\n",
       "      <td>1974-01-03</td>\n",
       "      <td> 98.019997</td>\n",
       "      <td> 100.940002</td>\n",
       "      <td> 98.019997</td>\n",
       "      <td> 99.800003</td>\n",
       "      <td> 24850000</td>\n",
       "      <td> 99.800003</td>\n",
       "    </tr>\n",
       "    <tr>\n",
       "      <th>10461</th>\n",
       "      <td>1974-01-02</td>\n",
       "      <td> 97.550003</td>\n",
       "      <td>  98.379997</td>\n",
       "      <td> 96.250000</td>\n",
       "      <td> 97.680000</td>\n",
       "      <td> 12060000</td>\n",
       "      <td> 97.680000</td>\n",
       "    </tr>\n",
       "  </tbody>\n",
       "</table>\n",
       "</div>"
      ],
      "text/plain": [
       "            date          o           h          l      close       vol  \\\n",
       "10459 1974-01-04  99.800003  100.699997  97.699997  98.900002  21700000   \n",
       "10460 1974-01-03  98.019997  100.940002  98.019997  99.800003  24850000   \n",
       "10461 1974-01-02  97.550003   98.379997  96.250000  97.680000  12060000   \n",
       "\n",
       "               c  \n",
       "10459  98.900002  \n",
       "10460  99.800003  \n",
       "10461  97.680000  "
      ]
     },
     "execution_count": 261,
     "metadata": {},
     "output_type": "execute_result"
    }
   ],
   "source": [
    "spd.tail(3)"
   ]
  },
  {
   "cell_type": "code",
   "execution_count": 262,
   "metadata": {
    "collapsed": false
   },
   "outputs": [
    {
     "data": {
      "text/html": [
       "<div style=\"max-height:1000px;max-width:1500px;overflow:auto;\">\n",
       "<table border=\"1\" class=\"dataframe\">\n",
       "  <thead>\n",
       "    <tr style=\"text-align: right;\">\n",
       "      <th></th>\n",
       "      <th>date</th>\n",
       "      <th>o</th>\n",
       "      <th>h</th>\n",
       "      <th>l</th>\n",
       "      <th>close</th>\n",
       "      <th>vol</th>\n",
       "      <th>c</th>\n",
       "    </tr>\n",
       "  </thead>\n",
       "  <tbody>\n",
       "    <tr>\n",
       "      <th>0</th>\n",
       "      <td>2015-06-15</td>\n",
       "      <td> 2091.340088</td>\n",
       "      <td> 2126.649902</td>\n",
       "      <td> 2072.489990</td>\n",
       "      <td> 2109.989990</td>\n",
       "      <td> 3434776000</td>\n",
       "      <td> 2109.989990</td>\n",
       "    </tr>\n",
       "    <tr>\n",
       "      <th>1</th>\n",
       "      <td>2015-06-08</td>\n",
       "      <td> 2092.340088</td>\n",
       "      <td> 2115.020020</td>\n",
       "      <td> 2072.139893</td>\n",
       "      <td> 2094.110107</td>\n",
       "      <td> 3042810000</td>\n",
       "      <td> 2094.110107</td>\n",
       "    </tr>\n",
       "    <tr>\n",
       "      <th>2</th>\n",
       "      <td>2015-06-01</td>\n",
       "      <td> 2108.639893</td>\n",
       "      <td> 2121.919922</td>\n",
       "      <td> 2085.669922</td>\n",
       "      <td> 2092.830078</td>\n",
       "      <td> 3120956000</td>\n",
       "      <td> 2092.830078</td>\n",
       "    </tr>\n",
       "  </tbody>\n",
       "</table>\n",
       "</div>"
      ],
      "text/plain": [
       "        date            o            h            l        close         vol  \\\n",
       "0 2015-06-15  2091.340088  2126.649902  2072.489990  2109.989990  3434776000   \n",
       "1 2015-06-08  2092.340088  2115.020020  2072.139893  2094.110107  3042810000   \n",
       "2 2015-06-01  2108.639893  2121.919922  2085.669922  2092.830078  3120956000   \n",
       "\n",
       "             c  \n",
       "0  2109.989990  \n",
       "1  2094.110107  \n",
       "2  2092.830078  "
      ]
     },
     "execution_count": 262,
     "metadata": {},
     "output_type": "execute_result"
    }
   ],
   "source": [
    "spw.head(3)"
   ]
  },
  {
   "cell_type": "code",
   "execution_count": 263,
   "metadata": {
    "collapsed": false
   },
   "outputs": [
    {
     "data": {
      "text/html": [
       "<div style=\"max-height:1000px;max-width:1500px;overflow:auto;\">\n",
       "<table border=\"1\" class=\"dataframe\">\n",
       "  <thead>\n",
       "    <tr style=\"text-align: right;\">\n",
       "      <th></th>\n",
       "      <th>date</th>\n",
       "      <th>o</th>\n",
       "      <th>h</th>\n",
       "      <th>l</th>\n",
       "      <th>close</th>\n",
       "      <th>vol</th>\n",
       "      <th>c</th>\n",
       "    </tr>\n",
       "  </thead>\n",
       "  <tbody>\n",
       "    <tr>\n",
       "      <th>2161</th>\n",
       "      <td>1974-01-14</td>\n",
       "      <td> 93.660004</td>\n",
       "      <td>  98.349998</td>\n",
       "      <td> 92.349998</td>\n",
       "      <td> 95.559998</td>\n",
       "      <td> 16060000</td>\n",
       "      <td> 95.559998</td>\n",
       "    </tr>\n",
       "    <tr>\n",
       "      <th>2162</th>\n",
       "      <td>1974-01-07</td>\n",
       "      <td> 98.900002</td>\n",
       "      <td>  99.309998</td>\n",
       "      <td> 91.620003</td>\n",
       "      <td> 93.660004</td>\n",
       "      <td> 17296000</td>\n",
       "      <td> 93.660004</td>\n",
       "    </tr>\n",
       "    <tr>\n",
       "      <th>2163</th>\n",
       "      <td>1974-01-02</td>\n",
       "      <td> 97.550003</td>\n",
       "      <td> 100.940002</td>\n",
       "      <td> 96.250000</td>\n",
       "      <td> 98.900002</td>\n",
       "      <td> 19536600</td>\n",
       "      <td> 98.900002</td>\n",
       "    </tr>\n",
       "  </tbody>\n",
       "</table>\n",
       "</div>"
      ],
      "text/plain": [
       "           date          o           h          l      close       vol  \\\n",
       "2161 1974-01-14  93.660004   98.349998  92.349998  95.559998  16060000   \n",
       "2162 1974-01-07  98.900002   99.309998  91.620003  93.660004  17296000   \n",
       "2163 1974-01-02  97.550003  100.940002  96.250000  98.900002  19536600   \n",
       "\n",
       "              c  \n",
       "2161  95.559998  \n",
       "2162  93.660004  \n",
       "2163  98.900002  "
      ]
     },
     "execution_count": 263,
     "metadata": {},
     "output_type": "execute_result"
    }
   ],
   "source": [
    "spw.tail(3)"
   ]
  },
  {
   "cell_type": "code",
   "execution_count": 264,
   "metadata": {
    "collapsed": false
   },
   "outputs": [
    {
     "data": {
      "text/plain": [
       "10462"
      ]
     },
     "execution_count": 264,
     "metadata": {},
     "output_type": "execute_result"
    }
   ],
   "source": [
    "len(spd)"
   ]
  },
  {
   "cell_type": "code",
   "execution_count": 265,
   "metadata": {
    "collapsed": false
   },
   "outputs": [
    {
     "data": {
      "text/plain": [
       "2164"
      ]
     },
     "execution_count": 265,
     "metadata": {},
     "output_type": "execute_result"
    }
   ],
   "source": [
    "len(spw)"
   ]
  },
  {
   "cell_type": "code",
   "execution_count": 266,
   "metadata": {
    "collapsed": false
   },
   "outputs": [],
   "source": [
    "#spd.date[spd.date == dp.parse(\"20/03/2008\")] = pd.to_datetime(dp.parse(\"21/03/2008\"))"
   ]
  },
  {
   "cell_type": "code",
   "execution_count": 267,
   "metadata": {
    "collapsed": false
   },
   "outputs": [],
   "source": [
    "#spd.date[spd.date == dp.parse(\"21/04/2011\")] = pd.to_datetime(dp.parse(\"22/04/2011\"))"
   ]
  },
  {
   "cell_type": "code",
   "execution_count": 268,
   "metadata": {
    "collapsed": false
   },
   "outputs": [],
   "source": [
    "#spd.date[spd.date == dp.parse(\"20/04/2000\")] = pd.to_datetime(dp.parse(\"21/04/2000\"))"
   ]
  },
  {
   "cell_type": "code",
   "execution_count": 269,
   "metadata": {
    "collapsed": true
   },
   "outputs": [],
   "source": [
    "#spd.date[spd.date == dp.parse(\"19/04/1984\")] = pd.to_datetime(dp.parse(\"20/04/1984\"))"
   ]
  },
  {
   "cell_type": "code",
   "execution_count": 270,
   "metadata": {
    "collapsed": true
   },
   "outputs": [],
   "source": [
    "#spd.date[spd.date == dp.parse(\"17/04/2014\")] = pd.to_datetime(dp.parse(\"18/04/2014\"))"
   ]
  },
  {
   "cell_type": "code",
   "execution_count": 271,
   "metadata": {
    "collapsed": true
   },
   "outputs": [],
   "source": [
    "#spd.date[spd.date == dp.parse(\"23/12/2010\")] = pd.to_datetime(dp.parse(\"24/12/2010\"))"
   ]
  },
  {
   "cell_type": "code",
   "execution_count": 272,
   "metadata": {
    "collapsed": false
   },
   "outputs": [],
   "source": [
    "for i in range(len(spw.date)):\n",
    "    spw.date[i] = spw.date[i] + DateOffset(weekday = 4)\n",
    "#    if spw.date[i] == dp.parse(\"21/03/2008\"):\n",
    "#        spw.date[i] = pd.to_datetime(dp.parse(\"20/03/2008\"))"
   ]
  },
  {
   "cell_type": "code",
   "execution_count": 273,
   "metadata": {
    "collapsed": false
   },
   "outputs": [
    {
     "data": {
      "text/html": [
       "<div style=\"max-height:1000px;max-width:1500px;overflow:auto;\">\n",
       "<table border=\"1\" class=\"dataframe\">\n",
       "  <thead>\n",
       "    <tr style=\"text-align: right;\">\n",
       "      <th></th>\n",
       "      <th>date</th>\n",
       "      <th>o</th>\n",
       "      <th>h</th>\n",
       "      <th>l</th>\n",
       "      <th>close</th>\n",
       "      <th>vol</th>\n",
       "      <th>c</th>\n",
       "    </tr>\n",
       "  </thead>\n",
       "  <tbody>\n",
       "    <tr>\n",
       "      <th>0</th>\n",
       "      <td>2015-06-19</td>\n",
       "      <td> 2091.340088</td>\n",
       "      <td> 2126.649902</td>\n",
       "      <td> 2072.489990</td>\n",
       "      <td> 2109.989990</td>\n",
       "      <td> 3434776000</td>\n",
       "      <td> 2109.989990</td>\n",
       "    </tr>\n",
       "    <tr>\n",
       "      <th>1</th>\n",
       "      <td>2015-06-12</td>\n",
       "      <td> 2092.340088</td>\n",
       "      <td> 2115.020020</td>\n",
       "      <td> 2072.139893</td>\n",
       "      <td> 2094.110107</td>\n",
       "      <td> 3042810000</td>\n",
       "      <td> 2094.110107</td>\n",
       "    </tr>\n",
       "    <tr>\n",
       "      <th>2</th>\n",
       "      <td>2015-06-05</td>\n",
       "      <td> 2108.639893</td>\n",
       "      <td> 2121.919922</td>\n",
       "      <td> 2085.669922</td>\n",
       "      <td> 2092.830078</td>\n",
       "      <td> 3120956000</td>\n",
       "      <td> 2092.830078</td>\n",
       "    </tr>\n",
       "  </tbody>\n",
       "</table>\n",
       "</div>"
      ],
      "text/plain": [
       "        date            o            h            l        close         vol  \\\n",
       "0 2015-06-19  2091.340088  2126.649902  2072.489990  2109.989990  3434776000   \n",
       "1 2015-06-12  2092.340088  2115.020020  2072.139893  2094.110107  3042810000   \n",
       "2 2015-06-05  2108.639893  2121.919922  2085.669922  2092.830078  3120956000   \n",
       "\n",
       "             c  \n",
       "0  2109.989990  \n",
       "1  2094.110107  \n",
       "2  2092.830078  "
      ]
     },
     "execution_count": 273,
     "metadata": {},
     "output_type": "execute_result"
    }
   ],
   "source": [
    "spw.head(3)"
   ]
  },
  {
   "cell_type": "code",
   "execution_count": 274,
   "metadata": {
    "collapsed": false
   },
   "outputs": [
    {
     "data": {
      "text/html": [
       "<div style=\"max-height:1000px;max-width:1500px;overflow:auto;\">\n",
       "<table border=\"1\" class=\"dataframe\">\n",
       "  <thead>\n",
       "    <tr style=\"text-align: right;\">\n",
       "      <th></th>\n",
       "      <th>date</th>\n",
       "      <th>o</th>\n",
       "      <th>h</th>\n",
       "      <th>l</th>\n",
       "      <th>close</th>\n",
       "      <th>vol</th>\n",
       "      <th>c</th>\n",
       "    </tr>\n",
       "  </thead>\n",
       "  <tbody>\n",
       "    <tr>\n",
       "      <th>2161</th>\n",
       "      <td>1974-01-18</td>\n",
       "      <td> 93.660004</td>\n",
       "      <td>  98.349998</td>\n",
       "      <td> 92.349998</td>\n",
       "      <td> 95.559998</td>\n",
       "      <td> 16060000</td>\n",
       "      <td> 95.559998</td>\n",
       "    </tr>\n",
       "    <tr>\n",
       "      <th>2162</th>\n",
       "      <td>1974-01-11</td>\n",
       "      <td> 98.900002</td>\n",
       "      <td>  99.309998</td>\n",
       "      <td> 91.620003</td>\n",
       "      <td> 93.660004</td>\n",
       "      <td> 17296000</td>\n",
       "      <td> 93.660004</td>\n",
       "    </tr>\n",
       "    <tr>\n",
       "      <th>2163</th>\n",
       "      <td>1974-01-04</td>\n",
       "      <td> 97.550003</td>\n",
       "      <td> 100.940002</td>\n",
       "      <td> 96.250000</td>\n",
       "      <td> 98.900002</td>\n",
       "      <td> 19536600</td>\n",
       "      <td> 98.900002</td>\n",
       "    </tr>\n",
       "  </tbody>\n",
       "</table>\n",
       "</div>"
      ],
      "text/plain": [
       "           date          o           h          l      close       vol  \\\n",
       "2161 1974-01-18  93.660004   98.349998  92.349998  95.559998  16060000   \n",
       "2162 1974-01-11  98.900002   99.309998  91.620003  93.660004  17296000   \n",
       "2163 1974-01-04  97.550003  100.940002  96.250000  98.900002  19536600   \n",
       "\n",
       "              c  \n",
       "2161  95.559998  \n",
       "2162  93.660004  \n",
       "2163  98.900002  "
      ]
     },
     "execution_count": 274,
     "metadata": {},
     "output_type": "execute_result"
    }
   ],
   "source": [
    "spw.tail(3)"
   ]
  },
  {
   "cell_type": "markdown",
   "metadata": {},
   "source": [
    "## Moving Averages"
   ]
  },
  {
   "cell_type": "code",
   "execution_count": 275,
   "metadata": {
    "collapsed": false
   },
   "outputs": [
    {
     "data": {
      "text/plain": [
       "75.564843718750026"
      ]
     },
     "execution_count": 275,
     "metadata": {},
     "output_type": "execute_result"
    }
   ],
   "source": [
    "d12 = []\n",
    "d24 = []\n",
    "d48 = []\n",
    "d72 = []\n",
    "d96 = []\n",
    "d192 = []\n",
    "d288 = []\n",
    "for i in range(len(spd)-288):\n",
    "    d12.append(sum(spd.c[i:(i+12)])/12)\n",
    "    d24.append(sum(spd.c[i:(i+24)])/24)\n",
    "    d48.append(sum(spd.c[i:(i+48)])/48)\n",
    "    d72.append(sum(spd.c[i:(i+72)])/72)\n",
    "    d96.append(sum(spd.c[i:(i+96)])/96)\n",
    "    d192.append(sum(spd.c[i:(i+192)])/192)\n",
    "    d288.append(sum(spd.c[i:(i+288)])/288)\n",
    "    \n",
    "d192[-1]"
   ]
  },
  {
   "cell_type": "code",
   "execution_count": 276,
   "metadata": {
    "collapsed": false
   },
   "outputs": [
    {
     "data": {
      "text/plain": [
       "98.690937416666671"
      ]
     },
     "execution_count": 276,
     "metadata": {},
     "output_type": "execute_result"
    }
   ],
   "source": [
    "w12 = []\n",
    "w24 = []\n",
    "w48 = []\n",
    "w72 = []\n",
    "w96 = []\n",
    "w192 = []\n",
    "w288 = []\n",
    "for i in range(len(spw)-288):\n",
    "    w12.append(sum(spw.c[i:(i+12)])/12)\n",
    "    w24.append(sum(spw.c[i:(i+24)])/24)\n",
    "    w48.append(sum(spw.c[i:(i+48)])/48)\n",
    "    w72.append(sum(spw.c[i:(i+72)])/72)\n",
    "    w96.append(sum(spw.c[i:(i+96)])/96)\n",
    "    w192.append(sum(spw.c[i:(i+192)])/192)\n",
    "    w288.append(sum(spw.c[i:(i+288)])/288)\n",
    "    \n",
    "w192[-1]"
   ]
  },
  {
   "cell_type": "markdown",
   "metadata": {},
   "source": [
    "## Indicators"
   ]
  },
  {
   "cell_type": "code",
   "execution_count": 277,
   "metadata": {
    "collapsed": false
   },
   "outputs": [],
   "source": [
    "ltd = []\n",
    "for i in range(len(spd)-288):\n",
    "    t12 = ((spd.c[i]/(sum(spd.c[(i+6):(i+12)])/6)-1)*100)\n",
    "    t24 = ((spd.c[i]/(sum(spd.c[(i+18):(i+24)])/6)-1)*100)\n",
    "    t48 = ((spd.c[i]/(sum(spd.c[(i+42):(i+48)])/6)-1)*100)\n",
    "    t72 = ((spd.c[i]/(sum(spd.c[(i+66):(i+72)])/6)-1)*100)\n",
    "    t96 = ((spd.c[i]/(sum(spd.c[(i+90):(i+96)])/6)-1)*100)\n",
    "    t192 = ((spd.c[i]/(sum(spd.c[(i+186):(i+192)])/6)-1)*100)\n",
    "    t288 = ((spd.c[i]/(sum(spd.c[(i+282):(i+288)])/6)-1)*100)\n",
    "    ltd.append((t12+t24+t48+t72+t96+t192+t288)/7)\n",
    "ltd.extend([0]*288)"
   ]
  },
  {
   "cell_type": "code",
   "execution_count": 278,
   "metadata": {
    "collapsed": true
   },
   "outputs": [],
   "source": [
    "ltw = []\n",
    "for i in range(len(spw)-288):\n",
    "    t12 = ((spw.c[i]/(sum(spw.c[(i+6):(i+12)])/6)-1)*100)\n",
    "    t24 = ((spw.c[i]/(sum(spw.c[(i+18):(i+24)])/6)-1)*100)\n",
    "    t48 = ((spw.c[i]/(sum(spw.c[(i+42):(i+48)])/6)-1)*100)\n",
    "    t72 = ((spw.c[i]/(sum(spw.c[(i+66):(i+72)])/6)-1)*100)\n",
    "    t96 = ((spw.c[i]/(sum(spw.c[(i+90):(i+96)])/6)-1)*100)\n",
    "    t192 = ((spw.c[i]/(sum(spw.c[(i+186):(i+192)])/6)-1)*100)\n",
    "    t288 = ((spw.c[i]/(sum(spw.c[(i+282):(i+288)])/6)-1)*100)\n",
    "    ltw.append((t12+t24+t48+t72+t96+t192+t288)/7)\n",
    "ltw.extend([0]*288)"
   ]
  },
  {
   "cell_type": "code",
   "execution_count": 279,
   "metadata": {
    "collapsed": false
   },
   "outputs": [
    {
     "name": "stdout",
     "output_type": "stream",
     "text": [
      "23.3328697298 -35.6366112059 71.7672905826 -41.5810392106\n"
     ]
    }
   ],
   "source": [
    "print max(ltd), min(ltd), max(ltw), min (ltw)"
   ]
  },
  {
   "cell_type": "code",
   "execution_count": 280,
   "metadata": {
    "collapsed": false
   },
   "outputs": [
    {
     "name": "stdout",
     "output_type": "stream",
     "text": [
      "8099 1654 883 328\n"
     ]
    }
   ],
   "source": [
    "print ltd.index(max(ltd)), ltd.index(min(ltd)), ltw.index(max(ltw)), ltw.index(min(ltw))"
   ]
  },
  {
   "cell_type": "code",
   "execution_count": 281,
   "metadata": {
    "collapsed": false
   },
   "outputs": [],
   "source": [
    "lc288d = []\n",
    "lc72d = []\n",
    "for i in range(len(spd)-288):\n",
    "    min12 = ((spd.c[i]/min(spd.c[(i+6):(i+12)]))-1)*100\n",
    "    max12 = ((spd.c[i]/max(spd.c[(i+6):(i+12)]))-1)*100\n",
    "    min24 = ((spd.c[i]/min(spd.c[(i+18):(i+24)]))-1)*100\n",
    "    max24 = ((spd.c[i]/max(spd.c[(i+18):(i+24)]))-1)*100\n",
    "    min48 = ((spd.c[i]/min(spd.c[(i+42):(i+48)]))-1)*100\n",
    "    max48 = ((spd.c[i]/max(spd.c[(i+42):(i+48)]))-1)*100\n",
    "    min72 = ((spd.c[i]/min(spd.c[(i+66):(i+72)]))-1)*100\n",
    "    max72 = ((spd.c[i]/max(spd.c[(i+66):(i+72)]))-1)*100\n",
    "    min96 = ((spd.c[i]/min(spd.c[(i+90):(i+96)]))-1)*100\n",
    "    max96 = ((spd.c[i]/max(spd.c[(i+90):(i+96)]))-1)*100\n",
    "    min192 = ((spd.c[i]/min(spd.c[(i+186):(i+192)]))-1)*100\n",
    "    max192 = ((spd.c[i]/max(spd.c[(i+186):(i+192)]))-1)*100\n",
    "    min288 = ((spd.c[i]/min(spd.c[(i+282):(i+288)]))-1)*100\n",
    "    max288 = ((spd.c[i]/max(spd.c[(i+282):(i+288)]))-1)*100\n",
    "    \n",
    "    clong288 = 0\n",
    "    clong72 = 0\n",
    "    cshort288 = 0\n",
    "    cshort72 = 0\n",
    "    \n",
    "    contatl = 0\n",
    "    if spd.c[i] < sum(spd.c[i:i+12])/12:\n",
    "        contatl += 1\n",
    "    if spd.c[i] > spd.c[i+12]:\n",
    "        contatl += 1\n",
    "    if max12 > 0:\n",
    "        contatl += 1\n",
    "    contats = 0\n",
    "    if spd.c[i] > sum(spd.c[i:i+12])/12:\n",
    "        contats -= 1\n",
    "    if spd.c[i] < spd.c[i+12]:\n",
    "        contats -= 1\n",
    "    if min12 < 0:\n",
    "        contats -= 1\n",
    "    if contatl == 3 or contats == -3:\n",
    "        c12 = (((sum(spd.c[i:(i+12)])/12)/spd.c[i])-1)*100\n",
    "    else:\n",
    "        c12 = 0\n",
    "    if contatl == 3:\n",
    "        clong288 += 1\n",
    "        clong72 += 1\n",
    "    if contats == -3:\n",
    "        cshort288 += 1\n",
    "        cshort72 += 1\n",
    "        \n",
    "    contatl = 0\n",
    "    if spd.c[i] < sum(spd.c[i:i+24])/24:\n",
    "        contatl +=1\n",
    "    if spd.c[i] > spd.c[i+24]:\n",
    "        contatl +=1\n",
    "    if max24 > 0:\n",
    "        contatl +=1\n",
    "    contats = 0\n",
    "    if spd.c[i] > sum(spd.c[i:i+24])/24:\n",
    "        contats -=1\n",
    "    if spd.c[i] < spd.c[i+24]:\n",
    "        contats -=1\n",
    "    if min24 < 0:\n",
    "        contats -=1\n",
    "    if contatl == 3 or contats == -3:\n",
    "        c24 = (((sum(spd.c[i:(i+24)])/24)/spd.c[i])-1)*100\n",
    "    else:\n",
    "        c24 = 0\n",
    "    if contatl == 3:\n",
    "        clong288 +=1\n",
    "        clong72 +=1\n",
    "    if contats == -3:\n",
    "        cshort288 +=1\n",
    "        cshort72 +=1\n",
    "        \n",
    "    contatl = 0\n",
    "    if spd.c[i] < sum(spd.c[i:i+48])/48:\n",
    "        contatl +=1\n",
    "    if spd.c[i] > spd.c[i+48]:\n",
    "        contatl +=1\n",
    "    if max48 > 0:\n",
    "        contatl +=1\n",
    "    contats = 0\n",
    "    if spd.c[i] > sum(spd.c[i:i+48])/48:\n",
    "        contats -=1\n",
    "    if spd.c[i] < spd.c[i+48]:\n",
    "        contats -=1\n",
    "    if min48 < 0:\n",
    "        contats -=1\n",
    "    if contatl == 3 or contats == -3:\n",
    "        c48 = (((sum(spd.c[i:(i+48)])/48)/spd.c[i])-1)*100\n",
    "    else:\n",
    "        c48 = 0    \n",
    "    if contatl == 3:\n",
    "        clong288 +=1\n",
    "        clong72 +=1\n",
    "    if contats == -3:\n",
    "        cshort288 +=1\n",
    "        cshort72 +=1\n",
    "    \n",
    "    contatl = 0\n",
    "    if spd.c[i] < sum(spd.c[i:i+72])/72:\n",
    "        contatl +=1\n",
    "    if spd.c[i] > spd.c[i+72]:\n",
    "        contatl +=1\n",
    "    if max72 > 0:\n",
    "        contatl +=1\n",
    "    contats = 0\n",
    "    if spd.c[i] > sum(spd.c[i:i+72])/72:\n",
    "        contats -=1\n",
    "    if spd.c[i] < spd.c[i+72]:\n",
    "        contats -=1\n",
    "    if min72 < 0:\n",
    "        contats -=1\n",
    "    if contatl == 3 or contats == -3:\n",
    "        c72 = (((sum(spd.c[i:(i+72)])/72)/spd.c[i])-1)*100\n",
    "    else:\n",
    "        c72 = 0  \n",
    "    if contatl == 3:\n",
    "        clong288 +=1\n",
    "        clong72 +=1\n",
    "    if contats == -3:\n",
    "        cshort288 +=1\n",
    "        cshort72 +=1\n",
    "    \n",
    "    contatl = 0\n",
    "    if spd.c[i] < sum(spd.c[i:i+96])/96:\n",
    "        contatl +=1\n",
    "    if spd.c[i] > spd.c[i+96]:\n",
    "        contatl +=1\n",
    "    if max96 > 0:\n",
    "        contatl +=1\n",
    "    contats = 0\n",
    "    if spd.c[i] > sum(spd.c[i:i+96])/96:\n",
    "        contats -=1\n",
    "    if spd.c[i] < spd.c[i+96]:\n",
    "        contats -=1\n",
    "    if min96 < 0:\n",
    "        contats -=1\n",
    "    if contatl == 3 or contats == -3:\n",
    "        c96 = (((sum(spd.c[i:(i+96)])/96)/spd.c[i])-1)*100\n",
    "    else:\n",
    "        c96 = 0\n",
    "    if contatl == 3:\n",
    "        clong288 +=1\n",
    "    if contats == -3:\n",
    "        cshort288 +=1\n",
    "        \n",
    "    contatl = 0\n",
    "    if spd.c[i] < sum(spd.c[i:i+192])/192:\n",
    "        contatl +=1\n",
    "    if spd.c[i] > spd.c[i+192]:\n",
    "        contatl +=1\n",
    "    if max192 > 0:\n",
    "        contatl +=1\n",
    "    contats = 0\n",
    "    if spd.c[i] > sum(spd.c[i:i+192])/192:\n",
    "        contats -=1\n",
    "    if spd.c[i] < spd.c[i+192]:\n",
    "        contats -=1\n",
    "    if min192 < 0:\n",
    "        contats -=1\n",
    "    if contatl == 3 or contats == -3:\n",
    "        c192 = (((sum(spd.c[i:(i+192)])/192)/spd.c[i])-1)*100\n",
    "    else:\n",
    "        c192 = 0      \n",
    "    if contatl == 3:\n",
    "        clong288 +=1\n",
    "    if contats == -3:\n",
    "        cshort288 +=1\n",
    "        \n",
    "    contatl = 0\n",
    "    if spd.c[i] < sum(spd.c[i:i+288])/288:\n",
    "        contatl +=1\n",
    "    if spd.c[i] > spd.c[i+288]:\n",
    "        contatl +=1\n",
    "    if max288 > 0:\n",
    "        contatl +=1\n",
    "    contats = 0\n",
    "    if spd.c[i] > sum(spd.c[i:i+288])/288:\n",
    "        contats -=1\n",
    "    if spd.c[i] < spd.c[i+288]:\n",
    "        contats -=1\n",
    "    if min288 < 0:\n",
    "        contats -=1\n",
    "    if contatl == 3 or contats == -3:\n",
    "        c288 = (((sum(spd.c[i:(i+288)])/288)/spd.c[i])-1)*100\n",
    "    else:\n",
    "        c288 = 0\n",
    "    if contatl == 3:\n",
    "        clong288 +=1\n",
    "    if contats == -3:\n",
    "        cshort288 += 1\n",
    "\n",
    "    if (clong288 + cshort288) > 0:\n",
    "        ctot288 = (clong288 + cshort288)\n",
    "    else:\n",
    "        ctot288 = 1\n",
    "    lc288d.append((c12+c24+c48+c72+c96+c192+c288)/ctot288)\n",
    "    \n",
    "    if (clong72 + cshort72) > 0:\n",
    "        ctot72 = (clong72 + cshort72)\n",
    "    else:\n",
    "        ctot72 = 1\n",
    "    lc72d.append((c12+c24+c48+c72)/ctot72)\n",
    "lc288d.extend([0]*288)\n",
    "lc72d.extend([0]*288)"
   ]
  },
  {
   "cell_type": "code",
   "execution_count": 282,
   "metadata": {
    "collapsed": false
   },
   "outputs": [
    {
     "name": "stdout",
     "output_type": "stream",
     "text": [
      "17.8730823251 -15.6973020039 4.46218418268 -6.65612308983\n"
     ]
    }
   ],
   "source": [
    "print max(lc288d), min(lc288d), max(lc72d), min(lc72d)"
   ]
  },
  {
   "cell_type": "code",
   "execution_count": 283,
   "metadata": {
    "collapsed": false
   },
   "outputs": [
    {
     "name": "stdout",
     "output_type": "stream",
     "text": [
      "6958 1409 9246 1554\n"
     ]
    }
   ],
   "source": [
    "print lc288d.index(max(lc288d)), lc288d.index(min(lc288d)), lc72d.index(max(lc72d)), lc72d.index(min(lc72d))"
   ]
  },
  {
   "cell_type": "code",
   "execution_count": 284,
   "metadata": {
    "collapsed": false
   },
   "outputs": [
    {
     "name": "stdout",
     "output_type": "stream",
     "text": [
      "2008-12-05 00:00:00\n"
     ]
    }
   ],
   "source": [
    "print spd.date[1644]"
   ]
  },
  {
   "cell_type": "code",
   "execution_count": 285,
   "metadata": {
    "collapsed": false
   },
   "outputs": [
    {
     "name": "stdout",
     "output_type": "stream",
     "text": [
      "0.0 0.0\n"
     ]
    }
   ],
   "source": [
    "print lc288d[0], lc72d[0]"
   ]
  },
  {
   "cell_type": "code",
   "execution_count": 286,
   "metadata": {
    "collapsed": true
   },
   "outputs": [],
   "source": [
    "lc288w = []\n",
    "lc72w = []\n",
    "for i in range(len(spw)-288):\n",
    "    min12 = ((spw.c[i]/min(spw.c[(i+6):(i+12)]))-1)*100\n",
    "    max12 = ((spw.c[i]/max(spw.c[(i+6):(i+12)]))-1)*100\n",
    "    min24 = ((spw.c[i]/min(spw.c[(i+18):(i+24)]))-1)*100\n",
    "    max24 = ((spw.c[i]/max(spw.c[(i+18):(i+24)]))-1)*100\n",
    "    min48 = ((spw.c[i]/min(spw.c[(i+42):(i+48)]))-1)*100\n",
    "    max48 = ((spw.c[i]/max(spw.c[(i+42):(i+48)]))-1)*100\n",
    "    min72 = ((spw.c[i]/min(spw.c[(i+66):(i+72)]))-1)*100\n",
    "    max72 = ((spw.c[i]/max(spw.c[(i+66):(i+72)]))-1)*100\n",
    "    min96 = ((spw.c[i]/min(spw.c[(i+90):(i+96)]))-1)*100\n",
    "    max96 = ((spw.c[i]/max(spw.c[(i+90):(i+96)]))-1)*100\n",
    "    min192 = ((spw.c[i]/min(spw.c[(i+186):(i+192)]))-1)*100\n",
    "    max192 = ((spw.c[i]/max(spw.c[(i+186):(i+192)]))-1)*100\n",
    "    min288 = ((spw.c[i]/min(spw.c[(i+282):(i+288)]))-1)*100\n",
    "    max288 = ((spw.c[i]/max(spw.c[(i+282):(i+288)]))-1)*100\n",
    "    \n",
    "    clong288 = 0\n",
    "    clong72 = 0\n",
    "    cshort288 = 0\n",
    "    cshort72 = 0\n",
    "    \n",
    "    contatl = 0\n",
    "    if spw.c[i] < sum(spw.c[i:i+12])/12:\n",
    "        contatl += 1\n",
    "    if spw.c[i] > spw.c[i+12]:\n",
    "        contatl += 1\n",
    "    if max12 > 0:\n",
    "        contatl += 1\n",
    "    contats = 0\n",
    "    if spw.c[i] > sum(spw.c[i:i+12])/12:\n",
    "        contats -= 1\n",
    "    if spw.c[i] < spw.c[i+12]:\n",
    "        contats -= 1\n",
    "    if min12 < 0:\n",
    "        contats -= 1\n",
    "    if contatl == 3 or contats == -3:\n",
    "        c12 = (((sum(spw.c[i:(i+12)])/12)/spw.c[i])-1)*100\n",
    "    else:\n",
    "        c12 = 0\n",
    "    if contatl == 3:\n",
    "        clong288 += 1\n",
    "        clong72 += 1\n",
    "    if contats == -3:\n",
    "        cshort288 += 1\n",
    "        cshort72 += 1\n",
    "        \n",
    "    contatl = 0\n",
    "    if spw.c[i] < sum(spw.c[i:i+24])/24:\n",
    "        contatl +=1\n",
    "    if spw.c[i] > spw.c[i+24]:\n",
    "        contatl +=1\n",
    "    if max24 > 0:\n",
    "        contatl +=1\n",
    "    contats = 0\n",
    "    if spw.c[i] > sum(spw.c[i:i+24])/24:\n",
    "        contats -=1\n",
    "    if spw.c[i] < spw.c[i+24]:\n",
    "        contats -=1\n",
    "    if min24 < 0:\n",
    "        contats -=1\n",
    "    if contatl == 3 or contats == -3:\n",
    "        c24 = (((sum(spw.c[i:(i+24)])/24)/spw.c[i])-1)*100\n",
    "    else:\n",
    "        c24 = 0\n",
    "    if contatl == 3:\n",
    "        clong288 +=1\n",
    "        clong72 +=1\n",
    "    if contats == -3:\n",
    "        cshort288 +=1\n",
    "        cshort72 +=1\n",
    "        \n",
    "    contatl = 0\n",
    "    if spw.c[i] < sum(spw.c[i:i+48])/48:\n",
    "        contatl +=1\n",
    "    if spw.c[i] > spw.c[i+48]:\n",
    "        contatl +=1\n",
    "    if max48 > 0:\n",
    "        contatl +=1\n",
    "    contats = 0\n",
    "    if spw.c[i] > sum(spw.c[i:i+48])/48:\n",
    "        contats -=1\n",
    "    if spw.c[i] < spw.c[i+48]:\n",
    "        contats -=1\n",
    "    if min48 < 0:\n",
    "        contats -=1\n",
    "    if contatl == 3 or contats == -3:\n",
    "        c48 = (((sum(spw.c[i:(i+48)])/48)/spw.c[i])-1)*100\n",
    "    else:\n",
    "        c48 = 0    \n",
    "    if contatl == 3:\n",
    "        clong288 +=1\n",
    "        clong72 +=1\n",
    "    if contats == -3:\n",
    "        cshort288 +=1\n",
    "        cshort72 +=1\n",
    "    \n",
    "    contatl = 0\n",
    "    if spw.c[i] < sum(spw.c[i:i+72])/72:\n",
    "        contatl +=1\n",
    "    if spw.c[i] > spw.c[i+72]:\n",
    "        contatl +=1\n",
    "    if max72 > 0:\n",
    "        contatl +=1\n",
    "    contats = 0\n",
    "    if spw.c[i] > sum(spw.c[i:i+72])/72:\n",
    "        contats -=1\n",
    "    if spw.c[i] < spw.c[i+72]:\n",
    "        contats -=1\n",
    "    if min72 < 0:\n",
    "        contats -=1\n",
    "    if contatl == 3 or contats == -3:\n",
    "        c72 = (((sum(spw.c[i:(i+72)])/72)/spw.c[i])-1)*100\n",
    "    else:\n",
    "        c72 = 0  \n",
    "    if contatl == 3:\n",
    "        clong288 +=1\n",
    "        clong72 +=1\n",
    "    if contats == -3:\n",
    "        cshort288 +=1\n",
    "        cshort72 +=1\n",
    "    \n",
    "    contatl = 0\n",
    "    if spw.c[i] < sum(spw.c[i:i+96])/96:\n",
    "        contatl +=1\n",
    "    if spw.c[i] > spw.c[i+96]:\n",
    "        contatl +=1\n",
    "    if max96 > 0:\n",
    "        contatl +=1\n",
    "    contats = 0\n",
    "    if spw.c[i] > sum(spw.c[i:i+96])/96:\n",
    "        contats -=1\n",
    "    if spw.c[i] < spw.c[i+96]:\n",
    "        contats -=1\n",
    "    if min96 < 0:\n",
    "        contats -=1\n",
    "    if contatl == 3 or contats == -3:\n",
    "        c96 = (((sum(spw.c[i:(i+96)])/96)/spw.c[i])-1)*100\n",
    "    else:\n",
    "        c96 = 0\n",
    "    if contatl == 3:\n",
    "        clong288 +=1\n",
    "    if contats == -3:\n",
    "        cshort288 +=1\n",
    "        \n",
    "    contatl = 0\n",
    "    if spw.c[i] < sum(spw.c[i:i+192])/192:\n",
    "        contatl +=1\n",
    "    if spw.c[i] > spw.c[i+192]:\n",
    "        contatl +=1\n",
    "    if max192 > 0:\n",
    "        contatl +=1\n",
    "    contats = 0\n",
    "    if spw.c[i] > sum(spw.c[i:i+192])/192:\n",
    "        contats -=1\n",
    "    if spw.c[i] < spw.c[i+192]:\n",
    "        contats -=1\n",
    "    if min192 < 0:\n",
    "        contats -=1\n",
    "    if contatl == 3 or contats == -3:\n",
    "        c192 = (((sum(spw.c[i:(i+192)])/192)/spw.c[i])-1)*100\n",
    "    else:\n",
    "        c192 = 0      \n",
    "    if contatl == 3:\n",
    "        clong288 +=1\n",
    "    if contats == -3:\n",
    "        cshort288 +=1\n",
    "        \n",
    "    contatl = 0\n",
    "    if spw.c[i] < sum(spw.c[i:i+288])/288:\n",
    "        contatl +=1\n",
    "    if spw.c[i] > spw.c[i+288]:\n",
    "        contatl +=1\n",
    "    if max288 > 0:\n",
    "        contatl +=1\n",
    "    contats = 0\n",
    "    if spw.c[i] > sum(spw.c[i:i+288])/288:\n",
    "        contats -=1\n",
    "    if spw.c[i] < spw.c[i+288]:\n",
    "        contats -=1\n",
    "    if min288 < 0:\n",
    "        contats -=1\n",
    "    if contatl == 3 or contats == -3:\n",
    "        c288 = (((sum(spw.c[i:(i+288)])/288)/spw.c[i])-1)*100\n",
    "    else:\n",
    "        c288 = 0\n",
    "    if contatl == 3:\n",
    "        clong288 +=1\n",
    "    if contats == -3:\n",
    "        cshort288 += 1\n",
    "\n",
    "    if (clong288 + cshort288) > 0:\n",
    "        ctot288 = (clong288 + cshort288)\n",
    "    else:\n",
    "        ctot288 = 1\n",
    "    lc288w.append((c12+c24+c48+c72+c96+c192+c288)/ctot288)\n",
    "    \n",
    "    if (clong72 + cshort72) > 0:\n",
    "        ctot72 = (clong72 + cshort72)\n",
    "    else:\n",
    "        ctot72 = 1\n",
    "    lc72w.append((c12+c24+c48+c72)/ctot72)\n",
    "lc288w.extend([0]*288)\n",
    "lc72w.extend([0]*288)"
   ]
  },
  {
   "cell_type": "code",
   "execution_count": 287,
   "metadata": {
    "collapsed": false
   },
   "outputs": [
    {
     "name": "stdout",
     "output_type": "stream",
     "text": [
      "42.2414306189 -15.0945826014 9.81403381868 -13.8656712573\n"
     ]
    }
   ],
   "source": [
    "print max(lc288w), min(lc288w), max(lc72w), min(lc72w)"
   ]
  },
  {
   "cell_type": "code",
   "execution_count": 288,
   "metadata": {
    "collapsed": false
   },
   "outputs": [
    {
     "name": "stdout",
     "output_type": "stream",
     "text": [
      "664 216 1428 286\n"
     ]
    }
   ],
   "source": [
    "print lc288w.index(max(lc288w)), lc288w.index(min(lc288w)), lc72w.index(max(lc72w)), lc72w.index(min(lc72w))"
   ]
  },
  {
   "cell_type": "code",
   "execution_count": 289,
   "metadata": {
    "collapsed": false
   },
   "outputs": [
    {
     "name": "stdout",
     "output_type": "stream",
     "text": [
      "2011-05-13 00:00:00\n"
     ]
    }
   ],
   "source": [
    "print spw.date[214]"
   ]
  },
  {
   "cell_type": "code",
   "execution_count": 290,
   "metadata": {
    "collapsed": false
   },
   "outputs": [
    {
     "name": "stdout",
     "output_type": "stream",
     "text": [
      "0.0 0.0\n"
     ]
    }
   ],
   "source": [
    "print lc288w[0], lc72w[0]"
   ]
  },
  {
   "cell_type": "code",
   "execution_count": 291,
   "metadata": {
    "collapsed": true
   },
   "outputs": [],
   "source": [
    "ldd = []\n",
    "for i in range(len(spd)-288):\n",
    "    ld = (((d12[i]*12)+(d24[i]*24)+(d48[i]*48)+(d72[i]*72)+(d96[i]*96)+(d192[i]*192)+(d288[i]*288))/732)\n",
    "    ldd.append(((ld/spd.c[i])-1)*100)\n",
    "ldd.extend([0]*288)"
   ]
  },
  {
   "cell_type": "code",
   "execution_count": 292,
   "metadata": {
    "collapsed": false
   },
   "outputs": [
    {
     "name": "stdout",
     "output_type": "stream",
     "text": [
      "60.3588415804 -16.6628292676\n"
     ]
    }
   ],
   "source": [
    "print max(ldd), min(ldd)"
   ]
  },
  {
   "cell_type": "code",
   "execution_count": 293,
   "metadata": {
    "collapsed": false
   },
   "outputs": [
    {
     "name": "stdout",
     "output_type": "stream",
     "text": [
      "1654 8227\n"
     ]
    }
   ],
   "source": [
    "print ldd.index(max(ldd)), ldd.index(min(ldd))"
   ]
  },
  {
   "cell_type": "code",
   "execution_count": 294,
   "metadata": {
    "collapsed": false
   },
   "outputs": [
    {
     "name": "stdout",
     "output_type": "stream",
     "text": [
      "1982-11-17 00:00:00\n"
     ]
    }
   ],
   "source": [
    "print spd.date[8217]"
   ]
  },
  {
   "cell_type": "code",
   "execution_count": 295,
   "metadata": {
    "collapsed": false
   },
   "outputs": [
    {
     "name": "stdout",
     "output_type": "stream",
     "text": [
      "-2.61936157337\n"
     ]
    }
   ],
   "source": [
    "print ldd[0]"
   ]
  },
  {
   "cell_type": "code",
   "execution_count": 296,
   "metadata": {
    "collapsed": true
   },
   "outputs": [],
   "source": [
    "ldw = []\n",
    "for i in range(len(spw)-288):\n",
    "    ld = (((w12[i]*12)+(w24[i]*24)+(w48[i]*48)+(w72[i]*72)+(w96[i]*96)+(w192[i]*192)+(w288[i]*288))/732)\n",
    "    ldw.append(((ld/spw.c[i])-1)*100)\n",
    "ldw.extend([0]*288)"
   ]
  },
  {
   "cell_type": "code",
   "execution_count": 297,
   "metadata": {
    "collapsed": false
   },
   "outputs": [
    {
     "name": "stdout",
     "output_type": "stream",
     "text": [
      "79.734825175 -34.8467525679\n"
     ]
    }
   ],
   "source": [
    "print max(ldw), min(ldw)"
   ]
  },
  {
   "cell_type": "code",
   "execution_count": 298,
   "metadata": {
    "collapsed": false
   },
   "outputs": [
    {
     "name": "stdout",
     "output_type": "stream",
     "text": [
      "328 898\n"
     ]
    }
   ],
   "source": [
    "print ldw.index(max(ldw)), ldw.index(min(ldw))"
   ]
  },
  {
   "cell_type": "code",
   "execution_count": 299,
   "metadata": {
    "collapsed": false
   },
   "outputs": [
    {
     "name": "stdout",
     "output_type": "stream",
     "text": [
      "2009-03-20 00:00:00\n"
     ]
    }
   ],
   "source": [
    "print spw.date[326]"
   ]
  },
  {
   "cell_type": "code",
   "execution_count": 300,
   "metadata": {
    "collapsed": false
   },
   "outputs": [
    {
     "name": "stdout",
     "output_type": "stream",
     "text": [
      "-18.1499495896\n"
     ]
    }
   ],
   "source": [
    "print ldw[0]"
   ]
  },
  {
   "cell_type": "code",
   "execution_count": 301,
   "metadata": {
    "collapsed": true
   },
   "outputs": [],
   "source": [
    "lmd = []\n",
    "for i in range(len(spd)-288):\n",
    "    lm = 0\n",
    "    if spd.c[i] > d96[i] and spd.c[i] > d288[i]:\n",
    "        lm = 1\n",
    "    elif spd.c[i] < d96[i] and spd.c[i] < d288[i]:\n",
    "        lm = -1\n",
    "    lmd.append(lm)\n",
    "lmd.extend([0]*288)"
   ]
  },
  {
   "cell_type": "code",
   "execution_count": 302,
   "metadata": {
    "collapsed": false
   },
   "outputs": [
    {
     "name": "stdout",
     "output_type": "stream",
     "text": [
      "1 -1\n"
     ]
    }
   ],
   "source": [
    "print max(lmd), min(lmd)"
   ]
  },
  {
   "cell_type": "code",
   "execution_count": 303,
   "metadata": {
    "collapsed": false
   },
   "outputs": [
    {
     "name": "stdout",
     "output_type": "stream",
     "text": [
      "0.421047600841\n"
     ]
    }
   ],
   "source": [
    "print sum(lmd)/len(lmd)"
   ]
  },
  {
   "cell_type": "code",
   "execution_count": 304,
   "metadata": {
    "collapsed": false
   },
   "outputs": [
    {
     "name": "stdout",
     "output_type": "stream",
     "text": [
      "1\n"
     ]
    }
   ],
   "source": [
    "print lmd[0]"
   ]
  },
  {
   "cell_type": "code",
   "execution_count": 305,
   "metadata": {
    "collapsed": true
   },
   "outputs": [],
   "source": [
    "lmw = []\n",
    "for i in range(len(spw)-288):\n",
    "    lm = 0\n",
    "    if spw.c[i] > w96[i] and spw.c[i] > w288[i]:\n",
    "        lm = 1\n",
    "    elif spw.c[i] < w96[i] and spw.c[i] < w288[i]:\n",
    "        lm = -1\n",
    "    lmw.append(lm)    \n",
    "lmw.extend([0]*288)"
   ]
  },
  {
   "cell_type": "code",
   "execution_count": 306,
   "metadata": {
    "collapsed": false
   },
   "outputs": [
    {
     "name": "stdout",
     "output_type": "stream",
     "text": [
      "1 -1\n"
     ]
    }
   ],
   "source": [
    "print max(lmw), min(lmw)"
   ]
  },
  {
   "cell_type": "code",
   "execution_count": 307,
   "metadata": {
    "collapsed": false
   },
   "outputs": [
    {
     "name": "stdout",
     "output_type": "stream",
     "text": [
      "0.551756007394\n"
     ]
    }
   ],
   "source": [
    "print sum(lmw)/len(lmw)"
   ]
  },
  {
   "cell_type": "code",
   "execution_count": 308,
   "metadata": {
    "collapsed": false
   },
   "outputs": [
    {
     "name": "stdout",
     "output_type": "stream",
     "text": [
      "1\n"
     ]
    }
   ],
   "source": [
    "print lmw[0]"
   ]
  },
  {
   "cell_type": "code",
   "execution_count": 309,
   "metadata": {
    "collapsed": false
   },
   "outputs": [
    {
     "data": {
      "text/html": [
       "<div style=\"max-height:1000px;max-width:1500px;overflow:auto;\">\n",
       "<table border=\"1\" class=\"dataframe\">\n",
       "  <thead>\n",
       "    <tr style=\"text-align: right;\">\n",
       "      <th></th>\n",
       "      <th>date</th>\n",
       "      <th>o</th>\n",
       "      <th>h</th>\n",
       "      <th>l</th>\n",
       "      <th>close</th>\n",
       "      <th>vol</th>\n",
       "      <th>c</th>\n",
       "      <th>lixt</th>\n",
       "      <th>lixc72</th>\n",
       "      <th>lixc288</th>\n",
       "      <th>lixd</th>\n",
       "      <th>lixm</th>\n",
       "    </tr>\n",
       "  </thead>\n",
       "  <tbody>\n",
       "    <tr>\n",
       "      <th>0</th>\n",
       "      <td>2015-06-19</td>\n",
       "      <td> 2121.060059</td>\n",
       "      <td> 2121.639893</td>\n",
       "      <td> 2109.449951</td>\n",
       "      <td> 2109.989990</td>\n",
       "      <td> 4449810000</td>\n",
       "      <td> 2109.989990</td>\n",
       "      <td> 3.371532</td>\n",
       "      <td> 0</td>\n",
       "      <td> 0</td>\n",
       "      <td>-2.619362</td>\n",
       "      <td> 1</td>\n",
       "    </tr>\n",
       "    <tr>\n",
       "      <th>1</th>\n",
       "      <td>2015-06-18</td>\n",
       "      <td> 2101.580078</td>\n",
       "      <td> 2126.649902</td>\n",
       "      <td> 2101.580078</td>\n",
       "      <td> 2121.239990</td>\n",
       "      <td> 3520360000</td>\n",
       "      <td> 2121.239990</td>\n",
       "      <td> 3.950901</td>\n",
       "      <td> 0</td>\n",
       "      <td> 0</td>\n",
       "      <td>-3.166602</td>\n",
       "      <td> 1</td>\n",
       "    </tr>\n",
       "    <tr>\n",
       "      <th>2</th>\n",
       "      <td>2015-06-17</td>\n",
       "      <td> 2097.399902</td>\n",
       "      <td> 2106.790039</td>\n",
       "      <td> 2088.860107</td>\n",
       "      <td> 2100.439941</td>\n",
       "      <td> 3222240000</td>\n",
       "      <td> 2100.439941</td>\n",
       "      <td> 3.012487</td>\n",
       "      <td> 0</td>\n",
       "      <td> 0</td>\n",
       "      <td>-2.246367</td>\n",
       "      <td> 1</td>\n",
       "    </tr>\n",
       "  </tbody>\n",
       "</table>\n",
       "</div>"
      ],
      "text/plain": [
       "        date            o            h            l        close         vol  \\\n",
       "0 2015-06-19  2121.060059  2121.639893  2109.449951  2109.989990  4449810000   \n",
       "1 2015-06-18  2101.580078  2126.649902  2101.580078  2121.239990  3520360000   \n",
       "2 2015-06-17  2097.399902  2106.790039  2088.860107  2100.439941  3222240000   \n",
       "\n",
       "             c      lixt  lixc72  lixc288      lixd  lixm  \n",
       "0  2109.989990  3.371532       0        0 -2.619362     1  \n",
       "1  2121.239990  3.950901       0        0 -3.166602     1  \n",
       "2  2100.439941  3.012487       0        0 -2.246367     1  "
      ]
     },
     "execution_count": 309,
     "metadata": {},
     "output_type": "execute_result"
    }
   ],
   "source": [
    "spd['lixt'] = ltd\n",
    "spd['lixc72'] = lc72d\n",
    "spd['lixc288'] = lc288d\n",
    "spd['lixd'] = ldd\n",
    "spd['lixm'] = lmd\n",
    "spd.head(3)"
   ]
  },
  {
   "cell_type": "code",
   "execution_count": 310,
   "metadata": {
    "collapsed": false
   },
   "outputs": [
    {
     "data": {
      "text/html": [
       "<div style=\"max-height:1000px;max-width:1500px;overflow:auto;\">\n",
       "<table border=\"1\" class=\"dataframe\">\n",
       "  <thead>\n",
       "    <tr style=\"text-align: right;\">\n",
       "      <th></th>\n",
       "      <th>date</th>\n",
       "      <th>o</th>\n",
       "      <th>h</th>\n",
       "      <th>l</th>\n",
       "      <th>close</th>\n",
       "      <th>vol</th>\n",
       "      <th>c</th>\n",
       "      <th>lixt</th>\n",
       "      <th>lixc72</th>\n",
       "      <th>lixc288</th>\n",
       "      <th>lixd</th>\n",
       "      <th>lixm</th>\n",
       "    </tr>\n",
       "  </thead>\n",
       "  <tbody>\n",
       "    <tr>\n",
       "      <th>0</th>\n",
       "      <td>2015-06-19</td>\n",
       "      <td> 2091.340088</td>\n",
       "      <td> 2126.649902</td>\n",
       "      <td> 2072.489990</td>\n",
       "      <td> 2109.989990</td>\n",
       "      <td> 3434776000</td>\n",
       "      <td> 2109.989990</td>\n",
       "      <td> 30.155243</td>\n",
       "      <td> 0</td>\n",
       "      <td> 0</td>\n",
       "      <td>-18.149950</td>\n",
       "      <td> 1</td>\n",
       "    </tr>\n",
       "    <tr>\n",
       "      <th>1</th>\n",
       "      <td>2015-06-12</td>\n",
       "      <td> 2092.340088</td>\n",
       "      <td> 2115.020020</td>\n",
       "      <td> 2072.139893</td>\n",
       "      <td> 2094.110107</td>\n",
       "      <td> 3042810000</td>\n",
       "      <td> 2094.110107</td>\n",
       "      <td> 29.196579</td>\n",
       "      <td> 0</td>\n",
       "      <td> 0</td>\n",
       "      <td>-17.718657</td>\n",
       "      <td> 1</td>\n",
       "    </tr>\n",
       "    <tr>\n",
       "      <th>2</th>\n",
       "      <td>2015-06-05</td>\n",
       "      <td> 2108.639893</td>\n",
       "      <td> 2121.919922</td>\n",
       "      <td> 2085.669922</td>\n",
       "      <td> 2092.830078</td>\n",
       "      <td> 3120956000</td>\n",
       "      <td> 2092.830078</td>\n",
       "      <td> 29.583573</td>\n",
       "      <td> 0</td>\n",
       "      <td> 0</td>\n",
       "      <td>-17.847919</td>\n",
       "      <td> 1</td>\n",
       "    </tr>\n",
       "  </tbody>\n",
       "</table>\n",
       "</div>"
      ],
      "text/plain": [
       "        date            o            h            l        close         vol  \\\n",
       "0 2015-06-19  2091.340088  2126.649902  2072.489990  2109.989990  3434776000   \n",
       "1 2015-06-12  2092.340088  2115.020020  2072.139893  2094.110107  3042810000   \n",
       "2 2015-06-05  2108.639893  2121.919922  2085.669922  2092.830078  3120956000   \n",
       "\n",
       "             c       lixt  lixc72  lixc288       lixd  lixm  \n",
       "0  2109.989990  30.155243       0        0 -18.149950     1  \n",
       "1  2094.110107  29.196579       0        0 -17.718657     1  \n",
       "2  2092.830078  29.583573       0        0 -17.847919     1  "
      ]
     },
     "execution_count": 310,
     "metadata": {},
     "output_type": "execute_result"
    }
   ],
   "source": [
    "spw['lixt'] = ltw\n",
    "spw['lixc72'] = lc72w\n",
    "spw['lixc288'] = lc288w\n",
    "spw['lixd'] = ldw\n",
    "spw['lixm'] = lmw\n",
    "spw.head(3)"
   ]
  },
  {
   "cell_type": "markdown",
   "metadata": {},
   "source": [
    "## Building samples dataset (predict all months of the quarter)"
   ]
  },
  {
   "cell_type": "code",
   "execution_count": 311,
   "metadata": {
    "collapsed": false
   },
   "outputs": [
    {
     "data": {
      "text/plain": [
       "426"
      ]
     },
     "execution_count": 311,
     "metadata": {},
     "output_type": "execute_result"
    }
   ],
   "source": [
    "exp = []\n",
    "d = dp.parse(\"20/06/2015\")\n",
    "while d > dp.parse(\"17/01/1980\"):\n",
    "    d = d - WeekOfMonth(weekday = 4, week = 2)\n",
    "    exp.append(d)\n",
    "    d = d - DateOffset(days = 20)\n",
    "\n",
    "len(exp)"
   ]
  },
  {
   "cell_type": "code",
   "execution_count": 312,
   "metadata": {
    "collapsed": true
   },
   "outputs": [],
   "source": [
    "q1c = []\n",
    "q1cstd = []\n",
    "q1high = []\n",
    "q1low = []\n",
    "q1range = []\n",
    "q1middle = []\n",
    "q1pos = []\n",
    "q0c = []\n",
    "q0cstd = []\n",
    "q0high = []\n",
    "q0low = []\n",
    "q0spanmean = []\n",
    "q0spanstd = []\n",
    "q0lixt = []\n",
    "q0lixc72 = []\n",
    "q0lixc288 = []\n",
    "q0lixd = []\n",
    "q0lixm = []\n",
    "q0lixtv = []\n",
    "q0lixc72v = []\n",
    "q0lixc288v = []\n",
    "q0lixdv = []\n",
    "q0lixmv = []\n",
    "m0c = []\n",
    "m0cstd = []\n",
    "m0high = []\n",
    "m0low = []\n",
    "m0spanmean = []\n",
    "m0spanstd = []\n",
    "m0lixt = []\n",
    "m0lixc72 = []\n",
    "m0lixc288 = []\n",
    "m0lixd = []\n",
    "m0lixm = []\n",
    "m0lixtv = []\n",
    "m0lixc72v = []\n",
    "m0lixc288v = []\n",
    "m0lixdv = []\n",
    "m0lixmv = []"
   ]
  },
  {
   "cell_type": "code",
   "execution_count": 313,
   "metadata": {
    "collapsed": false
   },
   "outputs": [],
   "source": [
    "for q1end in exp:\n",
    "    \n",
    "    #q1start = q1end - DateOffset(weeks = 4) + DateOffset(days = 1) - BDay()\n",
    "    q1start = q1end - DateOffset(weeks = 4)\n",
    "    m0start = q1start - DateOffset(weeks = 4)\n",
    "    q0start = q1start - DateOffset(weeks = 13)\n",
    "    \n",
    "    q1startd = q1start\n",
    "    m0startd = m0start\n",
    "    q0startd = q0start\n",
    "    if spd.date[spd.date == q1startd].empty:\n",
    "        while spd.date[spd.date == q1startd].empty:\n",
    "            q1startd = q1startd - DateOffset(days = 1)\n",
    "    if spd.date[spd.date == m0startd].empty:\n",
    "        while spd.date[spd.date == m0startd].empty:\n",
    "            m0startd = m0startd - DateOffset(days = 1)\n",
    "    if spd.date[spd.date == q0startd].empty:\n",
    "        while spd.date[spd.date == q0startd].empty:\n",
    "            q0startd = q0startd - DateOffset(days = 1)\n",
    "            \n",
    "    q1indend = spw.index[spw.date == q1end]\n",
    "    \n",
    "    q1cstart = float(spw.c[q1indend + 4])\n",
    "    q1cend = float(spw.c[q1indend])    \n",
    "    q1cv = ((q1cend/q1cstart)-1)*100\n",
    "    q1c.append(q1cv)   \n",
    "    \n",
    "    q1clist = spd.c[(spd.date >= q1start) & (spd.date<= q1end)]\n",
    "    q1clist = q1clist.reset_index(drop=True)\n",
    "    q1cvars = []\n",
    "    for i in range(len(q1clist)):\n",
    "        if i < len(q1clist)-1:\n",
    "            q1cvars.append(((q1clist[i]/q1clist[i+1])-1)*100)\n",
    "    q1cstd.append(np.std(q1cvars))\n",
    "    \n",
    "    q1chigh = ((np.max(q1clist)/q1cstart)-1)*100\n",
    "    q1high.append(q1chigh)\n",
    "    \n",
    "    q1clow = ((np.min(q1clist)/q1cstart)-1)*100\n",
    "    q1low.append(q1clow)\n",
    "    \n",
    "    q1crange = q1chigh - q1clow\n",
    "    q1range.append(q1crange)\n",
    "    \n",
    "    q1cmiddle = q1chigh - (q1crange / 2)\n",
    "    q1middle.append(q1cmiddle)\n",
    "    \n",
    "    q1cpos = (((q1cv - q1clow)/q1crange)-0.5)*200\n",
    "    q1pos.append(q1cpos)\n",
    "    \n",
    "    q1indstart = spw.index[spw.date == q1start]\n",
    "    \n",
    "    q0cstart = float(spw.c[q1indstart + 13])\n",
    "    q0cend = float(spw.c[q1indstart])    \n",
    "    q0cv = ((q0cend/q0cstart)-1)*100\n",
    "    q0c.append(q0cv)\n",
    "    \n",
    "    q0clist = spd.c[(spd.date >= q0start) & (spd.date<= q1start)]\n",
    "    q0clist = q0clist.reset_index(drop=True)\n",
    "    q0cvars = []\n",
    "    for i in range(len(q0clist)):\n",
    "        if i < len(q0clist)-1:\n",
    "            q0cvars.append(((q0clist[i]/q0clist[i+1])-1)*100)\n",
    "    q0cstd.append(np.std(q0cvars))\n",
    "    \n",
    "    q0hlist = spd.h[(spd.date >= q0start) & (spd.date<= q1start)]\n",
    "    q0hlist = q0hlist.reset_index(drop=True)\n",
    "    q0hvars = []\n",
    "    for i in range(len(q0hlist)):\n",
    "        q0hvars.append(((q0hlist[i]/q0clist[i])-1)*100)\n",
    "    q0high.append(np.mean(q0hvars))\n",
    "    \n",
    "    q0llist = spd.l[(spd.date >= q0start) & (spd.date<= q1start)]\n",
    "    q0llist = q0llist.reset_index(drop=True)\n",
    "    q0lvars = []\n",
    "    for i in range(len(q0llist)):\n",
    "        q0lvars.append(((q0llist[i]/q0clist[i])-1)*100)\n",
    "    q0low.append(np.mean(q0lvars))\n",
    "    \n",
    "    q0svars = []\n",
    "    for i in range(len(q0llist)):\n",
    "        q0svars.append(((q0hlist[i]/q0llist[i])-1)*100)\n",
    "    q0spanmean.append(np.mean(q0svars))\n",
    "    q0spanstd.append(np.std(q0svars))\n",
    "\n",
    "    lixt1 = float((spw.lixt[spw.date == q1start]))\n",
    "    lixt0 = float((spw.lixt[spw.date == q0start]))\n",
    "    lixtm1 = float((spd.lixt[spd.date == q1startd]))\n",
    "    lixtm0 = float((spd.lixt[spd.date == m0startd]))\n",
    "    q0lixt.append(float(lixt1))\n",
    "    q0lixtv.append(float(lixt1 - lixt0))\n",
    "    m0lixt.append(float(lixtm1))\n",
    "    m0lixtv.append(float(lixtm1 - lixtm0))\n",
    "    \n",
    "    lixc721 = float((spw.lixc72[spw.date == q1start]))\n",
    "    lixc720 = float((spw.lixc72[spw.date == q0start]))\n",
    "    lixc72m1 = float((spd.lixc72[spd.date == q1startd]))\n",
    "    lixc72m0 = float((spd.lixc72[spd.date == m0startd]))\n",
    "    q0lixc72.append(float(lixc721))\n",
    "    q0lixc72v.append(float(lixc721 - lixc720))\n",
    "    m0lixc72.append(float(lixc72m1))\n",
    "    m0lixc72v.append(float(lixc72m1 - lixc72m0))\n",
    "    \n",
    "    lixc2881 = float((spw.lixc288[spw.date == q1start]))\n",
    "    lixc2880 = float((spw.lixc288[spw.date == q0start]))\n",
    "    lixc288m1 = float((spd.lixc288[spd.date == q1startd]))\n",
    "    lixc288m0 = float((spd.lixc288[spd.date == m0startd]))\n",
    "    q0lixc288.append(float(lixc2881))\n",
    "    q0lixc288v.append(float(lixc2881 - lixc2880))\n",
    "    m0lixc288.append(float(lixc288m1))\n",
    "    m0lixc288v.append(float(lixc288m1 - lixc288m0))\n",
    "    \n",
    "    lixd1 = float((spw.lixd[spw.date == q1start]))\n",
    "    lixd0 = float((spw.lixd[spw.date == q0start]))\n",
    "    lixdm1 = float((spd.lixd[spd.date == q1startd]))\n",
    "    lixdm0 = float((spd.lixd[spd.date == m0startd]))\n",
    "    q0lixd.append(float(lixd1))\n",
    "    q0lixdv.append(float(lixd1 - lixd0))\n",
    "    m0lixd.append(float(lixdm1))\n",
    "    m0lixdv.append(float(lixdm1 - lixdm0))\n",
    "    \n",
    "    lixm1 = float((spw.lixm[spw.date == q1start]))\n",
    "    lixm0 = float((spw.lixm[spw.date == q0start]))\n",
    "    lixmm1 = float((spd.lixm[spd.date == q1startd]))\n",
    "    lixmm0 = float((spd.lixm[spd.date == m0startd]))\n",
    "    q0lixm.append(float(lixm1))\n",
    "    q0lixmv.append(float(lixm1 - lixm0))\n",
    "    m0lixm.append(float(lixmm1))\n",
    "    m0lixmv.append(float(lixmm1 - lixmm0))\n",
    "    \n",
    "    q1indstart = spw.index[spw.date == q1start]\n",
    "    \n",
    "    m0cstart = float(spw.c[q1indstart + 4])\n",
    "    m0cend = q0cend  \n",
    "    m0cv = ((m0cend/m0cstart)-1)*100\n",
    "    m0c.append(float(m0cv))\n",
    "    \n",
    "    m0clist = spd.c[(spd.date >= m0start) & (spd.date<= q1start)]\n",
    "    m0clist = m0clist.reset_index(drop=True)\n",
    "    m0cvars = []\n",
    "    for i in range(len(m0clist)):\n",
    "        if i < len(m0clist)-1:\n",
    "            m0cvars.append(float(((m0clist[i]/m0clist[i+1])-1)*100))\n",
    "    m0cstd.append(float(np.std(m0cvars)))\n",
    "    \n",
    "    m0hlist = spd.h[(spd.date >= m0start) & (spd.date<= q1start)]\n",
    "    m0hlist = m0hlist.reset_index(drop=True)\n",
    "    m0hvars = []\n",
    "    for i in range(len(m0hlist)):\n",
    "        m0hvars.append(float(((m0hlist[i]/m0clist[i])-1)*100))\n",
    "    m0high.append(float(np.mean(m0hvars)))\n",
    "    \n",
    "    m0llist = spd.l[(spd.date >= m0start) & (spd.date<= q1start)]\n",
    "    m0llist = m0llist.reset_index(drop=True)\n",
    "    m0lvars = []\n",
    "    for i in range(len(m0llist)):\n",
    "        m0lvars.append(float(((m0llist[i]/m0clist[i])-1)*100))\n",
    "    m0low.append(float(np.mean(m0lvars)))\n",
    "    \n",
    "    m0svars = []\n",
    "    for i in range(len(m0llist)):\n",
    "        m0svars.append(float(((m0hlist[i]/m0llist[i])-1)*100))\n",
    "    m0spanmean.append(float(np.mean(m0svars)))\n",
    "    m0spanstd.append(float(np.std(m0svars)))"
   ]
  },
  {
   "cell_type": "code",
   "execution_count": 224,
   "metadata": {
    "collapsed": false
   },
   "outputs": [
    {
     "data": {
      "text/plain": [
       "Timestamp('2001-09-21 00:00:00')"
      ]
     },
     "execution_count": 224,
     "metadata": {},
     "output_type": "execute_result"
    }
   ],
   "source": [
    "q0start"
   ]
  },
  {
   "cell_type": "code",
   "execution_count": 314,
   "metadata": {
    "collapsed": true
   },
   "outputs": [],
   "source": [
    "data = pd.DataFrame(index = exp, columns = ['q1c','q1cstd','q1high','q1low','q1range','q1middle','q1pos','q0c',\n",
    "                                            'q0cstd','q0high','q0low','q0spanmean','q0spanstd','q0lixt','q0lixc72',\n",
    "                                            'q0lixc288','q0lixd','q0lixm','q0lixtv','q0lixc72v','q0lixc288v',\n",
    "                                            'q0lixdv','q0lixmv','m0c','m0cstd','m0high','m0low','m0spanmean',\n",
    "                                            'm0spanstd','m0lixt','m0lixc72','m0lixc288','m0lixd','m0lixm','m0lixtv',\n",
    "                                            'm0lixc72v','m0lixc288v','m0lixdv','m0lixmv'])"
   ]
  },
  {
   "cell_type": "code",
   "execution_count": 315,
   "metadata": {
    "collapsed": false
   },
   "outputs": [],
   "source": [
    "data.q1c = q1c\n",
    "data.q1cstd = q1cstd\n",
    "data.q1high = q1high\n",
    "data.q1low = q1low\n",
    "data.q1range = q1range\n",
    "data.q1middle = q1middle\n",
    "data.q1pos = q1pos\n",
    "data.q0c = q0c\n",
    "data.q0cstd = q0cstd\n",
    "data.q0high = q0high\n",
    "data.q0low = q0low\n",
    "data.q0spanmean = q0spanmean\n",
    "data.q0spanstd = q0spanstd\n",
    "data.q0lixt = q0lixt\n",
    "data.q0lixc72 = q0lixc72\n",
    "data.q0lixc288 = q0lixc288\n",
    "data.q0lixd = q0lixd\n",
    "data.q0lixm = q0lixm\n",
    "data.q0lixtv = q0lixtv\n",
    "data.q0lixc72v = q0lixc72v\n",
    "data.q0lixc288v = q0lixc288v\n",
    "data.q0lixdv = q0lixdv\n",
    "data.q0lixmv = q0lixmv\n",
    "data.m0c = m0c\n",
    "data.m0cstd = m0cstd\n",
    "data.m0high = m0high\n",
    "data.m0low = m0low\n",
    "data.m0spanmean = m0spanmean\n",
    "data.m0spanstd = m0spanstd\n",
    "data.m0lixt = m0lixt\n",
    "data.m0lixc72 = m0lixc72\n",
    "data.m0lixc288 = m0lixc288\n",
    "data.m0lixd = m0lixd\n",
    "data.m0lixm = m0lixm\n",
    "data.m0lixtv = m0lixtv\n",
    "data.m0lixc72v = m0lixc72v\n",
    "data.m0lixc288v = m0lixc288v\n",
    "data.m0lixdv = m0lixdv\n",
    "data.m0lixmv = m0lixmv"
   ]
  },
  {
   "cell_type": "code",
   "execution_count": 316,
   "metadata": {
    "collapsed": false
   },
   "outputs": [
    {
     "data": {
      "text/plain": [
       "426"
      ]
     },
     "execution_count": 316,
     "metadata": {},
     "output_type": "execute_result"
    }
   ],
   "source": [
    "len(data)"
   ]
  },
  {
   "cell_type": "code",
   "execution_count": 319,
   "metadata": {
    "collapsed": false
   },
   "outputs": [
    {
     "data": {
      "text/html": [
       "<div style=\"max-height:1000px;max-width:1500px;overflow:auto;\">\n",
       "<table border=\"1\" class=\"dataframe\">\n",
       "  <thead>\n",
       "    <tr style=\"text-align: right;\">\n",
       "      <th></th>\n",
       "      <th>q1c</th>\n",
       "      <th>q1cstd</th>\n",
       "      <th>q1high</th>\n",
       "      <th>q1low</th>\n",
       "      <th>q1range</th>\n",
       "      <th>q1middle</th>\n",
       "      <th>q1pos</th>\n",
       "      <th>q0c</th>\n",
       "      <th>q0cstd</th>\n",
       "      <th>q0high</th>\n",
       "      <th>...</th>\n",
       "      <th>m0lixt</th>\n",
       "      <th>m0lixc72</th>\n",
       "      <th>m0lixc288</th>\n",
       "      <th>m0lixd</th>\n",
       "      <th>m0lixm</th>\n",
       "      <th>m0lixtv</th>\n",
       "      <th>m0lixc72v</th>\n",
       "      <th>m0lixc288v</th>\n",
       "      <th>m0lixdv</th>\n",
       "      <th>m0lixmv</th>\n",
       "    </tr>\n",
       "  </thead>\n",
       "  <tbody>\n",
       "    <tr>\n",
       "      <th>2015-06-19</th>\n",
       "      <td>-0.755861</td>\n",
       "      <td> 0.623040</td>\n",
       "      <td> 0.000000</td>\n",
       "      <td>-2.200316</td>\n",
       "      <td> 2.200316</td>\n",
       "      <td>-1.100158</td>\n",
       "      <td>  31.295174</td>\n",
       "      <td> 0.746814</td>\n",
       "      <td> 0.681047</td>\n",
       "      <td> 0.392315</td>\n",
       "      <td>...</td>\n",
       "      <td> 4.336818</td>\n",
       "      <td> 0.000000</td>\n",
       "      <td> 0.000000</td>\n",
       "      <td>-3.891183</td>\n",
       "      <td> 1</td>\n",
       "      <td>-0.242558</td>\n",
       "      <td> 0.000000</td>\n",
       "      <td> 0.000000</td>\n",
       "      <td> 0.389038</td>\n",
       "      <td> 0</td>\n",
       "    </tr>\n",
       "    <tr>\n",
       "      <th>2015-05-15</th>\n",
       "      <td> 1.996466</td>\n",
       "      <td> 0.663226</td>\n",
       "      <td> 1.996466</td>\n",
       "      <td>-0.049493</td>\n",
       "      <td> 2.045959</td>\n",
       "      <td> 0.973487</td>\n",
       "      <td> 100.000000</td>\n",
       "      <td> 3.058298</td>\n",
       "      <td> 0.776896</td>\n",
       "      <td> 0.397235</td>\n",
       "      <td>...</td>\n",
       "      <td> 2.900084</td>\n",
       "      <td> 0.000000</td>\n",
       "      <td> 0.000000</td>\n",
       "      <td>-2.793576</td>\n",
       "      <td> 1</td>\n",
       "      <td>-2.986466</td>\n",
       "      <td> 0.000000</td>\n",
       "      <td> 0.000000</td>\n",
       "      <td> 1.875860</td>\n",
       "      <td> 0</td>\n",
       "    </tr>\n",
       "    <tr>\n",
       "      <th>2015-04-17</th>\n",
       "      <td>-1.276987</td>\n",
       "      <td> 0.645572</td>\n",
       "      <td> 0.000000</td>\n",
       "      <td>-2.464314</td>\n",
       "      <td> 2.464314</td>\n",
       "      <td>-1.232157</td>\n",
       "      <td>  -3.638362</td>\n",
       "      <td> 1.808620</td>\n",
       "      <td> 0.851452</td>\n",
       "      <td> 0.458451</td>\n",
       "      <td>...</td>\n",
       "      <td> 5.886550</td>\n",
       "      <td> 0.000000</td>\n",
       "      <td> 0.000000</td>\n",
       "      <td>-4.669436</td>\n",
       "      <td> 1</td>\n",
       "      <td>-1.175038</td>\n",
       "      <td> 0.000000</td>\n",
       "      <td> 0.000000</td>\n",
       "      <td> 1.014487</td>\n",
       "      <td> 0</td>\n",
       "    </tr>\n",
       "    <tr>\n",
       "      <th>2015-03-20</th>\n",
       "      <td>-0.104248</td>\n",
       "      <td> 0.790097</td>\n",
       "      <td> 0.335964</td>\n",
       "      <td>-3.319910</td>\n",
       "      <td> 3.655874</td>\n",
       "      <td>-1.491973</td>\n",
       "      <td>  75.917546</td>\n",
       "      <td> 2.267994</td>\n",
       "      <td> 0.915360</td>\n",
       "      <td> 0.526241</td>\n",
       "      <td>...</td>\n",
       "      <td> 7.061588</td>\n",
       "      <td> 0.000000</td>\n",
       "      <td> 0.000000</td>\n",
       "      <td>-5.683923</td>\n",
       "      <td> 1</td>\n",
       "      <td> 1.938689</td>\n",
       "      <td> 0.000000</td>\n",
       "      <td> 0.000000</td>\n",
       "      <td>-1.856458</td>\n",
       "      <td> 0</td>\n",
       "    </tr>\n",
       "    <tr>\n",
       "      <th>2015-02-20</th>\n",
       "      <td> 2.850152</td>\n",
       "      <td> 0.851718</td>\n",
       "      <td> 2.850152</td>\n",
       "      <td>-2.769740</td>\n",
       "      <td> 5.619891</td>\n",
       "      <td> 0.040206</td>\n",
       "      <td> 100.000000</td>\n",
       "      <td> 4.440650</td>\n",
       "      <td> 0.812940</td>\n",
       "      <td> 0.445199</td>\n",
       "      <td>...</td>\n",
       "      <td> 5.122899</td>\n",
       "      <td> 0.000000</td>\n",
       "      <td> 0.000000</td>\n",
       "      <td>-3.827465</td>\n",
       "      <td> 1</td>\n",
       "      <td>-2.607629</td>\n",
       "      <td> 0.000000</td>\n",
       "      <td> 0.000000</td>\n",
       "      <td> 2.383830</td>\n",
       "      <td> 0</td>\n",
       "    </tr>\n",
       "    <tr>\n",
       "      <th>2015-01-16</th>\n",
       "      <td>-2.474096</td>\n",
       "      <td> 0.893649</td>\n",
       "      <td> 0.962025</td>\n",
       "      <td>-3.765961</td>\n",
       "      <td> 4.727985</td>\n",
       "      <td>-1.401968</td>\n",
       "      <td> -45.352414</td>\n",
       "      <td> 2.996910</td>\n",
       "      <td> 0.920216</td>\n",
       "      <td> 0.512111</td>\n",
       "      <td>...</td>\n",
       "      <td> 7.285306</td>\n",
       "      <td> 0.000000</td>\n",
       "      <td> 0.000000</td>\n",
       "      <td>-5.667367</td>\n",
       "      <td> 1</td>\n",
       "      <td>-0.514500</td>\n",
       "      <td> 0.000000</td>\n",
       "      <td> 0.000000</td>\n",
       "      <td> 0.659982</td>\n",
       "      <td> 0</td>\n",
       "    </tr>\n",
       "    <tr>\n",
       "      <th>2014-12-19</th>\n",
       "      <td> 0.346494</td>\n",
       "      <td> 0.988406</td>\n",
       "      <td> 0.575242</td>\n",
       "      <td>-4.398353</td>\n",
       "      <td> 4.973595</td>\n",
       "      <td>-1.911555</td>\n",
       "      <td>  90.801502</td>\n",
       "      <td> 3.776905</td>\n",
       "      <td> 0.771117</td>\n",
       "      <td> 0.410092</td>\n",
       "      <td>...</td>\n",
       "      <td> 7.799807</td>\n",
       "      <td> 0.000000</td>\n",
       "      <td> 0.000000</td>\n",
       "      <td>-6.327349</td>\n",
       "      <td> 1</td>\n",
       "      <td> 3.567219</td>\n",
       "      <td> 1.387678</td>\n",
       "      <td> 1.387678</td>\n",
       "      <td>-3.464877</td>\n",
       "      <td> 0</td>\n",
       "    </tr>\n",
       "    <tr>\n",
       "      <th>2014-11-21</th>\n",
       "      <td> 5.035175</td>\n",
       "      <td> 0.404835</td>\n",
       "      <td> 5.035175</td>\n",
       "      <td>-0.150157</td>\n",
       "      <td> 5.185332</td>\n",
       "      <td> 2.442509</td>\n",
       "      <td> 100.000000</td>\n",
       "      <td>-0.695533</td>\n",
       "      <td> 0.820467</td>\n",
       "      <td> 0.487591</td>\n",
       "      <td>...</td>\n",
       "      <td> 4.232587</td>\n",
       "      <td>-1.387678</td>\n",
       "      <td>-1.387678</td>\n",
       "      <td>-2.862472</td>\n",
       "      <td> 1</td>\n",
       "      <td>-0.101890</td>\n",
       "      <td>-1.387678</td>\n",
       "      <td>-1.387678</td>\n",
       "      <td> 1.162073</td>\n",
       "      <td> 0</td>\n",
       "    </tr>\n",
       "    <tr>\n",
       "      <th>2014-10-17</th>\n",
       "      <td>-6.150021</td>\n",
       "      <td> 1.052142</td>\n",
       "      <td> 0.000000</td>\n",
       "      <td>-7.357244</td>\n",
       "      <td> 7.357244</td>\n",
       "      <td>-3.678622</td>\n",
       "      <td> -67.182727</td>\n",
       "      <td> 2.421456</td>\n",
       "      <td> 0.529902</td>\n",
       "      <td> 0.296047</td>\n",
       "      <td>...</td>\n",
       "      <td> 6.239703</td>\n",
       "      <td> 0.000000</td>\n",
       "      <td> 0.000000</td>\n",
       "      <td>-5.549377</td>\n",
       "      <td> 1</td>\n",
       "      <td>-0.927099</td>\n",
       "      <td> 0.000000</td>\n",
       "      <td> 0.000000</td>\n",
       "      <td> 0.082600</td>\n",
       "      <td> 0</td>\n",
       "    </tr>\n",
       "    <tr>\n",
       "      <th>2014-09-19</th>\n",
       "      <td> 1.106417</td>\n",
       "      <td> 0.358554</td>\n",
       "      <td> 1.154695</td>\n",
       "      <td>-0.214746</td>\n",
       "      <td> 1.369442</td>\n",
       "      <td> 0.469974</td>\n",
       "      <td>  92.949235</td>\n",
       "      <td> 4.623447</td>\n",
       "      <td> 0.530793</td>\n",
       "      <td> 0.254611</td>\n",
       "      <td>...</td>\n",
       "      <td> 7.166801</td>\n",
       "      <td> 0.000000</td>\n",
       "      <td> 0.000000</td>\n",
       "      <td>-5.631978</td>\n",
       "      <td> 1</td>\n",
       "      <td>-0.454548</td>\n",
       "      <td> 0.000000</td>\n",
       "      <td> 0.000000</td>\n",
       "      <td> 0.478601</td>\n",
       "      <td> 0</td>\n",
       "    </tr>\n",
       "  </tbody>\n",
       "</table>\n",
       "<p>10 rows × 39 columns</p>\n",
       "</div>"
      ],
      "text/plain": [
       "                 q1c    q1cstd    q1high     q1low   q1range  q1middle  \\\n",
       "2015-06-19 -0.755861  0.623040  0.000000 -2.200316  2.200316 -1.100158   \n",
       "2015-05-15  1.996466  0.663226  1.996466 -0.049493  2.045959  0.973487   \n",
       "2015-04-17 -1.276987  0.645572  0.000000 -2.464314  2.464314 -1.232157   \n",
       "2015-03-20 -0.104248  0.790097  0.335964 -3.319910  3.655874 -1.491973   \n",
       "2015-02-20  2.850152  0.851718  2.850152 -2.769740  5.619891  0.040206   \n",
       "2015-01-16 -2.474096  0.893649  0.962025 -3.765961  4.727985 -1.401968   \n",
       "2014-12-19  0.346494  0.988406  0.575242 -4.398353  4.973595 -1.911555   \n",
       "2014-11-21  5.035175  0.404835  5.035175 -0.150157  5.185332  2.442509   \n",
       "2014-10-17 -6.150021  1.052142  0.000000 -7.357244  7.357244 -3.678622   \n",
       "2014-09-19  1.106417  0.358554  1.154695 -0.214746  1.369442  0.469974   \n",
       "\n",
       "                 q1pos       q0c    q0cstd    q0high   ...       m0lixt  \\\n",
       "2015-06-19   31.295174  0.746814  0.681047  0.392315   ...     4.336818   \n",
       "2015-05-15  100.000000  3.058298  0.776896  0.397235   ...     2.900084   \n",
       "2015-04-17   -3.638362  1.808620  0.851452  0.458451   ...     5.886550   \n",
       "2015-03-20   75.917546  2.267994  0.915360  0.526241   ...     7.061588   \n",
       "2015-02-20  100.000000  4.440650  0.812940  0.445199   ...     5.122899   \n",
       "2015-01-16  -45.352414  2.996910  0.920216  0.512111   ...     7.285306   \n",
       "2014-12-19   90.801502  3.776905  0.771117  0.410092   ...     7.799807   \n",
       "2014-11-21  100.000000 -0.695533  0.820467  0.487591   ...     4.232587   \n",
       "2014-10-17  -67.182727  2.421456  0.529902  0.296047   ...     6.239703   \n",
       "2014-09-19   92.949235  4.623447  0.530793  0.254611   ...     7.166801   \n",
       "\n",
       "            m0lixc72  m0lixc288    m0lixd  m0lixm   m0lixtv  m0lixc72v  \\\n",
       "2015-06-19  0.000000   0.000000 -3.891183       1 -0.242558   0.000000   \n",
       "2015-05-15  0.000000   0.000000 -2.793576       1 -2.986466   0.000000   \n",
       "2015-04-17  0.000000   0.000000 -4.669436       1 -1.175038   0.000000   \n",
       "2015-03-20  0.000000   0.000000 -5.683923       1  1.938689   0.000000   \n",
       "2015-02-20  0.000000   0.000000 -3.827465       1 -2.607629   0.000000   \n",
       "2015-01-16  0.000000   0.000000 -5.667367       1 -0.514500   0.000000   \n",
       "2014-12-19  0.000000   0.000000 -6.327349       1  3.567219   1.387678   \n",
       "2014-11-21 -1.387678  -1.387678 -2.862472       1 -0.101890  -1.387678   \n",
       "2014-10-17  0.000000   0.000000 -5.549377       1 -0.927099   0.000000   \n",
       "2014-09-19  0.000000   0.000000 -5.631978       1 -0.454548   0.000000   \n",
       "\n",
       "            m0lixc288v   m0lixdv  m0lixmv  \n",
       "2015-06-19    0.000000  0.389038        0  \n",
       "2015-05-15    0.000000  1.875860        0  \n",
       "2015-04-17    0.000000  1.014487        0  \n",
       "2015-03-20    0.000000 -1.856458        0  \n",
       "2015-02-20    0.000000  2.383830        0  \n",
       "2015-01-16    0.000000  0.659982        0  \n",
       "2014-12-19    1.387678 -3.464877        0  \n",
       "2014-11-21   -1.387678  1.162073        0  \n",
       "2014-10-17    0.000000  0.082600        0  \n",
       "2014-09-19    0.000000  0.478601        0  \n",
       "\n",
       "[10 rows x 39 columns]"
      ]
     },
     "execution_count": 319,
     "metadata": {},
     "output_type": "execute_result"
    }
   ],
   "source": [
    "data.head(10)"
   ]
  },
  {
   "cell_type": "code",
   "execution_count": 320,
   "metadata": {
    "collapsed": false
   },
   "outputs": [
    {
     "data": {
      "text/html": [
       "<div style=\"max-height:1000px;max-width:1500px;overflow:auto;\">\n",
       "<table border=\"1\" class=\"dataframe\">\n",
       "  <thead>\n",
       "    <tr style=\"text-align: right;\">\n",
       "      <th></th>\n",
       "      <th>q1c</th>\n",
       "      <th>q1cstd</th>\n",
       "      <th>q1high</th>\n",
       "      <th>q1low</th>\n",
       "      <th>q1range</th>\n",
       "      <th>q1middle</th>\n",
       "      <th>q1pos</th>\n",
       "      <th>q0c</th>\n",
       "      <th>q0cstd</th>\n",
       "      <th>q0high</th>\n",
       "      <th>...</th>\n",
       "      <th>m0lixt</th>\n",
       "      <th>m0lixc72</th>\n",
       "      <th>m0lixc288</th>\n",
       "      <th>m0lixd</th>\n",
       "      <th>m0lixm</th>\n",
       "      <th>m0lixtv</th>\n",
       "      <th>m0lixc72v</th>\n",
       "      <th>m0lixc288v</th>\n",
       "      <th>m0lixdv</th>\n",
       "      <th>m0lixmv</th>\n",
       "    </tr>\n",
       "  </thead>\n",
       "  <tbody>\n",
       "    <tr>\n",
       "      <th>1980-03-21</th>\n",
       "      <td>-11.065719</td>\n",
       "      <td> 1.181521</td>\n",
       "      <td> 0.000000</td>\n",
       "      <td>-11.109178</td>\n",
       "      <td> 11.109178</td>\n",
       "      <td>-5.554589</td>\n",
       "      <td>-99.217590</td>\n",
       "      <td> 9.907331</td>\n",
       "      <td> 0.804884</td>\n",
       "      <td> 0.976491</td>\n",
       "      <td>...</td>\n",
       "      <td> 8.201148</td>\n",
       "      <td> 0.099965</td>\n",
       "      <td> 0.099965</td>\n",
       "      <td>-7.034249</td>\n",
       "      <td> 1</td>\n",
       "      <td>-0.579801</td>\n",
       "      <td> 0.099965</td>\n",
       "      <td> 0.099965</td>\n",
       "      <td> 0.556226</td>\n",
       "      <td> 0</td>\n",
       "    </tr>\n",
       "    <tr>\n",
       "      <th>1980-02-15</th>\n",
       "      <td>  3.907449</td>\n",
       "      <td> 0.887077</td>\n",
       "      <td> 6.635457</td>\n",
       "      <td>  0.000000</td>\n",
       "      <td>  6.635457</td>\n",
       "      <td> 3.317728</td>\n",
       "      <td> 17.774839</td>\n",
       "      <td> 9.320868</td>\n",
       "      <td> 0.765727</td>\n",
       "      <td> 0.877336</td>\n",
       "      <td>...</td>\n",
       "      <td> 6.644012</td>\n",
       "      <td> 0.000000</td>\n",
       "      <td> 0.000000</td>\n",
       "      <td>-5.847811</td>\n",
       "      <td> 1</td>\n",
       "      <td> 2.804845</td>\n",
       "      <td> 0.000000</td>\n",
       "      <td> 0.000000</td>\n",
       "      <td>-2.348457</td>\n",
       "      <td> 0</td>\n",
       "    </tr>\n",
       "    <tr>\n",
       "      <th>1980-01-18</th>\n",
       "      <td>  3.234505</td>\n",
       "      <td> 0.778384</td>\n",
       "      <td> 3.299566</td>\n",
       "      <td> -2.202802</td>\n",
       "      <td>  5.502368</td>\n",
       "      <td> 0.548382</td>\n",
       "      <td> 97.635168</td>\n",
       "      <td>-2.607047</td>\n",
       "      <td> 0.860565</td>\n",
       "      <td> 0.921324</td>\n",
       "      <td>...</td>\n",
       "      <td> 3.839167</td>\n",
       "      <td> 0.000000</td>\n",
       "      <td> 0.000000</td>\n",
       "      <td>-3.499354</td>\n",
       "      <td> 1</td>\n",
       "      <td> 2.506594</td>\n",
       "      <td> 0.000000</td>\n",
       "      <td>-0.689172</td>\n",
       "      <td>-1.976642</td>\n",
       "      <td> 1</td>\n",
       "    </tr>\n",
       "  </tbody>\n",
       "</table>\n",
       "<p>3 rows × 39 columns</p>\n",
       "</div>"
      ],
      "text/plain": [
       "                  q1c    q1cstd    q1high      q1low    q1range  q1middle  \\\n",
       "1980-03-21 -11.065719  1.181521  0.000000 -11.109178  11.109178 -5.554589   \n",
       "1980-02-15   3.907449  0.887077  6.635457   0.000000   6.635457  3.317728   \n",
       "1980-01-18   3.234505  0.778384  3.299566  -2.202802   5.502368  0.548382   \n",
       "\n",
       "                q1pos       q0c    q0cstd    q0high   ...       m0lixt  \\\n",
       "1980-03-21 -99.217590  9.907331  0.804884  0.976491   ...     8.201148   \n",
       "1980-02-15  17.774839  9.320868  0.765727  0.877336   ...     6.644012   \n",
       "1980-01-18  97.635168 -2.607047  0.860565  0.921324   ...     3.839167   \n",
       "\n",
       "            m0lixc72  m0lixc288    m0lixd  m0lixm   m0lixtv  m0lixc72v  \\\n",
       "1980-03-21  0.099965   0.099965 -7.034249       1 -0.579801   0.099965   \n",
       "1980-02-15  0.000000   0.000000 -5.847811       1  2.804845   0.000000   \n",
       "1980-01-18  0.000000   0.000000 -3.499354       1  2.506594   0.000000   \n",
       "\n",
       "            m0lixc288v   m0lixdv  m0lixmv  \n",
       "1980-03-21    0.099965  0.556226        0  \n",
       "1980-02-15    0.000000 -2.348457        0  \n",
       "1980-01-18   -0.689172 -1.976642        1  \n",
       "\n",
       "[3 rows x 39 columns]"
      ]
     },
     "execution_count": 320,
     "metadata": {},
     "output_type": "execute_result"
    }
   ],
   "source": [
    "data.tail(3)"
   ]
  },
  {
   "cell_type": "code",
   "execution_count": 321,
   "metadata": {
    "collapsed": false
   },
   "outputs": [],
   "source": [
    "data.to_csv('data3.csv')\n",
    "spd.to_csv('spdfinal.csv')\n",
    "spw.to_csv('spwfinal.csv')"
   ]
  },
  {
   "cell_type": "markdown",
   "metadata": {},
   "source": [
    "## Data normalization"
   ]
  },
  {
   "cell_type": "code",
   "execution_count": null,
   "metadata": {
    "collapsed": true
   },
   "outputs": [],
   "source": [
    "datan = data.copy()"
   ]
  },
  {
   "cell_type": "code",
   "execution_count": null,
   "metadata": {
    "collapsed": false
   },
   "outputs": [],
   "source": [
    "for cols in datan.keys():\n",
    "    maxcols = max(datan[cols])\n",
    "    mincols = min(datan[cols])\n",
    "    spancols = maxcols - mincols\n",
    "    meancols = maxcols - (spancols / 2)\n",
    "    for n in range(len(datan)):\n",
    "        if mincols >= 0 or maxcols <= 0:\n",
    "            datan[cols][n] = (datan[cols][n] - meancols) / (spancols / 2)\n",
    "        else:\n",
    "            if datan[cols][n] < 0:\n",
    "                datan[cols][n] = datan[cols][n] / abs(mincols)\n",
    "            if datan[cols][n] > 0:\n",
    "                datan[cols][n] = datan[cols][n] / maxcols"
   ]
  },
  {
   "cell_type": "code",
   "execution_count": null,
   "metadata": {
    "collapsed": false
   },
   "outputs": [],
   "source": [
    "for cols in datan.keys():\n",
    "    maxcols = max(datan[cols])\n",
    "    mincols = min(datan[cols])\n",
    "    print cols, mincols, maxcols"
   ]
  },
  {
   "cell_type": "code",
   "execution_count": null,
   "metadata": {
    "collapsed": false
   },
   "outputs": [],
   "source": [
    "datan.head(3)"
   ]
  },
  {
   "cell_type": "code",
   "execution_count": null,
   "metadata": {
    "collapsed": false
   },
   "outputs": [],
   "source": [
    "data.head(3)"
   ]
  },
  {
   "cell_type": "code",
   "execution_count": null,
   "metadata": {
    "collapsed": true
   },
   "outputs": [],
   "source": [
    "datan.to_csv('datan.csv')\n",
    "datan2.to_csv('datan2.csv')"
   ]
  },
  {
   "cell_type": "markdown",
   "metadata": {},
   "source": [
    "## Overbought/Oversold Indicator using Options Open Interest"
   ]
  },
  {
   "cell_type": "code",
   "execution_count": null,
   "metadata": {
    "collapsed": false
   },
   "outputs": [],
   "source": [
    "options = read_csv('/Users/marcolunardi/Documents/Doc/options.csv', delimiter=',', header=0)\n",
    "options.rename(columns={'Unnamed: 0':'nrow'}, inplace=True)\n",
    "len(options)"
   ]
  },
  {
   "cell_type": "code",
   "execution_count": null,
   "metadata": {
    "collapsed": false
   },
   "outputs": [],
   "source": [
    "options.head(3)"
   ]
  },
  {
   "cell_type": "code",
   "execution_count": null,
   "metadata": {
    "collapsed": false
   },
   "outputs": [],
   "source": [
    "options.tail(3)"
   ]
  },
  {
   "cell_type": "code",
   "execution_count": null,
   "metadata": {
    "collapsed": true
   },
   "outputs": [],
   "source": [
    "options['date'] = pd.to_datetime(options['date'])\n",
    "options['exp'] = pd.to_datetime(options['exp'])"
   ]
  },
  {
   "cell_type": "markdown",
   "metadata": {},
   "source": [
    "##Setting expiration and date"
   ]
  },
  {
   "cell_type": "code",
   "execution_count": null,
   "metadata": {
    "collapsed": true
   },
   "outputs": [],
   "source": [
    "expd = dp.parse(\"2009/03/21\")\n",
    "d = dp.parse(\"2009/03/09\")"
   ]
  },
  {
   "cell_type": "code",
   "execution_count": null,
   "metadata": {
    "collapsed": false
   },
   "outputs": [],
   "source": [
    "optexp = options[options.exp == expd]\n",
    "len(optexp)"
   ]
  },
  {
   "cell_type": "code",
   "execution_count": null,
   "metadata": {
    "collapsed": false
   },
   "outputs": [],
   "source": [
    "optd = optexp[optexp.date == d]\n",
    "optd = optd.reset_index(drop=True)\n",
    "len(optd)"
   ]
  },
  {
   "cell_type": "code",
   "execution_count": null,
   "metadata": {
    "collapsed": false
   },
   "outputs": [],
   "source": [
    "price = optd.sp[0]\n",
    "price"
   ]
  },
  {
   "cell_type": "code",
   "execution_count": null,
   "metadata": {
    "collapsed": true
   },
   "outputs": [],
   "source": [
    "#price = 2040\n",
    "strikes = []\n",
    "pcr = []\n",
    "diff = []"
   ]
  },
  {
   "cell_type": "code",
   "execution_count": null,
   "metadata": {
    "collapsed": false
   },
   "outputs": [],
   "source": [
    "if price%25 == 0:\n",
    "    start = price - 25\n",
    "else:\n",
    "    start = (int(price / 25)) * 25\n",
    "strikes = [(start - 25), start, (start + 25), (start + 50)]\n",
    "strikes    "
   ]
  },
  {
   "cell_type": "code",
   "execution_count": null,
   "metadata": {
    "collapsed": false
   },
   "outputs": [],
   "source": [
    "for s in strikes:\n",
    "    opts = optd[optd.strike == s]\n",
    "    oic = float(np.max(opts.oi[opts.pc == 'C']))\n",
    "    oip = float(np.max(opts.oi[opts.pc == 'P']))\n",
    "    ratio = ((oip/(oic + oip))*2)-1\n",
    "    pcr.append(ratio)\n",
    "    if s < price:\n",
    "        diff.append((((s - 25)/price)-1)*100)\n",
    "    elif s > price:\n",
    "        diff.append((((s + 25)/price)-1)*100)\n",
    "pcr"
   ]
  },
  {
   "cell_type": "code",
   "execution_count": null,
   "metadata": {
    "collapsed": false
   },
   "outputs": [],
   "source": [
    "diff"
   ]
  },
  {
   "cell_type": "code",
   "execution_count": null,
   "metadata": {
    "collapsed": false
   },
   "outputs": [],
   "source": [
    "obs = 0\n",
    "mult = 3\n",
    "if pcr[0] < 0:\n",
    "    obs += (abs(pcr[0] * mult) * diff[0])\n",
    "if pcr[1] < 0:\n",
    "    obs += (abs(pcr[1] * mult) * diff[1])\n",
    "if pcr[2] > 0:\n",
    "    obs += (abs(pcr[2] * mult) * diff[2])\n",
    "if pcr[3] > 0:\n",
    "    obs += (abs(pcr[3] * mult) * diff[3])"
   ]
  },
  {
   "cell_type": "code",
   "execution_count": null,
   "metadata": {
    "collapsed": false
   },
   "outputs": [],
   "source": [
    "(abs(pcr[0]*4) * diff[0])"
   ]
  },
  {
   "cell_type": "code",
   "execution_count": null,
   "metadata": {
    "collapsed": false
   },
   "outputs": [],
   "source": [
    "(abs(pcr[1]*4) * diff[1])"
   ]
  },
  {
   "cell_type": "code",
   "execution_count": null,
   "metadata": {
    "collapsed": false
   },
   "outputs": [],
   "source": [
    "(abs(pcr[2]*4) * diff[2])"
   ]
  },
  {
   "cell_type": "code",
   "execution_count": null,
   "metadata": {
    "collapsed": false
   },
   "outputs": [],
   "source": [
    "(abs(pcr[3]*4) * diff[3])"
   ]
  },
  {
   "cell_type": "code",
   "execution_count": null,
   "metadata": {
    "collapsed": false
   },
   "outputs": [],
   "source": [
    "obs"
   ]
  },
  {
   "cell_type": "markdown",
   "metadata": {
    "collapsed": true
   },
   "source": [
    "## Predicting S&P 500 quarterly fluctuation spans (to be completed)"
   ]
  },
  {
   "cell_type": "code",
   "execution_count": null,
   "metadata": {
    "collapsed": true
   },
   "outputs": [],
   "source": [
    "from sklearn.cluster import KMeans"
   ]
  },
  {
   "cell_type": "code",
   "execution_count": null,
   "metadata": {
    "collapsed": false
   },
   "outputs": [],
   "source": [
    "%pylab inline"
   ]
  },
  {
   "cell_type": "code",
   "execution_count": null,
   "metadata": {
    "collapsed": false
   },
   "outputs": [],
   "source": [
    "hie_data = datan\n",
    "corr_matrix = np.corrcoef(hie_data)\n",
    "sm.graphics.plot_corr(corr_matrix, xnames=list(datan.columns.values))"
   ]
  },
  {
   "cell_type": "code",
   "execution_count": null,
   "metadata": {
    "collapsed": false
   },
   "outputs": [],
   "source": [
    "corr_matrix"
   ]
  },
  {
   "cell_type": "code",
   "execution_count": null,
   "metadata": {
    "collapsed": false
   },
   "outputs": [],
   "source": [
    "num_clusters=3\n",
    "km = KMeans(init='k-means++', max_iter=50, n_init=1, verbose=1, n_jobs=-1, n_clusters=num_clusters)\n",
    "km.fit(ydata2)"
   ]
  },
  {
   "cell_type": "code",
   "execution_count": null,
   "metadata": {
    "collapsed": false
   },
   "outputs": [],
   "source": [
    "order_centroids = km.cluster_centers_.argsort()[:, ::-1]\n",
    "terms = list(ydata2.columns.values)\n",
    "for i in range(num_clusters):\n",
    "    print \"Cluster %d:\" % i,\n",
    "    for ind in order_centroids[i, :50]:\n",
    "        print ' %s' % terms[ind] + \",\",\n",
    "    print \"\\n\""
   ]
  },
  {
   "cell_type": "markdown",
   "metadata": {},
   "source": [
    "## Creating datasets for predictions (starting from data2 and after features selection)"
   ]
  },
  {
   "cell_type": "code",
   "execution_count": null,
   "metadata": {
    "collapsed": true
   },
   "outputs": [],
   "source": [
    "complete = data2.copy()\n",
    "completen = datan2.copy()"
   ]
  },
  {
   "cell_type": "code",
   "execution_count": null,
   "metadata": {
    "collapsed": false
   },
   "outputs": [],
   "source": [
    "yall = complete.drop(['q1c','q1cstd','q0c','q0cstd','q0high','q0low','q0spanmean','q0spanstd','q0lixt','q0lixc72',\n",
    "                      'q0lixc288','q0lixd','q0lixm','q0lixtv','q0lixc72v','q0lixc288v','q0lixdv','q0lixmv','m0c',\n",
    "                      'm0cstd','m0high','m0low','m0spanmean','m0spanstd','m0lixt','m0lixc72','m0lixc288','m0lixd',\n",
    "                      'm0lixm','m0lixtv','m0lixc72v','m0lixc288v','m0lixdv','m0lixmv'], 1)\n",
    "yalln = completen.drop(['q1c','q1cstd','q0c','q0cstd','q0high','q0low','q0spanmean','q0spanstd','q0lixt','q0lixc72',\n",
    "                      'q0lixc288','q0lixd','q0lixm','q0lixtv','q0lixc72v','q0lixc288v','q0lixdv','q0lixmv','m0c',\n",
    "                      'm0cstd','m0high','m0low','m0spanmean','m0spanstd','m0lixt','m0lixc72','m0lixc288','m0lixd',\n",
    "                      'm0lixm','m0lixtv','m0lixc72v','m0lixc288v','m0lixdv','m0lixmv'], 1)\n",
    "yall.head(3)"
   ]
  },
  {
   "cell_type": "code",
   "execution_count": null,
   "metadata": {
    "collapsed": false
   },
   "outputs": [],
   "source": [
    "xall = complete.drop(['q1c','q1cstd','q1high','q1low','q1range','q1middle','q1pos','q0lixc72v','q0lixc288v','m0lixc288',\n",
    "                    'm0lixtv','m0lixc72v','m0lixc288v','m0lixdv','m0lixmv'], 1)\n",
    "xalln = completen.drop(['q1c','q1cstd','q1high','q1low','q1range','q1middle','q1pos','q0lixc72v','q0lixc288v','m0lixc288',\n",
    "                    'm0lixtv','m0lixc72v','m0lixc288v','m0lixdv','m0lixmv'], 1)\n",
    "xall.head(3)"
   ]
  },
  {
   "cell_type": "markdown",
   "metadata": {},
   "source": [
    "###Q1Range"
   ]
  },
  {
   "cell_type": "code",
   "execution_count": null,
   "metadata": {
    "collapsed": true
   },
   "outputs": [],
   "source": [
    "yr = yall.q1range\n",
    "xr = xall.drop(['q0lixc288','q0lixc72','m0lixc72'], 1)\n",
    "yrn = yalln.q1range\n",
    "xrn = xalln.drop(['q0lixc288','q0lixc72','m0lixc72'], 1)"
   ]
  },
  {
   "cell_type": "code",
   "execution_count": null,
   "metadata": {
    "collapsed": false
   },
   "outputs": [],
   "source": [
    "xr.columns.values"
   ]
  },
  {
   "cell_type": "markdown",
   "metadata": {},
   "source": [
    "###Q1Low"
   ]
  },
  {
   "cell_type": "code",
   "execution_count": null,
   "metadata": {
    "collapsed": true
   },
   "outputs": [],
   "source": [
    "yl = yall.q1low\n",
    "xl = xall.drop(['q0lixc288','q0lixt','m0c','m0spanstd','m0lixm'], 1)\n",
    "yln = yalln.q1low\n",
    "xln = xalln.drop(['q0lixc288','q0lixt','m0c','m0spanstd','m0lixm'], 1)"
   ]
  },
  {
   "cell_type": "code",
   "execution_count": null,
   "metadata": {
    "collapsed": false
   },
   "outputs": [],
   "source": [
    "xl.columns.values"
   ]
  },
  {
   "cell_type": "markdown",
   "metadata": {},
   "source": [
    "###Q1High"
   ]
  },
  {
   "cell_type": "code",
   "execution_count": null,
   "metadata": {
    "collapsed": true
   },
   "outputs": [],
   "source": [
    "yh = yall.q1high\n",
    "xh = xall.drop(['q0lixc288','q0lixt','m0c','m0spanstd','m0lixm'], 1)\n",
    "yhn = yalln.q1high\n",
    "xhn = xalln.drop(['q0lixc288','q0lixt','m0c','m0spanstd','m0lixm'], 1)"
   ]
  },
  {
   "cell_type": "code",
   "execution_count": null,
   "metadata": {
    "collapsed": false
   },
   "outputs": [],
   "source": [
    "xh.columns.values"
   ]
  },
  {
   "cell_type": "markdown",
   "metadata": {},
   "source": [
    "###Q1Middle"
   ]
  },
  {
   "cell_type": "code",
   "execution_count": null,
   "metadata": {
    "collapsed": false
   },
   "outputs": [],
   "source": [
    "ym = yall.q1middle\n",
    "xm = xall.drop(['q0c','q0cstd','q0low','q0spanmean','q0spanstd','q0lixt','q0lixc72',\n",
    "               'q0lixd','q0lixm','q0lixtv','q0lixdv','q0lixmv','m0c','m0cstd','m0low','m0high','m0spanmean',\n",
    "               'm0spanstd','m0lixd','m0lixm'], 1)\n",
    "ymn = yalln.q1middle\n",
    "xmn = xalln.drop(['q0c','q0cstd','q0low','q0spanmean','q0spanstd','q0lixt','q0lixc72',\n",
    "               'q0lixd','q0lixm','q0lixtv','q0lixdv','q0lixmv','m0c','m0cstd','m0low','m0high','m0spanmean',\n",
    "               'm0spanstd','m0lixd','m0lixm'], 1)"
   ]
  },
  {
   "cell_type": "code",
   "execution_count": null,
   "metadata": {
    "collapsed": false
   },
   "outputs": [],
   "source": [
    "xm.columns.values"
   ]
  },
  {
   "cell_type": "markdown",
   "metadata": {},
   "source": [
    "###Q1Pos"
   ]
  },
  {
   "cell_type": "code",
   "execution_count": null,
   "metadata": {
    "collapsed": true
   },
   "outputs": [],
   "source": [
    "yp = yall.q1pos\n",
    "xp = xall.drop(['q0c','q0cstd','q0high','q0low','q0spanstd','q0lixt','q0lixc72','q0lixd',\n",
    "               'q0lixm','q0lixtv','q0lixdv','q0lixmv','m0c','m0cstd','m0low','m0spanmean','m0spanstd','m0lixm'], 1)\n",
    "ypn = yalln.q1pos\n",
    "xpn = xalln.drop(['q0c','q0cstd','q0high','q0low','q0spanstd','q0lixt','q0lixc72','q0lixd',\n",
    "               'q0lixm','q0lixtv','q0lixdv','q0lixmv','m0c','m0cstd','m0low','m0spanmean','m0spanstd','m0lixm'], 1)"
   ]
  },
  {
   "cell_type": "code",
   "execution_count": null,
   "metadata": {
    "collapsed": false
   },
   "outputs": [],
   "source": [
    "xp.columns.values"
   ]
  },
  {
   "cell_type": "markdown",
   "metadata": {},
   "source": [
    "##Supervised learning predictions"
   ]
  },
  {
   "cell_type": "code",
   "execution_count": null,
   "metadata": {
    "collapsed": true
   },
   "outputs": [],
   "source": [
    "import matplotlib.pyplot as plt\n",
    "import statsmodels.formula.api as smf\n",
    "from scipy.stats import linregress\n",
    "from pylab import *\n",
    "from urllib import urlopen\n",
    "from sklearn.cross_validation import train_test_split\n",
    "from sklearn.linear_model import LogisticRegression\n",
    "from __future__ import division\n",
    "from sklearn import cross_validation\n",
    "from sklearn.neighbors import KNeighborsClassifier\n",
    "from sklearn.metrics import accuracy_score\n",
    "from sklearn.naive_bayes import GaussianNB\n",
    "from sklearn.svm import SVC\n",
    "from sklearn.tree import DecisionTreeClassifier\n",
    "from sklearn.ensemble import RandomForestClassifier\n",
    "from sklearn.cross_validation import cross_val_score\n",
    "from sklearn.metrics import precision_recall_fscore_support\n",
    "from sklearn import metrics\n",
    "from sklearn.metrics import roc_curve, auc\n",
    "from sklearn.metrics import roc_auc_score\n",
    "from sklearn.preprocessing import label_binarize\n",
    "from sklearn import tree\n",
    "from sklearn.externals.six import StringIO\n",
    "import os\n",
    "from sklearn.externals.six import StringIO  \n",
    "import pydot\n",
    "from sklearn.cross_validation import StratifiedKFold\n",
    "from sklearn import linear_model\n",
    "from sklearn.cross_validation import cross_val_score"
   ]
  },
  {
   "cell_type": "code",
   "execution_count": null,
   "metadata": {
    "collapsed": false
   },
   "outputs": [],
   "source": [
    "testsize = 0.2\n",
    "#clf = RandomForestClassifier()\n",
    "clf = DecisionTreeClassifier()\n",
    "#clf = GaussianNB()\n",
    "#clf = SVC()\n",
    "#clf = LogisticRegression()"
   ]
  },
  {
   "cell_type": "markdown",
   "metadata": {},
   "source": [
    "###Q1low"
   ]
  },
  {
   "cell_type": "code",
   "execution_count": null,
   "metadata": {
    "collapsed": false
   },
   "outputs": [],
   "source": [
    "X = xl\n",
    "y = yl\n",
    "X_train, X_test, y_train, y_test = cross_validation.train_test_split(X, y, test_size=testsize, random_state=0)\n",
    "Xn = xln\n",
    "yn = yln\n",
    "Xn_train, Xn_test, yn_train, yn_test = cross_validation.train_test_split(Xn, yn, test_size=testsize, random_state=0)"
   ]
  },
  {
   "cell_type": "code",
   "execution_count": null,
   "metadata": {
    "collapsed": false
   },
   "outputs": [],
   "source": [
    "print X.shape, X_train.shape, X_test.shape"
   ]
  },
  {
   "cell_type": "code",
   "execution_count": null,
   "metadata": {
    "collapsed": false
   },
   "outputs": [],
   "source": [
    "model = clf.fit(X_train, y_train)\n",
    "modeln = clf.fit(Xn_train, yn_train)"
   ]
  },
  {
   "cell_type": "code",
   "execution_count": null,
   "metadata": {
    "collapsed": false
   },
   "outputs": [],
   "source": [
    "q1lpred = model.predict(X_test)\n",
    "q1lpredn = model.predict(Xn_test)"
   ]
  },
  {
   "cell_type": "code",
   "execution_count": null,
   "metadata": {
    "collapsed": false
   },
   "outputs": [],
   "source": [
    "diff = (q1lpred - y_test)\n",
    "diffn = (q1lpredn - yn_test)"
   ]
  },
  {
   "cell_type": "code",
   "execution_count": null,
   "metadata": {
    "collapsed": false
   },
   "outputs": [],
   "source": [
    "print np.mean(abs(diff)), np.max(abs(diff))\n",
    "print np.mean(abs(diffn)), np.max(abs(diffn))"
   ]
  },
  {
   "cell_type": "code",
   "execution_count": null,
   "metadata": {
    "collapsed": false
   },
   "outputs": [],
   "source": [
    "pred = pd.DataFrame(columns = ['actual','predicted','difference'])\n",
    "pred.actual = y_test\n",
    "pred.predicted = q1lpred\n",
    "pred.difference = diff\n",
    "pred.head(3)"
   ]
  },
  {
   "cell_type": "markdown",
   "metadata": {},
   "source": [
    "###Q1high"
   ]
  },
  {
   "cell_type": "code",
   "execution_count": null,
   "metadata": {
    "collapsed": false
   },
   "outputs": [],
   "source": [
    "X = xh\n",
    "y = yh\n",
    "X_train, X_test, y_train, y_test = cross_validation.train_test_split(X, y, test_size=testsize, random_state=0)\n",
    "Xn = xhn\n",
    "yn = yhn\n",
    "Xn_train, Xn_test, yn_train, yn_test = cross_validation.train_test_split(Xn, yn, test_size=testsize, random_state=0)"
   ]
  },
  {
   "cell_type": "code",
   "execution_count": null,
   "metadata": {
    "collapsed": false
   },
   "outputs": [],
   "source": [
    "print X.shape, X_train.shape, X_test.shape"
   ]
  },
  {
   "cell_type": "code",
   "execution_count": null,
   "metadata": {
    "collapsed": false
   },
   "outputs": [],
   "source": [
    "model = clf.fit(X_train, y_train)\n",
    "modeln = clf.fit(Xn_train, yn_train)"
   ]
  },
  {
   "cell_type": "code",
   "execution_count": null,
   "metadata": {
    "collapsed": true
   },
   "outputs": [],
   "source": [
    "q1hpred = model.predict(X_test)\n",
    "q1hpredn = model.predict(Xn_test)"
   ]
  },
  {
   "cell_type": "code",
   "execution_count": null,
   "metadata": {
    "collapsed": true
   },
   "outputs": [],
   "source": [
    "diff = (q1hpred - y_test)\n",
    "diffn = (q1hpredn - yn_test)"
   ]
  },
  {
   "cell_type": "code",
   "execution_count": null,
   "metadata": {
    "collapsed": false
   },
   "outputs": [],
   "source": [
    "print np.mean(abs(diff)), np.max(abs(diff))\n",
    "print np.mean(abs(diffn)), np.max(abs(diffn))"
   ]
  },
  {
   "cell_type": "markdown",
   "metadata": {},
   "source": [
    "###Q1range"
   ]
  },
  {
   "cell_type": "code",
   "execution_count": null,
   "metadata": {
    "collapsed": false
   },
   "outputs": [],
   "source": [
    "X = xr\n",
    "y = yr\n",
    "X_train, X_test, y_train, y_test = cross_validation.train_test_split(X, y, test_size=testsize, random_state=0)\n",
    "Xn = xrn\n",
    "yn = yrn\n",
    "Xn_train, Xn_test, yn_train, yn_test = cross_validation.train_test_split(Xn, yn, test_size=testsize, random_state=0)"
   ]
  },
  {
   "cell_type": "code",
   "execution_count": null,
   "metadata": {
    "collapsed": false
   },
   "outputs": [],
   "source": [
    "print X.shape, X_train.shape, X_test.shape"
   ]
  },
  {
   "cell_type": "code",
   "execution_count": null,
   "metadata": {
    "collapsed": false
   },
   "outputs": [],
   "source": [
    "model = clf.fit(X_train, y_train)\n",
    "modeln = clf.fit(Xn_train, yn_train)"
   ]
  },
  {
   "cell_type": "code",
   "execution_count": null,
   "metadata": {
    "collapsed": true
   },
   "outputs": [],
   "source": [
    "q1rpred = model.predict(X_test)\n",
    "q1rpredn = model.predict(Xn_test)"
   ]
  },
  {
   "cell_type": "code",
   "execution_count": null,
   "metadata": {
    "collapsed": true
   },
   "outputs": [],
   "source": [
    "diff = (q1rpred - y_test)\n",
    "diffn = (q1rpredn - yn_test)"
   ]
  },
  {
   "cell_type": "code",
   "execution_count": null,
   "metadata": {
    "collapsed": false
   },
   "outputs": [],
   "source": [
    "print np.mean(abs(diff)), np.max(abs(diff))\n",
    "print np.mean(abs(diffn)), np.max(abs(diffn))"
   ]
  },
  {
   "cell_type": "markdown",
   "metadata": {},
   "source": [
    "###Q1middle"
   ]
  },
  {
   "cell_type": "code",
   "execution_count": null,
   "metadata": {
    "collapsed": false
   },
   "outputs": [],
   "source": [
    "X = xm\n",
    "y = ym\n",
    "X_train, X_test, y_train, y_test = cross_validation.train_test_split(X, y, test_size=testsize, random_state=0)\n",
    "Xn = xmn\n",
    "yn = ymn\n",
    "Xn_train, Xn_test, yn_train, yn_test = cross_validation.train_test_split(Xn, yn, test_size=testsize, random_state=0)"
   ]
  },
  {
   "cell_type": "code",
   "execution_count": null,
   "metadata": {
    "collapsed": false
   },
   "outputs": [],
   "source": [
    "print X.shape, X_train.shape, X_test.shape"
   ]
  },
  {
   "cell_type": "code",
   "execution_count": null,
   "metadata": {
    "collapsed": false
   },
   "outputs": [],
   "source": [
    "model = clf.fit(X_train, y_train)\n",
    "modeln = clf.fit(Xn_train, yn_train)"
   ]
  },
  {
   "cell_type": "code",
   "execution_count": null,
   "metadata": {
    "collapsed": true
   },
   "outputs": [],
   "source": [
    "q1mpred = model.predict(X_test)\n",
    "q1mpredn = model.predict(Xn_test)"
   ]
  },
  {
   "cell_type": "code",
   "execution_count": null,
   "metadata": {
    "collapsed": true
   },
   "outputs": [],
   "source": [
    "diff = (q1mpred - y_test)\n",
    "diffn = (q1mpredn - yn_test)"
   ]
  },
  {
   "cell_type": "code",
   "execution_count": null,
   "metadata": {
    "collapsed": false
   },
   "outputs": [],
   "source": [
    "print np.mean(abs(diff)), np.max(abs(diff))\n",
    "print np.mean(abs(diffn)), np.max(abs(diffn))"
   ]
  },
  {
   "cell_type": "markdown",
   "metadata": {},
   "source": [
    "###Q1pos"
   ]
  },
  {
   "cell_type": "code",
   "execution_count": null,
   "metadata": {
    "collapsed": false
   },
   "outputs": [],
   "source": [
    "X = xp\n",
    "y = yp\n",
    "X_train, X_test, y_train, y_test = cross_validation.train_test_split(X, y, test_size=testsize, random_state=0)\n",
    "Xn = xpn\n",
    "yn = ypn\n",
    "Xn_train, Xn_test, yn_train, yn_test = cross_validation.train_test_split(Xn, yn, test_size=testsize, random_state=0)"
   ]
  },
  {
   "cell_type": "code",
   "execution_count": null,
   "metadata": {
    "collapsed": false
   },
   "outputs": [],
   "source": [
    "print X.shape, X_train.shape, X_test.shape"
   ]
  },
  {
   "cell_type": "code",
   "execution_count": null,
   "metadata": {
    "collapsed": false
   },
   "outputs": [],
   "source": [
    "model = clf.fit(X_train, y_train)\n",
    "modeln = clf.fit(Xn_train, yn_train)"
   ]
  },
  {
   "cell_type": "code",
   "execution_count": null,
   "metadata": {
    "collapsed": true
   },
   "outputs": [],
   "source": [
    "q1ppred = model.predict(X_test)\n",
    "q1ppredn = model.predict(Xn_test)"
   ]
  },
  {
   "cell_type": "code",
   "execution_count": null,
   "metadata": {
    "collapsed": true
   },
   "outputs": [],
   "source": [
    "diff = (q1ppred - y_test)\n",
    "diffn = (q1ppredn - yn_test)"
   ]
  },
  {
   "cell_type": "code",
   "execution_count": null,
   "metadata": {
    "collapsed": false
   },
   "outputs": [],
   "source": [
    "print np.mean(abs(diff)), np.max(abs(diff))\n",
    "print np.mean(abs(diffn)), np.max(abs(diffn))"
   ]
  },
  {
   "cell_type": "code",
   "execution_count": null,
   "metadata": {
    "collapsed": true
   },
   "outputs": [],
   "source": []
  }
 ],
 "metadata": {
  "kernelspec": {
   "display_name": "Python 2",
   "language": "python",
   "name": "python2"
  },
  "language_info": {
   "codemirror_mode": {
    "name": "ipython",
    "version": 2
   },
   "file_extension": ".py",
   "mimetype": "text/x-python",
   "name": "python",
   "nbconvert_exporter": "python",
   "pygments_lexer": "ipython2",
   "version": "2.7.9"
  }
 },
 "nbformat": 4,
 "nbformat_minor": 0
}
