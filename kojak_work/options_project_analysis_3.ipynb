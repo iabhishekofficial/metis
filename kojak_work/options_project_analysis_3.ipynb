{
 "cells": [
  {
   "cell_type": "code",
   "execution_count": 329,
   "metadata": {
    "collapsed": false
   },
   "outputs": [],
   "source": [
    "import csv\n",
    "import pandas as pd\n",
    "from pandas import *\n",
    "from __future__ import division\n",
    "from pandas.tseries.offsets import *\n",
    "import dateutil.rrule as dr\n",
    "import dateutil.parser as dp\n",
    "import dateutil.relativedelta as drel\n",
    "import numpy as np\n",
    "import matplotlib.pyplot as plt\n",
    "import statsmodels.api as sm"
   ]
  },
  {
   "cell_type": "code",
   "execution_count": 330,
   "metadata": {
    "collapsed": true
   },
   "outputs": [],
   "source": [
    "pd.options.mode.chained_assignment = None"
   ]
  },
  {
   "cell_type": "markdown",
   "metadata": {},
   "source": [
    "## Loading files"
   ]
  },
  {
   "cell_type": "code",
   "execution_count": 331,
   "metadata": {
    "collapsed": false
   },
   "outputs": [],
   "source": [
    "#spd = read_csv('http://real-chart.finance.yahoo.com/table.csv?s=%5EGSPC&a=00&b=1&c=1974&d=05&e=19&f=2015&g=d&ignore=.csv',\n",
    "#               delimiter=',', header=0, \n",
    "#               names=['date','o','h','l','close','vol','c'])\n",
    "#spw = read_csv('http://real-chart.finance.yahoo.com/table.csv?s=%5EGSPC&a=00&b=1&c=1974&d=05&e=19&f=2015&g=w&ignore=.csv',\n",
    "#               delimiter=',', header=0, \n",
    "#               names=['date','o','h','l','close','vol','c'])\n",
    "\n",
    "#http://real-chart.finance.yahoo.com/table.csv?s=DAL&a=04&b=3&c=2008&d=05&e=9&f=2015&g=d&ignore=.csv\n",
    "#http://real-chart.finance.yahoo.com/table.csv?s=%5EGSPC&a=00&b=1&c=1974&d=05&e=9&f=2015&g=d&ignore=.csv"
   ]
  },
  {
   "cell_type": "markdown",
   "metadata": {},
   "source": [
    "### Insert row for date = 2001-09-17 (missing in yahoo data) in spw after download (append + concat)"
   ]
  },
  {
   "cell_type": "code",
   "execution_count": 332,
   "metadata": {
    "collapsed": true
   },
   "outputs": [],
   "source": [
    "#spd.to_csv('spd.csv')\n",
    "#spw.to_csv('spw.csv')"
   ]
  },
  {
   "cell_type": "code",
   "execution_count": 333,
   "metadata": {
    "collapsed": true
   },
   "outputs": [],
   "source": [
    "spd = read_csv('spd.csv', delimiter=',', header=0, usecols=[1,2,3,4,5,6,7])\n",
    "spw = read_csv('spw.csv', delimiter=',', header=0, usecols=[1,2,3,4,5,6,7])"
   ]
  },
  {
   "cell_type": "code",
   "execution_count": 334,
   "metadata": {
    "collapsed": false
   },
   "outputs": [
    {
     "data": {
      "text/html": [
       "<div style=\"max-height:1000px;max-width:1500px;overflow:auto;\">\n",
       "<table border=\"1\" class=\"dataframe\">\n",
       "  <thead>\n",
       "    <tr style=\"text-align: right;\">\n",
       "      <th></th>\n",
       "      <th>date</th>\n",
       "      <th>o</th>\n",
       "      <th>h</th>\n",
       "      <th>l</th>\n",
       "      <th>close</th>\n",
       "      <th>vol</th>\n",
       "      <th>c</th>\n",
       "    </tr>\n",
       "  </thead>\n",
       "  <tbody>\n",
       "    <tr>\n",
       "      <th>715</th>\n",
       "      <td> 2001-10-01</td>\n",
       "      <td> 1040.939941</td>\n",
       "      <td> 1084.119995</td>\n",
       "      <td> 1026.760010</td>\n",
       "      <td> 1071.380005</td>\n",
       "      <td> 1405360000</td>\n",
       "      <td> 1071.380005</td>\n",
       "    </tr>\n",
       "    <tr>\n",
       "      <th>716</th>\n",
       "      <td> 2001-09-24</td>\n",
       "      <td>  965.799988</td>\n",
       "      <td> 1040.939941</td>\n",
       "      <td>  965.799988</td>\n",
       "      <td> 1040.939941</td>\n",
       "      <td> 1595600000</td>\n",
       "      <td> 1040.939941</td>\n",
       "    </tr>\n",
       "    <tr>\n",
       "      <th>717</th>\n",
       "      <td> 2001-09-17</td>\n",
       "      <td> 1092.540039</td>\n",
       "      <td> 1092.540039</td>\n",
       "      <td>  944.750000</td>\n",
       "      <td>  965.799988</td>\n",
       "      <td> 6182790000</td>\n",
       "      <td>  965.799988</td>\n",
       "    </tr>\n",
       "    <tr>\n",
       "      <th>718</th>\n",
       "      <td> 2001-09-10</td>\n",
       "      <td> 1085.780029</td>\n",
       "      <td> 1096.939941</td>\n",
       "      <td> 1073.150024</td>\n",
       "      <td> 1092.540039</td>\n",
       "      <td> 1276600000</td>\n",
       "      <td> 1092.540039</td>\n",
       "    </tr>\n",
       "  </tbody>\n",
       "</table>\n",
       "</div>"
      ],
      "text/plain": [
       "           date            o            h            l        close  \\\n",
       "715  2001-10-01  1040.939941  1084.119995  1026.760010  1071.380005   \n",
       "716  2001-09-24   965.799988  1040.939941   965.799988  1040.939941   \n",
       "717  2001-09-17  1092.540039  1092.540039   944.750000   965.799988   \n",
       "718  2001-09-10  1085.780029  1096.939941  1073.150024  1092.540039   \n",
       "\n",
       "            vol            c  \n",
       "715  1405360000  1071.380005  \n",
       "716  1595600000  1040.939941  \n",
       "717  6182790000   965.799988  \n",
       "718  1276600000  1092.540039  "
      ]
     },
     "execution_count": 334,
     "metadata": {},
     "output_type": "execute_result"
    }
   ],
   "source": [
    "spw.iloc[715:719]"
   ]
  },
  {
   "cell_type": "code",
   "execution_count": 335,
   "metadata": {
    "collapsed": true
   },
   "outputs": [],
   "source": [
    "#spd.rename(columns={'Unnamed: 0':'nrow'}, inplace=True)\n",
    "#spw.rename(columns={'Unnamed: 0':'nrow'}, inplace=True)"
   ]
  },
  {
   "cell_type": "code",
   "execution_count": 336,
   "metadata": {
    "collapsed": false
   },
   "outputs": [
    {
     "name": "stdout",
     "output_type": "stream",
     "text": [
      "<class 'pandas.tslib.Timestamp'> <class 'pandas.tslib.Timestamp'>\n"
     ]
    }
   ],
   "source": [
    "spd['date'] = pd.to_datetime(spd['date'])\n",
    "spw['date'] = pd.to_datetime(spw['date'])\n",
    "print type(spd.date[0]), type(spw.date[0])"
   ]
  },
  {
   "cell_type": "code",
   "execution_count": 337,
   "metadata": {
    "collapsed": false
   },
   "outputs": [
    {
     "data": {
      "text/html": [
       "<div style=\"max-height:1000px;max-width:1500px;overflow:auto;\">\n",
       "<table border=\"1\" class=\"dataframe\">\n",
       "  <thead>\n",
       "    <tr style=\"text-align: right;\">\n",
       "      <th></th>\n",
       "      <th>date</th>\n",
       "      <th>o</th>\n",
       "      <th>h</th>\n",
       "      <th>l</th>\n",
       "      <th>close</th>\n",
       "      <th>vol</th>\n",
       "      <th>c</th>\n",
       "    </tr>\n",
       "  </thead>\n",
       "  <tbody>\n",
       "    <tr>\n",
       "      <th>0</th>\n",
       "      <td>2015-06-19</td>\n",
       "      <td> 2121.060059</td>\n",
       "      <td> 2121.639893</td>\n",
       "      <td> 2109.449951</td>\n",
       "      <td> 2109.989990</td>\n",
       "      <td> 4449810000</td>\n",
       "      <td> 2109.989990</td>\n",
       "    </tr>\n",
       "    <tr>\n",
       "      <th>1</th>\n",
       "      <td>2015-06-18</td>\n",
       "      <td> 2101.580078</td>\n",
       "      <td> 2126.649902</td>\n",
       "      <td> 2101.580078</td>\n",
       "      <td> 2121.239990</td>\n",
       "      <td> 3520360000</td>\n",
       "      <td> 2121.239990</td>\n",
       "    </tr>\n",
       "    <tr>\n",
       "      <th>2</th>\n",
       "      <td>2015-06-17</td>\n",
       "      <td> 2097.399902</td>\n",
       "      <td> 2106.790039</td>\n",
       "      <td> 2088.860107</td>\n",
       "      <td> 2100.439941</td>\n",
       "      <td> 3222240000</td>\n",
       "      <td> 2100.439941</td>\n",
       "    </tr>\n",
       "  </tbody>\n",
       "</table>\n",
       "</div>"
      ],
      "text/plain": [
       "        date            o            h            l        close         vol  \\\n",
       "0 2015-06-19  2121.060059  2121.639893  2109.449951  2109.989990  4449810000   \n",
       "1 2015-06-18  2101.580078  2126.649902  2101.580078  2121.239990  3520360000   \n",
       "2 2015-06-17  2097.399902  2106.790039  2088.860107  2100.439941  3222240000   \n",
       "\n",
       "             c  \n",
       "0  2109.989990  \n",
       "1  2121.239990  \n",
       "2  2100.439941  "
      ]
     },
     "execution_count": 337,
     "metadata": {},
     "output_type": "execute_result"
    }
   ],
   "source": [
    "spd.head(3)"
   ]
  },
  {
   "cell_type": "code",
   "execution_count": 338,
   "metadata": {
    "collapsed": false
   },
   "outputs": [
    {
     "data": {
      "text/html": [
       "<div style=\"max-height:1000px;max-width:1500px;overflow:auto;\">\n",
       "<table border=\"1\" class=\"dataframe\">\n",
       "  <thead>\n",
       "    <tr style=\"text-align: right;\">\n",
       "      <th></th>\n",
       "      <th>date</th>\n",
       "      <th>o</th>\n",
       "      <th>h</th>\n",
       "      <th>l</th>\n",
       "      <th>close</th>\n",
       "      <th>vol</th>\n",
       "      <th>c</th>\n",
       "    </tr>\n",
       "  </thead>\n",
       "  <tbody>\n",
       "    <tr>\n",
       "      <th>10459</th>\n",
       "      <td>1974-01-04</td>\n",
       "      <td> 99.800003</td>\n",
       "      <td> 100.699997</td>\n",
       "      <td> 97.699997</td>\n",
       "      <td> 98.900002</td>\n",
       "      <td> 21700000</td>\n",
       "      <td> 98.900002</td>\n",
       "    </tr>\n",
       "    <tr>\n",
       "      <th>10460</th>\n",
       "      <td>1974-01-03</td>\n",
       "      <td> 98.019997</td>\n",
       "      <td> 100.940002</td>\n",
       "      <td> 98.019997</td>\n",
       "      <td> 99.800003</td>\n",
       "      <td> 24850000</td>\n",
       "      <td> 99.800003</td>\n",
       "    </tr>\n",
       "    <tr>\n",
       "      <th>10461</th>\n",
       "      <td>1974-01-02</td>\n",
       "      <td> 97.550003</td>\n",
       "      <td>  98.379997</td>\n",
       "      <td> 96.250000</td>\n",
       "      <td> 97.680000</td>\n",
       "      <td> 12060000</td>\n",
       "      <td> 97.680000</td>\n",
       "    </tr>\n",
       "  </tbody>\n",
       "</table>\n",
       "</div>"
      ],
      "text/plain": [
       "            date          o           h          l      close       vol  \\\n",
       "10459 1974-01-04  99.800003  100.699997  97.699997  98.900002  21700000   \n",
       "10460 1974-01-03  98.019997  100.940002  98.019997  99.800003  24850000   \n",
       "10461 1974-01-02  97.550003   98.379997  96.250000  97.680000  12060000   \n",
       "\n",
       "               c  \n",
       "10459  98.900002  \n",
       "10460  99.800003  \n",
       "10461  97.680000  "
      ]
     },
     "execution_count": 338,
     "metadata": {},
     "output_type": "execute_result"
    }
   ],
   "source": [
    "spd.tail(3)"
   ]
  },
  {
   "cell_type": "code",
   "execution_count": 339,
   "metadata": {
    "collapsed": false
   },
   "outputs": [
    {
     "data": {
      "text/html": [
       "<div style=\"max-height:1000px;max-width:1500px;overflow:auto;\">\n",
       "<table border=\"1\" class=\"dataframe\">\n",
       "  <thead>\n",
       "    <tr style=\"text-align: right;\">\n",
       "      <th></th>\n",
       "      <th>date</th>\n",
       "      <th>o</th>\n",
       "      <th>h</th>\n",
       "      <th>l</th>\n",
       "      <th>close</th>\n",
       "      <th>vol</th>\n",
       "      <th>c</th>\n",
       "    </tr>\n",
       "  </thead>\n",
       "  <tbody>\n",
       "    <tr>\n",
       "      <th>0</th>\n",
       "      <td>2015-06-15</td>\n",
       "      <td> 2091.340088</td>\n",
       "      <td> 2126.649902</td>\n",
       "      <td> 2072.489990</td>\n",
       "      <td> 2109.989990</td>\n",
       "      <td> 3434776000</td>\n",
       "      <td> 2109.989990</td>\n",
       "    </tr>\n",
       "    <tr>\n",
       "      <th>1</th>\n",
       "      <td>2015-06-08</td>\n",
       "      <td> 2092.340088</td>\n",
       "      <td> 2115.020020</td>\n",
       "      <td> 2072.139893</td>\n",
       "      <td> 2094.110107</td>\n",
       "      <td> 3042810000</td>\n",
       "      <td> 2094.110107</td>\n",
       "    </tr>\n",
       "    <tr>\n",
       "      <th>2</th>\n",
       "      <td>2015-06-01</td>\n",
       "      <td> 2108.639893</td>\n",
       "      <td> 2121.919922</td>\n",
       "      <td> 2085.669922</td>\n",
       "      <td> 2092.830078</td>\n",
       "      <td> 3120956000</td>\n",
       "      <td> 2092.830078</td>\n",
       "    </tr>\n",
       "  </tbody>\n",
       "</table>\n",
       "</div>"
      ],
      "text/plain": [
       "        date            o            h            l        close         vol  \\\n",
       "0 2015-06-15  2091.340088  2126.649902  2072.489990  2109.989990  3434776000   \n",
       "1 2015-06-08  2092.340088  2115.020020  2072.139893  2094.110107  3042810000   \n",
       "2 2015-06-01  2108.639893  2121.919922  2085.669922  2092.830078  3120956000   \n",
       "\n",
       "             c  \n",
       "0  2109.989990  \n",
       "1  2094.110107  \n",
       "2  2092.830078  "
      ]
     },
     "execution_count": 339,
     "metadata": {},
     "output_type": "execute_result"
    }
   ],
   "source": [
    "spw.head(3)"
   ]
  },
  {
   "cell_type": "code",
   "execution_count": 340,
   "metadata": {
    "collapsed": false
   },
   "outputs": [
    {
     "data": {
      "text/html": [
       "<div style=\"max-height:1000px;max-width:1500px;overflow:auto;\">\n",
       "<table border=\"1\" class=\"dataframe\">\n",
       "  <thead>\n",
       "    <tr style=\"text-align: right;\">\n",
       "      <th></th>\n",
       "      <th>date</th>\n",
       "      <th>o</th>\n",
       "      <th>h</th>\n",
       "      <th>l</th>\n",
       "      <th>close</th>\n",
       "      <th>vol</th>\n",
       "      <th>c</th>\n",
       "    </tr>\n",
       "  </thead>\n",
       "  <tbody>\n",
       "    <tr>\n",
       "      <th>2161</th>\n",
       "      <td>1974-01-14</td>\n",
       "      <td> 93.660004</td>\n",
       "      <td>  98.349998</td>\n",
       "      <td> 92.349998</td>\n",
       "      <td> 95.559998</td>\n",
       "      <td> 16060000</td>\n",
       "      <td> 95.559998</td>\n",
       "    </tr>\n",
       "    <tr>\n",
       "      <th>2162</th>\n",
       "      <td>1974-01-07</td>\n",
       "      <td> 98.900002</td>\n",
       "      <td>  99.309998</td>\n",
       "      <td> 91.620003</td>\n",
       "      <td> 93.660004</td>\n",
       "      <td> 17296000</td>\n",
       "      <td> 93.660004</td>\n",
       "    </tr>\n",
       "    <tr>\n",
       "      <th>2163</th>\n",
       "      <td>1974-01-02</td>\n",
       "      <td> 97.550003</td>\n",
       "      <td> 100.940002</td>\n",
       "      <td> 96.250000</td>\n",
       "      <td> 98.900002</td>\n",
       "      <td> 19536600</td>\n",
       "      <td> 98.900002</td>\n",
       "    </tr>\n",
       "  </tbody>\n",
       "</table>\n",
       "</div>"
      ],
      "text/plain": [
       "           date          o           h          l      close       vol  \\\n",
       "2161 1974-01-14  93.660004   98.349998  92.349998  95.559998  16060000   \n",
       "2162 1974-01-07  98.900002   99.309998  91.620003  93.660004  17296000   \n",
       "2163 1974-01-02  97.550003  100.940002  96.250000  98.900002  19536600   \n",
       "\n",
       "              c  \n",
       "2161  95.559998  \n",
       "2162  93.660004  \n",
       "2163  98.900002  "
      ]
     },
     "execution_count": 340,
     "metadata": {},
     "output_type": "execute_result"
    }
   ],
   "source": [
    "spw.tail(3)"
   ]
  },
  {
   "cell_type": "code",
   "execution_count": 341,
   "metadata": {
    "collapsed": false
   },
   "outputs": [
    {
     "data": {
      "text/plain": [
       "10462"
      ]
     },
     "execution_count": 341,
     "metadata": {},
     "output_type": "execute_result"
    }
   ],
   "source": [
    "len(spd)"
   ]
  },
  {
   "cell_type": "code",
   "execution_count": 342,
   "metadata": {
    "collapsed": false
   },
   "outputs": [
    {
     "data": {
      "text/plain": [
       "2164"
      ]
     },
     "execution_count": 342,
     "metadata": {},
     "output_type": "execute_result"
    }
   ],
   "source": [
    "len(spw)"
   ]
  },
  {
   "cell_type": "code",
   "execution_count": 343,
   "metadata": {
    "collapsed": false
   },
   "outputs": [],
   "source": [
    "#spd.date[spd.date == dp.parse(\"20/03/2008\")] = pd.to_datetime(dp.parse(\"21/03/2008\"))"
   ]
  },
  {
   "cell_type": "code",
   "execution_count": 344,
   "metadata": {
    "collapsed": false
   },
   "outputs": [],
   "source": [
    "#spd.date[spd.date == dp.parse(\"21/04/2011\")] = pd.to_datetime(dp.parse(\"22/04/2011\"))"
   ]
  },
  {
   "cell_type": "code",
   "execution_count": 345,
   "metadata": {
    "collapsed": false
   },
   "outputs": [],
   "source": [
    "#spd.date[spd.date == dp.parse(\"20/04/2000\")] = pd.to_datetime(dp.parse(\"21/04/2000\"))"
   ]
  },
  {
   "cell_type": "code",
   "execution_count": 346,
   "metadata": {
    "collapsed": true
   },
   "outputs": [],
   "source": [
    "#spd.date[spd.date == dp.parse(\"19/04/1984\")] = pd.to_datetime(dp.parse(\"20/04/1984\"))"
   ]
  },
  {
   "cell_type": "code",
   "execution_count": 347,
   "metadata": {
    "collapsed": true
   },
   "outputs": [],
   "source": [
    "#spd.date[spd.date == dp.parse(\"17/04/2014\")] = pd.to_datetime(dp.parse(\"18/04/2014\"))"
   ]
  },
  {
   "cell_type": "code",
   "execution_count": 348,
   "metadata": {
    "collapsed": true
   },
   "outputs": [],
   "source": [
    "#spd.date[spd.date == dp.parse(\"23/12/2010\")] = pd.to_datetime(dp.parse(\"24/12/2010\"))"
   ]
  },
  {
   "cell_type": "code",
   "execution_count": 349,
   "metadata": {
    "collapsed": false
   },
   "outputs": [],
   "source": [
    "for i in range(len(spw.date)):\n",
    "    spw.date[i] = spw.date[i] + DateOffset(weekday = 4)\n",
    "#    if spw.date[i] == dp.parse(\"21/03/2008\"):\n",
    "#        spw.date[i] = pd.to_datetime(dp.parse(\"20/03/2008\"))"
   ]
  },
  {
   "cell_type": "code",
   "execution_count": 350,
   "metadata": {
    "collapsed": false
   },
   "outputs": [
    {
     "data": {
      "text/html": [
       "<div style=\"max-height:1000px;max-width:1500px;overflow:auto;\">\n",
       "<table border=\"1\" class=\"dataframe\">\n",
       "  <thead>\n",
       "    <tr style=\"text-align: right;\">\n",
       "      <th></th>\n",
       "      <th>date</th>\n",
       "      <th>o</th>\n",
       "      <th>h</th>\n",
       "      <th>l</th>\n",
       "      <th>close</th>\n",
       "      <th>vol</th>\n",
       "      <th>c</th>\n",
       "    </tr>\n",
       "  </thead>\n",
       "  <tbody>\n",
       "    <tr>\n",
       "      <th>0</th>\n",
       "      <td>2015-06-19</td>\n",
       "      <td> 2091.340088</td>\n",
       "      <td> 2126.649902</td>\n",
       "      <td> 2072.489990</td>\n",
       "      <td> 2109.989990</td>\n",
       "      <td> 3434776000</td>\n",
       "      <td> 2109.989990</td>\n",
       "    </tr>\n",
       "    <tr>\n",
       "      <th>1</th>\n",
       "      <td>2015-06-12</td>\n",
       "      <td> 2092.340088</td>\n",
       "      <td> 2115.020020</td>\n",
       "      <td> 2072.139893</td>\n",
       "      <td> 2094.110107</td>\n",
       "      <td> 3042810000</td>\n",
       "      <td> 2094.110107</td>\n",
       "    </tr>\n",
       "    <tr>\n",
       "      <th>2</th>\n",
       "      <td>2015-06-05</td>\n",
       "      <td> 2108.639893</td>\n",
       "      <td> 2121.919922</td>\n",
       "      <td> 2085.669922</td>\n",
       "      <td> 2092.830078</td>\n",
       "      <td> 3120956000</td>\n",
       "      <td> 2092.830078</td>\n",
       "    </tr>\n",
       "  </tbody>\n",
       "</table>\n",
       "</div>"
      ],
      "text/plain": [
       "        date            o            h            l        close         vol  \\\n",
       "0 2015-06-19  2091.340088  2126.649902  2072.489990  2109.989990  3434776000   \n",
       "1 2015-06-12  2092.340088  2115.020020  2072.139893  2094.110107  3042810000   \n",
       "2 2015-06-05  2108.639893  2121.919922  2085.669922  2092.830078  3120956000   \n",
       "\n",
       "             c  \n",
       "0  2109.989990  \n",
       "1  2094.110107  \n",
       "2  2092.830078  "
      ]
     },
     "execution_count": 350,
     "metadata": {},
     "output_type": "execute_result"
    }
   ],
   "source": [
    "spw.head(3)"
   ]
  },
  {
   "cell_type": "code",
   "execution_count": 351,
   "metadata": {
    "collapsed": false
   },
   "outputs": [
    {
     "data": {
      "text/html": [
       "<div style=\"max-height:1000px;max-width:1500px;overflow:auto;\">\n",
       "<table border=\"1\" class=\"dataframe\">\n",
       "  <thead>\n",
       "    <tr style=\"text-align: right;\">\n",
       "      <th></th>\n",
       "      <th>date</th>\n",
       "      <th>o</th>\n",
       "      <th>h</th>\n",
       "      <th>l</th>\n",
       "      <th>close</th>\n",
       "      <th>vol</th>\n",
       "      <th>c</th>\n",
       "    </tr>\n",
       "  </thead>\n",
       "  <tbody>\n",
       "    <tr>\n",
       "      <th>2161</th>\n",
       "      <td>1974-01-18</td>\n",
       "      <td> 93.660004</td>\n",
       "      <td>  98.349998</td>\n",
       "      <td> 92.349998</td>\n",
       "      <td> 95.559998</td>\n",
       "      <td> 16060000</td>\n",
       "      <td> 95.559998</td>\n",
       "    </tr>\n",
       "    <tr>\n",
       "      <th>2162</th>\n",
       "      <td>1974-01-11</td>\n",
       "      <td> 98.900002</td>\n",
       "      <td>  99.309998</td>\n",
       "      <td> 91.620003</td>\n",
       "      <td> 93.660004</td>\n",
       "      <td> 17296000</td>\n",
       "      <td> 93.660004</td>\n",
       "    </tr>\n",
       "    <tr>\n",
       "      <th>2163</th>\n",
       "      <td>1974-01-04</td>\n",
       "      <td> 97.550003</td>\n",
       "      <td> 100.940002</td>\n",
       "      <td> 96.250000</td>\n",
       "      <td> 98.900002</td>\n",
       "      <td> 19536600</td>\n",
       "      <td> 98.900002</td>\n",
       "    </tr>\n",
       "  </tbody>\n",
       "</table>\n",
       "</div>"
      ],
      "text/plain": [
       "           date          o           h          l      close       vol  \\\n",
       "2161 1974-01-18  93.660004   98.349998  92.349998  95.559998  16060000   \n",
       "2162 1974-01-11  98.900002   99.309998  91.620003  93.660004  17296000   \n",
       "2163 1974-01-04  97.550003  100.940002  96.250000  98.900002  19536600   \n",
       "\n",
       "              c  \n",
       "2161  95.559998  \n",
       "2162  93.660004  \n",
       "2163  98.900002  "
      ]
     },
     "execution_count": 351,
     "metadata": {},
     "output_type": "execute_result"
    }
   ],
   "source": [
    "spw.tail(3)"
   ]
  },
  {
   "cell_type": "markdown",
   "metadata": {},
   "source": [
    "## Moving Averages"
   ]
  },
  {
   "cell_type": "code",
   "execution_count": 352,
   "metadata": {
    "collapsed": false
   },
   "outputs": [
    {
     "data": {
      "text/plain": [
       "75.564843718750026"
      ]
     },
     "execution_count": 352,
     "metadata": {},
     "output_type": "execute_result"
    }
   ],
   "source": [
    "d12 = []\n",
    "d24 = []\n",
    "d48 = []\n",
    "d72 = []\n",
    "d96 = []\n",
    "d192 = []\n",
    "d288 = []\n",
    "for i in range(len(spd)-288):\n",
    "    d12.append(sum(spd.c[i:(i+12)])/12)\n",
    "    d24.append(sum(spd.c[i:(i+24)])/24)\n",
    "    d48.append(sum(spd.c[i:(i+48)])/48)\n",
    "    d72.append(sum(spd.c[i:(i+72)])/72)\n",
    "    d96.append(sum(spd.c[i:(i+96)])/96)\n",
    "    d192.append(sum(spd.c[i:(i+192)])/192)\n",
    "    d288.append(sum(spd.c[i:(i+288)])/288)\n",
    "    \n",
    "d192[-1]"
   ]
  },
  {
   "cell_type": "code",
   "execution_count": 353,
   "metadata": {
    "collapsed": false
   },
   "outputs": [
    {
     "data": {
      "text/plain": [
       "98.690937416666671"
      ]
     },
     "execution_count": 353,
     "metadata": {},
     "output_type": "execute_result"
    }
   ],
   "source": [
    "w12 = []\n",
    "w24 = []\n",
    "w48 = []\n",
    "w72 = []\n",
    "w96 = []\n",
    "w192 = []\n",
    "w288 = []\n",
    "for i in range(len(spw)-288):\n",
    "    w12.append(sum(spw.c[i:(i+12)])/12)\n",
    "    w24.append(sum(spw.c[i:(i+24)])/24)\n",
    "    w48.append(sum(spw.c[i:(i+48)])/48)\n",
    "    w72.append(sum(spw.c[i:(i+72)])/72)\n",
    "    w96.append(sum(spw.c[i:(i+96)])/96)\n",
    "    w192.append(sum(spw.c[i:(i+192)])/192)\n",
    "    w288.append(sum(spw.c[i:(i+288)])/288)\n",
    "    \n",
    "w192[-1]"
   ]
  },
  {
   "cell_type": "markdown",
   "metadata": {},
   "source": [
    "## Indicators"
   ]
  },
  {
   "cell_type": "code",
   "execution_count": 354,
   "metadata": {
    "collapsed": false
   },
   "outputs": [],
   "source": [
    "ltd = []\n",
    "for i in range(len(spd)-288):\n",
    "    t12 = ((spd.c[i]/(sum(spd.c[(i+6):(i+12)])/6)-1)*100)\n",
    "    t24 = ((spd.c[i]/(sum(spd.c[(i+18):(i+24)])/6)-1)*100)\n",
    "    t48 = ((spd.c[i]/(sum(spd.c[(i+42):(i+48)])/6)-1)*100)\n",
    "    t72 = ((spd.c[i]/(sum(spd.c[(i+66):(i+72)])/6)-1)*100)\n",
    "    t96 = ((spd.c[i]/(sum(spd.c[(i+90):(i+96)])/6)-1)*100)\n",
    "    t192 = ((spd.c[i]/(sum(spd.c[(i+186):(i+192)])/6)-1)*100)\n",
    "    t288 = ((spd.c[i]/(sum(spd.c[(i+282):(i+288)])/6)-1)*100)\n",
    "    ltd.append((t12+t24+t48+t72+t96+t192+t288)/7)\n",
    "ltd.extend([0]*288)"
   ]
  },
  {
   "cell_type": "code",
   "execution_count": 355,
   "metadata": {
    "collapsed": true
   },
   "outputs": [],
   "source": [
    "ltw = []\n",
    "for i in range(len(spw)-288):\n",
    "    t12 = ((spw.c[i]/(sum(spw.c[(i+6):(i+12)])/6)-1)*100)\n",
    "    t24 = ((spw.c[i]/(sum(spw.c[(i+18):(i+24)])/6)-1)*100)\n",
    "    t48 = ((spw.c[i]/(sum(spw.c[(i+42):(i+48)])/6)-1)*100)\n",
    "    t72 = ((spw.c[i]/(sum(spw.c[(i+66):(i+72)])/6)-1)*100)\n",
    "    t96 = ((spw.c[i]/(sum(spw.c[(i+90):(i+96)])/6)-1)*100)\n",
    "    t192 = ((spw.c[i]/(sum(spw.c[(i+186):(i+192)])/6)-1)*100)\n",
    "    t288 = ((spw.c[i]/(sum(spw.c[(i+282):(i+288)])/6)-1)*100)\n",
    "    ltw.append((t12+t24+t48+t72+t96+t192+t288)/7)\n",
    "ltw.extend([0]*288)"
   ]
  },
  {
   "cell_type": "code",
   "execution_count": 356,
   "metadata": {
    "collapsed": false
   },
   "outputs": [
    {
     "name": "stdout",
     "output_type": "stream",
     "text": [
      "23.3328697298 -35.6366112059 71.7672905826 -41.5810392106\n"
     ]
    }
   ],
   "source": [
    "print max(ltd), min(ltd), max(ltw), min (ltw)"
   ]
  },
  {
   "cell_type": "code",
   "execution_count": 357,
   "metadata": {
    "collapsed": false
   },
   "outputs": [
    {
     "name": "stdout",
     "output_type": "stream",
     "text": [
      "8099 1654 883 328\n"
     ]
    }
   ],
   "source": [
    "print ltd.index(max(ltd)), ltd.index(min(ltd)), ltw.index(max(ltw)), ltw.index(min(ltw))"
   ]
  },
  {
   "cell_type": "code",
   "execution_count": 358,
   "metadata": {
    "collapsed": false
   },
   "outputs": [],
   "source": [
    "lc288d = []\n",
    "lc72d = []\n",
    "for i in range(len(spd)-288):\n",
    "    min12 = ((spd.c[i]/min(spd.c[(i+6):(i+12)]))-1)*100\n",
    "    max12 = ((spd.c[i]/max(spd.c[(i+6):(i+12)]))-1)*100\n",
    "    min24 = ((spd.c[i]/min(spd.c[(i+18):(i+24)]))-1)*100\n",
    "    max24 = ((spd.c[i]/max(spd.c[(i+18):(i+24)]))-1)*100\n",
    "    min48 = ((spd.c[i]/min(spd.c[(i+42):(i+48)]))-1)*100\n",
    "    max48 = ((spd.c[i]/max(spd.c[(i+42):(i+48)]))-1)*100\n",
    "    min72 = ((spd.c[i]/min(spd.c[(i+66):(i+72)]))-1)*100\n",
    "    max72 = ((spd.c[i]/max(spd.c[(i+66):(i+72)]))-1)*100\n",
    "    min96 = ((spd.c[i]/min(spd.c[(i+90):(i+96)]))-1)*100\n",
    "    max96 = ((spd.c[i]/max(spd.c[(i+90):(i+96)]))-1)*100\n",
    "    min192 = ((spd.c[i]/min(spd.c[(i+186):(i+192)]))-1)*100\n",
    "    max192 = ((spd.c[i]/max(spd.c[(i+186):(i+192)]))-1)*100\n",
    "    min288 = ((spd.c[i]/min(spd.c[(i+282):(i+288)]))-1)*100\n",
    "    max288 = ((spd.c[i]/max(spd.c[(i+282):(i+288)]))-1)*100\n",
    "    \n",
    "    clong288 = 0\n",
    "    clong72 = 0\n",
    "    cshort288 = 0\n",
    "    cshort72 = 0\n",
    "    \n",
    "    contatl = 0\n",
    "    if spd.c[i] < sum(spd.c[i:i+12])/12:\n",
    "        contatl += 1\n",
    "    if spd.c[i] > spd.c[i+12]:\n",
    "        contatl += 1\n",
    "    if max12 > 0:\n",
    "        contatl += 1\n",
    "    contats = 0\n",
    "    if spd.c[i] > sum(spd.c[i:i+12])/12:\n",
    "        contats -= 1\n",
    "    if spd.c[i] < spd.c[i+12]:\n",
    "        contats -= 1\n",
    "    if min12 < 0:\n",
    "        contats -= 1\n",
    "    if contatl == 3 or contats == -3:\n",
    "        c12 = (((sum(spd.c[i:(i+12)])/12)/spd.c[i])-1)*100\n",
    "    else:\n",
    "        c12 = 0\n",
    "    if contatl == 3:\n",
    "        clong288 += 1\n",
    "        clong72 += 1\n",
    "    if contats == -3:\n",
    "        cshort288 += 1\n",
    "        cshort72 += 1\n",
    "        \n",
    "    contatl = 0\n",
    "    if spd.c[i] < sum(spd.c[i:i+24])/24:\n",
    "        contatl +=1\n",
    "    if spd.c[i] > spd.c[i+24]:\n",
    "        contatl +=1\n",
    "    if max24 > 0:\n",
    "        contatl +=1\n",
    "    contats = 0\n",
    "    if spd.c[i] > sum(spd.c[i:i+24])/24:\n",
    "        contats -=1\n",
    "    if spd.c[i] < spd.c[i+24]:\n",
    "        contats -=1\n",
    "    if min24 < 0:\n",
    "        contats -=1\n",
    "    if contatl == 3 or contats == -3:\n",
    "        c24 = (((sum(spd.c[i:(i+24)])/24)/spd.c[i])-1)*100\n",
    "    else:\n",
    "        c24 = 0\n",
    "    if contatl == 3:\n",
    "        clong288 +=1\n",
    "        clong72 +=1\n",
    "    if contats == -3:\n",
    "        cshort288 +=1\n",
    "        cshort72 +=1\n",
    "        \n",
    "    contatl = 0\n",
    "    if spd.c[i] < sum(spd.c[i:i+48])/48:\n",
    "        contatl +=1\n",
    "    if spd.c[i] > spd.c[i+48]:\n",
    "        contatl +=1\n",
    "    if max48 > 0:\n",
    "        contatl +=1\n",
    "    contats = 0\n",
    "    if spd.c[i] > sum(spd.c[i:i+48])/48:\n",
    "        contats -=1\n",
    "    if spd.c[i] < spd.c[i+48]:\n",
    "        contats -=1\n",
    "    if min48 < 0:\n",
    "        contats -=1\n",
    "    if contatl == 3 or contats == -3:\n",
    "        c48 = (((sum(spd.c[i:(i+48)])/48)/spd.c[i])-1)*100\n",
    "    else:\n",
    "        c48 = 0    \n",
    "    if contatl == 3:\n",
    "        clong288 +=1\n",
    "        clong72 +=1\n",
    "    if contats == -3:\n",
    "        cshort288 +=1\n",
    "        cshort72 +=1\n",
    "    \n",
    "    contatl = 0\n",
    "    if spd.c[i] < sum(spd.c[i:i+72])/72:\n",
    "        contatl +=1\n",
    "    if spd.c[i] > spd.c[i+72]:\n",
    "        contatl +=1\n",
    "    if max72 > 0:\n",
    "        contatl +=1\n",
    "    contats = 0\n",
    "    if spd.c[i] > sum(spd.c[i:i+72])/72:\n",
    "        contats -=1\n",
    "    if spd.c[i] < spd.c[i+72]:\n",
    "        contats -=1\n",
    "    if min72 < 0:\n",
    "        contats -=1\n",
    "    if contatl == 3 or contats == -3:\n",
    "        c72 = (((sum(spd.c[i:(i+72)])/72)/spd.c[i])-1)*100\n",
    "    else:\n",
    "        c72 = 0  \n",
    "    if contatl == 3:\n",
    "        clong288 +=1\n",
    "        clong72 +=1\n",
    "    if contats == -3:\n",
    "        cshort288 +=1\n",
    "        cshort72 +=1\n",
    "    \n",
    "    contatl = 0\n",
    "    if spd.c[i] < sum(spd.c[i:i+96])/96:\n",
    "        contatl +=1\n",
    "    if spd.c[i] > spd.c[i+96]:\n",
    "        contatl +=1\n",
    "    if max96 > 0:\n",
    "        contatl +=1\n",
    "    contats = 0\n",
    "    if spd.c[i] > sum(spd.c[i:i+96])/96:\n",
    "        contats -=1\n",
    "    if spd.c[i] < spd.c[i+96]:\n",
    "        contats -=1\n",
    "    if min96 < 0:\n",
    "        contats -=1\n",
    "    if contatl == 3 or contats == -3:\n",
    "        c96 = (((sum(spd.c[i:(i+96)])/96)/spd.c[i])-1)*100\n",
    "    else:\n",
    "        c96 = 0\n",
    "    if contatl == 3:\n",
    "        clong288 +=1\n",
    "    if contats == -3:\n",
    "        cshort288 +=1\n",
    "        \n",
    "    contatl = 0\n",
    "    if spd.c[i] < sum(spd.c[i:i+192])/192:\n",
    "        contatl +=1\n",
    "    if spd.c[i] > spd.c[i+192]:\n",
    "        contatl +=1\n",
    "    if max192 > 0:\n",
    "        contatl +=1\n",
    "    contats = 0\n",
    "    if spd.c[i] > sum(spd.c[i:i+192])/192:\n",
    "        contats -=1\n",
    "    if spd.c[i] < spd.c[i+192]:\n",
    "        contats -=1\n",
    "    if min192 < 0:\n",
    "        contats -=1\n",
    "    if contatl == 3 or contats == -3:\n",
    "        c192 = (((sum(spd.c[i:(i+192)])/192)/spd.c[i])-1)*100\n",
    "    else:\n",
    "        c192 = 0      \n",
    "    if contatl == 3:\n",
    "        clong288 +=1\n",
    "    if contats == -3:\n",
    "        cshort288 +=1\n",
    "        \n",
    "    contatl = 0\n",
    "    if spd.c[i] < sum(spd.c[i:i+288])/288:\n",
    "        contatl +=1\n",
    "    if spd.c[i] > spd.c[i+288]:\n",
    "        contatl +=1\n",
    "    if max288 > 0:\n",
    "        contatl +=1\n",
    "    contats = 0\n",
    "    if spd.c[i] > sum(spd.c[i:i+288])/288:\n",
    "        contats -=1\n",
    "    if spd.c[i] < spd.c[i+288]:\n",
    "        contats -=1\n",
    "    if min288 < 0:\n",
    "        contats -=1\n",
    "    if contatl == 3 or contats == -3:\n",
    "        c288 = (((sum(spd.c[i:(i+288)])/288)/spd.c[i])-1)*100\n",
    "    else:\n",
    "        c288 = 0\n",
    "    if contatl == 3:\n",
    "        clong288 +=1\n",
    "    if contats == -3:\n",
    "        cshort288 += 1\n",
    "\n",
    "    if (clong288 + cshort288) > 0:\n",
    "        ctot288 = (clong288 + cshort288)\n",
    "    else:\n",
    "        ctot288 = 1\n",
    "    lc288d.append((c12+c24+c48+c72+c96+c192+c288)/ctot288)\n",
    "    \n",
    "    if (clong72 + cshort72) > 0:\n",
    "        ctot72 = (clong72 + cshort72)\n",
    "    else:\n",
    "        ctot72 = 1\n",
    "    lc72d.append((c12+c24+c48+c72)/ctot72)\n",
    "lc288d.extend([0]*288)\n",
    "lc72d.extend([0]*288)"
   ]
  },
  {
   "cell_type": "code",
   "execution_count": 359,
   "metadata": {
    "collapsed": false
   },
   "outputs": [
    {
     "name": "stdout",
     "output_type": "stream",
     "text": [
      "17.8730823251 -15.6973020039 4.46218418268 -6.65612308983\n"
     ]
    }
   ],
   "source": [
    "print max(lc288d), min(lc288d), max(lc72d), min(lc72d)"
   ]
  },
  {
   "cell_type": "code",
   "execution_count": 360,
   "metadata": {
    "collapsed": false
   },
   "outputs": [
    {
     "name": "stdout",
     "output_type": "stream",
     "text": [
      "6958 1409 9246 1554\n"
     ]
    }
   ],
   "source": [
    "print lc288d.index(max(lc288d)), lc288d.index(min(lc288d)), lc72d.index(max(lc72d)), lc72d.index(min(lc72d))"
   ]
  },
  {
   "cell_type": "code",
   "execution_count": 361,
   "metadata": {
    "collapsed": false
   },
   "outputs": [
    {
     "name": "stdout",
     "output_type": "stream",
     "text": [
      "2008-12-05 00:00:00\n"
     ]
    }
   ],
   "source": [
    "print spd.date[1644]"
   ]
  },
  {
   "cell_type": "code",
   "execution_count": 362,
   "metadata": {
    "collapsed": false
   },
   "outputs": [
    {
     "name": "stdout",
     "output_type": "stream",
     "text": [
      "0.0 0.0\n"
     ]
    }
   ],
   "source": [
    "print lc288d[0], lc72d[0]"
   ]
  },
  {
   "cell_type": "code",
   "execution_count": 363,
   "metadata": {
    "collapsed": true
   },
   "outputs": [],
   "source": [
    "lc288w = []\n",
    "lc72w = []\n",
    "for i in range(len(spw)-288):\n",
    "    min12 = ((spw.c[i]/min(spw.c[(i+6):(i+12)]))-1)*100\n",
    "    max12 = ((spw.c[i]/max(spw.c[(i+6):(i+12)]))-1)*100\n",
    "    min24 = ((spw.c[i]/min(spw.c[(i+18):(i+24)]))-1)*100\n",
    "    max24 = ((spw.c[i]/max(spw.c[(i+18):(i+24)]))-1)*100\n",
    "    min48 = ((spw.c[i]/min(spw.c[(i+42):(i+48)]))-1)*100\n",
    "    max48 = ((spw.c[i]/max(spw.c[(i+42):(i+48)]))-1)*100\n",
    "    min72 = ((spw.c[i]/min(spw.c[(i+66):(i+72)]))-1)*100\n",
    "    max72 = ((spw.c[i]/max(spw.c[(i+66):(i+72)]))-1)*100\n",
    "    min96 = ((spw.c[i]/min(spw.c[(i+90):(i+96)]))-1)*100\n",
    "    max96 = ((spw.c[i]/max(spw.c[(i+90):(i+96)]))-1)*100\n",
    "    min192 = ((spw.c[i]/min(spw.c[(i+186):(i+192)]))-1)*100\n",
    "    max192 = ((spw.c[i]/max(spw.c[(i+186):(i+192)]))-1)*100\n",
    "    min288 = ((spw.c[i]/min(spw.c[(i+282):(i+288)]))-1)*100\n",
    "    max288 = ((spw.c[i]/max(spw.c[(i+282):(i+288)]))-1)*100\n",
    "    \n",
    "    clong288 = 0\n",
    "    clong72 = 0\n",
    "    cshort288 = 0\n",
    "    cshort72 = 0\n",
    "    \n",
    "    contatl = 0\n",
    "    if spw.c[i] < sum(spw.c[i:i+12])/12:\n",
    "        contatl += 1\n",
    "    if spw.c[i] > spw.c[i+12]:\n",
    "        contatl += 1\n",
    "    if max12 > 0:\n",
    "        contatl += 1\n",
    "    contats = 0\n",
    "    if spw.c[i] > sum(spw.c[i:i+12])/12:\n",
    "        contats -= 1\n",
    "    if spw.c[i] < spw.c[i+12]:\n",
    "        contats -= 1\n",
    "    if min12 < 0:\n",
    "        contats -= 1\n",
    "    if contatl == 3 or contats == -3:\n",
    "        c12 = (((sum(spw.c[i:(i+12)])/12)/spw.c[i])-1)*100\n",
    "    else:\n",
    "        c12 = 0\n",
    "    if contatl == 3:\n",
    "        clong288 += 1\n",
    "        clong72 += 1\n",
    "    if contats == -3:\n",
    "        cshort288 += 1\n",
    "        cshort72 += 1\n",
    "        \n",
    "    contatl = 0\n",
    "    if spw.c[i] < sum(spw.c[i:i+24])/24:\n",
    "        contatl +=1\n",
    "    if spw.c[i] > spw.c[i+24]:\n",
    "        contatl +=1\n",
    "    if max24 > 0:\n",
    "        contatl +=1\n",
    "    contats = 0\n",
    "    if spw.c[i] > sum(spw.c[i:i+24])/24:\n",
    "        contats -=1\n",
    "    if spw.c[i] < spw.c[i+24]:\n",
    "        contats -=1\n",
    "    if min24 < 0:\n",
    "        contats -=1\n",
    "    if contatl == 3 or contats == -3:\n",
    "        c24 = (((sum(spw.c[i:(i+24)])/24)/spw.c[i])-1)*100\n",
    "    else:\n",
    "        c24 = 0\n",
    "    if contatl == 3:\n",
    "        clong288 +=1\n",
    "        clong72 +=1\n",
    "    if contats == -3:\n",
    "        cshort288 +=1\n",
    "        cshort72 +=1\n",
    "        \n",
    "    contatl = 0\n",
    "    if spw.c[i] < sum(spw.c[i:i+48])/48:\n",
    "        contatl +=1\n",
    "    if spw.c[i] > spw.c[i+48]:\n",
    "        contatl +=1\n",
    "    if max48 > 0:\n",
    "        contatl +=1\n",
    "    contats = 0\n",
    "    if spw.c[i] > sum(spw.c[i:i+48])/48:\n",
    "        contats -=1\n",
    "    if spw.c[i] < spw.c[i+48]:\n",
    "        contats -=1\n",
    "    if min48 < 0:\n",
    "        contats -=1\n",
    "    if contatl == 3 or contats == -3:\n",
    "        c48 = (((sum(spw.c[i:(i+48)])/48)/spw.c[i])-1)*100\n",
    "    else:\n",
    "        c48 = 0    \n",
    "    if contatl == 3:\n",
    "        clong288 +=1\n",
    "        clong72 +=1\n",
    "    if contats == -3:\n",
    "        cshort288 +=1\n",
    "        cshort72 +=1\n",
    "    \n",
    "    contatl = 0\n",
    "    if spw.c[i] < sum(spw.c[i:i+72])/72:\n",
    "        contatl +=1\n",
    "    if spw.c[i] > spw.c[i+72]:\n",
    "        contatl +=1\n",
    "    if max72 > 0:\n",
    "        contatl +=1\n",
    "    contats = 0\n",
    "    if spw.c[i] > sum(spw.c[i:i+72])/72:\n",
    "        contats -=1\n",
    "    if spw.c[i] < spw.c[i+72]:\n",
    "        contats -=1\n",
    "    if min72 < 0:\n",
    "        contats -=1\n",
    "    if contatl == 3 or contats == -3:\n",
    "        c72 = (((sum(spw.c[i:(i+72)])/72)/spw.c[i])-1)*100\n",
    "    else:\n",
    "        c72 = 0  \n",
    "    if contatl == 3:\n",
    "        clong288 +=1\n",
    "        clong72 +=1\n",
    "    if contats == -3:\n",
    "        cshort288 +=1\n",
    "        cshort72 +=1\n",
    "    \n",
    "    contatl = 0\n",
    "    if spw.c[i] < sum(spw.c[i:i+96])/96:\n",
    "        contatl +=1\n",
    "    if spw.c[i] > spw.c[i+96]:\n",
    "        contatl +=1\n",
    "    if max96 > 0:\n",
    "        contatl +=1\n",
    "    contats = 0\n",
    "    if spw.c[i] > sum(spw.c[i:i+96])/96:\n",
    "        contats -=1\n",
    "    if spw.c[i] < spw.c[i+96]:\n",
    "        contats -=1\n",
    "    if min96 < 0:\n",
    "        contats -=1\n",
    "    if contatl == 3 or contats == -3:\n",
    "        c96 = (((sum(spw.c[i:(i+96)])/96)/spw.c[i])-1)*100\n",
    "    else:\n",
    "        c96 = 0\n",
    "    if contatl == 3:\n",
    "        clong288 +=1\n",
    "    if contats == -3:\n",
    "        cshort288 +=1\n",
    "        \n",
    "    contatl = 0\n",
    "    if spw.c[i] < sum(spw.c[i:i+192])/192:\n",
    "        contatl +=1\n",
    "    if spw.c[i] > spw.c[i+192]:\n",
    "        contatl +=1\n",
    "    if max192 > 0:\n",
    "        contatl +=1\n",
    "    contats = 0\n",
    "    if spw.c[i] > sum(spw.c[i:i+192])/192:\n",
    "        contats -=1\n",
    "    if spw.c[i] < spw.c[i+192]:\n",
    "        contats -=1\n",
    "    if min192 < 0:\n",
    "        contats -=1\n",
    "    if contatl == 3 or contats == -3:\n",
    "        c192 = (((sum(spw.c[i:(i+192)])/192)/spw.c[i])-1)*100\n",
    "    else:\n",
    "        c192 = 0      \n",
    "    if contatl == 3:\n",
    "        clong288 +=1\n",
    "    if contats == -3:\n",
    "        cshort288 +=1\n",
    "        \n",
    "    contatl = 0\n",
    "    if spw.c[i] < sum(spw.c[i:i+288])/288:\n",
    "        contatl +=1\n",
    "    if spw.c[i] > spw.c[i+288]:\n",
    "        contatl +=1\n",
    "    if max288 > 0:\n",
    "        contatl +=1\n",
    "    contats = 0\n",
    "    if spw.c[i] > sum(spw.c[i:i+288])/288:\n",
    "        contats -=1\n",
    "    if spw.c[i] < spw.c[i+288]:\n",
    "        contats -=1\n",
    "    if min288 < 0:\n",
    "        contats -=1\n",
    "    if contatl == 3 or contats == -3:\n",
    "        c288 = (((sum(spw.c[i:(i+288)])/288)/spw.c[i])-1)*100\n",
    "    else:\n",
    "        c288 = 0\n",
    "    if contatl == 3:\n",
    "        clong288 +=1\n",
    "    if contats == -3:\n",
    "        cshort288 += 1\n",
    "\n",
    "    if (clong288 + cshort288) > 0:\n",
    "        ctot288 = (clong288 + cshort288)\n",
    "    else:\n",
    "        ctot288 = 1\n",
    "    lc288w.append((c12+c24+c48+c72+c96+c192+c288)/ctot288)\n",
    "    \n",
    "    if (clong72 + cshort72) > 0:\n",
    "        ctot72 = (clong72 + cshort72)\n",
    "    else:\n",
    "        ctot72 = 1\n",
    "    lc72w.append((c12+c24+c48+c72)/ctot72)\n",
    "lc288w.extend([0]*288)\n",
    "lc72w.extend([0]*288)"
   ]
  },
  {
   "cell_type": "code",
   "execution_count": 364,
   "metadata": {
    "collapsed": false
   },
   "outputs": [
    {
     "name": "stdout",
     "output_type": "stream",
     "text": [
      "42.2414306189 -15.0945826014 9.81403381868 -13.8656712573\n"
     ]
    }
   ],
   "source": [
    "print max(lc288w), min(lc288w), max(lc72w), min(lc72w)"
   ]
  },
  {
   "cell_type": "code",
   "execution_count": 365,
   "metadata": {
    "collapsed": false
   },
   "outputs": [
    {
     "name": "stdout",
     "output_type": "stream",
     "text": [
      "664 216 1428 286\n"
     ]
    }
   ],
   "source": [
    "print lc288w.index(max(lc288w)), lc288w.index(min(lc288w)), lc72w.index(max(lc72w)), lc72w.index(min(lc72w))"
   ]
  },
  {
   "cell_type": "code",
   "execution_count": 366,
   "metadata": {
    "collapsed": false
   },
   "outputs": [
    {
     "name": "stdout",
     "output_type": "stream",
     "text": [
      "2011-05-13 00:00:00\n"
     ]
    }
   ],
   "source": [
    "print spw.date[214]"
   ]
  },
  {
   "cell_type": "code",
   "execution_count": 367,
   "metadata": {
    "collapsed": false
   },
   "outputs": [
    {
     "name": "stdout",
     "output_type": "stream",
     "text": [
      "0.0 0.0\n"
     ]
    }
   ],
   "source": [
    "print lc288w[0], lc72w[0]"
   ]
  },
  {
   "cell_type": "code",
   "execution_count": 368,
   "metadata": {
    "collapsed": true
   },
   "outputs": [],
   "source": [
    "ldd = []\n",
    "for i in range(len(spd)-288):\n",
    "    ld = (((d12[i]*12)+(d24[i]*24)+(d48[i]*48)+(d72[i]*72)+(d96[i]*96)+(d192[i]*192)+(d288[i]*288))/732)\n",
    "    ldd.append(((ld/spd.c[i])-1)*100)\n",
    "ldd.extend([0]*288)"
   ]
  },
  {
   "cell_type": "code",
   "execution_count": 369,
   "metadata": {
    "collapsed": false
   },
   "outputs": [
    {
     "name": "stdout",
     "output_type": "stream",
     "text": [
      "60.3588415804 -16.6628292676\n"
     ]
    }
   ],
   "source": [
    "print max(ldd), min(ldd)"
   ]
  },
  {
   "cell_type": "code",
   "execution_count": 370,
   "metadata": {
    "collapsed": false
   },
   "outputs": [
    {
     "name": "stdout",
     "output_type": "stream",
     "text": [
      "1654 8227\n"
     ]
    }
   ],
   "source": [
    "print ldd.index(max(ldd)), ldd.index(min(ldd))"
   ]
  },
  {
   "cell_type": "code",
   "execution_count": 371,
   "metadata": {
    "collapsed": false
   },
   "outputs": [
    {
     "name": "stdout",
     "output_type": "stream",
     "text": [
      "1982-11-17 00:00:00\n"
     ]
    }
   ],
   "source": [
    "print spd.date[8217]"
   ]
  },
  {
   "cell_type": "code",
   "execution_count": 372,
   "metadata": {
    "collapsed": false
   },
   "outputs": [
    {
     "name": "stdout",
     "output_type": "stream",
     "text": [
      "-2.61936157337\n"
     ]
    }
   ],
   "source": [
    "print ldd[0]"
   ]
  },
  {
   "cell_type": "code",
   "execution_count": 373,
   "metadata": {
    "collapsed": true
   },
   "outputs": [],
   "source": [
    "ldw = []\n",
    "for i in range(len(spw)-288):\n",
    "    ld = (((w12[i]*12)+(w24[i]*24)+(w48[i]*48)+(w72[i]*72)+(w96[i]*96)+(w192[i]*192)+(w288[i]*288))/732)\n",
    "    ldw.append(((ld/spw.c[i])-1)*100)\n",
    "ldw.extend([0]*288)"
   ]
  },
  {
   "cell_type": "code",
   "execution_count": 374,
   "metadata": {
    "collapsed": false
   },
   "outputs": [
    {
     "name": "stdout",
     "output_type": "stream",
     "text": [
      "79.734825175 -34.8467525679\n"
     ]
    }
   ],
   "source": [
    "print max(ldw), min(ldw)"
   ]
  },
  {
   "cell_type": "code",
   "execution_count": 375,
   "metadata": {
    "collapsed": false
   },
   "outputs": [
    {
     "name": "stdout",
     "output_type": "stream",
     "text": [
      "328 898\n"
     ]
    }
   ],
   "source": [
    "print ldw.index(max(ldw)), ldw.index(min(ldw))"
   ]
  },
  {
   "cell_type": "code",
   "execution_count": 376,
   "metadata": {
    "collapsed": false
   },
   "outputs": [
    {
     "name": "stdout",
     "output_type": "stream",
     "text": [
      "2009-03-20 00:00:00\n"
     ]
    }
   ],
   "source": [
    "print spw.date[326]"
   ]
  },
  {
   "cell_type": "code",
   "execution_count": 377,
   "metadata": {
    "collapsed": false
   },
   "outputs": [
    {
     "name": "stdout",
     "output_type": "stream",
     "text": [
      "-18.1499495896\n"
     ]
    }
   ],
   "source": [
    "print ldw[0]"
   ]
  },
  {
   "cell_type": "code",
   "execution_count": 378,
   "metadata": {
    "collapsed": true
   },
   "outputs": [],
   "source": [
    "lmd = []\n",
    "for i in range(len(spd)-288):\n",
    "    lm = 0\n",
    "    if spd.c[i] > d96[i] and spd.c[i] > d288[i]:\n",
    "        lm = 1\n",
    "    elif spd.c[i] < d96[i] and spd.c[i] < d288[i]:\n",
    "        lm = -1\n",
    "    lmd.append(lm)\n",
    "lmd.extend([0]*288)"
   ]
  },
  {
   "cell_type": "code",
   "execution_count": 379,
   "metadata": {
    "collapsed": false
   },
   "outputs": [
    {
     "name": "stdout",
     "output_type": "stream",
     "text": [
      "1 -1\n"
     ]
    }
   ],
   "source": [
    "print max(lmd), min(lmd)"
   ]
  },
  {
   "cell_type": "code",
   "execution_count": 380,
   "metadata": {
    "collapsed": false
   },
   "outputs": [
    {
     "name": "stdout",
     "output_type": "stream",
     "text": [
      "0.421047600841\n"
     ]
    }
   ],
   "source": [
    "print sum(lmd)/len(lmd)"
   ]
  },
  {
   "cell_type": "code",
   "execution_count": 381,
   "metadata": {
    "collapsed": false
   },
   "outputs": [
    {
     "name": "stdout",
     "output_type": "stream",
     "text": [
      "1\n"
     ]
    }
   ],
   "source": [
    "print lmd[0]"
   ]
  },
  {
   "cell_type": "code",
   "execution_count": 382,
   "metadata": {
    "collapsed": true
   },
   "outputs": [],
   "source": [
    "lmw = []\n",
    "for i in range(len(spw)-288):\n",
    "    lm = 0\n",
    "    if spw.c[i] > w96[i] and spw.c[i] > w288[i]:\n",
    "        lm = 1\n",
    "    elif spw.c[i] < w96[i] and spw.c[i] < w288[i]:\n",
    "        lm = -1\n",
    "    lmw.append(lm)    \n",
    "lmw.extend([0]*288)"
   ]
  },
  {
   "cell_type": "code",
   "execution_count": 383,
   "metadata": {
    "collapsed": false
   },
   "outputs": [
    {
     "name": "stdout",
     "output_type": "stream",
     "text": [
      "1 -1\n"
     ]
    }
   ],
   "source": [
    "print max(lmw), min(lmw)"
   ]
  },
  {
   "cell_type": "code",
   "execution_count": 384,
   "metadata": {
    "collapsed": false
   },
   "outputs": [
    {
     "name": "stdout",
     "output_type": "stream",
     "text": [
      "0.551756007394\n"
     ]
    }
   ],
   "source": [
    "print sum(lmw)/len(lmw)"
   ]
  },
  {
   "cell_type": "code",
   "execution_count": 385,
   "metadata": {
    "collapsed": false
   },
   "outputs": [
    {
     "name": "stdout",
     "output_type": "stream",
     "text": [
      "1\n"
     ]
    }
   ],
   "source": [
    "print lmw[0]"
   ]
  },
  {
   "cell_type": "code",
   "execution_count": 386,
   "metadata": {
    "collapsed": false
   },
   "outputs": [
    {
     "data": {
      "text/html": [
       "<div style=\"max-height:1000px;max-width:1500px;overflow:auto;\">\n",
       "<table border=\"1\" class=\"dataframe\">\n",
       "  <thead>\n",
       "    <tr style=\"text-align: right;\">\n",
       "      <th></th>\n",
       "      <th>date</th>\n",
       "      <th>o</th>\n",
       "      <th>h</th>\n",
       "      <th>l</th>\n",
       "      <th>close</th>\n",
       "      <th>vol</th>\n",
       "      <th>c</th>\n",
       "      <th>lixt</th>\n",
       "      <th>lixc72</th>\n",
       "      <th>lixc288</th>\n",
       "      <th>lixd</th>\n",
       "      <th>lixm</th>\n",
       "    </tr>\n",
       "  </thead>\n",
       "  <tbody>\n",
       "    <tr>\n",
       "      <th>0</th>\n",
       "      <td>2015-06-19</td>\n",
       "      <td> 2121.060059</td>\n",
       "      <td> 2121.639893</td>\n",
       "      <td> 2109.449951</td>\n",
       "      <td> 2109.989990</td>\n",
       "      <td> 4449810000</td>\n",
       "      <td> 2109.989990</td>\n",
       "      <td> 3.371532</td>\n",
       "      <td> 0</td>\n",
       "      <td> 0</td>\n",
       "      <td>-2.619362</td>\n",
       "      <td> 1</td>\n",
       "    </tr>\n",
       "    <tr>\n",
       "      <th>1</th>\n",
       "      <td>2015-06-18</td>\n",
       "      <td> 2101.580078</td>\n",
       "      <td> 2126.649902</td>\n",
       "      <td> 2101.580078</td>\n",
       "      <td> 2121.239990</td>\n",
       "      <td> 3520360000</td>\n",
       "      <td> 2121.239990</td>\n",
       "      <td> 3.950901</td>\n",
       "      <td> 0</td>\n",
       "      <td> 0</td>\n",
       "      <td>-3.166602</td>\n",
       "      <td> 1</td>\n",
       "    </tr>\n",
       "    <tr>\n",
       "      <th>2</th>\n",
       "      <td>2015-06-17</td>\n",
       "      <td> 2097.399902</td>\n",
       "      <td> 2106.790039</td>\n",
       "      <td> 2088.860107</td>\n",
       "      <td> 2100.439941</td>\n",
       "      <td> 3222240000</td>\n",
       "      <td> 2100.439941</td>\n",
       "      <td> 3.012487</td>\n",
       "      <td> 0</td>\n",
       "      <td> 0</td>\n",
       "      <td>-2.246367</td>\n",
       "      <td> 1</td>\n",
       "    </tr>\n",
       "  </tbody>\n",
       "</table>\n",
       "</div>"
      ],
      "text/plain": [
       "        date            o            h            l        close         vol  \\\n",
       "0 2015-06-19  2121.060059  2121.639893  2109.449951  2109.989990  4449810000   \n",
       "1 2015-06-18  2101.580078  2126.649902  2101.580078  2121.239990  3520360000   \n",
       "2 2015-06-17  2097.399902  2106.790039  2088.860107  2100.439941  3222240000   \n",
       "\n",
       "             c      lixt  lixc72  lixc288      lixd  lixm  \n",
       "0  2109.989990  3.371532       0        0 -2.619362     1  \n",
       "1  2121.239990  3.950901       0        0 -3.166602     1  \n",
       "2  2100.439941  3.012487       0        0 -2.246367     1  "
      ]
     },
     "execution_count": 386,
     "metadata": {},
     "output_type": "execute_result"
    }
   ],
   "source": [
    "spd['lixt'] = ltd\n",
    "spd['lixc72'] = lc72d\n",
    "spd['lixc288'] = lc288d\n",
    "spd['lixd'] = ldd\n",
    "spd['lixm'] = lmd\n",
    "spd.head(3)"
   ]
  },
  {
   "cell_type": "code",
   "execution_count": 387,
   "metadata": {
    "collapsed": false
   },
   "outputs": [
    {
     "data": {
      "text/html": [
       "<div style=\"max-height:1000px;max-width:1500px;overflow:auto;\">\n",
       "<table border=\"1\" class=\"dataframe\">\n",
       "  <thead>\n",
       "    <tr style=\"text-align: right;\">\n",
       "      <th></th>\n",
       "      <th>date</th>\n",
       "      <th>o</th>\n",
       "      <th>h</th>\n",
       "      <th>l</th>\n",
       "      <th>close</th>\n",
       "      <th>vol</th>\n",
       "      <th>c</th>\n",
       "      <th>lixt</th>\n",
       "      <th>lixc72</th>\n",
       "      <th>lixc288</th>\n",
       "      <th>lixd</th>\n",
       "      <th>lixm</th>\n",
       "    </tr>\n",
       "  </thead>\n",
       "  <tbody>\n",
       "    <tr>\n",
       "      <th>0</th>\n",
       "      <td>2015-06-19</td>\n",
       "      <td> 2091.340088</td>\n",
       "      <td> 2126.649902</td>\n",
       "      <td> 2072.489990</td>\n",
       "      <td> 2109.989990</td>\n",
       "      <td> 3434776000</td>\n",
       "      <td> 2109.989990</td>\n",
       "      <td> 30.155243</td>\n",
       "      <td> 0</td>\n",
       "      <td> 0</td>\n",
       "      <td>-18.149950</td>\n",
       "      <td> 1</td>\n",
       "    </tr>\n",
       "    <tr>\n",
       "      <th>1</th>\n",
       "      <td>2015-06-12</td>\n",
       "      <td> 2092.340088</td>\n",
       "      <td> 2115.020020</td>\n",
       "      <td> 2072.139893</td>\n",
       "      <td> 2094.110107</td>\n",
       "      <td> 3042810000</td>\n",
       "      <td> 2094.110107</td>\n",
       "      <td> 29.196579</td>\n",
       "      <td> 0</td>\n",
       "      <td> 0</td>\n",
       "      <td>-17.718657</td>\n",
       "      <td> 1</td>\n",
       "    </tr>\n",
       "    <tr>\n",
       "      <th>2</th>\n",
       "      <td>2015-06-05</td>\n",
       "      <td> 2108.639893</td>\n",
       "      <td> 2121.919922</td>\n",
       "      <td> 2085.669922</td>\n",
       "      <td> 2092.830078</td>\n",
       "      <td> 3120956000</td>\n",
       "      <td> 2092.830078</td>\n",
       "      <td> 29.583573</td>\n",
       "      <td> 0</td>\n",
       "      <td> 0</td>\n",
       "      <td>-17.847919</td>\n",
       "      <td> 1</td>\n",
       "    </tr>\n",
       "  </tbody>\n",
       "</table>\n",
       "</div>"
      ],
      "text/plain": [
       "        date            o            h            l        close         vol  \\\n",
       "0 2015-06-19  2091.340088  2126.649902  2072.489990  2109.989990  3434776000   \n",
       "1 2015-06-12  2092.340088  2115.020020  2072.139893  2094.110107  3042810000   \n",
       "2 2015-06-05  2108.639893  2121.919922  2085.669922  2092.830078  3120956000   \n",
       "\n",
       "             c       lixt  lixc72  lixc288       lixd  lixm  \n",
       "0  2109.989990  30.155243       0        0 -18.149950     1  \n",
       "1  2094.110107  29.196579       0        0 -17.718657     1  \n",
       "2  2092.830078  29.583573       0        0 -17.847919     1  "
      ]
     },
     "execution_count": 387,
     "metadata": {},
     "output_type": "execute_result"
    }
   ],
   "source": [
    "spw['lixt'] = ltw\n",
    "spw['lixc72'] = lc72w\n",
    "spw['lixc288'] = lc288w\n",
    "spw['lixd'] = ldw\n",
    "spw['lixm'] = lmw\n",
    "spw.head(3)"
   ]
  },
  {
   "cell_type": "markdown",
   "metadata": {},
   "source": [
    "## Building samples dataset (predict all months of the quarter)"
   ]
  },
  {
   "cell_type": "code",
   "execution_count": 388,
   "metadata": {
    "collapsed": false
   },
   "outputs": [
    {
     "data": {
      "text/plain": [
       "426"
      ]
     },
     "execution_count": 388,
     "metadata": {},
     "output_type": "execute_result"
    }
   ],
   "source": [
    "exp = []\n",
    "d = dp.parse(\"20/06/2015\")\n",
    "while d > dp.parse(\"17/01/1980\"):\n",
    "    d = d - WeekOfMonth(weekday = 4, week = 2)\n",
    "    exp.append(d)\n",
    "    d = d - DateOffset(days = 20)\n",
    "\n",
    "len(exp)"
   ]
  },
  {
   "cell_type": "code",
   "execution_count": 389,
   "metadata": {
    "collapsed": true
   },
   "outputs": [],
   "source": [
    "q1c = []\n",
    "q1cstd = []\n",
    "q1high = []\n",
    "q1low = []\n",
    "q1range = []\n",
    "q1middle = []\n",
    "q1pos = []\n",
    "q0c = []\n",
    "q0cstd = []\n",
    "q0high = []\n",
    "q0low = []\n",
    "q0spanmean = []\n",
    "q0spanstd = []\n",
    "q0lixt = []\n",
    "q0lixc72 = []\n",
    "q0lixc288 = []\n",
    "q0lixd = []\n",
    "q0lixm = []\n",
    "q0lixtv = []\n",
    "q0lixc72v = []\n",
    "q0lixc288v = []\n",
    "q0lixdv = []\n",
    "q0lixmv = []\n",
    "m0c = []\n",
    "m0cstd = []\n",
    "m0high = []\n",
    "m0low = []\n",
    "m0spanmean = []\n",
    "m0spanstd = []\n",
    "m0lixt = []\n",
    "m0lixc72 = []\n",
    "m0lixc288 = []\n",
    "m0lixd = []\n",
    "m0lixm = []\n",
    "m0lixtv = []\n",
    "m0lixc72v = []\n",
    "m0lixc288v = []\n",
    "m0lixdv = []\n",
    "m0lixmv = []"
   ]
  },
  {
   "cell_type": "code",
   "execution_count": 390,
   "metadata": {
    "collapsed": false
   },
   "outputs": [],
   "source": [
    "for q1end in exp:\n",
    "    \n",
    "    #q1start = q1end - DateOffset(weeks = 4) + DateOffset(days = 1) - BDay()\n",
    "    q1start = q1end - DateOffset(weeks = 4)\n",
    "    m0start = q1start - DateOffset(weeks = 4)\n",
    "    q0start = q1start - DateOffset(weeks = 13)\n",
    "    \n",
    "    q1startd = q1start\n",
    "    m0startd = m0start\n",
    "    q0startd = q0start\n",
    "    if spd.date[spd.date == q1startd].empty:\n",
    "        while spd.date[spd.date == q1startd].empty:\n",
    "            q1startd = q1startd - DateOffset(days = 1)\n",
    "    if spd.date[spd.date == m0startd].empty:\n",
    "        while spd.date[spd.date == m0startd].empty:\n",
    "            m0startd = m0startd - DateOffset(days = 1)\n",
    "    if spd.date[spd.date == q0startd].empty:\n",
    "        while spd.date[spd.date == q0startd].empty:\n",
    "            q0startd = q0startd - DateOffset(days = 1)\n",
    "            \n",
    "    q1indend = spw.index[spw.date == q1end]\n",
    "    \n",
    "    q1cstart = float(spw.c[q1indend + 4])\n",
    "    q1cend = float(spw.c[q1indend])    \n",
    "    q1cv = ((q1cend/q1cstart)-1)*100\n",
    "    q1c.append(q1cv)   \n",
    "    \n",
    "    q1clist = spd.c[(spd.date >= q1start) & (spd.date<= q1end)]\n",
    "    q1clist = q1clist.reset_index(drop=True)\n",
    "    q1cvars = []\n",
    "    for i in range(len(q1clist)):\n",
    "        if i < len(q1clist)-1:\n",
    "            q1cvars.append(((q1clist[i]/q1clist[i+1])-1)*100)\n",
    "    q1cstd.append(np.std(q1cvars))\n",
    "    \n",
    "    q1chigh = ((np.max(q1clist)/q1cstart)-1)*100\n",
    "    q1high.append(q1chigh)\n",
    "    \n",
    "    q1clow = ((np.min(q1clist)/q1cstart)-1)*100\n",
    "    q1low.append(q1clow)\n",
    "    \n",
    "    q1crange = q1chigh - q1clow\n",
    "    q1range.append(q1crange)\n",
    "    \n",
    "    q1cmiddle = q1chigh - (q1crange / 2)\n",
    "    q1middle.append(q1cmiddle)\n",
    "    \n",
    "    q1cpos = (((q1cv - q1clow)/q1crange)-0.5)*200\n",
    "    q1pos.append(q1cpos)\n",
    "    \n",
    "    q1indstart = spw.index[spw.date == q1start]\n",
    "    \n",
    "    q0cstart = float(spw.c[q1indstart + 13])\n",
    "    q0cend = float(spw.c[q1indstart])    \n",
    "    q0cv = ((q0cend/q0cstart)-1)*100\n",
    "    q0c.append(q0cv)\n",
    "    \n",
    "    q0clist = spd.c[(spd.date >= q0start) & (spd.date<= q1start)]\n",
    "    q0clist = q0clist.reset_index(drop=True)\n",
    "    q0cvars = []\n",
    "    for i in range(len(q0clist)):\n",
    "        if i < len(q0clist)-1:\n",
    "            q0cvars.append(((q0clist[i]/q0clist[i+1])-1)*100)\n",
    "    q0cstd.append(np.std(q0cvars))\n",
    "    \n",
    "    q0hlist = spd.h[(spd.date >= q0start) & (spd.date<= q1start)]\n",
    "    q0hlist = q0hlist.reset_index(drop=True)\n",
    "    q0hvars = []\n",
    "    for i in range(len(q0hlist)):\n",
    "        q0hvars.append(((q0hlist[i]/q0clist[i])-1)*100)\n",
    "    q0high.append(np.mean(q0hvars))\n",
    "    \n",
    "    q0llist = spd.l[(spd.date >= q0start) & (spd.date<= q1start)]\n",
    "    q0llist = q0llist.reset_index(drop=True)\n",
    "    q0lvars = []\n",
    "    for i in range(len(q0llist)):\n",
    "        q0lvars.append(((q0llist[i]/q0clist[i])-1)*100)\n",
    "    q0low.append(np.mean(q0lvars))\n",
    "    \n",
    "    q0svars = []\n",
    "    for i in range(len(q0llist)):\n",
    "        q0svars.append(((q0hlist[i]/q0llist[i])-1)*100)\n",
    "    q0spanmean.append(np.mean(q0svars))\n",
    "    q0spanstd.append(np.std(q0svars))\n",
    "\n",
    "    lixt1 = float((spw.lixt[spw.date == q1start]))\n",
    "    lixt0 = float((spw.lixt[spw.date == q0start]))\n",
    "    lixtm1 = float((spd.lixt[spd.date == q1startd]))\n",
    "    lixtm0 = float((spd.lixt[spd.date == m0startd]))\n",
    "    q0lixt.append(float(lixt1))\n",
    "    q0lixtv.append(float(lixt1 - lixt0))\n",
    "    m0lixt.append(float(lixtm1))\n",
    "    m0lixtv.append(float(lixtm1 - lixtm0))\n",
    "    \n",
    "    lixc721 = float((spw.lixc72[spw.date == q1start]))\n",
    "    lixc720 = float((spw.lixc72[spw.date == q0start]))\n",
    "    lixc72m1 = float((spd.lixc72[spd.date == q1startd]))\n",
    "    lixc72m0 = float((spd.lixc72[spd.date == m0startd]))\n",
    "    q0lixc72.append(float(lixc721))\n",
    "    q0lixc72v.append(float(lixc721 - lixc720))\n",
    "    m0lixc72.append(float(lixc72m1))\n",
    "    m0lixc72v.append(float(lixc72m1 - lixc72m0))\n",
    "    \n",
    "    lixc2881 = float((spw.lixc288[spw.date == q1start]))\n",
    "    lixc2880 = float((spw.lixc288[spw.date == q0start]))\n",
    "    lixc288m1 = float((spd.lixc288[spd.date == q1startd]))\n",
    "    lixc288m0 = float((spd.lixc288[spd.date == m0startd]))\n",
    "    q0lixc288.append(float(lixc2881))\n",
    "    q0lixc288v.append(float(lixc2881 - lixc2880))\n",
    "    m0lixc288.append(float(lixc288m1))\n",
    "    m0lixc288v.append(float(lixc288m1 - lixc288m0))\n",
    "    \n",
    "    lixd1 = float((spw.lixd[spw.date == q1start]))\n",
    "    lixd0 = float((spw.lixd[spw.date == q0start]))\n",
    "    lixdm1 = float((spd.lixd[spd.date == q1startd]))\n",
    "    lixdm0 = float((spd.lixd[spd.date == m0startd]))\n",
    "    q0lixd.append(float(lixd1))\n",
    "    q0lixdv.append(float(lixd1 - lixd0))\n",
    "    m0lixd.append(float(lixdm1))\n",
    "    m0lixdv.append(float(lixdm1 - lixdm0))\n",
    "    \n",
    "    lixm1 = float((spw.lixm[spw.date == q1start]))\n",
    "    lixm0 = float((spw.lixm[spw.date == q0start]))\n",
    "    lixmm1 = float((spd.lixm[spd.date == q1startd]))\n",
    "    lixmm0 = float((spd.lixm[spd.date == m0startd]))\n",
    "    q0lixm.append(float(lixm1))\n",
    "    q0lixmv.append(float(lixm1 - lixm0))\n",
    "    m0lixm.append(float(lixmm1))\n",
    "    m0lixmv.append(float(lixmm1 - lixmm0))\n",
    "    \n",
    "    q1indstart = spw.index[spw.date == q1start]\n",
    "    \n",
    "    m0cstart = float(spw.c[q1indstart + 4])\n",
    "    m0cend = q0cend  \n",
    "    m0cv = ((m0cend/m0cstart)-1)*100\n",
    "    m0c.append(float(m0cv))\n",
    "    \n",
    "    m0clist = spd.c[(spd.date >= m0start) & (spd.date<= q1start)]\n",
    "    m0clist = m0clist.reset_index(drop=True)\n",
    "    m0cvars = []\n",
    "    for i in range(len(m0clist)):\n",
    "        if i < len(m0clist)-1:\n",
    "            m0cvars.append(float(((m0clist[i]/m0clist[i+1])-1)*100))\n",
    "    m0cstd.append(float(np.std(m0cvars)))\n",
    "    \n",
    "    m0hlist = spd.h[(spd.date >= m0start) & (spd.date<= q1start)]\n",
    "    m0hlist = m0hlist.reset_index(drop=True)\n",
    "    m0hvars = []\n",
    "    for i in range(len(m0hlist)):\n",
    "        m0hvars.append(float(((m0hlist[i]/m0clist[i])-1)*100))\n",
    "    m0high.append(float(np.mean(m0hvars)))\n",
    "    \n",
    "    m0llist = spd.l[(spd.date >= m0start) & (spd.date<= q1start)]\n",
    "    m0llist = m0llist.reset_index(drop=True)\n",
    "    m0lvars = []\n",
    "    for i in range(len(m0llist)):\n",
    "        m0lvars.append(float(((m0llist[i]/m0clist[i])-1)*100))\n",
    "    m0low.append(float(np.mean(m0lvars)))\n",
    "    \n",
    "    m0svars = []\n",
    "    for i in range(len(m0llist)):\n",
    "        m0svars.append(float(((m0hlist[i]/m0llist[i])-1)*100))\n",
    "    m0spanmean.append(float(np.mean(m0svars)))\n",
    "    m0spanstd.append(float(np.std(m0svars)))"
   ]
  },
  {
   "cell_type": "code",
   "execution_count": 391,
   "metadata": {
    "collapsed": false
   },
   "outputs": [
    {
     "data": {
      "text/plain": [
       "Timestamp('1979-09-21 00:00:00')"
      ]
     },
     "execution_count": 391,
     "metadata": {},
     "output_type": "execute_result"
    }
   ],
   "source": [
    "q0start"
   ]
  },
  {
   "cell_type": "code",
   "execution_count": 392,
   "metadata": {
    "collapsed": true
   },
   "outputs": [],
   "source": [
    "data = pd.DataFrame(index = exp, columns = ['q1c','q1cstd','q1high','q1low','q1range','q1middle','q1pos','q0c',\n",
    "                                            'q0cstd','q0high','q0low','q0spanmean','q0spanstd','q0lixt','q0lixc72',\n",
    "                                            'q0lixc288','q0lixd','q0lixm','q0lixtv','q0lixc72v','q0lixc288v',\n",
    "                                            'q0lixdv','q0lixmv','m0c','m0cstd','m0high','m0low','m0spanmean',\n",
    "                                            'm0spanstd','m0lixt','m0lixc72','m0lixc288','m0lixd','m0lixm','m0lixtv',\n",
    "                                            'm0lixc72v','m0lixc288v','m0lixdv','m0lixmv'])"
   ]
  },
  {
   "cell_type": "code",
   "execution_count": 393,
   "metadata": {
    "collapsed": false
   },
   "outputs": [],
   "source": [
    "data.q1c = q1c\n",
    "data.q1cstd = q1cstd\n",
    "data.q1high = q1high\n",
    "data.q1low = q1low\n",
    "data.q1range = q1range\n",
    "data.q1middle = q1middle\n",
    "data.q1pos = q1pos\n",
    "data.q0c = q0c\n",
    "data.q0cstd = q0cstd\n",
    "data.q0high = q0high\n",
    "data.q0low = q0low\n",
    "data.q0spanmean = q0spanmean\n",
    "data.q0spanstd = q0spanstd\n",
    "data.q0lixt = q0lixt\n",
    "data.q0lixc72 = q0lixc72\n",
    "data.q0lixc288 = q0lixc288\n",
    "data.q0lixd = q0lixd\n",
    "data.q0lixm = q0lixm\n",
    "data.q0lixtv = q0lixtv\n",
    "data.q0lixc72v = q0lixc72v\n",
    "data.q0lixc288v = q0lixc288v\n",
    "data.q0lixdv = q0lixdv\n",
    "data.q0lixmv = q0lixmv\n",
    "data.m0c = m0c\n",
    "data.m0cstd = m0cstd\n",
    "data.m0high = m0high\n",
    "data.m0low = m0low\n",
    "data.m0spanmean = m0spanmean\n",
    "data.m0spanstd = m0spanstd\n",
    "data.m0lixt = m0lixt\n",
    "data.m0lixc72 = m0lixc72\n",
    "data.m0lixc288 = m0lixc288\n",
    "data.m0lixd = m0lixd\n",
    "data.m0lixm = m0lixm\n",
    "data.m0lixtv = m0lixtv\n",
    "data.m0lixc72v = m0lixc72v\n",
    "data.m0lixc288v = m0lixc288v\n",
    "data.m0lixdv = m0lixdv\n",
    "data.m0lixmv = m0lixmv"
   ]
  },
  {
   "cell_type": "code",
   "execution_count": 394,
   "metadata": {
    "collapsed": false
   },
   "outputs": [
    {
     "data": {
      "text/plain": [
       "426"
      ]
     },
     "execution_count": 394,
     "metadata": {},
     "output_type": "execute_result"
    }
   ],
   "source": [
    "len(data)"
   ]
  },
  {
   "cell_type": "code",
   "execution_count": 395,
   "metadata": {
    "collapsed": false
   },
   "outputs": [
    {
     "data": {
      "text/html": [
       "<div style=\"max-height:1000px;max-width:1500px;overflow:auto;\">\n",
       "<table border=\"1\" class=\"dataframe\">\n",
       "  <thead>\n",
       "    <tr style=\"text-align: right;\">\n",
       "      <th></th>\n",
       "      <th>q1c</th>\n",
       "      <th>q1cstd</th>\n",
       "      <th>q1high</th>\n",
       "      <th>q1low</th>\n",
       "      <th>q1range</th>\n",
       "      <th>q1middle</th>\n",
       "      <th>q1pos</th>\n",
       "      <th>q0c</th>\n",
       "      <th>q0cstd</th>\n",
       "      <th>q0high</th>\n",
       "      <th>...</th>\n",
       "      <th>m0lixt</th>\n",
       "      <th>m0lixc72</th>\n",
       "      <th>m0lixc288</th>\n",
       "      <th>m0lixd</th>\n",
       "      <th>m0lixm</th>\n",
       "      <th>m0lixtv</th>\n",
       "      <th>m0lixc72v</th>\n",
       "      <th>m0lixc288v</th>\n",
       "      <th>m0lixdv</th>\n",
       "      <th>m0lixmv</th>\n",
       "    </tr>\n",
       "  </thead>\n",
       "  <tbody>\n",
       "    <tr>\n",
       "      <th>2015-06-19</th>\n",
       "      <td>-0.755861</td>\n",
       "      <td> 0.623040</td>\n",
       "      <td> 0.000000</td>\n",
       "      <td>-2.200316</td>\n",
       "      <td> 2.200316</td>\n",
       "      <td>-1.100158</td>\n",
       "      <td>  31.295174</td>\n",
       "      <td> 0.746814</td>\n",
       "      <td> 0.681047</td>\n",
       "      <td> 0.392315</td>\n",
       "      <td>...</td>\n",
       "      <td> 4.336818</td>\n",
       "      <td> 0</td>\n",
       "      <td> 0</td>\n",
       "      <td>-3.891183</td>\n",
       "      <td> 1</td>\n",
       "      <td>-0.242558</td>\n",
       "      <td> 0</td>\n",
       "      <td> 0</td>\n",
       "      <td> 0.389038</td>\n",
       "      <td> 0</td>\n",
       "    </tr>\n",
       "    <tr>\n",
       "      <th>2015-05-15</th>\n",
       "      <td> 1.996466</td>\n",
       "      <td> 0.663226</td>\n",
       "      <td> 1.996466</td>\n",
       "      <td>-0.049493</td>\n",
       "      <td> 2.045959</td>\n",
       "      <td> 0.973487</td>\n",
       "      <td> 100.000000</td>\n",
       "      <td> 3.058298</td>\n",
       "      <td> 0.776896</td>\n",
       "      <td> 0.397235</td>\n",
       "      <td>...</td>\n",
       "      <td> 2.900084</td>\n",
       "      <td> 0</td>\n",
       "      <td> 0</td>\n",
       "      <td>-2.793576</td>\n",
       "      <td> 1</td>\n",
       "      <td>-2.986466</td>\n",
       "      <td> 0</td>\n",
       "      <td> 0</td>\n",
       "      <td> 1.875860</td>\n",
       "      <td> 0</td>\n",
       "    </tr>\n",
       "    <tr>\n",
       "      <th>2015-04-17</th>\n",
       "      <td>-1.276987</td>\n",
       "      <td> 0.645572</td>\n",
       "      <td> 0.000000</td>\n",
       "      <td>-2.464314</td>\n",
       "      <td> 2.464314</td>\n",
       "      <td>-1.232157</td>\n",
       "      <td>  -3.638362</td>\n",
       "      <td> 1.808620</td>\n",
       "      <td> 0.851452</td>\n",
       "      <td> 0.458451</td>\n",
       "      <td>...</td>\n",
       "      <td> 5.886550</td>\n",
       "      <td> 0</td>\n",
       "      <td> 0</td>\n",
       "      <td>-4.669436</td>\n",
       "      <td> 1</td>\n",
       "      <td>-1.175038</td>\n",
       "      <td> 0</td>\n",
       "      <td> 0</td>\n",
       "      <td> 1.014487</td>\n",
       "      <td> 0</td>\n",
       "    </tr>\n",
       "  </tbody>\n",
       "</table>\n",
       "<p>3 rows × 39 columns</p>\n",
       "</div>"
      ],
      "text/plain": [
       "                 q1c    q1cstd    q1high     q1low   q1range  q1middle  \\\n",
       "2015-06-19 -0.755861  0.623040  0.000000 -2.200316  2.200316 -1.100158   \n",
       "2015-05-15  1.996466  0.663226  1.996466 -0.049493  2.045959  0.973487   \n",
       "2015-04-17 -1.276987  0.645572  0.000000 -2.464314  2.464314 -1.232157   \n",
       "\n",
       "                 q1pos       q0c    q0cstd    q0high   ...       m0lixt  \\\n",
       "2015-06-19   31.295174  0.746814  0.681047  0.392315   ...     4.336818   \n",
       "2015-05-15  100.000000  3.058298  0.776896  0.397235   ...     2.900084   \n",
       "2015-04-17   -3.638362  1.808620  0.851452  0.458451   ...     5.886550   \n",
       "\n",
       "            m0lixc72  m0lixc288    m0lixd  m0lixm   m0lixtv  m0lixc72v  \\\n",
       "2015-06-19         0          0 -3.891183       1 -0.242558          0   \n",
       "2015-05-15         0          0 -2.793576       1 -2.986466          0   \n",
       "2015-04-17         0          0 -4.669436       1 -1.175038          0   \n",
       "\n",
       "            m0lixc288v   m0lixdv  m0lixmv  \n",
       "2015-06-19           0  0.389038        0  \n",
       "2015-05-15           0  1.875860        0  \n",
       "2015-04-17           0  1.014487        0  \n",
       "\n",
       "[3 rows x 39 columns]"
      ]
     },
     "execution_count": 395,
     "metadata": {},
     "output_type": "execute_result"
    }
   ],
   "source": [
    "data.head(3)"
   ]
  },
  {
   "cell_type": "code",
   "execution_count": 396,
   "metadata": {
    "collapsed": false
   },
   "outputs": [
    {
     "data": {
      "text/html": [
       "<div style=\"max-height:1000px;max-width:1500px;overflow:auto;\">\n",
       "<table border=\"1\" class=\"dataframe\">\n",
       "  <thead>\n",
       "    <tr style=\"text-align: right;\">\n",
       "      <th></th>\n",
       "      <th>q1c</th>\n",
       "      <th>q1cstd</th>\n",
       "      <th>q1high</th>\n",
       "      <th>q1low</th>\n",
       "      <th>q1range</th>\n",
       "      <th>q1middle</th>\n",
       "      <th>q1pos</th>\n",
       "      <th>q0c</th>\n",
       "      <th>q0cstd</th>\n",
       "      <th>q0high</th>\n",
       "      <th>...</th>\n",
       "      <th>m0lixt</th>\n",
       "      <th>m0lixc72</th>\n",
       "      <th>m0lixc288</th>\n",
       "      <th>m0lixd</th>\n",
       "      <th>m0lixm</th>\n",
       "      <th>m0lixtv</th>\n",
       "      <th>m0lixc72v</th>\n",
       "      <th>m0lixc288v</th>\n",
       "      <th>m0lixdv</th>\n",
       "      <th>m0lixmv</th>\n",
       "    </tr>\n",
       "  </thead>\n",
       "  <tbody>\n",
       "    <tr>\n",
       "      <th>1980-03-21</th>\n",
       "      <td>-11.065719</td>\n",
       "      <td> 1.181521</td>\n",
       "      <td> 0.000000</td>\n",
       "      <td>-11.109178</td>\n",
       "      <td> 11.109178</td>\n",
       "      <td>-5.554589</td>\n",
       "      <td>-99.217590</td>\n",
       "      <td> 9.907331</td>\n",
       "      <td> 0.804884</td>\n",
       "      <td> 0.976491</td>\n",
       "      <td>...</td>\n",
       "      <td> 8.201148</td>\n",
       "      <td> 0.099965</td>\n",
       "      <td> 0.099965</td>\n",
       "      <td>-7.034249</td>\n",
       "      <td> 1</td>\n",
       "      <td>-0.579801</td>\n",
       "      <td> 0.099965</td>\n",
       "      <td> 0.099965</td>\n",
       "      <td> 0.556226</td>\n",
       "      <td> 0</td>\n",
       "    </tr>\n",
       "    <tr>\n",
       "      <th>1980-02-15</th>\n",
       "      <td>  3.907449</td>\n",
       "      <td> 0.887077</td>\n",
       "      <td> 6.635457</td>\n",
       "      <td>  0.000000</td>\n",
       "      <td>  6.635457</td>\n",
       "      <td> 3.317728</td>\n",
       "      <td> 17.774839</td>\n",
       "      <td> 9.320868</td>\n",
       "      <td> 0.765727</td>\n",
       "      <td> 0.877336</td>\n",
       "      <td>...</td>\n",
       "      <td> 6.644012</td>\n",
       "      <td> 0.000000</td>\n",
       "      <td> 0.000000</td>\n",
       "      <td>-5.847811</td>\n",
       "      <td> 1</td>\n",
       "      <td> 2.804845</td>\n",
       "      <td> 0.000000</td>\n",
       "      <td> 0.000000</td>\n",
       "      <td>-2.348457</td>\n",
       "      <td> 0</td>\n",
       "    </tr>\n",
       "    <tr>\n",
       "      <th>1980-01-18</th>\n",
       "      <td>  3.234505</td>\n",
       "      <td> 0.778384</td>\n",
       "      <td> 3.299566</td>\n",
       "      <td> -2.202802</td>\n",
       "      <td>  5.502368</td>\n",
       "      <td> 0.548382</td>\n",
       "      <td> 97.635168</td>\n",
       "      <td>-2.607047</td>\n",
       "      <td> 0.860565</td>\n",
       "      <td> 0.921324</td>\n",
       "      <td>...</td>\n",
       "      <td> 3.839167</td>\n",
       "      <td> 0.000000</td>\n",
       "      <td> 0.000000</td>\n",
       "      <td>-3.499354</td>\n",
       "      <td> 1</td>\n",
       "      <td> 2.506594</td>\n",
       "      <td> 0.000000</td>\n",
       "      <td>-0.689172</td>\n",
       "      <td>-1.976642</td>\n",
       "      <td> 1</td>\n",
       "    </tr>\n",
       "  </tbody>\n",
       "</table>\n",
       "<p>3 rows × 39 columns</p>\n",
       "</div>"
      ],
      "text/plain": [
       "                  q1c    q1cstd    q1high      q1low    q1range  q1middle  \\\n",
       "1980-03-21 -11.065719  1.181521  0.000000 -11.109178  11.109178 -5.554589   \n",
       "1980-02-15   3.907449  0.887077  6.635457   0.000000   6.635457  3.317728   \n",
       "1980-01-18   3.234505  0.778384  3.299566  -2.202802   5.502368  0.548382   \n",
       "\n",
       "                q1pos       q0c    q0cstd    q0high   ...       m0lixt  \\\n",
       "1980-03-21 -99.217590  9.907331  0.804884  0.976491   ...     8.201148   \n",
       "1980-02-15  17.774839  9.320868  0.765727  0.877336   ...     6.644012   \n",
       "1980-01-18  97.635168 -2.607047  0.860565  0.921324   ...     3.839167   \n",
       "\n",
       "            m0lixc72  m0lixc288    m0lixd  m0lixm   m0lixtv  m0lixc72v  \\\n",
       "1980-03-21  0.099965   0.099965 -7.034249       1 -0.579801   0.099965   \n",
       "1980-02-15  0.000000   0.000000 -5.847811       1  2.804845   0.000000   \n",
       "1980-01-18  0.000000   0.000000 -3.499354       1  2.506594   0.000000   \n",
       "\n",
       "            m0lixc288v   m0lixdv  m0lixmv  \n",
       "1980-03-21    0.099965  0.556226        0  \n",
       "1980-02-15    0.000000 -2.348457        0  \n",
       "1980-01-18   -0.689172 -1.976642        1  \n",
       "\n",
       "[3 rows x 39 columns]"
      ]
     },
     "execution_count": 396,
     "metadata": {},
     "output_type": "execute_result"
    }
   ],
   "source": [
    "data.tail(3)"
   ]
  },
  {
   "cell_type": "code",
   "execution_count": 397,
   "metadata": {
    "collapsed": false
   },
   "outputs": [],
   "source": [
    "data.to_csv('data3.csv')\n",
    "spd.to_csv('spdfinal.csv')\n",
    "spw.to_csv('spwfinal.csv')"
   ]
  },
  {
   "cell_type": "markdown",
   "metadata": {},
   "source": [
    "## Data normalization"
   ]
  },
  {
   "cell_type": "code",
   "execution_count": 460,
   "metadata": {
    "collapsed": true
   },
   "outputs": [],
   "source": [
    "datan = data.copy()"
   ]
  },
  {
   "cell_type": "code",
   "execution_count": 461,
   "metadata": {
    "collapsed": false
   },
   "outputs": [],
   "source": [
    "for cols in datan.keys():\n",
    "    maxcols = max(datan[cols])\n",
    "    mincols = min(datan[cols])\n",
    "    spancols = maxcols - mincols\n",
    "    meancols = maxcols - (spancols / 2)\n",
    "    for n in range(len(datan)):\n",
    "        datan[cols][n] = (datan[cols][n] - meancols) / (spancols / 2)"
   ]
  },
  {
   "cell_type": "code",
   "execution_count": 464,
   "metadata": {
    "collapsed": false
   },
   "outputs": [
    {
     "name": "stdout",
     "output_type": "stream",
     "text": [
      "q1c -1.0 1.0\n",
      "q1cstd -1.0 1.0\n",
      "q1high -1.0 1.0\n",
      "q1low -1.0 1.0\n",
      "q1range -1.0 1.0\n",
      "q1middle -1.0 1.0\n",
      "q1pos -1.0 1.0\n",
      "q0c -1.0 1.0\n",
      "q0cstd -1.0 1.0\n",
      "q0high -1.0 1.0\n",
      "q0low -1.0 1.0\n",
      "q0spanmean -1.0 1.0\n",
      "q0spanstd -1.0 1.0\n",
      "q0lixt -1.0 1.0\n",
      "q0lixc72 -1.0 1.0\n",
      "q0lixc288 -1.0 1.0\n",
      "q0lixd -1.0 1.0\n",
      "q0lixm -1.0 1.0\n",
      "q0lixtv -1.0 1.0\n",
      "q0lixc72v -1.0 1.0\n",
      "q0lixc288v -1.0 1.0\n",
      "q0lixdv -1.0 1.0\n",
      "q0lixmv -1.0 1.0\n",
      "m0c -1.0 1.0\n",
      "m0cstd -1.0 1.0\n",
      "m0high -1.0 1.0\n",
      "m0low -1.0 1.0\n",
      "m0spanmean -1.0 1.0\n",
      "m0spanstd -1.0 1.0\n",
      "m0lixt -1.0 1.0\n",
      "m0lixc72 -1.0 1.0\n",
      "m0lixc288 -1.0 1.0\n",
      "m0lixd -1.0 1.0\n",
      "m0lixm -1.0 1.0\n",
      "m0lixtv -1.0 1.0\n",
      "m0lixc72v -1.0 1.0\n",
      "m0lixc288v -1.0 1.0\n",
      "m0lixdv -1.0 1.0\n",
      "m0lixmv -1.0 1.0\n"
     ]
    }
   ],
   "source": [
    "for cols in datan.keys():\n",
    "    maxcols = max(datan[cols])\n",
    "    mincols = min(datan[cols])\n",
    "    print cols, mincols, maxcols"
   ]
  },
  {
   "cell_type": "code",
   "execution_count": 465,
   "metadata": {
    "collapsed": false
   },
   "outputs": [
    {
     "data": {
      "text/html": [
       "<div style=\"max-height:1000px;max-width:1500px;overflow:auto;\">\n",
       "<table border=\"1\" class=\"dataframe\">\n",
       "  <thead>\n",
       "    <tr style=\"text-align: right;\">\n",
       "      <th></th>\n",
       "      <th>q1c</th>\n",
       "      <th>q1cstd</th>\n",
       "      <th>q1high</th>\n",
       "      <th>q1low</th>\n",
       "      <th>q1range</th>\n",
       "      <th>q1middle</th>\n",
       "      <th>q1pos</th>\n",
       "      <th>q0c</th>\n",
       "      <th>q0cstd</th>\n",
       "      <th>q0high</th>\n",
       "      <th>...</th>\n",
       "      <th>m0lixt</th>\n",
       "      <th>m0lixc72</th>\n",
       "      <th>m0lixc288</th>\n",
       "      <th>m0lixd</th>\n",
       "      <th>m0lixm</th>\n",
       "      <th>m0lixtv</th>\n",
       "      <th>m0lixc72v</th>\n",
       "      <th>m0lixc288v</th>\n",
       "      <th>m0lixdv</th>\n",
       "      <th>m0lixmv</th>\n",
       "    </tr>\n",
       "  </thead>\n",
       "  <tbody>\n",
       "    <tr>\n",
       "      <th>2015-06-19</th>\n",
       "      <td> 0.272159</td>\n",
       "      <td>-0.863812</td>\n",
       "      <td>-1.000000</td>\n",
       "      <td> 0.809677</td>\n",
       "      <td>-0.939621</td>\n",
       "      <td> 0.230835</td>\n",
       "      <td> 0.312952</td>\n",
       "      <td> 0.233459</td>\n",
       "      <td>-0.851525</td>\n",
       "      <td>-0.876871</td>\n",
       "      <td>...</td>\n",
       "      <td> 0.407926</td>\n",
       "      <td> 0.509801</td>\n",
       "      <td>-0.099573</td>\n",
       "      <td>-0.654585</td>\n",
       "      <td> 1</td>\n",
       "      <td> 0.310031</td>\n",
       "      <td> 0.246107</td>\n",
       "      <td>-0.161028</td>\n",
       "      <td>-0.233220</td>\n",
       "      <td> 0</td>\n",
       "    </tr>\n",
       "    <tr>\n",
       "      <th>2015-05-15</th>\n",
       "      <td> 0.416221</td>\n",
       "      <td>-0.845735</td>\n",
       "      <td>-0.728572</td>\n",
       "      <td> 0.958504</td>\n",
       "      <td>-0.950838</td>\n",
       "      <td> 0.426016</td>\n",
       "      <td> 1.000000</td>\n",
       "      <td> 0.306876</td>\n",
       "      <td>-0.803982</td>\n",
       "      <td>-0.873110</td>\n",
       "      <td>...</td>\n",
       "      <td> 0.351213</td>\n",
       "      <td> 0.509801</td>\n",
       "      <td>-0.099573</td>\n",
       "      <td>-0.621081</td>\n",
       "      <td> 1</td>\n",
       "      <td> 0.177342</td>\n",
       "      <td> 0.246107</td>\n",
       "      <td>-0.161028</td>\n",
       "      <td>-0.180315</td>\n",
       "      <td> 0</td>\n",
       "    </tr>\n",
       "    <tr>\n",
       "      <th>2015-04-17</th>\n",
       "      <td> 0.244882</td>\n",
       "      <td>-0.853676</td>\n",
       "      <td>-1.000000</td>\n",
       "      <td> 0.791410</td>\n",
       "      <td>-0.920436</td>\n",
       "      <td> 0.218410</td>\n",
       "      <td>-0.036384</td>\n",
       "      <td> 0.267184</td>\n",
       "      <td>-0.767000</td>\n",
       "      <td>-0.826311</td>\n",
       "      <td>...</td>\n",
       "      <td> 0.469099</td>\n",
       "      <td> 0.509801</td>\n",
       "      <td>-0.099573</td>\n",
       "      <td>-0.678342</td>\n",
       "      <td> 1</td>\n",
       "      <td> 0.264938</td>\n",
       "      <td> 0.246107</td>\n",
       "      <td>-0.161028</td>\n",
       "      <td>-0.210965</td>\n",
       "      <td> 0</td>\n",
       "    </tr>\n",
       "  </tbody>\n",
       "</table>\n",
       "<p>3 rows × 39 columns</p>\n",
       "</div>"
      ],
      "text/plain": [
       "                 q1c    q1cstd    q1high     q1low   q1range  q1middle  \\\n",
       "2015-06-19  0.272159 -0.863812 -1.000000  0.809677 -0.939621  0.230835   \n",
       "2015-05-15  0.416221 -0.845735 -0.728572  0.958504 -0.950838  0.426016   \n",
       "2015-04-17  0.244882 -0.853676 -1.000000  0.791410 -0.920436  0.218410   \n",
       "\n",
       "               q1pos       q0c    q0cstd    q0high   ...       m0lixt  \\\n",
       "2015-06-19  0.312952  0.233459 -0.851525 -0.876871   ...     0.407926   \n",
       "2015-05-15  1.000000  0.306876 -0.803982 -0.873110   ...     0.351213   \n",
       "2015-04-17 -0.036384  0.267184 -0.767000 -0.826311   ...     0.469099   \n",
       "\n",
       "            m0lixc72  m0lixc288    m0lixd  m0lixm   m0lixtv  m0lixc72v  \\\n",
       "2015-06-19  0.509801  -0.099573 -0.654585       1  0.310031   0.246107   \n",
       "2015-05-15  0.509801  -0.099573 -0.621081       1  0.177342   0.246107   \n",
       "2015-04-17  0.509801  -0.099573 -0.678342       1  0.264938   0.246107   \n",
       "\n",
       "            m0lixc288v   m0lixdv  m0lixmv  \n",
       "2015-06-19   -0.161028 -0.233220        0  \n",
       "2015-05-15   -0.161028 -0.180315        0  \n",
       "2015-04-17   -0.161028 -0.210965        0  \n",
       "\n",
       "[3 rows x 39 columns]"
      ]
     },
     "execution_count": 465,
     "metadata": {},
     "output_type": "execute_result"
    }
   ],
   "source": [
    "datan.head(3)"
   ]
  },
  {
   "cell_type": "code",
   "execution_count": 466,
   "metadata": {
    "collapsed": false
   },
   "outputs": [
    {
     "data": {
      "text/html": [
       "<div style=\"max-height:1000px;max-width:1500px;overflow:auto;\">\n",
       "<table border=\"1\" class=\"dataframe\">\n",
       "  <thead>\n",
       "    <tr style=\"text-align: right;\">\n",
       "      <th></th>\n",
       "      <th>q1c</th>\n",
       "      <th>q1cstd</th>\n",
       "      <th>q1high</th>\n",
       "      <th>q1low</th>\n",
       "      <th>q1range</th>\n",
       "      <th>q1middle</th>\n",
       "      <th>q1pos</th>\n",
       "      <th>q0c</th>\n",
       "      <th>q0cstd</th>\n",
       "      <th>q0high</th>\n",
       "      <th>...</th>\n",
       "      <th>m0lixt</th>\n",
       "      <th>m0lixc72</th>\n",
       "      <th>m0lixc288</th>\n",
       "      <th>m0lixd</th>\n",
       "      <th>m0lixm</th>\n",
       "      <th>m0lixtv</th>\n",
       "      <th>m0lixc72v</th>\n",
       "      <th>m0lixc288v</th>\n",
       "      <th>m0lixdv</th>\n",
       "      <th>m0lixmv</th>\n",
       "    </tr>\n",
       "  </thead>\n",
       "  <tbody>\n",
       "    <tr>\n",
       "      <th>2015-06-19</th>\n",
       "      <td>-0.755861</td>\n",
       "      <td> 0.623040</td>\n",
       "      <td> 0.000000</td>\n",
       "      <td>-2.200316</td>\n",
       "      <td> 2.200316</td>\n",
       "      <td>-1.100158</td>\n",
       "      <td>  31.295174</td>\n",
       "      <td> 0.746814</td>\n",
       "      <td> 0.681047</td>\n",
       "      <td> 0.392315</td>\n",
       "      <td>...</td>\n",
       "      <td> 4.336818</td>\n",
       "      <td> 0</td>\n",
       "      <td> 0</td>\n",
       "      <td>-3.891183</td>\n",
       "      <td> 1</td>\n",
       "      <td>-0.242558</td>\n",
       "      <td> 0</td>\n",
       "      <td> 0</td>\n",
       "      <td> 0.389038</td>\n",
       "      <td> 0</td>\n",
       "    </tr>\n",
       "    <tr>\n",
       "      <th>2015-05-15</th>\n",
       "      <td> 1.996466</td>\n",
       "      <td> 0.663226</td>\n",
       "      <td> 1.996466</td>\n",
       "      <td>-0.049493</td>\n",
       "      <td> 2.045959</td>\n",
       "      <td> 0.973487</td>\n",
       "      <td> 100.000000</td>\n",
       "      <td> 3.058298</td>\n",
       "      <td> 0.776896</td>\n",
       "      <td> 0.397235</td>\n",
       "      <td>...</td>\n",
       "      <td> 2.900084</td>\n",
       "      <td> 0</td>\n",
       "      <td> 0</td>\n",
       "      <td>-2.793576</td>\n",
       "      <td> 1</td>\n",
       "      <td>-2.986466</td>\n",
       "      <td> 0</td>\n",
       "      <td> 0</td>\n",
       "      <td> 1.875860</td>\n",
       "      <td> 0</td>\n",
       "    </tr>\n",
       "    <tr>\n",
       "      <th>2015-04-17</th>\n",
       "      <td>-1.276987</td>\n",
       "      <td> 0.645572</td>\n",
       "      <td> 0.000000</td>\n",
       "      <td>-2.464314</td>\n",
       "      <td> 2.464314</td>\n",
       "      <td>-1.232157</td>\n",
       "      <td>  -3.638362</td>\n",
       "      <td> 1.808620</td>\n",
       "      <td> 0.851452</td>\n",
       "      <td> 0.458451</td>\n",
       "      <td>...</td>\n",
       "      <td> 5.886550</td>\n",
       "      <td> 0</td>\n",
       "      <td> 0</td>\n",
       "      <td>-4.669436</td>\n",
       "      <td> 1</td>\n",
       "      <td>-1.175038</td>\n",
       "      <td> 0</td>\n",
       "      <td> 0</td>\n",
       "      <td> 1.014487</td>\n",
       "      <td> 0</td>\n",
       "    </tr>\n",
       "  </tbody>\n",
       "</table>\n",
       "<p>3 rows × 39 columns</p>\n",
       "</div>"
      ],
      "text/plain": [
       "                 q1c    q1cstd    q1high     q1low   q1range  q1middle  \\\n",
       "2015-06-19 -0.755861  0.623040  0.000000 -2.200316  2.200316 -1.100158   \n",
       "2015-05-15  1.996466  0.663226  1.996466 -0.049493  2.045959  0.973487   \n",
       "2015-04-17 -1.276987  0.645572  0.000000 -2.464314  2.464314 -1.232157   \n",
       "\n",
       "                 q1pos       q0c    q0cstd    q0high   ...       m0lixt  \\\n",
       "2015-06-19   31.295174  0.746814  0.681047  0.392315   ...     4.336818   \n",
       "2015-05-15  100.000000  3.058298  0.776896  0.397235   ...     2.900084   \n",
       "2015-04-17   -3.638362  1.808620  0.851452  0.458451   ...     5.886550   \n",
       "\n",
       "            m0lixc72  m0lixc288    m0lixd  m0lixm   m0lixtv  m0lixc72v  \\\n",
       "2015-06-19         0          0 -3.891183       1 -0.242558          0   \n",
       "2015-05-15         0          0 -2.793576       1 -2.986466          0   \n",
       "2015-04-17         0          0 -4.669436       1 -1.175038          0   \n",
       "\n",
       "            m0lixc288v   m0lixdv  m0lixmv  \n",
       "2015-06-19           0  0.389038        0  \n",
       "2015-05-15           0  1.875860        0  \n",
       "2015-04-17           0  1.014487        0  \n",
       "\n",
       "[3 rows x 39 columns]"
      ]
     },
     "execution_count": 466,
     "metadata": {},
     "output_type": "execute_result"
    }
   ],
   "source": [
    "data.head(3)"
   ]
  },
  {
   "cell_type": "code",
   "execution_count": 467,
   "metadata": {
    "collapsed": true
   },
   "outputs": [],
   "source": [
    "datan.to_csv('datan3.csv')"
   ]
  },
  {
   "cell_type": "markdown",
   "metadata": {},
   "source": [
    "## Overbought/Oversold Indicator using Options Open Interest"
   ]
  },
  {
   "cell_type": "code",
   "execution_count": 468,
   "metadata": {
    "collapsed": false
   },
   "outputs": [
    {
     "data": {
      "text/plain": [
       "4722723"
      ]
     },
     "execution_count": 468,
     "metadata": {},
     "output_type": "execute_result"
    }
   ],
   "source": [
    "options = read_csv('/Users/marcolunardi/Documents/Doc/options.csv', delimiter=',', header=0)\n",
    "options.rename(columns={'Unnamed: 0':'nrow'}, inplace=True)\n",
    "len(options)"
   ]
  },
  {
   "cell_type": "code",
   "execution_count": 469,
   "metadata": {
    "collapsed": false
   },
   "outputs": [
    {
     "data": {
      "text/html": [
       "<div style=\"max-height:1000px;max-width:1500px;overflow:auto;\">\n",
       "<table border=\"1\" class=\"dataframe\">\n",
       "  <thead>\n",
       "    <tr style=\"text-align: right;\">\n",
       "      <th></th>\n",
       "      <th>nrow</th>\n",
       "      <th>date</th>\n",
       "      <th>cl</th>\n",
       "      <th>exp</th>\n",
       "      <th>strike</th>\n",
       "      <th>pc</th>\n",
       "      <th>oi</th>\n",
       "      <th>vol</th>\n",
       "      <th>h</th>\n",
       "      <th>l</th>\n",
       "      <th>o</th>\n",
       "      <th>c</th>\n",
       "      <th>sp</th>\n",
       "    </tr>\n",
       "  </thead>\n",
       "  <tbody>\n",
       "    <tr>\n",
       "      <th>0</th>\n",
       "      <td> 0</td>\n",
       "      <td> 1990-01-02 00:00:00</td>\n",
       "      <td> NSX</td>\n",
       "      <td> 1990-03-17 00:00:00</td>\n",
       "      <td> 330</td>\n",
       "      <td> C</td>\n",
       "      <td>    0</td>\n",
       "      <td> 0</td>\n",
       "      <td> 0</td>\n",
       "      <td> 0</td>\n",
       "      <td> 0</td>\n",
       "      <td> 0</td>\n",
       "      <td> 359.69</td>\n",
       "    </tr>\n",
       "    <tr>\n",
       "      <th>1</th>\n",
       "      <td> 1</td>\n",
       "      <td> 1990-01-02 00:00:00</td>\n",
       "      <td> NSX</td>\n",
       "      <td> 1990-03-17 00:00:00</td>\n",
       "      <td> 335</td>\n",
       "      <td> C</td>\n",
       "      <td>    0</td>\n",
       "      <td> 0</td>\n",
       "      <td> 0</td>\n",
       "      <td> 0</td>\n",
       "      <td> 0</td>\n",
       "      <td> 0</td>\n",
       "      <td> 359.69</td>\n",
       "    </tr>\n",
       "    <tr>\n",
       "      <th>2</th>\n",
       "      <td> 2</td>\n",
       "      <td> 1990-01-02 00:00:00</td>\n",
       "      <td> NSX</td>\n",
       "      <td> 1990-03-17 00:00:00</td>\n",
       "      <td> 340</td>\n",
       "      <td> C</td>\n",
       "      <td> 3007</td>\n",
       "      <td> 0</td>\n",
       "      <td> 0</td>\n",
       "      <td> 0</td>\n",
       "      <td> 0</td>\n",
       "      <td> 0</td>\n",
       "      <td> 359.69</td>\n",
       "    </tr>\n",
       "  </tbody>\n",
       "</table>\n",
       "</div>"
      ],
      "text/plain": [
       "   nrow                 date   cl                  exp  strike pc    oi  vol  \\\n",
       "0     0  1990-01-02 00:00:00  NSX  1990-03-17 00:00:00     330  C     0    0   \n",
       "1     1  1990-01-02 00:00:00  NSX  1990-03-17 00:00:00     335  C     0    0   \n",
       "2     2  1990-01-02 00:00:00  NSX  1990-03-17 00:00:00     340  C  3007    0   \n",
       "\n",
       "   h  l  o  c      sp  \n",
       "0  0  0  0  0  359.69  \n",
       "1  0  0  0  0  359.69  \n",
       "2  0  0  0  0  359.69  "
      ]
     },
     "execution_count": 469,
     "metadata": {},
     "output_type": "execute_result"
    }
   ],
   "source": [
    "options.head(3)"
   ]
  },
  {
   "cell_type": "code",
   "execution_count": 470,
   "metadata": {
    "collapsed": false
   },
   "outputs": [
    {
     "data": {
      "text/html": [
       "<div style=\"max-height:1000px;max-width:1500px;overflow:auto;\">\n",
       "<table border=\"1\" class=\"dataframe\">\n",
       "  <thead>\n",
       "    <tr style=\"text-align: right;\">\n",
       "      <th></th>\n",
       "      <th>nrow</th>\n",
       "      <th>date</th>\n",
       "      <th>cl</th>\n",
       "      <th>exp</th>\n",
       "      <th>strike</th>\n",
       "      <th>pc</th>\n",
       "      <th>oi</th>\n",
       "      <th>vol</th>\n",
       "      <th>h</th>\n",
       "      <th>l</th>\n",
       "      <th>o</th>\n",
       "      <th>c</th>\n",
       "      <th>sp</th>\n",
       "    </tr>\n",
       "  </thead>\n",
       "  <tbody>\n",
       "    <tr>\n",
       "      <th>4722720</th>\n",
       "      <td> 4722720</td>\n",
       "      <td> 2015-06-01 00:00:00</td>\n",
       "      <td> SPX</td>\n",
       "      <td> 2016-03-18 00:00:00</td>\n",
       "      <td> 2800</td>\n",
       "      <td> P</td>\n",
       "      <td>  2</td>\n",
       "      <td> 0</td>\n",
       "      <td> 0</td>\n",
       "      <td> 0</td>\n",
       "      <td> 0</td>\n",
       "      <td> 0</td>\n",
       "      <td> 2111.73</td>\n",
       "    </tr>\n",
       "    <tr>\n",
       "      <th>4722721</th>\n",
       "      <td> 4722721</td>\n",
       "      <td> 2015-06-01 00:00:00</td>\n",
       "      <td> SPX</td>\n",
       "      <td> 2016-03-18 00:00:00</td>\n",
       "      <td> 2900</td>\n",
       "      <td> P</td>\n",
       "      <td> 12</td>\n",
       "      <td> 0</td>\n",
       "      <td> 0</td>\n",
       "      <td> 0</td>\n",
       "      <td> 0</td>\n",
       "      <td> 0</td>\n",
       "      <td> 2111.73</td>\n",
       "    </tr>\n",
       "    <tr>\n",
       "      <th>4722722</th>\n",
       "      <td> 4722722</td>\n",
       "      <td> 2015-06-01 00:00:00</td>\n",
       "      <td> SPX</td>\n",
       "      <td> 2016-03-18 00:00:00</td>\n",
       "      <td> 3000</td>\n",
       "      <td> P</td>\n",
       "      <td> 12</td>\n",
       "      <td> 0</td>\n",
       "      <td> 0</td>\n",
       "      <td> 0</td>\n",
       "      <td> 0</td>\n",
       "      <td> 0</td>\n",
       "      <td> 2111.73</td>\n",
       "    </tr>\n",
       "  </tbody>\n",
       "</table>\n",
       "</div>"
      ],
      "text/plain": [
       "            nrow                 date   cl                  exp  strike pc  \\\n",
       "4722720  4722720  2015-06-01 00:00:00  SPX  2016-03-18 00:00:00    2800  P   \n",
       "4722721  4722721  2015-06-01 00:00:00  SPX  2016-03-18 00:00:00    2900  P   \n",
       "4722722  4722722  2015-06-01 00:00:00  SPX  2016-03-18 00:00:00    3000  P   \n",
       "\n",
       "         oi  vol  h  l  o  c       sp  \n",
       "4722720   2    0  0  0  0  0  2111.73  \n",
       "4722721  12    0  0  0  0  0  2111.73  \n",
       "4722722  12    0  0  0  0  0  2111.73  "
      ]
     },
     "execution_count": 470,
     "metadata": {},
     "output_type": "execute_result"
    }
   ],
   "source": [
    "options.tail(3)"
   ]
  },
  {
   "cell_type": "code",
   "execution_count": 471,
   "metadata": {
    "collapsed": true
   },
   "outputs": [],
   "source": [
    "options['date'] = pd.to_datetime(options['date'])\n",
    "options['exp'] = pd.to_datetime(options['exp'])"
   ]
  },
  {
   "cell_type": "markdown",
   "metadata": {},
   "source": [
    "##Setting expiration and date"
   ]
  },
  {
   "cell_type": "code",
   "execution_count": 472,
   "metadata": {
    "collapsed": true
   },
   "outputs": [],
   "source": [
    "expd = dp.parse(\"2009/03/21\")\n",
    "d = dp.parse(\"2009/03/09\")"
   ]
  },
  {
   "cell_type": "code",
   "execution_count": 473,
   "metadata": {
    "collapsed": false
   },
   "outputs": [
    {
     "data": {
      "text/plain": [
       "42880"
      ]
     },
     "execution_count": 473,
     "metadata": {},
     "output_type": "execute_result"
    }
   ],
   "source": [
    "optexp = options[options.exp == expd]\n",
    "len(optexp)"
   ]
  },
  {
   "cell_type": "code",
   "execution_count": 474,
   "metadata": {
    "collapsed": false
   },
   "outputs": [
    {
     "data": {
      "text/plain": [
       "414"
      ]
     },
     "execution_count": 474,
     "metadata": {},
     "output_type": "execute_result"
    }
   ],
   "source": [
    "optd = optexp[optexp.date == d]\n",
    "optd = optd.reset_index(drop=True)\n",
    "len(optd)"
   ]
  },
  {
   "cell_type": "code",
   "execution_count": 475,
   "metadata": {
    "collapsed": false
   },
   "outputs": [
    {
     "data": {
      "text/plain": [
       "676.52999999999997"
      ]
     },
     "execution_count": 475,
     "metadata": {},
     "output_type": "execute_result"
    }
   ],
   "source": [
    "price = optd.sp[0]\n",
    "price"
   ]
  },
  {
   "cell_type": "code",
   "execution_count": 476,
   "metadata": {
    "collapsed": true
   },
   "outputs": [],
   "source": [
    "#price = 2040\n",
    "strikes = []\n",
    "pcr = []\n",
    "diff = []"
   ]
  },
  {
   "cell_type": "code",
   "execution_count": 477,
   "metadata": {
    "collapsed": false
   },
   "outputs": [
    {
     "data": {
      "text/plain": [
       "[650, 675, 700, 725]"
      ]
     },
     "execution_count": 477,
     "metadata": {},
     "output_type": "execute_result"
    }
   ],
   "source": [
    "if price%25 == 0:\n",
    "    start = price - 25\n",
    "else:\n",
    "    start = (int(price / 25)) * 25\n",
    "strikes = [(start - 25), start, (start + 25), (start + 50)]\n",
    "strikes    "
   ]
  },
  {
   "cell_type": "code",
   "execution_count": 478,
   "metadata": {
    "collapsed": false
   },
   "outputs": [
    {
     "data": {
      "text/plain": [
       "[0.5884643368272928,\n",
       " 0.6400796592676581,\n",
       " 0.5060391910141611,\n",
       " 0.20125384788647804]"
      ]
     },
     "execution_count": 478,
     "metadata": {},
     "output_type": "execute_result"
    }
   ],
   "source": [
    "for s in strikes:\n",
    "    opts = optd[optd.strike == s]\n",
    "    oic = float(np.max(opts.oi[opts.pc == 'C']))\n",
    "    oip = float(np.max(opts.oi[opts.pc == 'P']))\n",
    "    ratio = ((oip/(oic + oip))*2)-1\n",
    "    pcr.append(ratio)\n",
    "    if s < price:\n",
    "        diff.append((((s - 25)/price)-1)*100)\n",
    "    elif s > price:\n",
    "        diff.append((((s + 25)/price)-1)*100)\n",
    "pcr"
   ]
  },
  {
   "cell_type": "code",
   "execution_count": 479,
   "metadata": {
    "collapsed": false
   },
   "outputs": [
    {
     "data": {
      "text/plain": [
       "[-7.6168093063130993,\n",
       " -3.9214816785656192,\n",
       " 7.1645012046768208,\n",
       " 10.85982883242429]"
      ]
     },
     "execution_count": 479,
     "metadata": {},
     "output_type": "execute_result"
    }
   ],
   "source": [
    "diff"
   ]
  },
  {
   "cell_type": "code",
   "execution_count": 480,
   "metadata": {
    "collapsed": false
   },
   "outputs": [],
   "source": [
    "obs = 0\n",
    "mult = 3\n",
    "if pcr[0] < 0:\n",
    "    obs += (abs(pcr[0] * mult) * diff[0])\n",
    "if pcr[1] < 0:\n",
    "    obs += (abs(pcr[1] * mult) * diff[1])\n",
    "if pcr[2] > 0:\n",
    "    obs += (abs(pcr[2] * mult) * diff[2])\n",
    "if pcr[3] > 0:\n",
    "    obs += (abs(pcr[3] * mult) * diff[3])"
   ]
  },
  {
   "cell_type": "code",
   "execution_count": 481,
   "metadata": {
    "collapsed": false
   },
   "outputs": [
    {
     "data": {
      "text/plain": [
       "-17.928882548717961"
      ]
     },
     "execution_count": 481,
     "metadata": {},
     "output_type": "execute_result"
    }
   ],
   "source": [
    "(abs(pcr[0]*4) * diff[0])"
   ]
  },
  {
   "cell_type": "code",
   "execution_count": 482,
   "metadata": {
    "collapsed": false
   },
   "outputs": [
    {
     "data": {
      "text/plain": [
       "-10.040242626562582"
      ]
     },
     "execution_count": 482,
     "metadata": {},
     "output_type": "execute_result"
    }
   ],
   "source": [
    "(abs(pcr[1]*4) * diff[1])"
   ]
  },
  {
   "cell_type": "code",
   "execution_count": 483,
   "metadata": {
    "collapsed": false
   },
   "outputs": [
    {
     "data": {
      "text/plain": [
       "14.502073574538564"
      ]
     },
     "execution_count": 483,
     "metadata": {},
     "output_type": "execute_result"
    }
   ],
   "source": [
    "(abs(pcr[2]*4) * diff[2])"
   ]
  },
  {
   "cell_type": "code",
   "execution_count": 484,
   "metadata": {
    "collapsed": false
   },
   "outputs": [
    {
     "data": {
      "text/plain": [
       "8.742329359655626"
      ]
     },
     "execution_count": 484,
     "metadata": {},
     "output_type": "execute_result"
    }
   ],
   "source": [
    "(abs(pcr[3]*4) * diff[3])"
   ]
  },
  {
   "cell_type": "code",
   "execution_count": 485,
   "metadata": {
    "collapsed": false
   },
   "outputs": [
    {
     "data": {
      "text/plain": [
       "17.433302200645642"
      ]
     },
     "execution_count": 485,
     "metadata": {},
     "output_type": "execute_result"
    }
   ],
   "source": [
    "obs"
   ]
  },
  {
   "cell_type": "markdown",
   "metadata": {},
   "source": [
    "## Creating datasets for predictions (after manual features selection)"
   ]
  },
  {
   "cell_type": "code",
   "execution_count": 486,
   "metadata": {
    "collapsed": true
   },
   "outputs": [],
   "source": [
    "complete = data.copy()\n",
    "completen = datan.copy()"
   ]
  },
  {
   "cell_type": "code",
   "execution_count": 487,
   "metadata": {
    "collapsed": false
   },
   "outputs": [
    {
     "data": {
      "text/html": [
       "<div style=\"max-height:1000px;max-width:1500px;overflow:auto;\">\n",
       "<table border=\"1\" class=\"dataframe\">\n",
       "  <thead>\n",
       "    <tr style=\"text-align: right;\">\n",
       "      <th></th>\n",
       "      <th>q1high</th>\n",
       "      <th>q1low</th>\n",
       "      <th>q1range</th>\n",
       "      <th>q1middle</th>\n",
       "    </tr>\n",
       "  </thead>\n",
       "  <tbody>\n",
       "    <tr>\n",
       "      <th>2015-06-19</th>\n",
       "      <td> 0.000000</td>\n",
       "      <td>-2.200316</td>\n",
       "      <td> 2.200316</td>\n",
       "      <td>-1.100158</td>\n",
       "    </tr>\n",
       "    <tr>\n",
       "      <th>2015-05-15</th>\n",
       "      <td> 1.996466</td>\n",
       "      <td>-0.049493</td>\n",
       "      <td> 2.045959</td>\n",
       "      <td> 0.973487</td>\n",
       "    </tr>\n",
       "    <tr>\n",
       "      <th>2015-04-17</th>\n",
       "      <td> 0.000000</td>\n",
       "      <td>-2.464314</td>\n",
       "      <td> 2.464314</td>\n",
       "      <td>-1.232157</td>\n",
       "    </tr>\n",
       "  </tbody>\n",
       "</table>\n",
       "</div>"
      ],
      "text/plain": [
       "              q1high     q1low   q1range  q1middle\n",
       "2015-06-19  0.000000 -2.200316  2.200316 -1.100158\n",
       "2015-05-15  1.996466 -0.049493  2.045959  0.973487\n",
       "2015-04-17  0.000000 -2.464314  2.464314 -1.232157"
      ]
     },
     "execution_count": 487,
     "metadata": {},
     "output_type": "execute_result"
    }
   ],
   "source": [
    "yall = complete.drop(['q1c','q1cstd','q1pos','q0c','q0cstd','q0high','q0low','q0spanmean','q0spanstd','q0lixt','q0lixc72',\n",
    "                      'q0lixc288','q0lixd','q0lixm','q0lixtv','q0lixc72v','q0lixc288v','q0lixdv','q0lixmv','m0c',\n",
    "                      'm0cstd','m0high','m0low','m0spanmean','m0spanstd','m0lixt','m0lixc72','m0lixc288','m0lixd',\n",
    "                      'm0lixm','m0lixtv','m0lixc72v','m0lixc288v','m0lixdv','m0lixmv'], 1)\n",
    "yalln = completen.drop(['q1c','q1cstd','q1pos','q0c','q0cstd','q0high','q0low','q0spanmean','q0spanstd','q0lixt','q0lixc72',\n",
    "                      'q0lixc288','q0lixd','q0lixm','q0lixtv','q0lixc72v','q0lixc288v','q0lixdv','q0lixmv','m0c',\n",
    "                      'm0cstd','m0high','m0low','m0spanmean','m0spanstd','m0lixt','m0lixc72','m0lixc288','m0lixd',\n",
    "                      'm0lixm','m0lixtv','m0lixc72v','m0lixc288v','m0lixdv','m0lixmv'], 1)\n",
    "yall.head(3)"
   ]
  },
  {
   "cell_type": "code",
   "execution_count": 488,
   "metadata": {
    "collapsed": false
   },
   "outputs": [
    {
     "data": {
      "text/html": [
       "<div style=\"max-height:1000px;max-width:1500px;overflow:auto;\">\n",
       "<table border=\"1\" class=\"dataframe\">\n",
       "  <thead>\n",
       "    <tr style=\"text-align: right;\">\n",
       "      <th></th>\n",
       "      <th>q0c</th>\n",
       "      <th>q0cstd</th>\n",
       "      <th>q0high</th>\n",
       "      <th>q0low</th>\n",
       "      <th>q0spanmean</th>\n",
       "      <th>q0spanstd</th>\n",
       "      <th>q0lixt</th>\n",
       "      <th>q0lixc72</th>\n",
       "      <th>q0lixc288</th>\n",
       "      <th>q0lixd</th>\n",
       "      <th>...</th>\n",
       "      <th>m0spanmean</th>\n",
       "      <th>m0spanstd</th>\n",
       "      <th>m0lixt</th>\n",
       "      <th>m0lixc72</th>\n",
       "      <th>m0lixc288</th>\n",
       "      <th>m0lixd</th>\n",
       "      <th>m0lixm</th>\n",
       "      <th>m0lixtv</th>\n",
       "      <th>m0lixc72v</th>\n",
       "      <th>m0lixdv</th>\n",
       "    </tr>\n",
       "  </thead>\n",
       "  <tbody>\n",
       "    <tr>\n",
       "      <th>2015-06-19</th>\n",
       "      <td> 0.746814</td>\n",
       "      <td> 0.681047</td>\n",
       "      <td> 0.392315</td>\n",
       "      <td>-0.454449</td>\n",
       "      <td> 0.851432</td>\n",
       "      <td> 0.390140</td>\n",
       "      <td> 32.704591</td>\n",
       "      <td> 0</td>\n",
       "      <td> 0</td>\n",
       "      <td>-19.499769</td>\n",
       "      <td>...</td>\n",
       "      <td> 0.794274</td>\n",
       "      <td> 0.341335</td>\n",
       "      <td> 4.336818</td>\n",
       "      <td> 0</td>\n",
       "      <td> 0</td>\n",
       "      <td>-3.891183</td>\n",
       "      <td> 1</td>\n",
       "      <td>-0.242558</td>\n",
       "      <td> 0</td>\n",
       "      <td> 0.389038</td>\n",
       "    </tr>\n",
       "    <tr>\n",
       "      <th>2015-05-15</th>\n",
       "      <td> 3.058298</td>\n",
       "      <td> 0.776896</td>\n",
       "      <td> 0.397235</td>\n",
       "      <td>-0.567722</td>\n",
       "      <td> 0.971821</td>\n",
       "      <td> 0.470282</td>\n",
       "      <td> 31.758448</td>\n",
       "      <td> 0</td>\n",
       "      <td> 0</td>\n",
       "      <td>-18.770608</td>\n",
       "      <td>...</td>\n",
       "      <td> 0.888100</td>\n",
       "      <td> 0.350479</td>\n",
       "      <td> 2.900084</td>\n",
       "      <td> 0</td>\n",
       "      <td> 0</td>\n",
       "      <td>-2.793576</td>\n",
       "      <td> 1</td>\n",
       "      <td>-2.986466</td>\n",
       "      <td> 0</td>\n",
       "      <td> 1.875860</td>\n",
       "    </tr>\n",
       "    <tr>\n",
       "      <th>2015-04-17</th>\n",
       "      <td> 1.808620</td>\n",
       "      <td> 0.851452</td>\n",
       "      <td> 0.458451</td>\n",
       "      <td>-0.581238</td>\n",
       "      <td> 1.047243</td>\n",
       "      <td> 0.544928</td>\n",
       "      <td> 34.352229</td>\n",
       "      <td> 0</td>\n",
       "      <td> 0</td>\n",
       "      <td>-20.570841</td>\n",
       "      <td>...</td>\n",
       "      <td> 0.886780</td>\n",
       "      <td> 0.483867</td>\n",
       "      <td> 5.886550</td>\n",
       "      <td> 0</td>\n",
       "      <td> 0</td>\n",
       "      <td>-4.669436</td>\n",
       "      <td> 1</td>\n",
       "      <td>-1.175038</td>\n",
       "      <td> 0</td>\n",
       "      <td> 1.014487</td>\n",
       "    </tr>\n",
       "  </tbody>\n",
       "</table>\n",
       "<p>3 rows × 30 columns</p>\n",
       "</div>"
      ],
      "text/plain": [
       "                 q0c    q0cstd    q0high     q0low  q0spanmean  q0spanstd  \\\n",
       "2015-06-19  0.746814  0.681047  0.392315 -0.454449    0.851432   0.390140   \n",
       "2015-05-15  3.058298  0.776896  0.397235 -0.567722    0.971821   0.470282   \n",
       "2015-04-17  1.808620  0.851452  0.458451 -0.581238    1.047243   0.544928   \n",
       "\n",
       "               q0lixt  q0lixc72  q0lixc288     q0lixd    ...     m0spanmean  \\\n",
       "2015-06-19  32.704591         0          0 -19.499769    ...       0.794274   \n",
       "2015-05-15  31.758448         0          0 -18.770608    ...       0.888100   \n",
       "2015-04-17  34.352229         0          0 -20.570841    ...       0.886780   \n",
       "\n",
       "            m0spanstd    m0lixt  m0lixc72  m0lixc288    m0lixd  m0lixm  \\\n",
       "2015-06-19   0.341335  4.336818         0          0 -3.891183       1   \n",
       "2015-05-15   0.350479  2.900084         0          0 -2.793576       1   \n",
       "2015-04-17   0.483867  5.886550         0          0 -4.669436       1   \n",
       "\n",
       "             m0lixtv  m0lixc72v   m0lixdv  \n",
       "2015-06-19 -0.242558          0  0.389038  \n",
       "2015-05-15 -2.986466          0  1.875860  \n",
       "2015-04-17 -1.175038          0  1.014487  \n",
       "\n",
       "[3 rows x 30 columns]"
      ]
     },
     "execution_count": 488,
     "metadata": {},
     "output_type": "execute_result"
    }
   ],
   "source": [
    "xall = complete.drop(['q1c','q1cstd','q1high','q1low','q1range','q1middle','q1pos','m0lixc288v','m0lixmv'], 1)\n",
    "xalln = completen.drop(['q1c','q1cstd','q1high','q1low','q1range','q1middle','q1pos','m0lixc288v','m0lixmv'], 1)\n",
    "xall.head(3)"
   ]
  },
  {
   "cell_type": "markdown",
   "metadata": {},
   "source": [
    "###Q1Range"
   ]
  },
  {
   "cell_type": "code",
   "execution_count": 489,
   "metadata": {
    "collapsed": true
   },
   "outputs": [],
   "source": [
    "yr = yall.q1range\n",
    "xr = xall.drop(['q0lixc288','q0lixc72','m0lixc72'], 1)\n",
    "yrn = yalln.q1range\n",
    "xrn = xalln.drop(['q0lixc288','q0lixc72','m0lixc72'], 1)"
   ]
  },
  {
   "cell_type": "code",
   "execution_count": 490,
   "metadata": {
    "collapsed": false
   },
   "outputs": [
    {
     "data": {
      "text/plain": [
       "array(['q0c', 'q0cstd', 'q0high', 'q0low', 'q0spanmean', 'q0spanstd',\n",
       "       'q0lixt', 'q0lixd', 'q0lixm', 'q0lixtv', 'q0lixc72v', 'q0lixc288v',\n",
       "       'q0lixdv', 'q0lixmv', 'm0c', 'm0cstd', 'm0high', 'm0low',\n",
       "       'm0spanmean', 'm0spanstd', 'm0lixt', 'm0lixc288', 'm0lixd',\n",
       "       'm0lixm', 'm0lixtv', 'm0lixc72v', 'm0lixdv'], dtype=object)"
      ]
     },
     "execution_count": 490,
     "metadata": {},
     "output_type": "execute_result"
    }
   ],
   "source": [
    "xr.columns.values"
   ]
  },
  {
   "cell_type": "markdown",
   "metadata": {},
   "source": [
    "###Q1Low"
   ]
  },
  {
   "cell_type": "code",
   "execution_count": 491,
   "metadata": {
    "collapsed": true
   },
   "outputs": [],
   "source": [
    "yl = yall.q1low\n",
    "xl = xall.drop(['q0lixc288','q0lixt','m0c','m0spanstd','m0lixm'], 1)\n",
    "yln = yalln.q1low\n",
    "xln = xalln.drop(['q0lixc288','q0lixt','m0c','m0spanstd','m0lixm'], 1)"
   ]
  },
  {
   "cell_type": "code",
   "execution_count": 492,
   "metadata": {
    "collapsed": false
   },
   "outputs": [
    {
     "data": {
      "text/plain": [
       "array(['q0c', 'q0cstd', 'q0high', 'q0low', 'q0spanmean', 'q0spanstd',\n",
       "       'q0lixc72', 'q0lixd', 'q0lixm', 'q0lixtv', 'q0lixc72v',\n",
       "       'q0lixc288v', 'q0lixdv', 'q0lixmv', 'm0cstd', 'm0high', 'm0low',\n",
       "       'm0spanmean', 'm0lixt', 'm0lixc72', 'm0lixc288', 'm0lixd',\n",
       "       'm0lixtv', 'm0lixc72v', 'm0lixdv'], dtype=object)"
      ]
     },
     "execution_count": 492,
     "metadata": {},
     "output_type": "execute_result"
    }
   ],
   "source": [
    "xl.columns.values"
   ]
  },
  {
   "cell_type": "markdown",
   "metadata": {},
   "source": [
    "###Q1High"
   ]
  },
  {
   "cell_type": "code",
   "execution_count": 493,
   "metadata": {
    "collapsed": true
   },
   "outputs": [],
   "source": [
    "yh = yall.q1high\n",
    "xh = xall.drop(['q0lixc288','q0lixt','m0c','m0spanstd','m0lixm'], 1)\n",
    "yhn = yalln.q1high\n",
    "xhn = xalln.drop(['q0lixc288','q0lixt','m0c','m0spanstd','m0lixm'], 1)"
   ]
  },
  {
   "cell_type": "code",
   "execution_count": 494,
   "metadata": {
    "collapsed": false
   },
   "outputs": [
    {
     "data": {
      "text/plain": [
       "array(['q0c', 'q0cstd', 'q0high', 'q0low', 'q0spanmean', 'q0spanstd',\n",
       "       'q0lixc72', 'q0lixd', 'q0lixm', 'q0lixtv', 'q0lixc72v',\n",
       "       'q0lixc288v', 'q0lixdv', 'q0lixmv', 'm0cstd', 'm0high', 'm0low',\n",
       "       'm0spanmean', 'm0lixt', 'm0lixc72', 'm0lixc288', 'm0lixd',\n",
       "       'm0lixtv', 'm0lixc72v', 'm0lixdv'], dtype=object)"
      ]
     },
     "execution_count": 494,
     "metadata": {},
     "output_type": "execute_result"
    }
   ],
   "source": [
    "xh.columns.values"
   ]
  },
  {
   "cell_type": "markdown",
   "metadata": {},
   "source": [
    "###Q1Middle"
   ]
  },
  {
   "cell_type": "code",
   "execution_count": 495,
   "metadata": {
    "collapsed": false
   },
   "outputs": [],
   "source": [
    "ym = yall.q1middle\n",
    "xm = xall.drop(['q0c','q0cstd','q0low','q0spanmean','q0spanstd','q0lixt','q0lixc72',\n",
    "               'q0lixd','q0lixm','q0lixtv','q0lixdv','q0lixmv','m0c','m0cstd','m0low','m0high','m0spanmean',\n",
    "               'm0spanstd','m0lixd','m0lixm'], 1)\n",
    "ymn = yalln.q1middle\n",
    "xmn = xalln.drop(['q0c','q0cstd','q0low','q0spanmean','q0spanstd','q0lixt','q0lixc72',\n",
    "               'q0lixd','q0lixm','q0lixtv','q0lixdv','q0lixmv','m0c','m0cstd','m0low','m0high','m0spanmean',\n",
    "               'm0spanstd','m0lixd','m0lixm'], 1)"
   ]
  },
  {
   "cell_type": "code",
   "execution_count": 496,
   "metadata": {
    "collapsed": false
   },
   "outputs": [
    {
     "data": {
      "text/plain": [
       "array(['q0high', 'q0lixc288', 'q0lixc72v', 'q0lixc288v', 'm0lixt',\n",
       "       'm0lixc72', 'm0lixc288', 'm0lixtv', 'm0lixc72v', 'm0lixdv'], dtype=object)"
      ]
     },
     "execution_count": 496,
     "metadata": {},
     "output_type": "execute_result"
    }
   ],
   "source": [
    "xm.columns.values"
   ]
  },
  {
   "cell_type": "markdown",
   "metadata": {},
   "source": [
    "##Supervised learning predictions"
   ]
  },
  {
   "cell_type": "code",
   "execution_count": 497,
   "metadata": {
    "collapsed": true
   },
   "outputs": [],
   "source": [
    "import matplotlib.pyplot as plt\n",
    "import statsmodels.formula.api as smf\n",
    "from scipy.stats import linregress\n",
    "from pylab import *\n",
    "from urllib import urlopen\n",
    "from sklearn.cross_validation import train_test_split\n",
    "from sklearn.linear_model import LogisticRegression\n",
    "from __future__ import division\n",
    "from sklearn import cross_validation\n",
    "from sklearn.neighbors import KNeighborsClassifier\n",
    "from sklearn.metrics import accuracy_score\n",
    "from sklearn.naive_bayes import GaussianNB\n",
    "from sklearn.svm import SVC\n",
    "from sklearn.tree import DecisionTreeClassifier\n",
    "from sklearn.ensemble import RandomForestClassifier\n",
    "from sklearn.cross_validation import cross_val_score\n",
    "from sklearn.metrics import precision_recall_fscore_support\n",
    "from sklearn import metrics\n",
    "from sklearn.metrics import roc_curve, auc\n",
    "from sklearn.metrics import roc_auc_score\n",
    "from sklearn.preprocessing import label_binarize\n",
    "from sklearn import tree\n",
    "from sklearn.externals.six import StringIO\n",
    "import os\n",
    "from sklearn.externals.six import StringIO  \n",
    "import pydot\n",
    "from sklearn.cross_validation import StratifiedKFold\n",
    "from sklearn import linear_model\n",
    "from sklearn.cross_validation import cross_val_score"
   ]
  },
  {
   "cell_type": "code",
   "execution_count": 498,
   "metadata": {
    "collapsed": false
   },
   "outputs": [],
   "source": [
    "testsize = 0.2\n",
    "#clf = RandomForestClassifier()\n",
    "clf = DecisionTreeClassifier()\n",
    "#clf = GaussianNB()\n",
    "#clf = SVC()\n",
    "#clf = LogisticRegression()"
   ]
  },
  {
   "cell_type": "markdown",
   "metadata": {},
   "source": [
    "###Q1low"
   ]
  },
  {
   "cell_type": "code",
   "execution_count": 499,
   "metadata": {
    "collapsed": false
   },
   "outputs": [],
   "source": [
    "X = xl\n",
    "y = yl\n",
    "X_train, X_test, y_train, y_test = cross_validation.train_test_split(X, y, test_size=testsize, random_state=0)\n",
    "Xn = xln\n",
    "yn = yln\n",
    "Xn_train, Xn_test, yn_train, yn_test = cross_validation.train_test_split(Xn, yn, test_size=testsize, random_state=0)"
   ]
  },
  {
   "cell_type": "code",
   "execution_count": 500,
   "metadata": {
    "collapsed": false
   },
   "outputs": [
    {
     "name": "stdout",
     "output_type": "stream",
     "text": [
      "(426, 25) (340, 25) (86, 25)\n"
     ]
    }
   ],
   "source": [
    "print X.shape, X_train.shape, X_test.shape"
   ]
  },
  {
   "cell_type": "code",
   "execution_count": 501,
   "metadata": {
    "collapsed": false
   },
   "outputs": [],
   "source": [
    "model = clf.fit(X_train, y_train)\n",
    "modeln = clf.fit(Xn_train, yn_train)"
   ]
  },
  {
   "cell_type": "code",
   "execution_count": 502,
   "metadata": {
    "collapsed": false
   },
   "outputs": [],
   "source": [
    "q1lpred = model.predict(X_test)\n",
    "q1lpredn = model.predict(Xn_test)"
   ]
  },
  {
   "cell_type": "code",
   "execution_count": 503,
   "metadata": {
    "collapsed": false
   },
   "outputs": [],
   "source": [
    "diff = (q1lpred - y_test)\n",
    "diffn = (q1lpredn - yn_test)"
   ]
  },
  {
   "cell_type": "code",
   "execution_count": 504,
   "metadata": {
    "collapsed": false
   },
   "outputs": [
    {
     "name": "stdout",
     "output_type": "stream",
     "text": [
      "3.1967899228 14.274946559\n",
      "0.182636166276 0.840351023776\n"
     ]
    }
   ],
   "source": [
    "print np.mean(abs(diff)), np.max(abs(diff))\n",
    "print np.mean(abs(diffn)), np.max(abs(diffn))"
   ]
  },
  {
   "cell_type": "code",
   "execution_count": 505,
   "metadata": {
    "collapsed": false
   },
   "outputs": [
    {
     "data": {
      "text/html": [
       "<div style=\"max-height:1000px;max-width:1500px;overflow:auto;\">\n",
       "<table border=\"1\" class=\"dataframe\">\n",
       "  <thead>\n",
       "    <tr style=\"text-align: right;\">\n",
       "      <th></th>\n",
       "      <th>actual</th>\n",
       "      <th>predicted</th>\n",
       "      <th>difference</th>\n",
       "    </tr>\n",
       "  </thead>\n",
       "  <tbody>\n",
       "    <tr>\n",
       "      <th>0</th>\n",
       "      <td>-0.014577</td>\n",
       "      <td> 0.609204</td>\n",
       "      <td> 0.623780</td>\n",
       "    </tr>\n",
       "    <tr>\n",
       "      <th>1</th>\n",
       "      <td>-2.103833</td>\n",
       "      <td>-0.019290</td>\n",
       "      <td> 2.084543</td>\n",
       "    </tr>\n",
       "    <tr>\n",
       "      <th>2</th>\n",
       "      <td>-1.598687</td>\n",
       "      <td> 0.389066</td>\n",
       "      <td> 1.987753</td>\n",
       "    </tr>\n",
       "  </tbody>\n",
       "</table>\n",
       "</div>"
      ],
      "text/plain": [
       "     actual  predicted  difference\n",
       "0 -0.014577   0.609204    0.623780\n",
       "1 -2.103833  -0.019290    2.084543\n",
       "2 -1.598687   0.389066    1.987753"
      ]
     },
     "execution_count": 505,
     "metadata": {},
     "output_type": "execute_result"
    }
   ],
   "source": [
    "pred = pd.DataFrame(columns = ['actual','predicted','difference'])\n",
    "pred.actual = y_test\n",
    "pred.predicted = q1lpred\n",
    "pred.difference = diff\n",
    "pred.head(3)"
   ]
  },
  {
   "cell_type": "markdown",
   "metadata": {},
   "source": [
    "###Q1high"
   ]
  },
  {
   "cell_type": "code",
   "execution_count": 506,
   "metadata": {
    "collapsed": false
   },
   "outputs": [],
   "source": [
    "X = xh\n",
    "y = yh\n",
    "X_train, X_test, y_train, y_test = cross_validation.train_test_split(X, y, test_size=testsize, random_state=0)\n",
    "Xn = xhn\n",
    "yn = yhn\n",
    "Xn_train, Xn_test, yn_train, yn_test = cross_validation.train_test_split(Xn, yn, test_size=testsize, random_state=0)"
   ]
  },
  {
   "cell_type": "code",
   "execution_count": 507,
   "metadata": {
    "collapsed": false
   },
   "outputs": [
    {
     "name": "stdout",
     "output_type": "stream",
     "text": [
      "(426, 25) (340, 25) (86, 25)\n"
     ]
    }
   ],
   "source": [
    "print X.shape, X_train.shape, X_test.shape"
   ]
  },
  {
   "cell_type": "code",
   "execution_count": 508,
   "metadata": {
    "collapsed": false
   },
   "outputs": [],
   "source": [
    "model = clf.fit(X_train, y_train)\n",
    "modeln = clf.fit(Xn_train, yn_train)"
   ]
  },
  {
   "cell_type": "code",
   "execution_count": 509,
   "metadata": {
    "collapsed": true
   },
   "outputs": [],
   "source": [
    "q1hpred = model.predict(X_test)\n",
    "q1hpredn = model.predict(Xn_test)"
   ]
  },
  {
   "cell_type": "code",
   "execution_count": 510,
   "metadata": {
    "collapsed": true
   },
   "outputs": [],
   "source": [
    "diff = (q1hpred - y_test)\n",
    "diffn = (q1hpredn - yn_test)"
   ]
  },
  {
   "cell_type": "code",
   "execution_count": 511,
   "metadata": {
    "collapsed": false
   },
   "outputs": [
    {
     "name": "stdout",
     "output_type": "stream",
     "text": [
      "4.17823977067 14.7307834022\n",
      "0.348361681136 1.51040154788\n"
     ]
    }
   ],
   "source": [
    "print np.mean(abs(diff)), np.max(abs(diff))\n",
    "print np.mean(abs(diffn)), np.max(abs(diffn))"
   ]
  },
  {
   "cell_type": "markdown",
   "metadata": {},
   "source": [
    "###Q1range"
   ]
  },
  {
   "cell_type": "code",
   "execution_count": 512,
   "metadata": {
    "collapsed": false
   },
   "outputs": [],
   "source": [
    "X = xr\n",
    "y = yr\n",
    "X_train, X_test, y_train, y_test = cross_validation.train_test_split(X, y, test_size=testsize, random_state=0)\n",
    "Xn = xrn\n",
    "yn = yrn\n",
    "Xn_train, Xn_test, yn_train, yn_test = cross_validation.train_test_split(Xn, yn, test_size=testsize, random_state=0)"
   ]
  },
  {
   "cell_type": "code",
   "execution_count": 513,
   "metadata": {
    "collapsed": false
   },
   "outputs": [
    {
     "name": "stdout",
     "output_type": "stream",
     "text": [
      "(426, 27) (340, 27) (86, 27)\n"
     ]
    }
   ],
   "source": [
    "print X.shape, X_train.shape, X_test.shape"
   ]
  },
  {
   "cell_type": "code",
   "execution_count": 514,
   "metadata": {
    "collapsed": false
   },
   "outputs": [],
   "source": [
    "model = clf.fit(X_train, y_train)\n",
    "modeln = clf.fit(Xn_train, yn_train)"
   ]
  },
  {
   "cell_type": "code",
   "execution_count": 515,
   "metadata": {
    "collapsed": true
   },
   "outputs": [],
   "source": [
    "q1rpred = model.predict(X_test)\n",
    "q1rpredn = model.predict(Xn_test)"
   ]
  },
  {
   "cell_type": "code",
   "execution_count": 516,
   "metadata": {
    "collapsed": true
   },
   "outputs": [],
   "source": [
    "diff = (q1rpred - y_test)\n",
    "diffn = (q1rpredn - yn_test)"
   ]
  },
  {
   "cell_type": "code",
   "execution_count": 517,
   "metadata": {
    "collapsed": false
   },
   "outputs": [
    {
     "name": "stdout",
     "output_type": "stream",
     "text": [
      "6.72772331036 16.3187921181\n",
      "0.170374947654 0.814615795996\n"
     ]
    }
   ],
   "source": [
    "print np.mean(abs(diff)), np.max(abs(diff))\n",
    "print np.mean(abs(diffn)), np.max(abs(diffn))"
   ]
  },
  {
   "cell_type": "markdown",
   "metadata": {},
   "source": [
    "###Q1middle"
   ]
  },
  {
   "cell_type": "code",
   "execution_count": 518,
   "metadata": {
    "collapsed": false
   },
   "outputs": [],
   "source": [
    "X = xm\n",
    "y = ym\n",
    "X_train, X_test, y_train, y_test = cross_validation.train_test_split(X, y, test_size=testsize, random_state=0)\n",
    "Xn = xmn\n",
    "yn = ymn\n",
    "Xn_train, Xn_test, yn_train, yn_test = cross_validation.train_test_split(Xn, yn, test_size=testsize, random_state=0)"
   ]
  },
  {
   "cell_type": "code",
   "execution_count": 519,
   "metadata": {
    "collapsed": false
   },
   "outputs": [
    {
     "name": "stdout",
     "output_type": "stream",
     "text": [
      "(426, 10) (340, 10) (86, 10)\n"
     ]
    }
   ],
   "source": [
    "print X.shape, X_train.shape, X_test.shape"
   ]
  },
  {
   "cell_type": "code",
   "execution_count": 520,
   "metadata": {
    "collapsed": false
   },
   "outputs": [],
   "source": [
    "model = clf.fit(X_train, y_train)\n",
    "modeln = clf.fit(Xn_train, yn_train)"
   ]
  },
  {
   "cell_type": "code",
   "execution_count": 521,
   "metadata": {
    "collapsed": true
   },
   "outputs": [],
   "source": [
    "q1mpred = model.predict(X_test)\n",
    "q1mpredn = model.predict(Xn_test)"
   ]
  },
  {
   "cell_type": "code",
   "execution_count": 522,
   "metadata": {
    "collapsed": true
   },
   "outputs": [],
   "source": [
    "diff = (q1mpred - y_test)\n",
    "diffn = (q1mpredn - yn_test)"
   ]
  },
  {
   "cell_type": "code",
   "execution_count": 523,
   "metadata": {
    "collapsed": false
   },
   "outputs": [
    {
     "name": "stdout",
     "output_type": "stream",
     "text": [
      "1.84609177476 7.05368330863\n",
      "0.257238358919 0.967440421147\n"
     ]
    }
   ],
   "source": [
    "print np.mean(abs(diff)), np.max(abs(diff))\n",
    "print np.mean(abs(diffn)), np.max(abs(diffn))"
   ]
  },
  {
   "cell_type": "code",
   "execution_count": null,
   "metadata": {
    "collapsed": true
   },
   "outputs": [],
   "source": []
  }
 ],
 "metadata": {
  "kernelspec": {
   "display_name": "Python 2",
   "language": "python",
   "name": "python2"
  },
  "language_info": {
   "codemirror_mode": {
    "name": "ipython",
    "version": 2
   },
   "file_extension": ".py",
   "mimetype": "text/x-python",
   "name": "python",
   "nbconvert_exporter": "python",
   "pygments_lexer": "ipython2",
   "version": "2.7.9"
  }
 },
 "nbformat": 4,
 "nbformat_minor": 0
}
