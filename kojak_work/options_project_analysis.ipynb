{
 "cells": [
  {
   "cell_type": "code",
   "execution_count": 1,
   "metadata": {
    "collapsed": false
   },
   "outputs": [],
   "source": [
    "import csv\n",
    "import pandas as pd\n",
    "from pandas import *\n",
    "from __future__ import division\n",
    "from pandas.tseries.offsets import *\n",
    "import dateutil.rrule as dr\n",
    "import dateutil.parser as dp\n",
    "import dateutil.relativedelta as drel\n",
    "import numpy as np\n",
    "import matplotlib.pyplot as plt\n",
    "import statsmodels.api as sm"
   ]
  },
  {
   "cell_type": "code",
   "execution_count": 2,
   "metadata": {
    "collapsed": true
   },
   "outputs": [],
   "source": [
    "pd.options.mode.chained_assignment = None"
   ]
  },
  {
   "cell_type": "markdown",
   "metadata": {},
   "source": [
    "## Loading files"
   ]
  },
  {
   "cell_type": "code",
   "execution_count": 3,
   "metadata": {
    "collapsed": false
   },
   "outputs": [],
   "source": [
    "#spd = read_csv('http://real-chart.finance.yahoo.com/table.csv?s=%5EGSPC&a=00&b=1&c=1974&d=05&e=9&f=2015&g=d&ignore=.csv',\n",
    "#               delimiter=',', header=0, \n",
    "#               names=['date','o','h','l','close','vol','c'])\n",
    "#spw = read_csv('http://real-chart.finance.yahoo.com/table.csv?s=%5EGSPC&a=00&b=1&c=1974&d=05&e=9&f=2015&g=w&ignore=.csv',\n",
    "#               delimiter=',', header=0, \n",
    "#               names=['date','o','h','l','close','vol','c'])\n",
    "\n",
    "#http://real-chart.finance.yahoo.com/table.csv?s=DAL&a=04&b=3&c=2008&d=05&e=9&f=2015&g=d&ignore=.csv\n",
    "#http://real-chart.finance.yahoo.com/table.csv?s=%5EGSPC&a=00&b=1&c=1974&d=05&e=9&f=2015&g=d&ignore=.csv"
   ]
  },
  {
   "cell_type": "code",
   "execution_count": 4,
   "metadata": {
    "collapsed": false
   },
   "outputs": [],
   "source": [
    "spd = read_csv('spd.csv', delimiter=',', header=0)\n",
    "spw = read_csv('spw.csv', delimiter=',', header=0)"
   ]
  },
  {
   "cell_type": "code",
   "execution_count": 5,
   "metadata": {
    "collapsed": true
   },
   "outputs": [],
   "source": [
    "spd.rename(columns={'Unnamed: 0':'nrow'}, inplace=True)\n",
    "spw.rename(columns={'Unnamed: 0':'nrow'}, inplace=True)"
   ]
  },
  {
   "cell_type": "code",
   "execution_count": 6,
   "metadata": {
    "collapsed": false
   },
   "outputs": [
    {
     "name": "stdout",
     "output_type": "stream",
     "text": [
      "<class 'pandas.tslib.Timestamp'> <class 'pandas.tslib.Timestamp'>\n"
     ]
    }
   ],
   "source": [
    "spd['date'] = pd.to_datetime(spd['date'])\n",
    "spw['date'] = pd.to_datetime(spw['date'])\n",
    "print type(spd.date[0]), type(spw.date[0])"
   ]
  },
  {
   "cell_type": "code",
   "execution_count": 7,
   "metadata": {
    "collapsed": false
   },
   "outputs": [
    {
     "data": {
      "text/html": [
       "<div style=\"max-height:1000px;max-width:1500px;overflow:auto;\">\n",
       "<table border=\"1\" class=\"dataframe\">\n",
       "  <thead>\n",
       "    <tr style=\"text-align: right;\">\n",
       "      <th></th>\n",
       "      <th>nrow</th>\n",
       "      <th>date</th>\n",
       "      <th>o</th>\n",
       "      <th>h</th>\n",
       "      <th>l</th>\n",
       "      <th>close</th>\n",
       "      <th>vol</th>\n",
       "      <th>c</th>\n",
       "    </tr>\n",
       "  </thead>\n",
       "  <tbody>\n",
       "    <tr>\n",
       "      <th>0</th>\n",
       "      <td> 0</td>\n",
       "      <td>2015-06-05</td>\n",
       "      <td> 2095.09009</td>\n",
       "      <td> 2100.98999</td>\n",
       "      <td> 2085.66992</td>\n",
       "      <td> 2092.83008</td>\n",
       "      <td> 3243690000</td>\n",
       "      <td> 2092.83008</td>\n",
       "    </tr>\n",
       "    <tr>\n",
       "      <th>1</th>\n",
       "      <td> 1</td>\n",
       "      <td>2015-06-04</td>\n",
       "      <td> 2112.35010</td>\n",
       "      <td> 2112.88989</td>\n",
       "      <td> 2093.22998</td>\n",
       "      <td> 2095.84009</td>\n",
       "      <td> 3200050000</td>\n",
       "      <td> 2095.84009</td>\n",
       "    </tr>\n",
       "    <tr>\n",
       "      <th>2</th>\n",
       "      <td> 2</td>\n",
       "      <td>2015-06-03</td>\n",
       "      <td> 2110.63989</td>\n",
       "      <td> 2121.91992</td>\n",
       "      <td> 2109.61011</td>\n",
       "      <td> 2114.07007</td>\n",
       "      <td> 3099980000</td>\n",
       "      <td> 2114.07007</td>\n",
       "    </tr>\n",
       "  </tbody>\n",
       "</table>\n",
       "</div>"
      ],
      "text/plain": [
       "   nrow       date           o           h           l       close  \\\n",
       "0     0 2015-06-05  2095.09009  2100.98999  2085.66992  2092.83008   \n",
       "1     1 2015-06-04  2112.35010  2112.88989  2093.22998  2095.84009   \n",
       "2     2 2015-06-03  2110.63989  2121.91992  2109.61011  2114.07007   \n",
       "\n",
       "          vol           c  \n",
       "0  3243690000  2092.83008  \n",
       "1  3200050000  2095.84009  \n",
       "2  3099980000  2114.07007  "
      ]
     },
     "execution_count": 7,
     "metadata": {},
     "output_type": "execute_result"
    }
   ],
   "source": [
    "spd.head(3)"
   ]
  },
  {
   "cell_type": "code",
   "execution_count": 8,
   "metadata": {
    "collapsed": false
   },
   "outputs": [
    {
     "data": {
      "text/html": [
       "<div style=\"max-height:1000px;max-width:1500px;overflow:auto;\">\n",
       "<table border=\"1\" class=\"dataframe\">\n",
       "  <thead>\n",
       "    <tr style=\"text-align: right;\">\n",
       "      <th></th>\n",
       "      <th>nrow</th>\n",
       "      <th>date</th>\n",
       "      <th>o</th>\n",
       "      <th>h</th>\n",
       "      <th>l</th>\n",
       "      <th>close</th>\n",
       "      <th>vol</th>\n",
       "      <th>c</th>\n",
       "    </tr>\n",
       "  </thead>\n",
       "  <tbody>\n",
       "    <tr>\n",
       "      <th>10449</th>\n",
       "      <td> 10449</td>\n",
       "      <td>1974-01-04</td>\n",
       "      <td> 99.80</td>\n",
       "      <td> 100.70</td>\n",
       "      <td> 97.70</td>\n",
       "      <td> 98.90</td>\n",
       "      <td> 21700000</td>\n",
       "      <td> 98.90</td>\n",
       "    </tr>\n",
       "    <tr>\n",
       "      <th>10450</th>\n",
       "      <td> 10450</td>\n",
       "      <td>1974-01-03</td>\n",
       "      <td> 98.02</td>\n",
       "      <td> 100.94</td>\n",
       "      <td> 98.02</td>\n",
       "      <td> 99.80</td>\n",
       "      <td> 24850000</td>\n",
       "      <td> 99.80</td>\n",
       "    </tr>\n",
       "    <tr>\n",
       "      <th>10451</th>\n",
       "      <td> 10451</td>\n",
       "      <td>1974-01-02</td>\n",
       "      <td> 97.55</td>\n",
       "      <td>  98.38</td>\n",
       "      <td> 96.25</td>\n",
       "      <td> 97.68</td>\n",
       "      <td> 12060000</td>\n",
       "      <td> 97.68</td>\n",
       "    </tr>\n",
       "  </tbody>\n",
       "</table>\n",
       "</div>"
      ],
      "text/plain": [
       "        nrow       date      o       h      l  close       vol      c\n",
       "10449  10449 1974-01-04  99.80  100.70  97.70  98.90  21700000  98.90\n",
       "10450  10450 1974-01-03  98.02  100.94  98.02  99.80  24850000  99.80\n",
       "10451  10451 1974-01-02  97.55   98.38  96.25  97.68  12060000  97.68"
      ]
     },
     "execution_count": 8,
     "metadata": {},
     "output_type": "execute_result"
    }
   ],
   "source": [
    "spd.tail(3)"
   ]
  },
  {
   "cell_type": "code",
   "execution_count": 9,
   "metadata": {
    "collapsed": false
   },
   "outputs": [
    {
     "data": {
      "text/html": [
       "<div style=\"max-height:1000px;max-width:1500px;overflow:auto;\">\n",
       "<table border=\"1\" class=\"dataframe\">\n",
       "  <thead>\n",
       "    <tr style=\"text-align: right;\">\n",
       "      <th></th>\n",
       "      <th>nrow</th>\n",
       "      <th>date</th>\n",
       "      <th>o</th>\n",
       "      <th>h</th>\n",
       "      <th>l</th>\n",
       "      <th>close</th>\n",
       "      <th>vol</th>\n",
       "      <th>c</th>\n",
       "    </tr>\n",
       "  </thead>\n",
       "  <tbody>\n",
       "    <tr>\n",
       "      <th>0</th>\n",
       "      <td> 0</td>\n",
       "      <td>2015-06-01</td>\n",
       "      <td> 2108.63989</td>\n",
       "      <td> 2121.91992</td>\n",
       "      <td> 2085.66992</td>\n",
       "      <td> 2092.83008</td>\n",
       "      <td> 3120956000</td>\n",
       "      <td> 2092.83008</td>\n",
       "    </tr>\n",
       "    <tr>\n",
       "      <th>1</th>\n",
       "      <td> 1</td>\n",
       "      <td>2015-05-26</td>\n",
       "      <td> 2125.34009</td>\n",
       "      <td> 2126.21997</td>\n",
       "      <td> 2099.17993</td>\n",
       "      <td> 2107.38989</td>\n",
       "      <td> 3344457500</td>\n",
       "      <td> 2107.38989</td>\n",
       "    </tr>\n",
       "    <tr>\n",
       "      <th>2</th>\n",
       "      <td> 2</td>\n",
       "      <td>2015-05-18</td>\n",
       "      <td> 2121.30005</td>\n",
       "      <td> 2134.71997</td>\n",
       "      <td> 2120.01001</td>\n",
       "      <td> 2126.06006</td>\n",
       "      <td> 2970484000</td>\n",
       "      <td> 2126.06006</td>\n",
       "    </tr>\n",
       "  </tbody>\n",
       "</table>\n",
       "</div>"
      ],
      "text/plain": [
       "   nrow       date           o           h           l       close  \\\n",
       "0     0 2015-06-01  2108.63989  2121.91992  2085.66992  2092.83008   \n",
       "1     1 2015-05-26  2125.34009  2126.21997  2099.17993  2107.38989   \n",
       "2     2 2015-05-18  2121.30005  2134.71997  2120.01001  2126.06006   \n",
       "\n",
       "          vol           c  \n",
       "0  3120956000  2092.83008  \n",
       "1  3344457500  2107.38989  \n",
       "2  2970484000  2126.06006  "
      ]
     },
     "execution_count": 9,
     "metadata": {},
     "output_type": "execute_result"
    }
   ],
   "source": [
    "spw.head(3)"
   ]
  },
  {
   "cell_type": "code",
   "execution_count": 10,
   "metadata": {
    "collapsed": false
   },
   "outputs": [
    {
     "data": {
      "text/html": [
       "<div style=\"max-height:1000px;max-width:1500px;overflow:auto;\">\n",
       "<table border=\"1\" class=\"dataframe\">\n",
       "  <thead>\n",
       "    <tr style=\"text-align: right;\">\n",
       "      <th></th>\n",
       "      <th>nrow</th>\n",
       "      <th>date</th>\n",
       "      <th>o</th>\n",
       "      <th>h</th>\n",
       "      <th>l</th>\n",
       "      <th>close</th>\n",
       "      <th>vol</th>\n",
       "      <th>c</th>\n",
       "    </tr>\n",
       "  </thead>\n",
       "  <tbody>\n",
       "    <tr>\n",
       "      <th>2159</th>\n",
       "      <td> 2159</td>\n",
       "      <td>1974-01-14</td>\n",
       "      <td> 93.66</td>\n",
       "      <td>  98.35</td>\n",
       "      <td> 92.35</td>\n",
       "      <td> 95.56</td>\n",
       "      <td> 16060000</td>\n",
       "      <td> 95.56</td>\n",
       "    </tr>\n",
       "    <tr>\n",
       "      <th>2160</th>\n",
       "      <td> 2160</td>\n",
       "      <td>1974-01-07</td>\n",
       "      <td> 98.90</td>\n",
       "      <td>  99.31</td>\n",
       "      <td> 91.62</td>\n",
       "      <td> 93.66</td>\n",
       "      <td> 17296000</td>\n",
       "      <td> 93.66</td>\n",
       "    </tr>\n",
       "    <tr>\n",
       "      <th>2161</th>\n",
       "      <td> 2161</td>\n",
       "      <td>1974-01-02</td>\n",
       "      <td> 97.55</td>\n",
       "      <td> 100.94</td>\n",
       "      <td> 96.25</td>\n",
       "      <td> 98.90</td>\n",
       "      <td> 19536600</td>\n",
       "      <td> 98.90</td>\n",
       "    </tr>\n",
       "  </tbody>\n",
       "</table>\n",
       "</div>"
      ],
      "text/plain": [
       "      nrow       date      o       h      l  close       vol      c\n",
       "2159  2159 1974-01-14  93.66   98.35  92.35  95.56  16060000  95.56\n",
       "2160  2160 1974-01-07  98.90   99.31  91.62  93.66  17296000  93.66\n",
       "2161  2161 1974-01-02  97.55  100.94  96.25  98.90  19536600  98.90"
      ]
     },
     "execution_count": 10,
     "metadata": {},
     "output_type": "execute_result"
    }
   ],
   "source": [
    "spw.tail(3)"
   ]
  },
  {
   "cell_type": "code",
   "execution_count": 11,
   "metadata": {
    "collapsed": false
   },
   "outputs": [
    {
     "data": {
      "text/plain": [
       "10452"
      ]
     },
     "execution_count": 11,
     "metadata": {},
     "output_type": "execute_result"
    }
   ],
   "source": [
    "len(spd)"
   ]
  },
  {
   "cell_type": "code",
   "execution_count": 12,
   "metadata": {
    "collapsed": false
   },
   "outputs": [
    {
     "data": {
      "text/plain": [
       "2162"
      ]
     },
     "execution_count": 12,
     "metadata": {},
     "output_type": "execute_result"
    }
   ],
   "source": [
    "len(spw)"
   ]
  },
  {
   "cell_type": "code",
   "execution_count": 13,
   "metadata": {
    "collapsed": false
   },
   "outputs": [],
   "source": [
    "spd.date[spd.date == dp.parse(\"20/03/2008\")] = pd.to_datetime(dp.parse(\"21/03/2008\"))"
   ]
  },
  {
   "cell_type": "code",
   "execution_count": 14,
   "metadata": {
    "collapsed": false
   },
   "outputs": [],
   "source": [
    "spd.date[spd.date == dp.parse(\"21/04/2011\")] = pd.to_datetime(dp.parse(\"22/04/2011\"))"
   ]
  },
  {
   "cell_type": "code",
   "execution_count": 15,
   "metadata": {
    "collapsed": false
   },
   "outputs": [],
   "source": [
    "spd.date[spd.date == dp.parse(\"20/04/2000\")] = pd.to_datetime(dp.parse(\"21/04/2000\"))"
   ]
  },
  {
   "cell_type": "code",
   "execution_count": 16,
   "metadata": {
    "collapsed": true
   },
   "outputs": [],
   "source": [
    "spd.date[spd.date == dp.parse(\"19/04/1984\")] = pd.to_datetime(dp.parse(\"20/04/1984\"))"
   ]
  },
  {
   "cell_type": "code",
   "execution_count": 17,
   "metadata": {
    "collapsed": false
   },
   "outputs": [],
   "source": [
    "for i in range(len(spw.date)):\n",
    "    spw.date[i] = spw.date[i] + DateOffset(weekday = 4) + DateOffset(days = 1) - BDay()\n",
    "#    if spw.date[i] == dp.parse(\"21/03/2008\"):\n",
    "#        spw.date[i] = pd.to_datetime(dp.parse(\"20/03/2008\"))"
   ]
  },
  {
   "cell_type": "code",
   "execution_count": 18,
   "metadata": {
    "collapsed": false
   },
   "outputs": [
    {
     "data": {
      "text/html": [
       "<div style=\"max-height:1000px;max-width:1500px;overflow:auto;\">\n",
       "<table border=\"1\" class=\"dataframe\">\n",
       "  <thead>\n",
       "    <tr style=\"text-align: right;\">\n",
       "      <th></th>\n",
       "      <th>nrow</th>\n",
       "      <th>date</th>\n",
       "      <th>o</th>\n",
       "      <th>h</th>\n",
       "      <th>l</th>\n",
       "      <th>close</th>\n",
       "      <th>vol</th>\n",
       "      <th>c</th>\n",
       "    </tr>\n",
       "  </thead>\n",
       "  <tbody>\n",
       "    <tr>\n",
       "      <th>0</th>\n",
       "      <td> 0</td>\n",
       "      <td>2015-06-05</td>\n",
       "      <td> 2108.63989</td>\n",
       "      <td> 2121.91992</td>\n",
       "      <td> 2085.66992</td>\n",
       "      <td> 2092.83008</td>\n",
       "      <td> 3120956000</td>\n",
       "      <td> 2092.83008</td>\n",
       "    </tr>\n",
       "    <tr>\n",
       "      <th>1</th>\n",
       "      <td> 1</td>\n",
       "      <td>2015-05-29</td>\n",
       "      <td> 2125.34009</td>\n",
       "      <td> 2126.21997</td>\n",
       "      <td> 2099.17993</td>\n",
       "      <td> 2107.38989</td>\n",
       "      <td> 3344457500</td>\n",
       "      <td> 2107.38989</td>\n",
       "    </tr>\n",
       "    <tr>\n",
       "      <th>2</th>\n",
       "      <td> 2</td>\n",
       "      <td>2015-05-22</td>\n",
       "      <td> 2121.30005</td>\n",
       "      <td> 2134.71997</td>\n",
       "      <td> 2120.01001</td>\n",
       "      <td> 2126.06006</td>\n",
       "      <td> 2970484000</td>\n",
       "      <td> 2126.06006</td>\n",
       "    </tr>\n",
       "  </tbody>\n",
       "</table>\n",
       "</div>"
      ],
      "text/plain": [
       "   nrow       date           o           h           l       close  \\\n",
       "0     0 2015-06-05  2108.63989  2121.91992  2085.66992  2092.83008   \n",
       "1     1 2015-05-29  2125.34009  2126.21997  2099.17993  2107.38989   \n",
       "2     2 2015-05-22  2121.30005  2134.71997  2120.01001  2126.06006   \n",
       "\n",
       "          vol           c  \n",
       "0  3120956000  2092.83008  \n",
       "1  3344457500  2107.38989  \n",
       "2  2970484000  2126.06006  "
      ]
     },
     "execution_count": 18,
     "metadata": {},
     "output_type": "execute_result"
    }
   ],
   "source": [
    "spw.head(3)"
   ]
  },
  {
   "cell_type": "code",
   "execution_count": 19,
   "metadata": {
    "collapsed": false
   },
   "outputs": [
    {
     "data": {
      "text/html": [
       "<div style=\"max-height:1000px;max-width:1500px;overflow:auto;\">\n",
       "<table border=\"1\" class=\"dataframe\">\n",
       "  <thead>\n",
       "    <tr style=\"text-align: right;\">\n",
       "      <th></th>\n",
       "      <th>nrow</th>\n",
       "      <th>date</th>\n",
       "      <th>o</th>\n",
       "      <th>h</th>\n",
       "      <th>l</th>\n",
       "      <th>close</th>\n",
       "      <th>vol</th>\n",
       "      <th>c</th>\n",
       "    </tr>\n",
       "  </thead>\n",
       "  <tbody>\n",
       "    <tr>\n",
       "      <th>2159</th>\n",
       "      <td> 2159</td>\n",
       "      <td>1974-01-18</td>\n",
       "      <td> 93.66</td>\n",
       "      <td>  98.35</td>\n",
       "      <td> 92.35</td>\n",
       "      <td> 95.56</td>\n",
       "      <td> 16060000</td>\n",
       "      <td> 95.56</td>\n",
       "    </tr>\n",
       "    <tr>\n",
       "      <th>2160</th>\n",
       "      <td> 2160</td>\n",
       "      <td>1974-01-11</td>\n",
       "      <td> 98.90</td>\n",
       "      <td>  99.31</td>\n",
       "      <td> 91.62</td>\n",
       "      <td> 93.66</td>\n",
       "      <td> 17296000</td>\n",
       "      <td> 93.66</td>\n",
       "    </tr>\n",
       "    <tr>\n",
       "      <th>2161</th>\n",
       "      <td> 2161</td>\n",
       "      <td>1974-01-04</td>\n",
       "      <td> 97.55</td>\n",
       "      <td> 100.94</td>\n",
       "      <td> 96.25</td>\n",
       "      <td> 98.90</td>\n",
       "      <td> 19536600</td>\n",
       "      <td> 98.90</td>\n",
       "    </tr>\n",
       "  </tbody>\n",
       "</table>\n",
       "</div>"
      ],
      "text/plain": [
       "      nrow       date      o       h      l  close       vol      c\n",
       "2159  2159 1974-01-18  93.66   98.35  92.35  95.56  16060000  95.56\n",
       "2160  2160 1974-01-11  98.90   99.31  91.62  93.66  17296000  93.66\n",
       "2161  2161 1974-01-04  97.55  100.94  96.25  98.90  19536600  98.90"
      ]
     },
     "execution_count": 19,
     "metadata": {},
     "output_type": "execute_result"
    }
   ],
   "source": [
    "spw.tail(3)"
   ]
  },
  {
   "cell_type": "markdown",
   "metadata": {},
   "source": [
    "## Moving Averages"
   ]
  },
  {
   "cell_type": "code",
   "execution_count": 20,
   "metadata": {
    "collapsed": false
   },
   "outputs": [
    {
     "data": {
      "text/plain": [
       "75.564843749999994"
      ]
     },
     "execution_count": 20,
     "metadata": {},
     "output_type": "execute_result"
    }
   ],
   "source": [
    "d12 = []\n",
    "d24 = []\n",
    "d48 = []\n",
    "d72 = []\n",
    "d96 = []\n",
    "d192 = []\n",
    "d288 = []\n",
    "for i in range(len(spd)-288):\n",
    "    d12.append(sum(spd.c[i:(i+12)])/12)\n",
    "    d24.append(sum(spd.c[i:(i+24)])/24)\n",
    "    d48.append(sum(spd.c[i:(i+48)])/48)\n",
    "    d72.append(sum(spd.c[i:(i+72)])/72)\n",
    "    d96.append(sum(spd.c[i:(i+96)])/96)\n",
    "    d192.append(sum(spd.c[i:(i+192)])/192)\n",
    "    d288.append(sum(spd.c[i:(i+288)])/288)\n",
    "    \n",
    "d192[-1]"
   ]
  },
  {
   "cell_type": "code",
   "execution_count": 21,
   "metadata": {
    "collapsed": false
   },
   "outputs": [
    {
     "data": {
      "text/plain": [
       "98.690937500000004"
      ]
     },
     "execution_count": 21,
     "metadata": {},
     "output_type": "execute_result"
    }
   ],
   "source": [
    "w12 = []\n",
    "w24 = []\n",
    "w48 = []\n",
    "w72 = []\n",
    "w96 = []\n",
    "w192 = []\n",
    "w288 = []\n",
    "for i in range(len(spw)-288):\n",
    "    w12.append(sum(spw.c[i:(i+12)])/12)\n",
    "    w24.append(sum(spw.c[i:(i+24)])/24)\n",
    "    w48.append(sum(spw.c[i:(i+48)])/48)\n",
    "    w72.append(sum(spw.c[i:(i+72)])/72)\n",
    "    w96.append(sum(spw.c[i:(i+96)])/96)\n",
    "    w192.append(sum(spw.c[i:(i+192)])/192)\n",
    "    w288.append(sum(spw.c[i:(i+288)])/288)\n",
    "    \n",
    "w192[-1]"
   ]
  },
  {
   "cell_type": "markdown",
   "metadata": {},
   "source": [
    "## Indicators"
   ]
  },
  {
   "cell_type": "code",
   "execution_count": 22,
   "metadata": {
    "collapsed": false
   },
   "outputs": [],
   "source": [
    "ltd = []\n",
    "for i in range(len(spd)-288):\n",
    "    t12 = ((spd.c[i]/(sum(spd.c[(i+6):(i+12)])/6)-1)*100)\n",
    "    t24 = ((spd.c[i]/(sum(spd.c[(i+18):(i+24)])/6)-1)*100)\n",
    "    t48 = ((spd.c[i]/(sum(spd.c[(i+42):(i+48)])/6)-1)*100)\n",
    "    t72 = ((spd.c[i]/(sum(spd.c[(i+66):(i+72)])/6)-1)*100)\n",
    "    t96 = ((spd.c[i]/(sum(spd.c[(i+90):(i+96)])/6)-1)*100)\n",
    "    t192 = ((spd.c[i]/(sum(spd.c[(i+186):(i+192)])/6)-1)*100)\n",
    "    t288 = ((spd.c[i]/(sum(spd.c[(i+282):(i+288)])/6)-1)*100)\n",
    "    ltd.append((t12+t24+t48+t72+t96+t192+t288)/7)\n",
    "ltd.extend([0]*288)"
   ]
  },
  {
   "cell_type": "code",
   "execution_count": 23,
   "metadata": {
    "collapsed": true
   },
   "outputs": [],
   "source": [
    "ltw = []\n",
    "for i in range(len(spw)-288):\n",
    "    t12 = ((spw.c[i]/(sum(spw.c[(i+6):(i+12)])/6)-1)*100)\n",
    "    t24 = ((spw.c[i]/(sum(spw.c[(i+18):(i+24)])/6)-1)*100)\n",
    "    t48 = ((spw.c[i]/(sum(spw.c[(i+42):(i+48)])/6)-1)*100)\n",
    "    t72 = ((spw.c[i]/(sum(spw.c[(i+66):(i+72)])/6)-1)*100)\n",
    "    t96 = ((spw.c[i]/(sum(spw.c[(i+90):(i+96)])/6)-1)*100)\n",
    "    t192 = ((spw.c[i]/(sum(spw.c[(i+186):(i+192)])/6)-1)*100)\n",
    "    t288 = ((spw.c[i]/(sum(spw.c[(i+282):(i+288)])/6)-1)*100)\n",
    "    ltw.append((t12+t24+t48+t72+t96+t192+t288)/7)\n",
    "ltw.extend([0]*288)"
   ]
  },
  {
   "cell_type": "code",
   "execution_count": 24,
   "metadata": {
    "collapsed": false
   },
   "outputs": [
    {
     "name": "stdout",
     "output_type": "stream",
     "text": [
      "23.3328730247 -35.6366113852 71.7672905577 -41.5810396385\n"
     ]
    }
   ],
   "source": [
    "print max(ltd), min(ltd), max(ltw), min (ltw)"
   ]
  },
  {
   "cell_type": "code",
   "execution_count": 25,
   "metadata": {
    "collapsed": false
   },
   "outputs": [
    {
     "name": "stdout",
     "output_type": "stream",
     "text": [
      "8089 1644 881 326\n"
     ]
    }
   ],
   "source": [
    "print ltd.index(max(ltd)), ltd.index(min(ltd)), ltw.index(max(ltw)), ltw.index(min(ltw))"
   ]
  },
  {
   "cell_type": "code",
   "execution_count": 26,
   "metadata": {
    "collapsed": false
   },
   "outputs": [],
   "source": [
    "lc288d = []\n",
    "lc72d = []\n",
    "for i in range(len(spd)-288):\n",
    "    min12 = ((spd.c[i]/min(spd.c[(i+6):(i+12)]))-1)*100\n",
    "    max12 = ((spd.c[i]/max(spd.c[(i+6):(i+12)]))-1)*100\n",
    "    min24 = ((spd.c[i]/min(spd.c[(i+18):(i+24)]))-1)*100\n",
    "    max24 = ((spd.c[i]/max(spd.c[(i+18):(i+24)]))-1)*100\n",
    "    min48 = ((spd.c[i]/min(spd.c[(i+42):(i+48)]))-1)*100\n",
    "    max48 = ((spd.c[i]/max(spd.c[(i+42):(i+48)]))-1)*100\n",
    "    min72 = ((spd.c[i]/min(spd.c[(i+66):(i+72)]))-1)*100\n",
    "    max72 = ((spd.c[i]/max(spd.c[(i+66):(i+72)]))-1)*100\n",
    "    min96 = ((spd.c[i]/min(spd.c[(i+90):(i+96)]))-1)*100\n",
    "    max96 = ((spd.c[i]/max(spd.c[(i+90):(i+96)]))-1)*100\n",
    "    min192 = ((spd.c[i]/min(spd.c[(i+186):(i+192)]))-1)*100\n",
    "    max192 = ((spd.c[i]/max(spd.c[(i+186):(i+192)]))-1)*100\n",
    "    min288 = ((spd.c[i]/min(spd.c[(i+282):(i+288)]))-1)*100\n",
    "    max288 = ((spd.c[i]/max(spd.c[(i+282):(i+288)]))-1)*100\n",
    "    \n",
    "    clong288 = 0\n",
    "    clong72 = 0\n",
    "    cshort288 = 0\n",
    "    cshort72 = 0\n",
    "    \n",
    "    contatl = 0\n",
    "    if spd.c[i] < sum(spd.c[i:i+12])/12:\n",
    "        contatl += 1\n",
    "    if spd.c[i] > spd.c[i+12]:\n",
    "        contatl += 1\n",
    "    if max12 > 0:\n",
    "        contatl += 1\n",
    "    contats = 0\n",
    "    if spd.c[i] > sum(spd.c[i:i+12])/12:\n",
    "        contats -= 1\n",
    "    if spd.c[i] < spd.c[i+12]:\n",
    "        contats -= 1\n",
    "    if min12 < 0:\n",
    "        contats -= 1\n",
    "    if contatl == 3 or contats == -3:\n",
    "        c12 = (((sum(spd.c[i:(i+12)])/12)/spd.c[i])-1)*100\n",
    "    else:\n",
    "        c12 = 0\n",
    "    if contatl == 3:\n",
    "        clong288 += 1\n",
    "        clong72 += 1\n",
    "    if contats == -3:\n",
    "        cshort288 += 1\n",
    "        cshort72 += 1\n",
    "        \n",
    "    contatl = 0\n",
    "    if spd.c[i] < sum(spd.c[i:i+24])/24:\n",
    "        contatl +=1\n",
    "    if spd.c[i] > spd.c[i+24]:\n",
    "        contatl +=1\n",
    "    if max24 > 0:\n",
    "        contatl +=1\n",
    "    contats = 0\n",
    "    if spd.c[i] > sum(spd.c[i:i+24])/24:\n",
    "        contats -=1\n",
    "    if spd.c[i] < spd.c[i+24]:\n",
    "        contats -=1\n",
    "    if min24 < 0:\n",
    "        contats -=1\n",
    "    if contatl == 3 or contats == -3:\n",
    "        c24 = (((sum(spd.c[i:(i+24)])/24)/spd.c[i])-1)*100\n",
    "    else:\n",
    "        c24 = 0\n",
    "    if contatl == 3:\n",
    "        clong288 +=1\n",
    "        clong72 +=1\n",
    "    if contats == -3:\n",
    "        cshort288 +=1\n",
    "        cshort72 +=1\n",
    "        \n",
    "    contatl = 0\n",
    "    if spd.c[i] < sum(spd.c[i:i+48])/48:\n",
    "        contatl +=1\n",
    "    if spd.c[i] > spd.c[i+48]:\n",
    "        contatl +=1\n",
    "    if max48 > 0:\n",
    "        contatl +=1\n",
    "    contats = 0\n",
    "    if spd.c[i] > sum(spd.c[i:i+48])/48:\n",
    "        contats -=1\n",
    "    if spd.c[i] < spd.c[i+48]:\n",
    "        contats -=1\n",
    "    if min48 < 0:\n",
    "        contats -=1\n",
    "    if contatl == 3 or contats == -3:\n",
    "        c48 = (((sum(spd.c[i:(i+48)])/48)/spd.c[i])-1)*100\n",
    "    else:\n",
    "        c48 = 0    \n",
    "    if contatl == 3:\n",
    "        clong288 +=1\n",
    "        clong72 +=1\n",
    "    if contats == -3:\n",
    "        cshort288 +=1\n",
    "        cshort72 +=1\n",
    "    \n",
    "    contatl = 0\n",
    "    if spd.c[i] < sum(spd.c[i:i+72])/72:\n",
    "        contatl +=1\n",
    "    if spd.c[i] > spd.c[i+72]:\n",
    "        contatl +=1\n",
    "    if max72 > 0:\n",
    "        contatl +=1\n",
    "    contats = 0\n",
    "    if spd.c[i] > sum(spd.c[i:i+72])/72:\n",
    "        contats -=1\n",
    "    if spd.c[i] < spd.c[i+72]:\n",
    "        contats -=1\n",
    "    if min72 < 0:\n",
    "        contats -=1\n",
    "    if contatl == 3 or contats == -3:\n",
    "        c72 = (((sum(spd.c[i:(i+72)])/72)/spd.c[i])-1)*100\n",
    "    else:\n",
    "        c72 = 0  \n",
    "    if contatl == 3:\n",
    "        clong288 +=1\n",
    "        clong72 +=1\n",
    "    if contats == -3:\n",
    "        cshort288 +=1\n",
    "        cshort72 +=1\n",
    "    \n",
    "    contatl = 0\n",
    "    if spd.c[i] < sum(spd.c[i:i+96])/96:\n",
    "        contatl +=1\n",
    "    if spd.c[i] > spd.c[i+96]:\n",
    "        contatl +=1\n",
    "    if max96 > 0:\n",
    "        contatl +=1\n",
    "    contats = 0\n",
    "    if spd.c[i] > sum(spd.c[i:i+96])/96:\n",
    "        contats -=1\n",
    "    if spd.c[i] < spd.c[i+96]:\n",
    "        contats -=1\n",
    "    if min96 < 0:\n",
    "        contats -=1\n",
    "    if contatl == 3 or contats == -3:\n",
    "        c96 = (((sum(spd.c[i:(i+96)])/96)/spd.c[i])-1)*100\n",
    "    else:\n",
    "        c96 = 0\n",
    "    if contatl == 3:\n",
    "        clong288 +=1\n",
    "    if contats == -3:\n",
    "        cshort288 +=1\n",
    "        \n",
    "    contatl = 0\n",
    "    if spd.c[i] < sum(spd.c[i:i+192])/192:\n",
    "        contatl +=1\n",
    "    if spd.c[i] > spd.c[i+192]:\n",
    "        contatl +=1\n",
    "    if max192 > 0:\n",
    "        contatl +=1\n",
    "    contats = 0\n",
    "    if spd.c[i] > sum(spd.c[i:i+192])/192:\n",
    "        contats -=1\n",
    "    if spd.c[i] < spd.c[i+192]:\n",
    "        contats -=1\n",
    "    if min192 < 0:\n",
    "        contats -=1\n",
    "    if contatl == 3 or contats == -3:\n",
    "        c192 = (((sum(spd.c[i:(i+192)])/192)/spd.c[i])-1)*100\n",
    "    else:\n",
    "        c192 = 0      \n",
    "    if contatl == 3:\n",
    "        clong288 +=1\n",
    "    if contats == -3:\n",
    "        cshort288 +=1\n",
    "        \n",
    "    contatl = 0\n",
    "    if spd.c[i] < sum(spd.c[i:i+288])/288:\n",
    "        contatl +=1\n",
    "    if spd.c[i] > spd.c[i+288]:\n",
    "        contatl +=1\n",
    "    if max288 > 0:\n",
    "        contatl +=1\n",
    "    contats = 0\n",
    "    if spd.c[i] > sum(spd.c[i:i+288])/288:\n",
    "        contats -=1\n",
    "    if spd.c[i] < spd.c[i+288]:\n",
    "        contats -=1\n",
    "    if min288 < 0:\n",
    "        contats -=1\n",
    "    if contatl == 3 or contats == -3:\n",
    "        c288 = (((sum(spd.c[i:(i+288)])/288)/spd.c[i])-1)*100\n",
    "    else:\n",
    "        c288 = 0\n",
    "    if contatl == 3:\n",
    "        clong288 +=1\n",
    "    if contats == -3:\n",
    "        cshort288 += 1\n",
    "\n",
    "    if (clong288 + cshort288) > 0:\n",
    "        ctot288 = (clong288 + cshort288)\n",
    "    else:\n",
    "        ctot288 = 1\n",
    "    lc288d.append((c12+c24+c48+c72+c96+c192+c288)/ctot288)\n",
    "    \n",
    "    if (clong72 + cshort72) > 0:\n",
    "        ctot72 = (clong72 + cshort72)\n",
    "    else:\n",
    "        ctot72 = 1\n",
    "    lc72d.append((c12+c24+c48+c72)/ctot72)\n",
    "lc288d.extend([0]*288)\n",
    "lc72d.extend([0]*288)"
   ]
  },
  {
   "cell_type": "code",
   "execution_count": 27,
   "metadata": {
    "collapsed": false
   },
   "outputs": [
    {
     "name": "stdout",
     "output_type": "stream",
     "text": [
      "17.8730822728 -15.697302014 4.46218397049 -6.65612346649\n"
     ]
    }
   ],
   "source": [
    "print max(lc288d), min(lc288d), max(lc72d), min(lc72d)"
   ]
  },
  {
   "cell_type": "code",
   "execution_count": 28,
   "metadata": {
    "collapsed": false
   },
   "outputs": [
    {
     "name": "stdout",
     "output_type": "stream",
     "text": [
      "6948 1399 9236 1544\n"
     ]
    }
   ],
   "source": [
    "print lc288d.index(max(lc288d)), lc288d.index(min(lc288d)), lc72d.index(max(lc72d)), lc72d.index(min(lc72d))"
   ]
  },
  {
   "cell_type": "code",
   "execution_count": 29,
   "metadata": {
    "collapsed": false
   },
   "outputs": [
    {
     "name": "stdout",
     "output_type": "stream",
     "text": [
      "2008-11-20 00:00:00\n"
     ]
    }
   ],
   "source": [
    "print spd.date[1644]"
   ]
  },
  {
   "cell_type": "code",
   "execution_count": 30,
   "metadata": {
    "collapsed": false
   },
   "outputs": [
    {
     "name": "stdout",
     "output_type": "stream",
     "text": [
      "0.45128917609 0.45128917609\n"
     ]
    }
   ],
   "source": [
    "print lc288d[0], lc72d[0]"
   ]
  },
  {
   "cell_type": "code",
   "execution_count": 31,
   "metadata": {
    "collapsed": true
   },
   "outputs": [],
   "source": [
    "lc288w = []\n",
    "lc72w = []\n",
    "for i in range(len(spw)-288):\n",
    "    min12 = ((spw.c[i]/min(spw.c[(i+6):(i+12)]))-1)*100\n",
    "    max12 = ((spw.c[i]/max(spw.c[(i+6):(i+12)]))-1)*100\n",
    "    min24 = ((spw.c[i]/min(spw.c[(i+18):(i+24)]))-1)*100\n",
    "    max24 = ((spw.c[i]/max(spw.c[(i+18):(i+24)]))-1)*100\n",
    "    min48 = ((spw.c[i]/min(spw.c[(i+42):(i+48)]))-1)*100\n",
    "    max48 = ((spw.c[i]/max(spw.c[(i+42):(i+48)]))-1)*100\n",
    "    min72 = ((spw.c[i]/min(spw.c[(i+66):(i+72)]))-1)*100\n",
    "    max72 = ((spw.c[i]/max(spw.c[(i+66):(i+72)]))-1)*100\n",
    "    min96 = ((spw.c[i]/min(spw.c[(i+90):(i+96)]))-1)*100\n",
    "    max96 = ((spw.c[i]/max(spw.c[(i+90):(i+96)]))-1)*100\n",
    "    min192 = ((spw.c[i]/min(spw.c[(i+186):(i+192)]))-1)*100\n",
    "    max192 = ((spw.c[i]/max(spw.c[(i+186):(i+192)]))-1)*100\n",
    "    min288 = ((spw.c[i]/min(spw.c[(i+282):(i+288)]))-1)*100\n",
    "    max288 = ((spw.c[i]/max(spw.c[(i+282):(i+288)]))-1)*100\n",
    "    \n",
    "    clong288 = 0\n",
    "    clong72 = 0\n",
    "    cshort288 = 0\n",
    "    cshort72 = 0\n",
    "    \n",
    "    contatl = 0\n",
    "    if spw.c[i] < sum(spw.c[i:i+12])/12:\n",
    "        contatl += 1\n",
    "    if spw.c[i] > spw.c[i+12]:\n",
    "        contatl += 1\n",
    "    if max12 > 0:\n",
    "        contatl += 1\n",
    "    contats = 0\n",
    "    if spw.c[i] > sum(spw.c[i:i+12])/12:\n",
    "        contats -= 1\n",
    "    if spw.c[i] < spw.c[i+12]:\n",
    "        contats -= 1\n",
    "    if min12 < 0:\n",
    "        contats -= 1\n",
    "    if contatl == 3 or contats == -3:\n",
    "        c12 = (((sum(spw.c[i:(i+12)])/12)/spw.c[i])-1)*100\n",
    "    else:\n",
    "        c12 = 0\n",
    "    if contatl == 3:\n",
    "        clong288 += 1\n",
    "        clong72 += 1\n",
    "    if contats == -3:\n",
    "        cshort288 += 1\n",
    "        cshort72 += 1\n",
    "        \n",
    "    contatl = 0\n",
    "    if spw.c[i] < sum(spw.c[i:i+24])/24:\n",
    "        contatl +=1\n",
    "    if spw.c[i] > spw.c[i+24]:\n",
    "        contatl +=1\n",
    "    if max24 > 0:\n",
    "        contatl +=1\n",
    "    contats = 0\n",
    "    if spw.c[i] > sum(spw.c[i:i+24])/24:\n",
    "        contats -=1\n",
    "    if spw.c[i] < spw.c[i+24]:\n",
    "        contats -=1\n",
    "    if min24 < 0:\n",
    "        contats -=1\n",
    "    if contatl == 3 or contats == -3:\n",
    "        c24 = (((sum(spw.c[i:(i+24)])/24)/spw.c[i])-1)*100\n",
    "    else:\n",
    "        c24 = 0\n",
    "    if contatl == 3:\n",
    "        clong288 +=1\n",
    "        clong72 +=1\n",
    "    if contats == -3:\n",
    "        cshort288 +=1\n",
    "        cshort72 +=1\n",
    "        \n",
    "    contatl = 0\n",
    "    if spw.c[i] < sum(spw.c[i:i+48])/48:\n",
    "        contatl +=1\n",
    "    if spw.c[i] > spw.c[i+48]:\n",
    "        contatl +=1\n",
    "    if max48 > 0:\n",
    "        contatl +=1\n",
    "    contats = 0\n",
    "    if spw.c[i] > sum(spw.c[i:i+48])/48:\n",
    "        contats -=1\n",
    "    if spw.c[i] < spw.c[i+48]:\n",
    "        contats -=1\n",
    "    if min48 < 0:\n",
    "        contats -=1\n",
    "    if contatl == 3 or contats == -3:\n",
    "        c48 = (((sum(spw.c[i:(i+48)])/48)/spw.c[i])-1)*100\n",
    "    else:\n",
    "        c48 = 0    \n",
    "    if contatl == 3:\n",
    "        clong288 +=1\n",
    "        clong72 +=1\n",
    "    if contats == -3:\n",
    "        cshort288 +=1\n",
    "        cshort72 +=1\n",
    "    \n",
    "    contatl = 0\n",
    "    if spw.c[i] < sum(spw.c[i:i+72])/72:\n",
    "        contatl +=1\n",
    "    if spw.c[i] > spw.c[i+72]:\n",
    "        contatl +=1\n",
    "    if max72 > 0:\n",
    "        contatl +=1\n",
    "    contats = 0\n",
    "    if spw.c[i] > sum(spw.c[i:i+72])/72:\n",
    "        contats -=1\n",
    "    if spw.c[i] < spw.c[i+72]:\n",
    "        contats -=1\n",
    "    if min72 < 0:\n",
    "        contats -=1\n",
    "    if contatl == 3 or contats == -3:\n",
    "        c72 = (((sum(spw.c[i:(i+72)])/72)/spw.c[i])-1)*100\n",
    "    else:\n",
    "        c72 = 0  \n",
    "    if contatl == 3:\n",
    "        clong288 +=1\n",
    "        clong72 +=1\n",
    "    if contats == -3:\n",
    "        cshort288 +=1\n",
    "        cshort72 +=1\n",
    "    \n",
    "    contatl = 0\n",
    "    if spw.c[i] < sum(spw.c[i:i+96])/96:\n",
    "        contatl +=1\n",
    "    if spw.c[i] > spw.c[i+96]:\n",
    "        contatl +=1\n",
    "    if max96 > 0:\n",
    "        contatl +=1\n",
    "    contats = 0\n",
    "    if spw.c[i] > sum(spw.c[i:i+96])/96:\n",
    "        contats -=1\n",
    "    if spw.c[i] < spw.c[i+96]:\n",
    "        contats -=1\n",
    "    if min96 < 0:\n",
    "        contats -=1\n",
    "    if contatl == 3 or contats == -3:\n",
    "        c96 = (((sum(spw.c[i:(i+96)])/96)/spw.c[i])-1)*100\n",
    "    else:\n",
    "        c96 = 0\n",
    "    if contatl == 3:\n",
    "        clong288 +=1\n",
    "    if contats == -3:\n",
    "        cshort288 +=1\n",
    "        \n",
    "    contatl = 0\n",
    "    if spw.c[i] < sum(spw.c[i:i+192])/192:\n",
    "        contatl +=1\n",
    "    if spw.c[i] > spw.c[i+192]:\n",
    "        contatl +=1\n",
    "    if max192 > 0:\n",
    "        contatl +=1\n",
    "    contats = 0\n",
    "    if spw.c[i] > sum(spw.c[i:i+192])/192:\n",
    "        contats -=1\n",
    "    if spw.c[i] < spw.c[i+192]:\n",
    "        contats -=1\n",
    "    if min192 < 0:\n",
    "        contats -=1\n",
    "    if contatl == 3 or contats == -3:\n",
    "        c192 = (((sum(spw.c[i:(i+192)])/192)/spw.c[i])-1)*100\n",
    "    else:\n",
    "        c192 = 0      \n",
    "    if contatl == 3:\n",
    "        clong288 +=1\n",
    "    if contats == -3:\n",
    "        cshort288 +=1\n",
    "        \n",
    "    contatl = 0\n",
    "    if spw.c[i] < sum(spw.c[i:i+288])/288:\n",
    "        contatl +=1\n",
    "    if spw.c[i] > spw.c[i+288]:\n",
    "        contatl +=1\n",
    "    if max288 > 0:\n",
    "        contatl +=1\n",
    "    contats = 0\n",
    "    if spw.c[i] > sum(spw.c[i:i+288])/288:\n",
    "        contats -=1\n",
    "    if spw.c[i] < spw.c[i+288]:\n",
    "        contats -=1\n",
    "    if min288 < 0:\n",
    "        contats -=1\n",
    "    if contatl == 3 or contats == -3:\n",
    "        c288 = (((sum(spw.c[i:(i+288)])/288)/spw.c[i])-1)*100\n",
    "    else:\n",
    "        c288 = 0\n",
    "    if contatl == 3:\n",
    "        clong288 +=1\n",
    "    if contats == -3:\n",
    "        cshort288 += 1\n",
    "\n",
    "    if (clong288 + cshort288) > 0:\n",
    "        ctot288 = (clong288 + cshort288)\n",
    "    else:\n",
    "        ctot288 = 1\n",
    "    lc288w.append((c12+c24+c48+c72+c96+c192+c288)/ctot288)\n",
    "    \n",
    "    if (clong72 + cshort72) > 0:\n",
    "        ctot72 = (clong72 + cshort72)\n",
    "    else:\n",
    "        ctot72 = 1\n",
    "    lc72w.append((c12+c24+c48+c72)/ctot72)\n",
    "lc288w.extend([0]*288)\n",
    "lc72w.extend([0]*288)"
   ]
  },
  {
   "cell_type": "code",
   "execution_count": 32,
   "metadata": {
    "collapsed": false
   },
   "outputs": [
    {
     "name": "stdout",
     "output_type": "stream",
     "text": [
      "42.2414297463 -15.094582949 9.81403250041 -13.8656712844\n"
     ]
    }
   ],
   "source": [
    "print max(lc288w), min(lc288w), max(lc72w), min(lc72w)"
   ]
  },
  {
   "cell_type": "code",
   "execution_count": 33,
   "metadata": {
    "collapsed": false
   },
   "outputs": [
    {
     "name": "stdout",
     "output_type": "stream",
     "text": [
      "662 214 1426 284\n"
     ]
    }
   ],
   "source": [
    "print lc288w.index(max(lc288w)), lc288w.index(min(lc288w)), lc72w.index(max(lc72w)), lc72w.index(min(lc72w))"
   ]
  },
  {
   "cell_type": "code",
   "execution_count": 34,
   "metadata": {
    "collapsed": false
   },
   "outputs": [
    {
     "name": "stdout",
     "output_type": "stream",
     "text": [
      "2011-04-29 00:00:00\n"
     ]
    }
   ],
   "source": [
    "print spw.date[214]"
   ]
  },
  {
   "cell_type": "code",
   "execution_count": 35,
   "metadata": {
    "collapsed": false
   },
   "outputs": [
    {
     "name": "stdout",
     "output_type": "stream",
     "text": [
      "0.0 0.0\n"
     ]
    }
   ],
   "source": [
    "print lc288w[0], lc72w[0]"
   ]
  },
  {
   "cell_type": "code",
   "execution_count": 36,
   "metadata": {
    "collapsed": true
   },
   "outputs": [],
   "source": [
    "ldd = []\n",
    "for i in range(len(spd)-288):\n",
    "    ld = (((d12[i]*12)+(d24[i]*24)+(d48[i]*48)+(d72[i]*72)+(d96[i]*96)+(d192[i]*192)+(d288[i]*288))/732)\n",
    "    ldd.append(((ld/spd.c[i])-1)*100)\n",
    "ldd.extend([0]*288)"
   ]
  },
  {
   "cell_type": "code",
   "execution_count": 37,
   "metadata": {
    "collapsed": false
   },
   "outputs": [
    {
     "name": "stdout",
     "output_type": "stream",
     "text": [
      "60.3588420227 -16.6628320733\n"
     ]
    }
   ],
   "source": [
    "print max(ldd), min(ldd)"
   ]
  },
  {
   "cell_type": "code",
   "execution_count": 38,
   "metadata": {
    "collapsed": false
   },
   "outputs": [
    {
     "name": "stdout",
     "output_type": "stream",
     "text": [
      "1644 8217\n"
     ]
    }
   ],
   "source": [
    "print ldd.index(max(ldd)), ldd.index(min(ldd))"
   ]
  },
  {
   "cell_type": "code",
   "execution_count": 39,
   "metadata": {
    "collapsed": false
   },
   "outputs": [
    {
     "name": "stdout",
     "output_type": "stream",
     "text": [
      "1982-11-03 00:00:00\n"
     ]
    }
   ],
   "source": [
    "print spd.date[8217]"
   ]
  },
  {
   "cell_type": "code",
   "execution_count": 40,
   "metadata": {
    "collapsed": false
   },
   "outputs": [
    {
     "name": "stdout",
     "output_type": "stream",
     "text": [
      "-2.07431921315\n"
     ]
    }
   ],
   "source": [
    "print ldd[0]"
   ]
  },
  {
   "cell_type": "code",
   "execution_count": 41,
   "metadata": {
    "collapsed": true
   },
   "outputs": [],
   "source": [
    "ldw = []\n",
    "for i in range(len(spw)-288):\n",
    "    ld = (((w12[i]*12)+(w24[i]*24)+(w48[i]*48)+(w72[i]*72)+(w96[i]*96)+(w192[i]*192)+(w288[i]*288))/732)\n",
    "    ldw.append(((ld/spw.c[i])-1)*100)\n",
    "ldw.extend([0]*288)"
   ]
  },
  {
   "cell_type": "code",
   "execution_count": 42,
   "metadata": {
    "collapsed": false
   },
   "outputs": [
    {
     "name": "stdout",
     "output_type": "stream",
     "text": [
      "79.73482651 -34.846752505\n"
     ]
    }
   ],
   "source": [
    "print max(ldw), min(ldw)"
   ]
  },
  {
   "cell_type": "code",
   "execution_count": 43,
   "metadata": {
    "collapsed": false
   },
   "outputs": [
    {
     "name": "stdout",
     "output_type": "stream",
     "text": [
      "326 896\n"
     ]
    }
   ],
   "source": [
    "print ldw.index(max(ldw)), ldw.index(min(ldw))"
   ]
  },
  {
   "cell_type": "code",
   "execution_count": 44,
   "metadata": {
    "collapsed": false
   },
   "outputs": [
    {
     "name": "stdout",
     "output_type": "stream",
     "text": [
      "2009-03-06 00:00:00\n"
     ]
    }
   ],
   "source": [
    "print spw.date[326]"
   ]
  },
  {
   "cell_type": "code",
   "execution_count": 45,
   "metadata": {
    "collapsed": false
   },
   "outputs": [
    {
     "name": "stdout",
     "output_type": "stream",
     "text": [
      "-17.8479186214\n"
     ]
    }
   ],
   "source": [
    "print ldw[0]"
   ]
  },
  {
   "cell_type": "code",
   "execution_count": 46,
   "metadata": {
    "collapsed": true
   },
   "outputs": [],
   "source": [
    "lmd = []\n",
    "for i in range(len(spd)-288):\n",
    "    lm = 0\n",
    "    if spd.c[i] > d96[i] and spd.c[i] > d288[i]:\n",
    "        lm = 1\n",
    "    elif spd.c[i] < d96[i] and spd.c[i] < d288[i]:\n",
    "        lm = -1\n",
    "    lmd.append(lm)\n",
    "lmd.extend([0]*288)"
   ]
  },
  {
   "cell_type": "code",
   "execution_count": 47,
   "metadata": {
    "collapsed": false
   },
   "outputs": [
    {
     "name": "stdout",
     "output_type": "stream",
     "text": [
      "1 -1\n"
     ]
    }
   ],
   "source": [
    "print max(lmd), min(lmd)"
   ]
  },
  {
   "cell_type": "code",
   "execution_count": 48,
   "metadata": {
    "collapsed": false
   },
   "outputs": [
    {
     "name": "stdout",
     "output_type": "stream",
     "text": [
      "0.420780711825\n"
     ]
    }
   ],
   "source": [
    "print sum(lmd)/len(lmd)"
   ]
  },
  {
   "cell_type": "code",
   "execution_count": 49,
   "metadata": {
    "collapsed": false
   },
   "outputs": [
    {
     "name": "stdout",
     "output_type": "stream",
     "text": [
      "1\n"
     ]
    }
   ],
   "source": [
    "print lmd[0]"
   ]
  },
  {
   "cell_type": "code",
   "execution_count": 50,
   "metadata": {
    "collapsed": true
   },
   "outputs": [],
   "source": [
    "lmw = []\n",
    "for i in range(len(spw)-288):\n",
    "    lm = 0\n",
    "    if spw.c[i] > w96[i] and spw.c[i] > w288[i]:\n",
    "        lm = 1\n",
    "    elif spw.c[i] < w96[i] and spw.c[i] < w288[i]:\n",
    "        lm = -1\n",
    "    lmw.append(lm)    \n",
    "lmw.extend([0]*288)"
   ]
  },
  {
   "cell_type": "code",
   "execution_count": 51,
   "metadata": {
    "collapsed": false
   },
   "outputs": [
    {
     "name": "stdout",
     "output_type": "stream",
     "text": [
      "1 -1\n"
     ]
    }
   ],
   "source": [
    "print max(lmw), min(lmw)"
   ]
  },
  {
   "cell_type": "code",
   "execution_count": 52,
   "metadata": {
    "collapsed": false
   },
   "outputs": [
    {
     "name": "stdout",
     "output_type": "stream",
     "text": [
      "0.551341350601\n"
     ]
    }
   ],
   "source": [
    "print sum(lmw)/len(lmw)"
   ]
  },
  {
   "cell_type": "code",
   "execution_count": 53,
   "metadata": {
    "collapsed": false
   },
   "outputs": [
    {
     "name": "stdout",
     "output_type": "stream",
     "text": [
      "1\n"
     ]
    }
   ],
   "source": [
    "print lmw[0]"
   ]
  },
  {
   "cell_type": "code",
   "execution_count": 54,
   "metadata": {
    "collapsed": false
   },
   "outputs": [
    {
     "data": {
      "text/html": [
       "<div style=\"max-height:1000px;max-width:1500px;overflow:auto;\">\n",
       "<table border=\"1\" class=\"dataframe\">\n",
       "  <thead>\n",
       "    <tr style=\"text-align: right;\">\n",
       "      <th></th>\n",
       "      <th>nrow</th>\n",
       "      <th>date</th>\n",
       "      <th>o</th>\n",
       "      <th>h</th>\n",
       "      <th>l</th>\n",
       "      <th>close</th>\n",
       "      <th>vol</th>\n",
       "      <th>c</th>\n",
       "      <th>lixt</th>\n",
       "      <th>lixc72</th>\n",
       "      <th>lixc288</th>\n",
       "      <th>lixd</th>\n",
       "      <th>lixm</th>\n",
       "    </tr>\n",
       "  </thead>\n",
       "  <tbody>\n",
       "    <tr>\n",
       "      <th>0</th>\n",
       "      <td> 0</td>\n",
       "      <td>2015-06-05</td>\n",
       "      <td> 2095.09009</td>\n",
       "      <td> 2100.98999</td>\n",
       "      <td> 2085.66992</td>\n",
       "      <td> 2092.83008</td>\n",
       "      <td> 3243690000</td>\n",
       "      <td> 2092.83008</td>\n",
       "      <td> 2.523671</td>\n",
       "      <td> 0.451289</td>\n",
       "      <td> 0.451289</td>\n",
       "      <td>-2.074319</td>\n",
       "      <td> 1</td>\n",
       "    </tr>\n",
       "    <tr>\n",
       "      <th>1</th>\n",
       "      <td> 1</td>\n",
       "      <td>2015-06-04</td>\n",
       "      <td> 2112.35010</td>\n",
       "      <td> 2112.88989</td>\n",
       "      <td> 2093.22998</td>\n",
       "      <td> 2095.84009</td>\n",
       "      <td> 3200050000</td>\n",
       "      <td> 2095.84009</td>\n",
       "      <td> 2.733611</td>\n",
       "      <td> 0.275403</td>\n",
       "      <td> 0.275403</td>\n",
       "      <td>-2.240354</td>\n",
       "      <td> 1</td>\n",
       "    </tr>\n",
       "    <tr>\n",
       "      <th>2</th>\n",
       "      <td> 2</td>\n",
       "      <td>2015-06-03</td>\n",
       "      <td> 2110.63989</td>\n",
       "      <td> 2121.91992</td>\n",
       "      <td> 2109.61011</td>\n",
       "      <td> 2114.07007</td>\n",
       "      <td> 3099980000</td>\n",
       "      <td> 2114.07007</td>\n",
       "      <td> 3.870495</td>\n",
       "      <td> 0.000000</td>\n",
       "      <td> 0.000000</td>\n",
       "      <td>-3.114668</td>\n",
       "      <td> 1</td>\n",
       "    </tr>\n",
       "  </tbody>\n",
       "</table>\n",
       "</div>"
      ],
      "text/plain": [
       "   nrow       date           o           h           l       close  \\\n",
       "0     0 2015-06-05  2095.09009  2100.98999  2085.66992  2092.83008   \n",
       "1     1 2015-06-04  2112.35010  2112.88989  2093.22998  2095.84009   \n",
       "2     2 2015-06-03  2110.63989  2121.91992  2109.61011  2114.07007   \n",
       "\n",
       "          vol           c      lixt    lixc72   lixc288      lixd  lixm  \n",
       "0  3243690000  2092.83008  2.523671  0.451289  0.451289 -2.074319     1  \n",
       "1  3200050000  2095.84009  2.733611  0.275403  0.275403 -2.240354     1  \n",
       "2  3099980000  2114.07007  3.870495  0.000000  0.000000 -3.114668     1  "
      ]
     },
     "execution_count": 54,
     "metadata": {},
     "output_type": "execute_result"
    }
   ],
   "source": [
    "spd['lixt'] = ltd\n",
    "spd['lixc72'] = lc72d\n",
    "spd['lixc288'] = lc288d\n",
    "spd['lixd'] = ldd\n",
    "spd['lixm'] = lmd\n",
    "spd.head(3)"
   ]
  },
  {
   "cell_type": "code",
   "execution_count": 55,
   "metadata": {
    "collapsed": false
   },
   "outputs": [
    {
     "data": {
      "text/html": [
       "<div style=\"max-height:1000px;max-width:1500px;overflow:auto;\">\n",
       "<table border=\"1\" class=\"dataframe\">\n",
       "  <thead>\n",
       "    <tr style=\"text-align: right;\">\n",
       "      <th></th>\n",
       "      <th>nrow</th>\n",
       "      <th>date</th>\n",
       "      <th>o</th>\n",
       "      <th>h</th>\n",
       "      <th>l</th>\n",
       "      <th>close</th>\n",
       "      <th>vol</th>\n",
       "      <th>c</th>\n",
       "      <th>lixt</th>\n",
       "      <th>lixc72</th>\n",
       "      <th>lixc288</th>\n",
       "      <th>lixd</th>\n",
       "      <th>lixm</th>\n",
       "    </tr>\n",
       "  </thead>\n",
       "  <tbody>\n",
       "    <tr>\n",
       "      <th>0</th>\n",
       "      <td> 0</td>\n",
       "      <td>2015-06-05</td>\n",
       "      <td> 2108.63989</td>\n",
       "      <td> 2121.91992</td>\n",
       "      <td> 2085.66992</td>\n",
       "      <td> 2092.83008</td>\n",
       "      <td> 3120956000</td>\n",
       "      <td> 2092.83008</td>\n",
       "      <td> 29.583573</td>\n",
       "      <td> 0</td>\n",
       "      <td> 0</td>\n",
       "      <td>-17.847919</td>\n",
       "      <td> 1</td>\n",
       "    </tr>\n",
       "    <tr>\n",
       "      <th>1</th>\n",
       "      <td> 1</td>\n",
       "      <td>2015-05-29</td>\n",
       "      <td> 2125.34009</td>\n",
       "      <td> 2126.21997</td>\n",
       "      <td> 2099.17993</td>\n",
       "      <td> 2107.38989</td>\n",
       "      <td> 3344457500</td>\n",
       "      <td> 2107.38989</td>\n",
       "      <td> 31.080824</td>\n",
       "      <td> 0</td>\n",
       "      <td> 0</td>\n",
       "      <td>-18.595005</td>\n",
       "      <td> 1</td>\n",
       "    </tr>\n",
       "    <tr>\n",
       "      <th>2</th>\n",
       "      <td> 2</td>\n",
       "      <td>2015-05-22</td>\n",
       "      <td> 2121.30005</td>\n",
       "      <td> 2134.71997</td>\n",
       "      <td> 2120.01001</td>\n",
       "      <td> 2126.06006</td>\n",
       "      <td> 2970484000</td>\n",
       "      <td> 2126.06006</td>\n",
       "      <td> 32.704591</td>\n",
       "      <td> 0</td>\n",
       "      <td> 0</td>\n",
       "      <td>-19.499769</td>\n",
       "      <td> 1</td>\n",
       "    </tr>\n",
       "  </tbody>\n",
       "</table>\n",
       "</div>"
      ],
      "text/plain": [
       "   nrow       date           o           h           l       close  \\\n",
       "0     0 2015-06-05  2108.63989  2121.91992  2085.66992  2092.83008   \n",
       "1     1 2015-05-29  2125.34009  2126.21997  2099.17993  2107.38989   \n",
       "2     2 2015-05-22  2121.30005  2134.71997  2120.01001  2126.06006   \n",
       "\n",
       "          vol           c       lixt  lixc72  lixc288       lixd  lixm  \n",
       "0  3120956000  2092.83008  29.583573       0        0 -17.847919     1  \n",
       "1  3344457500  2107.38989  31.080824       0        0 -18.595005     1  \n",
       "2  2970484000  2126.06006  32.704591       0        0 -19.499769     1  "
      ]
     },
     "execution_count": 55,
     "metadata": {},
     "output_type": "execute_result"
    }
   ],
   "source": [
    "spw['lixt'] = ltw\n",
    "spw['lixc72'] = lc72w\n",
    "spw['lixc288'] = lc288w\n",
    "spw['lixd'] = ldw\n",
    "spw['lixm'] = lmw\n",
    "spw.head(3)"
   ]
  },
  {
   "cell_type": "markdown",
   "metadata": {},
   "source": [
    "## Building samples dataset (predict all 3 months of the quarter)"
   ]
  },
  {
   "cell_type": "code",
   "execution_count": 56,
   "metadata": {
    "collapsed": false
   },
   "outputs": [
    {
     "data": {
      "text/plain": [
       "141"
      ]
     },
     "execution_count": 56,
     "metadata": {},
     "output_type": "execute_result"
    }
   ],
   "source": [
    "exp = []\n",
    "d = dp.parse(\"21/03/2015\")\n",
    "while d > dp.parse(\"20/03/1980\"):\n",
    "    d = d - WeekOfMonth(weekday = 4, week = 2) + DateOffset(days = 1) - BDay()\n",
    "#    if d != dp.parse(\"21/09/2001\"):\n",
    "    exp.append(d)\n",
    "    d = d - DateOffset(days = 80)\n",
    "\n",
    "len(exp)"
   ]
  },
  {
   "cell_type": "code",
   "execution_count": 57,
   "metadata": {
    "collapsed": true
   },
   "outputs": [],
   "source": [
    "q1c = []\n",
    "q1cstd = []\n",
    "q1high = []\n",
    "q1low = []\n",
    "q1range = []\n",
    "q1middle = []\n",
    "q1pos = []\n",
    "q0c = []\n",
    "q0cstd = []\n",
    "q0high = []\n",
    "q0low = []\n",
    "q0spanmean = []\n",
    "q0spanstd = []\n",
    "q0lixt = []\n",
    "q0lixc72 = []\n",
    "q0lixc288 = []\n",
    "q0lixd = []\n",
    "q0lixm = []\n",
    "q0lixtv = []\n",
    "q0lixc72v = []\n",
    "q0lixc288v = []\n",
    "q0lixdv = []\n",
    "q0lixmv = []\n",
    "m0c = []\n",
    "m0cstd = []\n",
    "m0high = []\n",
    "m0low = []\n",
    "m0spanmean = []\n",
    "m0spanstd = []\n",
    "m0lixt = []\n",
    "m0lixc72 = []\n",
    "m0lixc288 = []\n",
    "m0lixd = []\n",
    "m0lixm = []\n",
    "m0lixtv = []\n",
    "m0lixc72v = []\n",
    "m0lixc288v = []\n",
    "m0lixdv = []\n",
    "m0lixmv = []"
   ]
  },
  {
   "cell_type": "code",
   "execution_count": 58,
   "metadata": {
    "collapsed": false
   },
   "outputs": [],
   "source": [
    "for q1end in exp:\n",
    "    q1start = q1end - DateOffset(weeks = 13)\n",
    "    m0start = q1start - DateOffset(weeks = 4)\n",
    "    q0start = q1start - DateOffset(weeks = 13)\n",
    "    q1indend = spw.nrow[spw.date == q1end]\n",
    "    \n",
    "    q1cstart = float(spw.c[q1indend + 13])\n",
    "    q1cend = float(spw.c[q1indend])    \n",
    "    q1cv = ((q1cend/q1cstart)-1)*100\n",
    "    q1c.append(q1cv)   \n",
    "    \n",
    "    q1clist = spd.c[(spd.date >= q1start) & (spd.date<= q1end)]\n",
    "    q1clist = q1clist.reset_index(drop=True)\n",
    "    q1cvars = []\n",
    "    for i in range(len(q1clist)):\n",
    "        if i < len(q1clist)-1:\n",
    "            q1cvars.append(((q1clist[i]/q1clist[i+1])-1)*100)\n",
    "    q1cstd.append(np.std(q1cvars))\n",
    "    \n",
    "    q1chigh = ((np.max(q1clist)/q1cstart)-1)*100\n",
    "    q1high.append(q1chigh)\n",
    "    \n",
    "    q1clow = ((np.min(q1clist)/q1cstart)-1)*100\n",
    "    q1low.append(q1clow)\n",
    "    \n",
    "    q1crange = q1chigh - q1clow\n",
    "    q1range.append(q1crange)\n",
    "    \n",
    "    q1cmiddle = q1chigh - (q1crange / 2)\n",
    "    q1middle.append(q1cmiddle)\n",
    "    \n",
    "    q1cpos = (((q1cv - q1clow)/q1crange)-0.5)*200\n",
    "    q1pos.append(q1cpos)\n",
    "    \n",
    "    q1indstart = spw.nrow[spw.date == q1start]\n",
    "    \n",
    "    q0cstart = float(spw.c[q1indstart + 13])\n",
    "    q0cend = float(spw.c[q1indstart])    \n",
    "    q0cv = ((q0cend/q0cstart)-1)*100\n",
    "    q0c.append(q0cv)\n",
    "    \n",
    "    q0clist = spd.c[(spd.date >= q0start) & (spd.date<= q1start)]\n",
    "    q0clist = q0clist.reset_index(drop=True)\n",
    "    q0cvars = []\n",
    "    for i in range(len(q0clist)):\n",
    "        if i < len(q0clist)-1:\n",
    "            q0cvars.append(((q0clist[i]/q0clist[i+1])-1)*100)\n",
    "    q0cstd.append(np.std(q0cvars))\n",
    "    \n",
    "    q0hlist = spd.h[(spd.date >= q0start) & (spd.date<= q1start)]\n",
    "    q0hlist = q0hlist.reset_index(drop=True)\n",
    "    q0hvars = []\n",
    "    for i in range(len(q0hlist)):\n",
    "        q0hvars.append(((q0hlist[i]/q0clist[i])-1)*100)\n",
    "    q0high.append(np.mean(q0hvars))\n",
    "    \n",
    "    q0llist = spd.l[(spd.date >= q0start) & (spd.date<= q1start)]\n",
    "    q0llist = q0llist.reset_index(drop=True)\n",
    "    q0lvars = []\n",
    "    for i in range(len(q0llist)):\n",
    "        q0lvars.append(((q0llist[i]/q0clist[i])-1)*100)\n",
    "    q0low.append(np.mean(q0lvars))\n",
    "    \n",
    "    q0svars = []\n",
    "    for i in range(len(q0llist)):\n",
    "        q0svars.append(((q0hlist[i]/q0llist[i])-1)*100)\n",
    "    q0spanmean.append(np.mean(q0svars))\n",
    "    q0spanstd.append(np.std(q0svars))\n",
    "\n",
    "    lixt1 = float((spw.lixt[spw.date == q1start]))\n",
    "    lixt0 = float((spw.lixt[spw.date == q0start]))\n",
    "    lixtm1 = float((spd.lixt[spd.date == q1start]))\n",
    "    lixtm0 = float((spd.lixt[spd.date == m0start]))\n",
    "    q0lixt.append(float(lixt1))\n",
    "    q0lixtv.append(float(lixt1 - lixt0))\n",
    "    m0lixt.append(float(lixtm1))\n",
    "    m0lixtv.append(float(lixtm1 - lixtm0))\n",
    "    \n",
    "    lixc721 = float((spw.lixc72[spw.date == q1start]))\n",
    "    lixc720 = float((spw.lixc72[spw.date == q0start]))\n",
    "    lixc72m1 = float((spd.lixc72[spd.date == q1start]))\n",
    "    lixc72m0 = float((spd.lixc72[spd.date == m0start]))\n",
    "    q0lixc72.append(float(lixc721))\n",
    "    q0lixc72v.append(float(lixc721 - lixc720))\n",
    "    m0lixc72.append(float(lixc72m1))\n",
    "    m0lixc72v.append(float(lixc72m1 - lixc72m0))\n",
    "    \n",
    "    lixc2881 = float((spw.lixc288[spw.date == q1start]))\n",
    "    lixc2880 = float((spw.lixc288[spw.date == q0start]))\n",
    "    lixc288m1 = float((spd.lixc288[spd.date == q1start]))\n",
    "    lixc288m0 = float((spd.lixc288[spd.date == m0start]))\n",
    "    q0lixc288.append(float(lixc2881))\n",
    "    q0lixc288v.append(float(lixc2881 - lixc2880))\n",
    "    m0lixc288.append(float(lixc288m1))\n",
    "    m0lixc288v.append(float(lixc288m1 - lixc288m0))\n",
    "    \n",
    "    lixd1 = float((spw.lixd[spw.date == q1start]))\n",
    "    lixd0 = float((spw.lixd[spw.date == q0start]))\n",
    "    lixdm1 = float((spd.lixd[spd.date == q1start]))\n",
    "    lixdm0 = float((spd.lixd[spd.date == m0start]))\n",
    "    q0lixd.append(float(lixd1))\n",
    "    q0lixdv.append(float(lixd1 - lixd0))\n",
    "    m0lixd.append(float(lixdm1))\n",
    "    m0lixdv.append(float(lixdm1 - lixdm0))\n",
    "    \n",
    "    lixm1 = float((spw.lixm[spw.date == q1start]))\n",
    "    lixm0 = float((spw.lixm[spw.date == q0start]))\n",
    "    lixmm1 = float((spd.lixm[spd.date == q1start]))\n",
    "    lixmm0 = float((spd.lixm[spd.date == m0start]))\n",
    "    q0lixm.append(float(lixm1))\n",
    "    q0lixmv.append(float(lixm1 - lixm0))\n",
    "    m0lixm.append(float(lixmm1))\n",
    "    m0lixmv.append(float(lixmm1 - lixmm0))\n",
    "    \n",
    "    q1indstart = spw.nrow[spw.date == q1start]\n",
    "    \n",
    "    m0cstart = float(spw.c[q1indstart + 4])\n",
    "    m0cend = q0cend  \n",
    "    m0cv = ((m0cend/m0cstart)-1)*100\n",
    "    m0c.append(float(m0cv))\n",
    "    \n",
    "    m0clist = spd.c[(spd.date >= m0start) & (spd.date<= q1start)]\n",
    "    m0clist = m0clist.reset_index(drop=True)\n",
    "    m0cvars = []\n",
    "    for i in range(len(m0clist)):\n",
    "        if i < len(m0clist)-1:\n",
    "            m0cvars.append(float(((m0clist[i]/m0clist[i+1])-1)*100))\n",
    "    m0cstd.append(float(np.std(m0cvars)))\n",
    "    \n",
    "    m0hlist = spd.h[(spd.date >= m0start) & (spd.date<= q1start)]\n",
    "    m0hlist = m0hlist.reset_index(drop=True)\n",
    "    m0hvars = []\n",
    "    for i in range(len(m0hlist)):\n",
    "        m0hvars.append(float(((m0hlist[i]/m0clist[i])-1)*100))\n",
    "    m0high.append(float(np.mean(m0hvars)))\n",
    "    \n",
    "    m0llist = spd.l[(spd.date >= m0start) & (spd.date<= q1start)]\n",
    "    m0llist = m0llist.reset_index(drop=True)\n",
    "    m0lvars = []\n",
    "    for i in range(len(m0llist)):\n",
    "        m0lvars.append(float(((m0llist[i]/m0clist[i])-1)*100))\n",
    "    m0low.append(float(np.mean(m0lvars)))\n",
    "    \n",
    "    m0svars = []\n",
    "    for i in range(len(m0llist)):\n",
    "        m0svars.append(float(((m0hlist[i]/m0llist[i])-1)*100))\n",
    "    m0spanmean.append(float(np.mean(m0svars)))\n",
    "    m0spanstd.append(float(np.std(m0svars)))"
   ]
  },
  {
   "cell_type": "code",
   "execution_count": 59,
   "metadata": {
    "collapsed": true
   },
   "outputs": [],
   "source": [
    "data = pd.DataFrame(index = exp, columns = ['q1c','q1cstd','q1high','q1low','q1range','q1middle','q1pos','q0c',\n",
    "                                            'q0cstd','q0high','q0low','q0spanmean','q0spanstd','q0lixt','q0lixc72',\n",
    "                                            'q0lixc288','q0lixd','q0lixm','q0lixtv','q0lixc72v','q0lixc288v',\n",
    "                                            'q0lixdv','q0lixmv','m0c','m0cstd','m0high','m0low','m0spanmean',\n",
    "                                            'm0spanstd','m0lixt','m0lixc72','m0lixc288','m0lixd','m0lixm','m0lixtv',\n",
    "                                            'm0lixc72v','m0lixc288v','m0lixdv','m0lixmv'])"
   ]
  },
  {
   "cell_type": "code",
   "execution_count": 60,
   "metadata": {
    "collapsed": false
   },
   "outputs": [],
   "source": [
    "data.q1c = q1c\n",
    "data.q1cstd = q1cstd\n",
    "data.q1high = q1high\n",
    "data.q1low = q1low\n",
    "data.q1range = q1range\n",
    "data.q1middle = q1middle\n",
    "data.q1pos = q1pos\n",
    "data.q0c = q0c\n",
    "data.q0cstd = q0cstd\n",
    "data.q0high = q0high\n",
    "data.q0low = q0low\n",
    "data.q0spanmean = q0spanmean\n",
    "data.q0spanstd = q0spanstd\n",
    "data.q0lixt = q0lixt\n",
    "data.q0lixc72 = q0lixc72\n",
    "data.q0lixc288 = q0lixc288\n",
    "data.q0lixd = q0lixd\n",
    "data.q0lixm = q0lixm\n",
    "data.q0lixtv = q0lixtv\n",
    "data.q0lixc72v = q0lixc72v\n",
    "data.q0lixc288v = q0lixc288v\n",
    "data.q0lixdv = q0lixdv\n",
    "data.q0lixmv = q0lixmv\n",
    "data.m0c = m0c\n",
    "data.m0cstd = m0cstd\n",
    "data.m0high = m0high\n",
    "data.m0low = m0low\n",
    "data.m0spanmean = m0spanmean\n",
    "data.m0spanstd = m0spanstd\n",
    "data.m0lixt = m0lixt\n",
    "data.m0lixc72 = m0lixc72\n",
    "data.m0lixc288 = m0lixc288\n",
    "data.m0lixd = m0lixd\n",
    "data.m0lixm = m0lixm\n",
    "data.m0lixtv = m0lixtv\n",
    "data.m0lixc72v = m0lixc72v\n",
    "data.m0lixc288v = m0lixc288v\n",
    "data.m0lixdv = m0lixdv\n",
    "data.m0lixmv = m0lixmv"
   ]
  },
  {
   "cell_type": "code",
   "execution_count": 61,
   "metadata": {
    "collapsed": false
   },
   "outputs": [
    {
     "data": {
      "text/plain": [
       "141"
      ]
     },
     "execution_count": 61,
     "metadata": {},
     "output_type": "execute_result"
    }
   ],
   "source": [
    "len(data)"
   ]
  },
  {
   "cell_type": "code",
   "execution_count": 62,
   "metadata": {
    "collapsed": false
   },
   "outputs": [
    {
     "data": {
      "text/html": [
       "<div style=\"max-height:1000px;max-width:1500px;overflow:auto;\">\n",
       "<table border=\"1\" class=\"dataframe\">\n",
       "  <thead>\n",
       "    <tr style=\"text-align: right;\">\n",
       "      <th></th>\n",
       "      <th>q1c</th>\n",
       "      <th>q1cstd</th>\n",
       "      <th>q1high</th>\n",
       "      <th>q1low</th>\n",
       "      <th>q1range</th>\n",
       "      <th>q1middle</th>\n",
       "      <th>q1pos</th>\n",
       "      <th>q0c</th>\n",
       "      <th>q0cstd</th>\n",
       "      <th>q0high</th>\n",
       "      <th>...</th>\n",
       "      <th>m0lixt</th>\n",
       "      <th>m0lixc72</th>\n",
       "      <th>m0lixc288</th>\n",
       "      <th>m0lixd</th>\n",
       "      <th>m0lixm</th>\n",
       "      <th>m0lixtv</th>\n",
       "      <th>m0lixc72v</th>\n",
       "      <th>m0lixc288v</th>\n",
       "      <th>m0lixdv</th>\n",
       "      <th>m0lixmv</th>\n",
       "    </tr>\n",
       "  </thead>\n",
       "  <tbody>\n",
       "    <tr>\n",
       "      <th>2015-03-20</th>\n",
       "      <td> 1.808621</td>\n",
       "      <td> 0.851452</td>\n",
       "      <td> 2.257262</td>\n",
       "      <td>-3.765961</td>\n",
       "      <td>  6.023222</td>\n",
       "      <td>-0.754349</td>\n",
       "      <td> 85.102949</td>\n",
       "      <td> 2.996910</td>\n",
       "      <td> 0.920216</td>\n",
       "      <td> 0.512111</td>\n",
       "      <td>...</td>\n",
       "      <td> 7.285306</td>\n",
       "      <td> 0</td>\n",
       "      <td> 0</td>\n",
       "      <td>-5.667367</td>\n",
       "      <td> 1</td>\n",
       "      <td>-0.514500</td>\n",
       "      <td> 0</td>\n",
       "      <td> 0</td>\n",
       "      <td> 0.659982</td>\n",
       "      <td> 0</td>\n",
       "    </tr>\n",
       "    <tr>\n",
       "      <th>2014-12-19</th>\n",
       "      <td> 2.996910</td>\n",
       "      <td> 0.920216</td>\n",
       "      <td> 3.231700</td>\n",
       "      <td>-7.357244</td>\n",
       "      <td> 10.588944</td>\n",
       "      <td>-2.062772</td>\n",
       "      <td> 95.565373</td>\n",
       "      <td> 2.421455</td>\n",
       "      <td> 0.529902</td>\n",
       "      <td> 0.296047</td>\n",
       "      <td>...</td>\n",
       "      <td> 6.239702</td>\n",
       "      <td> 0</td>\n",
       "      <td> 0</td>\n",
       "      <td>-5.549377</td>\n",
       "      <td> 1</td>\n",
       "      <td>-0.927099</td>\n",
       "      <td> 0</td>\n",
       "      <td> 0</td>\n",
       "      <td> 0.082600</td>\n",
       "      <td> 0</td>\n",
       "    </tr>\n",
       "    <tr>\n",
       "      <th>2014-09-19</th>\n",
       "      <td> 2.421455</td>\n",
       "      <td> 0.529902</td>\n",
       "      <td> 2.470362</td>\n",
       "      <td>-2.715414</td>\n",
       "      <td>  5.185776</td>\n",
       "      <td>-0.122526</td>\n",
       "      <td> 98.113823</td>\n",
       "      <td> 5.162012</td>\n",
       "      <td> 0.599897</td>\n",
       "      <td> 0.325310</td>\n",
       "      <td>...</td>\n",
       "      <td> 8.935134</td>\n",
       "      <td> 0</td>\n",
       "      <td> 0</td>\n",
       "      <td>-7.054315</td>\n",
       "      <td> 1</td>\n",
       "      <td> 2.126565</td>\n",
       "      <td> 0</td>\n",
       "      <td> 0</td>\n",
       "      <td>-1.652266</td>\n",
       "      <td> 0</td>\n",
       "    </tr>\n",
       "  </tbody>\n",
       "</table>\n",
       "<p>3 rows × 39 columns</p>\n",
       "</div>"
      ],
      "text/plain": [
       "                 q1c    q1cstd    q1high     q1low    q1range  q1middle  \\\n",
       "2015-03-20  1.808621  0.851452  2.257262 -3.765961   6.023222 -0.754349   \n",
       "2014-12-19  2.996910  0.920216  3.231700 -7.357244  10.588944 -2.062772   \n",
       "2014-09-19  2.421455  0.529902  2.470362 -2.715414   5.185776 -0.122526   \n",
       "\n",
       "                q1pos       q0c    q0cstd    q0high   ...       m0lixt  \\\n",
       "2015-03-20  85.102949  2.996910  0.920216  0.512111   ...     7.285306   \n",
       "2014-12-19  95.565373  2.421455  0.529902  0.296047   ...     6.239702   \n",
       "2014-09-19  98.113823  5.162012  0.599897  0.325310   ...     8.935134   \n",
       "\n",
       "            m0lixc72  m0lixc288    m0lixd  m0lixm   m0lixtv  m0lixc72v  \\\n",
       "2015-03-20         0          0 -5.667367       1 -0.514500          0   \n",
       "2014-12-19         0          0 -5.549377       1 -0.927099          0   \n",
       "2014-09-19         0          0 -7.054315       1  2.126565          0   \n",
       "\n",
       "            m0lixc288v   m0lixdv  m0lixmv  \n",
       "2015-03-20           0  0.659982        0  \n",
       "2014-12-19           0  0.082600        0  \n",
       "2014-09-19           0 -1.652266        0  \n",
       "\n",
       "[3 rows x 39 columns]"
      ]
     },
     "execution_count": 62,
     "metadata": {},
     "output_type": "execute_result"
    }
   ],
   "source": [
    "data.head(3)"
   ]
  },
  {
   "cell_type": "code",
   "execution_count": 63,
   "metadata": {
    "collapsed": false
   },
   "outputs": [
    {
     "data": {
      "text/html": [
       "<div style=\"max-height:1000px;max-width:1500px;overflow:auto;\">\n",
       "<table border=\"1\" class=\"dataframe\">\n",
       "  <thead>\n",
       "    <tr style=\"text-align: right;\">\n",
       "      <th></th>\n",
       "      <th>q1c</th>\n",
       "      <th>q1cstd</th>\n",
       "      <th>q1high</th>\n",
       "      <th>q1low</th>\n",
       "      <th>q1range</th>\n",
       "      <th>q1middle</th>\n",
       "      <th>q1pos</th>\n",
       "      <th>q0c</th>\n",
       "      <th>q0cstd</th>\n",
       "      <th>q0high</th>\n",
       "      <th>...</th>\n",
       "      <th>m0lixt</th>\n",
       "      <th>m0lixc72</th>\n",
       "      <th>m0lixc288</th>\n",
       "      <th>m0lixd</th>\n",
       "      <th>m0lixm</th>\n",
       "      <th>m0lixtv</th>\n",
       "      <th>m0lixc72v</th>\n",
       "      <th>m0lixc288v</th>\n",
       "      <th>m0lixdv</th>\n",
       "      <th>m0lixmv</th>\n",
       "    </tr>\n",
       "  </thead>\n",
       "  <tbody>\n",
       "    <tr>\n",
       "      <th>1980-09-19</th>\n",
       "      <td> 13.317552</td>\n",
       "      <td> 0.848507</td>\n",
       "      <td> 13.317552</td>\n",
       "      <td> 0.000000</td>\n",
       "      <td> 13.317552</td>\n",
       "      <td> 6.658776</td>\n",
       "      <td> 100.000000</td>\n",
       "      <td> 11.484703</td>\n",
       "      <td> 1.030380</td>\n",
       "      <td> 1.051530</td>\n",
       "      <td>...</td>\n",
       "      <td> 5.873999</td>\n",
       "      <td> 0</td>\n",
       "      <td>-4.908783</td>\n",
       "      <td>-5.728638</td>\n",
       "      <td> 1</td>\n",
       "      <td>  2.612935</td>\n",
       "      <td> 3.663191</td>\n",
       "      <td>-1.245592</td>\n",
       "      <td> -1.929930</td>\n",
       "      <td> 0</td>\n",
       "    </tr>\n",
       "    <tr>\n",
       "      <th>1980-06-20</th>\n",
       "      <td> 11.484703</td>\n",
       "      <td> 1.030380</td>\n",
       "      <td> 13.635031</td>\n",
       "      <td>-3.997654</td>\n",
       "      <td> 17.632685</td>\n",
       "      <td> 4.818688</td>\n",
       "      <td>  75.609756</td>\n",
       "      <td> -4.907519</td>\n",
       "      <td> 1.035450</td>\n",
       "      <td> 1.184622</td>\n",
       "      <td>...</td>\n",
       "      <td>-3.365493</td>\n",
       "      <td> 0</td>\n",
       "      <td> 2.532201</td>\n",
       "      <td> 4.825966</td>\n",
       "      <td>-1</td>\n",
       "      <td>-11.566640</td>\n",
       "      <td>-0.099965</td>\n",
       "      <td> 2.432235</td>\n",
       "      <td> 11.860214</td>\n",
       "      <td>-2</td>\n",
       "    </tr>\n",
       "    <tr>\n",
       "      <th>1980-03-21</th>\n",
       "      <td> -4.907519</td>\n",
       "      <td> 1.035450</td>\n",
       "      <td> 10.084580</td>\n",
       "      <td>-4.953992</td>\n",
       "      <td> 15.038572</td>\n",
       "      <td> 2.565294</td>\n",
       "      <td> -99.381953</td>\n",
       "      <td> -2.607043</td>\n",
       "      <td> 0.860565</td>\n",
       "      <td> 0.921323</td>\n",
       "      <td>...</td>\n",
       "      <td> 3.839171</td>\n",
       "      <td> 0</td>\n",
       "      <td> 0.000000</td>\n",
       "      <td>-3.499358</td>\n",
       "      <td> 1</td>\n",
       "      <td>  2.506596</td>\n",
       "      <td> 0.000000</td>\n",
       "      <td>-0.689170</td>\n",
       "      <td> -1.976643</td>\n",
       "      <td> 1</td>\n",
       "    </tr>\n",
       "  </tbody>\n",
       "</table>\n",
       "<p>3 rows × 39 columns</p>\n",
       "</div>"
      ],
      "text/plain": [
       "                  q1c    q1cstd     q1high     q1low    q1range  q1middle  \\\n",
       "1980-09-19  13.317552  0.848507  13.317552  0.000000  13.317552  6.658776   \n",
       "1980-06-20  11.484703  1.030380  13.635031 -3.997654  17.632685  4.818688   \n",
       "1980-03-21  -4.907519  1.035450  10.084580 -4.953992  15.038572  2.565294   \n",
       "\n",
       "                 q1pos        q0c    q0cstd    q0high   ...       m0lixt  \\\n",
       "1980-09-19  100.000000  11.484703  1.030380  1.051530   ...     5.873999   \n",
       "1980-06-20   75.609756  -4.907519  1.035450  1.184622   ...    -3.365493   \n",
       "1980-03-21  -99.381953  -2.607043  0.860565  0.921323   ...     3.839171   \n",
       "\n",
       "            m0lixc72  m0lixc288    m0lixd  m0lixm    m0lixtv  m0lixc72v  \\\n",
       "1980-09-19         0  -4.908783 -5.728638       1   2.612935   3.663191   \n",
       "1980-06-20         0   2.532201  4.825966      -1 -11.566640  -0.099965   \n",
       "1980-03-21         0   0.000000 -3.499358       1   2.506596   0.000000   \n",
       "\n",
       "            m0lixc288v    m0lixdv  m0lixmv  \n",
       "1980-09-19   -1.245592  -1.929930        0  \n",
       "1980-06-20    2.432235  11.860214       -2  \n",
       "1980-03-21   -0.689170  -1.976643        1  \n",
       "\n",
       "[3 rows x 39 columns]"
      ]
     },
     "execution_count": 63,
     "metadata": {},
     "output_type": "execute_result"
    }
   ],
   "source": [
    "data.tail(3)"
   ]
  },
  {
   "cell_type": "code",
   "execution_count": 64,
   "metadata": {
    "collapsed": false
   },
   "outputs": [],
   "source": [
    "data.to_csv('data.csv')\n",
    "spd.to_csv('spdfinal.csv')\n",
    "spw.to_csv('spwfinal.csv')"
   ]
  },
  {
   "cell_type": "markdown",
   "metadata": {
    "collapsed": true
   },
   "source": [
    "## Building alternative samples Dataset (predict last 2 monts of the quarter)"
   ]
  },
  {
   "cell_type": "code",
   "execution_count": 65,
   "metadata": {
    "collapsed": true
   },
   "outputs": [],
   "source": [
    "q1c = []\n",
    "q1cstd = []\n",
    "q1high = []\n",
    "q1low = []\n",
    "q1range = []\n",
    "q1middle = []\n",
    "q1pos = []\n",
    "q0c = []\n",
    "q0cstd = []\n",
    "q0high = []\n",
    "q0low = []\n",
    "q0spanmean = []\n",
    "q0spanstd = []\n",
    "q0lixt = []\n",
    "q0lixc72 = []\n",
    "q0lixc288 = []\n",
    "q0lixd = []\n",
    "q0lixm = []\n",
    "q0lixtv = []\n",
    "q0lixc72v = []\n",
    "q0lixc288v = []\n",
    "q0lixdv = []\n",
    "q0lixmv = []\n",
    "m0c = []\n",
    "m0cstd = []\n",
    "m0high = []\n",
    "m0low = []\n",
    "m0spanmean = []\n",
    "m0spanstd = []\n",
    "m0lixt = []\n",
    "m0lixc72 = []\n",
    "m0lixc288 = []\n",
    "m0lixd = []\n",
    "m0lixm = []\n",
    "m0lixtv = []\n",
    "m0lixc72v = []\n",
    "m0lixc288v = []\n",
    "m0lixdv = []\n",
    "m0lixmv = []"
   ]
  },
  {
   "cell_type": "code",
   "execution_count": 66,
   "metadata": {
    "collapsed": false
   },
   "outputs": [],
   "source": [
    "for q1end in exp:\n",
    "    q1start = q1end - DateOffset(weeks = 8)\n",
    "    m0start = q1start - DateOffset(weeks = 5)\n",
    "    q0start = q1start - DateOffset(weeks = 13)\n",
    "    q1indend = spw.nrow[spw.date == q1end]\n",
    "    \n",
    "    q1cstart = float(spw.c[q1indend + 8])\n",
    "    q1cend = float(spw.c[q1indend])    \n",
    "    q1cv = ((q1cend/q1cstart)-1)*100\n",
    "    q1c.append(q1cv)   \n",
    "    \n",
    "    q1clist = spd.c[(spd.date >= q1start) & (spd.date<= q1end)]\n",
    "    q1clist = q1clist.reset_index(drop=True)\n",
    "    q1cvars = []\n",
    "    for i in range(len(q1clist)):\n",
    "        if i < len(q1clist)-1:\n",
    "            q1cvars.append(((q1clist[i]/q1clist[i+1])-1)*100)\n",
    "    q1cstd.append(np.std(q1cvars))\n",
    "    \n",
    "    q1chigh = ((np.max(q1clist)/q1cstart)-1)*100\n",
    "    q1high.append(q1chigh)\n",
    "    \n",
    "    q1clow = ((np.min(q1clist)/q1cstart)-1)*100\n",
    "    q1low.append(q1clow)\n",
    "    \n",
    "    q1crange = q1chigh - q1clow\n",
    "    q1range.append(q1crange)\n",
    "    \n",
    "    q1cmiddle = q1chigh - (q1crange / 2)\n",
    "    q1middle.append(q1cmiddle)\n",
    "    \n",
    "    q1cpos = (((q1cv - q1clow)/q1crange)-0.5)*200\n",
    "    q1pos.append(q1cpos)\n",
    "      \n",
    "    q1indstart = spw.nrow[spw.date == q1start]\n",
    "    \n",
    "    q0cstart = float(spw.c[q1indstart + 13])\n",
    "    q0cend = float(spw.c[q1indstart])    \n",
    "    q0cv = ((q0cend/q0cstart)-1)*100\n",
    "    q0c.append(q0cv)\n",
    "    \n",
    "    q0clist = spd.c[(spd.date >= q0start) & (spd.date<= q1start)]\n",
    "    q0clist = q0clist.reset_index(drop=True)\n",
    "    q0cvars = []\n",
    "    for i in range(len(q0clist)):\n",
    "        if i < len(q0clist)-1:\n",
    "            q0cvars.append(((q0clist[i]/q0clist[i+1])-1)*100)\n",
    "    q0cstd.append(np.std(q0cvars))\n",
    "    \n",
    "    q0hlist = spd.h[(spd.date >= q0start) & (spd.date<= q1start)]\n",
    "    q0hlist = q0hlist.reset_index(drop=True)\n",
    "    q0hvars = []\n",
    "    for i in range(len(q0hlist)):\n",
    "        q0hvars.append(((q0hlist[i]/q0clist[i])-1)*100)\n",
    "    q0high.append(np.mean(q0hvars))\n",
    "    \n",
    "    q0llist = spd.l[(spd.date >= q0start) & (spd.date<= q1start)]\n",
    "    q0llist = q0llist.reset_index(drop=True)\n",
    "    q0lvars = []\n",
    "    for i in range(len(q0llist)):\n",
    "        q0lvars.append(((q0llist[i]/q0clist[i])-1)*100)\n",
    "    q0low.append(np.mean(q0lvars))\n",
    "    \n",
    "    q0svars = []\n",
    "    for i in range(len(q0llist)):\n",
    "        q0svars.append(((q0hlist[i]/q0llist[i])-1)*100)\n",
    "    q0spanmean.append(np.mean(q0svars))\n",
    "    q0spanstd.append(np.std(q0svars))\n",
    "\n",
    "    lixt1 = float((spw.lixt[spw.date == q1start]))\n",
    "    lixt0 = float((spw.lixt[spw.date == q0start]))\n",
    "    lixtm1 = float((spd.lixt[spd.date == q1start]))\n",
    "    lixtm0 = float((spd.lixt[spd.date == m0start]))\n",
    "    q0lixt.append(float(lixt1))\n",
    "    q0lixtv.append(float(lixt1 - lixt0))\n",
    "    m0lixt.append(float(lixtm1))\n",
    "    m0lixtv.append(float(lixtm1 - lixtm0))\n",
    "    \n",
    "    lixc721 = float((spw.lixc72[spw.date == q1start]))\n",
    "    lixc720 = float((spw.lixc72[spw.date == q0start]))\n",
    "    lixc72m1 = float((spd.lixc72[spd.date == q1start]))\n",
    "    lixc72m0 = float((spd.lixc72[spd.date == m0start]))\n",
    "    q0lixc72.append(float(lixc721))\n",
    "    q0lixc72v.append(float(lixc721 - lixc720))\n",
    "    m0lixc72.append(float(lixc72m1))\n",
    "    m0lixc72v.append(float(lixc72m1 - lixc72m0))\n",
    "    \n",
    "    lixc2881 = float((spw.lixc288[spw.date == q1start]))\n",
    "    lixc2880 = float((spw.lixc288[spw.date == q0start]))\n",
    "    lixc288m1 = float((spd.lixc288[spd.date == q1start]))\n",
    "    lixc288m0 = float((spd.lixc288[spd.date == m0start]))\n",
    "    q0lixc288.append(float(lixc2881))\n",
    "    q0lixc288v.append(float(lixc2881 - lixc2880))\n",
    "    m0lixc288.append(float(lixc288m1))\n",
    "    m0lixc288v.append(float(lixc288m1 - lixc288m0))\n",
    "    \n",
    "    lixd1 = float((spw.lixd[spw.date == q1start]))\n",
    "    lixd0 = float((spw.lixd[spw.date == q0start]))\n",
    "    lixdm1 = float((spd.lixd[spd.date == q1start]))\n",
    "    lixdm0 = float((spd.lixd[spd.date == m0start]))\n",
    "    q0lixd.append(float(lixd1))\n",
    "    q0lixdv.append(float(lixd1 - lixd0))\n",
    "    m0lixd.append(float(lixdm1))\n",
    "    m0lixdv.append(float(lixdm1 - lixdm0))\n",
    "    \n",
    "    lixm1 = float((spw.lixm[spw.date == q1start]))\n",
    "    lixm0 = float((spw.lixm[spw.date == q0start]))\n",
    "    lixmm1 = float((spd.lixm[spd.date == q1start]))\n",
    "    lixmm0 = float((spd.lixm[spd.date == m0start]))\n",
    "    q0lixm.append(float(lixm1))\n",
    "    q0lixmv.append(float(lixm1 - lixm0))\n",
    "    m0lixm.append(float(lixmm1))\n",
    "    m0lixmv.append(float(lixmm1 - lixmm0))\n",
    "    \n",
    "    q1indstart = spw.nrow[spw.date == q1start]\n",
    "    \n",
    "    m0cstart = float(spw.c[q1indstart + 4])\n",
    "    m0cend = q0cend  \n",
    "    m0cv = ((m0cend/m0cstart)-1)*100\n",
    "    m0c.append(float(m0cv))\n",
    "    \n",
    "    m0clist = spd.c[(spd.date >= m0start) & (spd.date<= q1start)]\n",
    "    m0clist = m0clist.reset_index(drop=True)\n",
    "    m0cvars = []\n",
    "    for i in range(len(m0clist)):\n",
    "        if i < len(m0clist)-1:\n",
    "            m0cvars.append(float(((m0clist[i]/m0clist[i+1])-1)*100))\n",
    "    m0cstd.append(float(np.std(m0cvars)))\n",
    "    \n",
    "    m0hlist = spd.h[(spd.date >= m0start) & (spd.date<= q1start)]\n",
    "    m0hlist = m0hlist.reset_index(drop=True)\n",
    "    m0hvars = []\n",
    "    for i in range(len(m0hlist)):\n",
    "        m0hvars.append(float(((m0hlist[i]/m0clist[i])-1)*100))\n",
    "    m0high.append(float(np.mean(m0hvars)))\n",
    "    \n",
    "    m0llist = spd.l[(spd.date >= m0start) & (spd.date<= q1start)]\n",
    "    m0llist = m0llist.reset_index(drop=True)\n",
    "    m0lvars = []\n",
    "    for i in range(len(m0llist)):\n",
    "        m0lvars.append(float(((m0llist[i]/m0clist[i])-1)*100))\n",
    "    m0low.append(float(np.mean(m0lvars)))\n",
    "    \n",
    "    m0svars = []\n",
    "    for i in range(len(m0llist)):\n",
    "        m0svars.append(float(((m0hlist[i]/m0llist[i])-1)*100))\n",
    "    m0spanmean.append(float(np.mean(m0svars)))\n",
    "    m0spanstd.append(float(np.std(m0svars)))"
   ]
  },
  {
   "cell_type": "code",
   "execution_count": 67,
   "metadata": {
    "collapsed": true
   },
   "outputs": [],
   "source": [
    "data2 = pd.DataFrame(index = exp, columns = ['q1c','q1cstd','q1high','q1low','q1range','q1middle','q1pos','q0c',\n",
    "                                            'q0cstd','q0high','q0low','q0spanmean','q0spanstd','q0lixt','q0lixc72',\n",
    "                                            'q0lixc288','q0lixd','q0lixm','q0lixtv','q0lixc72v','q0lixc288v',\n",
    "                                            'q0lixdv','q0lixmv','m0c','m0cstd','m0high','m0low','m0spanmean',\n",
    "                                            'm0spanstd','m0lixt','m0lixc72','m0lixc288','m0lixd','m0lixm','m0lixtv',\n",
    "                                            'm0lixc72v','m0lixc288v','m0lixdv','m0lixmv'])"
   ]
  },
  {
   "cell_type": "code",
   "execution_count": 68,
   "metadata": {
    "collapsed": true
   },
   "outputs": [],
   "source": [
    "data2.q1c = q1c\n",
    "data2.q1cstd = q1cstd\n",
    "data2.q1high = q1high\n",
    "data2.q1low = q1low\n",
    "data2.q1range = q1range\n",
    "data2.q1middle = q1middle\n",
    "data2.q1pos = q1pos\n",
    "data2.q0c = q0c\n",
    "data2.q0cstd = q0cstd\n",
    "data2.q0high = q0high\n",
    "data2.q0low = q0low\n",
    "data2.q0spanmean = q0spanmean\n",
    "data2.q0spanstd = q0spanstd\n",
    "data2.q0lixt = q0lixt\n",
    "data2.q0lixc72 = q0lixc72\n",
    "data2.q0lixc288 = q0lixc288\n",
    "data2.q0lixd = q0lixd\n",
    "data2.q0lixm = q0lixm\n",
    "data2.q0lixtv = q0lixtv\n",
    "data2.q0lixc72v = q0lixc72v\n",
    "data2.q0lixc288v = q0lixc288v\n",
    "data2.q0lixdv = q0lixdv\n",
    "data2.q0lixmv = q0lixmv\n",
    "data2.m0c = m0c\n",
    "data2.m0cstd = m0cstd\n",
    "data2.m0high = m0high\n",
    "data2.m0low = m0low\n",
    "data2.m0spanmean = m0spanmean\n",
    "data2.m0spanstd = m0spanstd\n",
    "data2.m0lixt = m0lixt\n",
    "data2.m0lixc72 = m0lixc72\n",
    "data2.m0lixc288 = m0lixc288\n",
    "data2.m0lixd = m0lixd\n",
    "data2.m0lixm = m0lixm\n",
    "data2.m0lixtv = m0lixtv\n",
    "data2.m0lixc72v = m0lixc72v\n",
    "data2.m0lixc288v = m0lixc288v\n",
    "data2.m0lixdv = m0lixdv\n",
    "data2.m0lixmv = m0lixmv"
   ]
  },
  {
   "cell_type": "code",
   "execution_count": 69,
   "metadata": {
    "collapsed": false
   },
   "outputs": [
    {
     "data": {
      "text/plain": [
       "141"
      ]
     },
     "execution_count": 69,
     "metadata": {},
     "output_type": "execute_result"
    }
   ],
   "source": [
    "len(data2)"
   ]
  },
  {
   "cell_type": "code",
   "execution_count": 70,
   "metadata": {
    "collapsed": false
   },
   "outputs": [
    {
     "data": {
      "text/html": [
       "<div style=\"max-height:1000px;max-width:1500px;overflow:auto;\">\n",
       "<table border=\"1\" class=\"dataframe\">\n",
       "  <thead>\n",
       "    <tr style=\"text-align: right;\">\n",
       "      <th></th>\n",
       "      <th>q1c</th>\n",
       "      <th>q1cstd</th>\n",
       "      <th>q1high</th>\n",
       "      <th>q1low</th>\n",
       "      <th>q1range</th>\n",
       "      <th>q1middle</th>\n",
       "      <th>q1pos</th>\n",
       "      <th>q0c</th>\n",
       "      <th>q0cstd</th>\n",
       "      <th>q0high</th>\n",
       "      <th>...</th>\n",
       "      <th>m0lixt</th>\n",
       "      <th>m0lixc72</th>\n",
       "      <th>m0lixc288</th>\n",
       "      <th>m0lixd</th>\n",
       "      <th>m0lixm</th>\n",
       "      <th>m0lixtv</th>\n",
       "      <th>m0lixc72v</th>\n",
       "      <th>m0lixc288v</th>\n",
       "      <th>m0lixdv</th>\n",
       "      <th>m0lixmv</th>\n",
       "    </tr>\n",
       "  </thead>\n",
       "  <tbody>\n",
       "    <tr>\n",
       "      <th>2015-03-20</th>\n",
       "      <td> 2.742932</td>\n",
       "      <td> 0.824285</td>\n",
       "      <td> 3.195691</td>\n",
       "      <td>-2.769740</td>\n",
       "      <td> 5.965430</td>\n",
       "      <td> 0.212975</td>\n",
       "      <td> 84.820592</td>\n",
       "      <td> 4.440649</td>\n",
       "      <td> 0.812940</td>\n",
       "      <td> 0.445199</td>\n",
       "      <td>...</td>\n",
       "      <td> 5.122899</td>\n",
       "      <td> 0.000000</td>\n",
       "      <td> 0.000000</td>\n",
       "      <td>-3.827465</td>\n",
       "      <td> 1</td>\n",
       "      <td>-2.162407</td>\n",
       "      <td> 0.000000</td>\n",
       "      <td> 0.000000</td>\n",
       "      <td> 1.839902</td>\n",
       "      <td> 0</td>\n",
       "    </tr>\n",
       "    <tr>\n",
       "      <th>2014-12-19</th>\n",
       "      <td> 5.399115</td>\n",
       "      <td> 0.756634</td>\n",
       "      <td> 5.639382</td>\n",
       "      <td>-0.150157</td>\n",
       "      <td> 5.789539</td>\n",
       "      <td> 2.744612</td>\n",
       "      <td> 91.699991</td>\n",
       "      <td>-0.695533</td>\n",
       "      <td> 0.820467</td>\n",
       "      <td> 0.487591</td>\n",
       "      <td>...</td>\n",
       "      <td> 4.232588</td>\n",
       "      <td>-1.387678</td>\n",
       "      <td>-1.387678</td>\n",
       "      <td>-2.862472</td>\n",
       "      <td> 1</td>\n",
       "      <td>-2.007115</td>\n",
       "      <td>-1.387678</td>\n",
       "      <td>-1.387678</td>\n",
       "      <td> 2.686905</td>\n",
       "      <td> 0</td>\n",
       "    </tr>\n",
       "    <tr>\n",
       "      <th>2014-09-19</th>\n",
       "      <td> 1.620553</td>\n",
       "      <td> 0.548310</td>\n",
       "      <td> 1.669077</td>\n",
       "      <td>-3.476148</td>\n",
       "      <td> 5.145225</td>\n",
       "      <td>-0.903535</td>\n",
       "      <td> 98.113823</td>\n",
       "      <td> 6.168292</td>\n",
       "      <td> 0.462849</td>\n",
       "      <td> 0.229158</td>\n",
       "      <td>...</td>\n",
       "      <td> 7.621349</td>\n",
       "      <td> 0.000000</td>\n",
       "      <td> 0.000000</td>\n",
       "      <td>-6.110579</td>\n",
       "      <td> 1</td>\n",
       "      <td>-1.313785</td>\n",
       "      <td> 0.000000</td>\n",
       "      <td> 0.000000</td>\n",
       "      <td> 0.943736</td>\n",
       "      <td> 0</td>\n",
       "    </tr>\n",
       "  </tbody>\n",
       "</table>\n",
       "<p>3 rows × 39 columns</p>\n",
       "</div>"
      ],
      "text/plain": [
       "                 q1c    q1cstd    q1high     q1low   q1range  q1middle  \\\n",
       "2015-03-20  2.742932  0.824285  3.195691 -2.769740  5.965430  0.212975   \n",
       "2014-12-19  5.399115  0.756634  5.639382 -0.150157  5.789539  2.744612   \n",
       "2014-09-19  1.620553  0.548310  1.669077 -3.476148  5.145225 -0.903535   \n",
       "\n",
       "                q1pos       q0c    q0cstd    q0high   ...       m0lixt  \\\n",
       "2015-03-20  84.820592  4.440649  0.812940  0.445199   ...     5.122899   \n",
       "2014-12-19  91.699991 -0.695533  0.820467  0.487591   ...     4.232588   \n",
       "2014-09-19  98.113823  6.168292  0.462849  0.229158   ...     7.621349   \n",
       "\n",
       "            m0lixc72  m0lixc288    m0lixd  m0lixm   m0lixtv  m0lixc72v  \\\n",
       "2015-03-20  0.000000   0.000000 -3.827465       1 -2.162407   0.000000   \n",
       "2014-12-19 -1.387678  -1.387678 -2.862472       1 -2.007115  -1.387678   \n",
       "2014-09-19  0.000000   0.000000 -6.110579       1 -1.313785   0.000000   \n",
       "\n",
       "            m0lixc288v   m0lixdv  m0lixmv  \n",
       "2015-03-20    0.000000  1.839902        0  \n",
       "2014-12-19   -1.387678  2.686905        0  \n",
       "2014-09-19    0.000000  0.943736        0  \n",
       "\n",
       "[3 rows x 39 columns]"
      ]
     },
     "execution_count": 70,
     "metadata": {},
     "output_type": "execute_result"
    }
   ],
   "source": [
    "data2.head(3)"
   ]
  },
  {
   "cell_type": "code",
   "execution_count": 71,
   "metadata": {
    "collapsed": false
   },
   "outputs": [
    {
     "data": {
      "text/html": [
       "<div style=\"max-height:1000px;max-width:1500px;overflow:auto;\">\n",
       "<table border=\"1\" class=\"dataframe\">\n",
       "  <thead>\n",
       "    <tr style=\"text-align: right;\">\n",
       "      <th></th>\n",
       "      <th>q1c</th>\n",
       "      <th>q1cstd</th>\n",
       "      <th>q1high</th>\n",
       "      <th>q1low</th>\n",
       "      <th>q1range</th>\n",
       "      <th>q1middle</th>\n",
       "      <th>q1pos</th>\n",
       "      <th>q0c</th>\n",
       "      <th>q0cstd</th>\n",
       "      <th>q0high</th>\n",
       "      <th>...</th>\n",
       "      <th>m0lixt</th>\n",
       "      <th>m0lixc72</th>\n",
       "      <th>m0lixc288</th>\n",
       "      <th>m0lixd</th>\n",
       "      <th>m0lixm</th>\n",
       "      <th>m0lixtv</th>\n",
       "      <th>m0lixc72v</th>\n",
       "      <th>m0lixc288v</th>\n",
       "      <th>m0lixdv</th>\n",
       "      <th>m0lixmv</th>\n",
       "    </tr>\n",
       "  </thead>\n",
       "  <tbody>\n",
       "    <tr>\n",
       "      <th>1980-09-19</th>\n",
       "      <td> 7.012750</td>\n",
       "      <td> 0.867583</td>\n",
       "      <td>  7.012750</td>\n",
       "      <td>-0.033118</td>\n",
       "      <td>  7.045869</td>\n",
       "      <td> 3.489816</td>\n",
       "      <td> 100.000000</td>\n",
       "      <td> 14.853556</td>\n",
       "      <td> 0.782343</td>\n",
       "      <td> 0.884217</td>\n",
       "      <td>...</td>\n",
       "      <td> 12.647616</td>\n",
       "      <td> 0</td>\n",
       "      <td> 0.000000</td>\n",
       "      <td>-9.007650</td>\n",
       "      <td> 1</td>\n",
       "      <td> 6.773617</td>\n",
       "      <td> 0</td>\n",
       "      <td> 4.908783</td>\n",
       "      <td>-3.279012</td>\n",
       "      <td> 0</td>\n",
       "    </tr>\n",
       "    <tr>\n",
       "      <th>1980-06-20</th>\n",
       "      <td> 8.463294</td>\n",
       "      <td> 0.761326</td>\n",
       "      <td> 10.555344</td>\n",
       "      <td>-0.418410</td>\n",
       "      <td> 10.973754</td>\n",
       "      <td> 5.068467</td>\n",
       "      <td>  61.871750</td>\n",
       "      <td> -7.437726</td>\n",
       "      <td> 1.227000</td>\n",
       "      <td> 1.308383</td>\n",
       "      <td>...</td>\n",
       "      <td> -0.211935</td>\n",
       "      <td> 0</td>\n",
       "      <td> 0.968523</td>\n",
       "      <td> 1.125178</td>\n",
       "      <td>-1</td>\n",
       "      <td> 3.153558</td>\n",
       "      <td> 0</td>\n",
       "      <td>-1.563678</td>\n",
       "      <td>-3.700787</td>\n",
       "      <td> 0</td>\n",
       "    </tr>\n",
       "    <tr>\n",
       "      <th>1980-03-21</th>\n",
       "      <td>-9.946308</td>\n",
       "      <td> 1.114831</td>\n",
       "      <td>  4.251386</td>\n",
       "      <td>-9.990318</td>\n",
       "      <td> 14.241704</td>\n",
       "      <td>-2.869466</td>\n",
       "      <td> -99.381953</td>\n",
       "      <td> 12.966093</td>\n",
       "      <td> 0.781962</td>\n",
       "      <td> 0.853926</td>\n",
       "      <td>...</td>\n",
       "      <td>  8.780948</td>\n",
       "      <td> 0</td>\n",
       "      <td> 0.000000</td>\n",
       "      <td>-7.590475</td>\n",
       "      <td> 1</td>\n",
       "      <td> 4.941777</td>\n",
       "      <td> 0</td>\n",
       "      <td> 0.000000</td>\n",
       "      <td>-4.091117</td>\n",
       "      <td> 0</td>\n",
       "    </tr>\n",
       "  </tbody>\n",
       "</table>\n",
       "<p>3 rows × 39 columns</p>\n",
       "</div>"
      ],
      "text/plain": [
       "                 q1c    q1cstd     q1high     q1low    q1range  q1middle  \\\n",
       "1980-09-19  7.012750  0.867583   7.012750 -0.033118   7.045869  3.489816   \n",
       "1980-06-20  8.463294  0.761326  10.555344 -0.418410  10.973754  5.068467   \n",
       "1980-03-21 -9.946308  1.114831   4.251386 -9.990318  14.241704 -2.869466   \n",
       "\n",
       "                 q1pos        q0c    q0cstd    q0high   ...        m0lixt  \\\n",
       "1980-09-19  100.000000  14.853556  0.782343  0.884217   ...     12.647616   \n",
       "1980-06-20   61.871750  -7.437726  1.227000  1.308383   ...     -0.211935   \n",
       "1980-03-21  -99.381953  12.966093  0.781962  0.853926   ...      8.780948   \n",
       "\n",
       "            m0lixc72  m0lixc288    m0lixd  m0lixm   m0lixtv  m0lixc72v  \\\n",
       "1980-09-19         0   0.000000 -9.007650       1  6.773617          0   \n",
       "1980-06-20         0   0.968523  1.125178      -1  3.153558          0   \n",
       "1980-03-21         0   0.000000 -7.590475       1  4.941777          0   \n",
       "\n",
       "            m0lixc288v   m0lixdv  m0lixmv  \n",
       "1980-09-19    4.908783 -3.279012        0  \n",
       "1980-06-20   -1.563678 -3.700787        0  \n",
       "1980-03-21    0.000000 -4.091117        0  \n",
       "\n",
       "[3 rows x 39 columns]"
      ]
     },
     "execution_count": 71,
     "metadata": {},
     "output_type": "execute_result"
    }
   ],
   "source": [
    "data2.tail(3)"
   ]
  },
  {
   "cell_type": "code",
   "execution_count": 72,
   "metadata": {
    "collapsed": false
   },
   "outputs": [],
   "source": [
    "ydata2 = pd.DataFrame(index = exp, columns = ['q1c','q1cstd','q1high','q1low','q1range','q1middle','q1pos'])"
   ]
  },
  {
   "cell_type": "code",
   "execution_count": 73,
   "metadata": {
    "collapsed": false
   },
   "outputs": [
    {
     "data": {
      "text/html": [
       "<div style=\"max-height:1000px;max-width:1500px;overflow:auto;\">\n",
       "<table border=\"1\" class=\"dataframe\">\n",
       "  <thead>\n",
       "    <tr style=\"text-align: right;\">\n",
       "      <th></th>\n",
       "      <th>q1c</th>\n",
       "      <th>q1cstd</th>\n",
       "      <th>q1high</th>\n",
       "      <th>q1low</th>\n",
       "      <th>q1range</th>\n",
       "      <th>q1middle</th>\n",
       "      <th>q1pos</th>\n",
       "    </tr>\n",
       "  </thead>\n",
       "  <tbody>\n",
       "    <tr>\n",
       "      <th>2015-03-20</th>\n",
       "      <td> 2.742932</td>\n",
       "      <td> 0.824285</td>\n",
       "      <td> 3.195691</td>\n",
       "      <td>-2.769740</td>\n",
       "      <td> 5.965430</td>\n",
       "      <td> 0.212975</td>\n",
       "      <td> 84.820592</td>\n",
       "    </tr>\n",
       "    <tr>\n",
       "      <th>2014-12-19</th>\n",
       "      <td> 5.399115</td>\n",
       "      <td> 0.756634</td>\n",
       "      <td> 5.639382</td>\n",
       "      <td>-0.150157</td>\n",
       "      <td> 5.789539</td>\n",
       "      <td> 2.744612</td>\n",
       "      <td> 91.699991</td>\n",
       "    </tr>\n",
       "    <tr>\n",
       "      <th>2014-09-19</th>\n",
       "      <td> 1.620553</td>\n",
       "      <td> 0.548310</td>\n",
       "      <td> 1.669077</td>\n",
       "      <td>-3.476148</td>\n",
       "      <td> 5.145225</td>\n",
       "      <td>-0.903535</td>\n",
       "      <td> 98.113823</td>\n",
       "    </tr>\n",
       "  </tbody>\n",
       "</table>\n",
       "</div>"
      ],
      "text/plain": [
       "                 q1c    q1cstd    q1high     q1low   q1range  q1middle  \\\n",
       "2015-03-20  2.742932  0.824285  3.195691 -2.769740  5.965430  0.212975   \n",
       "2014-12-19  5.399115  0.756634  5.639382 -0.150157  5.789539  2.744612   \n",
       "2014-09-19  1.620553  0.548310  1.669077 -3.476148  5.145225 -0.903535   \n",
       "\n",
       "                q1pos  \n",
       "2015-03-20  84.820592  \n",
       "2014-12-19  91.699991  \n",
       "2014-09-19  98.113823  "
      ]
     },
     "execution_count": 73,
     "metadata": {},
     "output_type": "execute_result"
    }
   ],
   "source": [
    "ydata2.q1c = q1c\n",
    "ydata2.q1cstd = q1cstd\n",
    "ydata2.q1high = q1high\n",
    "ydata2.q1low = q1low\n",
    "ydata2.q1range = q1range\n",
    "ydata2.q1middle = q1middle\n",
    "ydata2.q1pos = q1pos\n",
    "ydata2.head(3)"
   ]
  },
  {
   "cell_type": "code",
   "execution_count": 74,
   "metadata": {
    "collapsed": true
   },
   "outputs": [],
   "source": [
    "data2.to_csv('data2.csv')"
   ]
  },
  {
   "cell_type": "markdown",
   "metadata": {},
   "source": [
    "## Data normalization"
   ]
  },
  {
   "cell_type": "code",
   "execution_count": 75,
   "metadata": {
    "collapsed": true
   },
   "outputs": [],
   "source": [
    "datan = data.copy()\n",
    "datan2 = data2.copy()"
   ]
  },
  {
   "cell_type": "code",
   "execution_count": 76,
   "metadata": {
    "collapsed": false
   },
   "outputs": [],
   "source": [
    "for cols in datan.keys():\n",
    "    maxcols = max(datan[cols])\n",
    "    mincols = min(datan[cols])\n",
    "    spancols = maxcols - mincols\n",
    "    meancols = maxcols - (spancols / 2)\n",
    "    for n in range(len(datan)):\n",
    "        if mincols >= 0 or maxcols <= 0:\n",
    "            datan[cols][n] = (datan[cols][n] - meancols) / (spancols / 2)\n",
    "        else:\n",
    "            if datan[cols][n] < 0:\n",
    "                datan[cols][n] = datan[cols][n] / abs(mincols)\n",
    "            if datan[cols][n] > 0:\n",
    "                datan[cols][n] = datan[cols][n] / maxcols"
   ]
  },
  {
   "cell_type": "code",
   "execution_count": 77,
   "metadata": {
    "collapsed": false
   },
   "outputs": [
    {
     "name": "stdout",
     "output_type": "stream",
     "text": [
      "q1c -1.0 1.0\n",
      "q1cstd -1.0 1.0\n",
      "q1high -1.0 1.0\n",
      "q1low -1.0 1.0\n",
      "q1range -1.0 1.0\n",
      "q1middle -1.0 1.0\n",
      "q1pos -1.0 1.0\n",
      "q0c -1.0 1.0\n",
      "q0cstd -1.0 1.0\n",
      "q0high -1.0 1.0\n",
      "q0low -1.0 1.0\n",
      "q0spanmean -1.0 1.0\n",
      "q0spanstd -1.0 1.0\n",
      "q0lixt -1.0 1.0\n",
      "q0lixc72 -1.0 1.0\n",
      "q0lixc288 -1.0 1.0\n",
      "q0lixd -1.0 1.0\n",
      "q0lixm -1.0 1.0\n",
      "q0lixtv -1.0 1.0\n",
      "q0lixc72v -1.0 1.0\n",
      "q0lixc288v -1.0 1.0\n",
      "q0lixdv -1.0 1.0\n",
      "q0lixmv -1.0 1.0\n",
      "m0c -1.0 1.0\n",
      "m0cstd -1.0 1.0\n",
      "m0high -1.0 1.0\n",
      "m0low -1.0 1.0\n",
      "m0spanmean -1.0 1.0\n",
      "m0spanstd -1.0 1.0\n",
      "m0lixt -1.0 1.0\n",
      "m0lixc72 -1.0 1.0\n",
      "m0lixc288 -1.0 1.0\n",
      "m0lixd -1.0 1.0\n",
      "m0lixm -1.0 1.0\n",
      "m0lixtv -1.0 1.0\n",
      "m0lixc72v -1.0 1.0\n",
      "m0lixc288v -1.0 1.0\n",
      "m0lixdv -1.0 1.0\n",
      "m0lixmv -1.0 1.0\n"
     ]
    }
   ],
   "source": [
    "for cols in datan.keys():\n",
    "    maxcols = max(datan[cols])\n",
    "    mincols = min(datan[cols])\n",
    "    print cols, mincols, maxcols"
   ]
  },
  {
   "cell_type": "code",
   "execution_count": 78,
   "metadata": {
    "collapsed": false
   },
   "outputs": [
    {
     "data": {
      "text/html": [
       "<div style=\"max-height:1000px;max-width:1500px;overflow:auto;\">\n",
       "<table border=\"1\" class=\"dataframe\">\n",
       "  <thead>\n",
       "    <tr style=\"text-align: right;\">\n",
       "      <th></th>\n",
       "      <th>q1c</th>\n",
       "      <th>q1cstd</th>\n",
       "      <th>q1high</th>\n",
       "      <th>q1low</th>\n",
       "      <th>q1range</th>\n",
       "      <th>q1middle</th>\n",
       "      <th>q1pos</th>\n",
       "      <th>q0c</th>\n",
       "      <th>q0cstd</th>\n",
       "      <th>q0high</th>\n",
       "      <th>...</th>\n",
       "      <th>m0lixt</th>\n",
       "      <th>m0lixc72</th>\n",
       "      <th>m0lixc288</th>\n",
       "      <th>m0lixd</th>\n",
       "      <th>m0lixm</th>\n",
       "      <th>m0lixtv</th>\n",
       "      <th>m0lixc72v</th>\n",
       "      <th>m0lixc288v</th>\n",
       "      <th>m0lixdv</th>\n",
       "      <th>m0lixmv</th>\n",
       "    </tr>\n",
       "  </thead>\n",
       "  <tbody>\n",
       "    <tr>\n",
       "      <th>2015-03-20</th>\n",
       "      <td> 0.091034</td>\n",
       "      <td>-0.784030</td>\n",
       "      <td>-0.804717</td>\n",
       "      <td> 0.811930</td>\n",
       "      <td>-0.867391</td>\n",
       "      <td>-0.037672</td>\n",
       "      <td> 0.851029</td>\n",
       "      <td> 0.150845</td>\n",
       "      <td>-0.749593</td>\n",
       "      <td>-0.793868</td>\n",
       "      <td>...</td>\n",
       "      <td> 0.402011</td>\n",
       "      <td> 0</td>\n",
       "      <td> 0</td>\n",
       "      <td>-0.406701</td>\n",
       "      <td> 1</td>\n",
       "      <td>-0.031447</td>\n",
       "      <td> 0</td>\n",
       "      <td> 0</td>\n",
       "      <td> 0.030712</td>\n",
       "      <td> 0</td>\n",
       "    </tr>\n",
       "    <tr>\n",
       "      <th>2014-12-19</th>\n",
       "      <td> 0.150845</td>\n",
       "      <td>-0.749593</td>\n",
       "      <td>-0.720415</td>\n",
       "      <td> 0.632583</td>\n",
       "      <td>-0.616813</td>\n",
       "      <td>-0.103014</td>\n",
       "      <td> 0.955654</td>\n",
       "      <td> 0.121880</td>\n",
       "      <td>-0.945065</td>\n",
       "      <td>-0.959844</td>\n",
       "      <td>...</td>\n",
       "      <td> 0.344314</td>\n",
       "      <td> 0</td>\n",
       "      <td> 0</td>\n",
       "      <td>-0.398234</td>\n",
       "      <td> 1</td>\n",
       "      <td>-0.056665</td>\n",
       "      <td> 0</td>\n",
       "      <td> 0</td>\n",
       "      <td> 0.003844</td>\n",
       "      <td> 0</td>\n",
       "    </tr>\n",
       "    <tr>\n",
       "      <th>2014-09-19</th>\n",
       "      <td> 0.121880</td>\n",
       "      <td>-0.945065</td>\n",
       "      <td>-0.786281</td>\n",
       "      <td> 0.864394</td>\n",
       "      <td>-0.913353</td>\n",
       "      <td>-0.006119</td>\n",
       "      <td> 0.981138</td>\n",
       "      <td> 0.259821</td>\n",
       "      <td>-0.910011</td>\n",
       "      <td>-0.937365</td>\n",
       "      <td>...</td>\n",
       "      <td> 0.493051</td>\n",
       "      <td> 0</td>\n",
       "      <td> 0</td>\n",
       "      <td>-0.506231</td>\n",
       "      <td> 1</td>\n",
       "      <td> 0.168571</td>\n",
       "      <td> 0</td>\n",
       "      <td> 0</td>\n",
       "      <td>-0.078084</td>\n",
       "      <td> 0</td>\n",
       "    </tr>\n",
       "  </tbody>\n",
       "</table>\n",
       "<p>3 rows × 39 columns</p>\n",
       "</div>"
      ],
      "text/plain": [
       "                 q1c    q1cstd    q1high     q1low   q1range  q1middle  \\\n",
       "2015-03-20  0.091034 -0.784030 -0.804717  0.811930 -0.867391 -0.037672   \n",
       "2014-12-19  0.150845 -0.749593 -0.720415  0.632583 -0.616813 -0.103014   \n",
       "2014-09-19  0.121880 -0.945065 -0.786281  0.864394 -0.913353 -0.006119   \n",
       "\n",
       "               q1pos       q0c    q0cstd    q0high   ...       m0lixt  \\\n",
       "2015-03-20  0.851029  0.150845 -0.749593 -0.793868   ...     0.402011   \n",
       "2014-12-19  0.955654  0.121880 -0.945065 -0.959844   ...     0.344314   \n",
       "2014-09-19  0.981138  0.259821 -0.910011 -0.937365   ...     0.493051   \n",
       "\n",
       "            m0lixc72  m0lixc288    m0lixd  m0lixm   m0lixtv  m0lixc72v  \\\n",
       "2015-03-20         0          0 -0.406701       1 -0.031447          0   \n",
       "2014-12-19         0          0 -0.398234       1 -0.056665          0   \n",
       "2014-09-19         0          0 -0.506231       1  0.168571          0   \n",
       "\n",
       "            m0lixc288v   m0lixdv  m0lixmv  \n",
       "2015-03-20           0  0.030712        0  \n",
       "2014-12-19           0  0.003844        0  \n",
       "2014-09-19           0 -0.078084        0  \n",
       "\n",
       "[3 rows x 39 columns]"
      ]
     },
     "execution_count": 78,
     "metadata": {},
     "output_type": "execute_result"
    }
   ],
   "source": [
    "datan.head(3)"
   ]
  },
  {
   "cell_type": "code",
   "execution_count": 79,
   "metadata": {
    "collapsed": false
   },
   "outputs": [
    {
     "data": {
      "text/html": [
       "<div style=\"max-height:1000px;max-width:1500px;overflow:auto;\">\n",
       "<table border=\"1\" class=\"dataframe\">\n",
       "  <thead>\n",
       "    <tr style=\"text-align: right;\">\n",
       "      <th></th>\n",
       "      <th>q1c</th>\n",
       "      <th>q1cstd</th>\n",
       "      <th>q1high</th>\n",
       "      <th>q1low</th>\n",
       "      <th>q1range</th>\n",
       "      <th>q1middle</th>\n",
       "      <th>q1pos</th>\n",
       "      <th>q0c</th>\n",
       "      <th>q0cstd</th>\n",
       "      <th>q0high</th>\n",
       "      <th>...</th>\n",
       "      <th>m0lixt</th>\n",
       "      <th>m0lixc72</th>\n",
       "      <th>m0lixc288</th>\n",
       "      <th>m0lixd</th>\n",
       "      <th>m0lixm</th>\n",
       "      <th>m0lixtv</th>\n",
       "      <th>m0lixc72v</th>\n",
       "      <th>m0lixc288v</th>\n",
       "      <th>m0lixdv</th>\n",
       "      <th>m0lixmv</th>\n",
       "    </tr>\n",
       "  </thead>\n",
       "  <tbody>\n",
       "    <tr>\n",
       "      <th>2015-03-20</th>\n",
       "      <td> 1.808621</td>\n",
       "      <td> 0.851452</td>\n",
       "      <td> 2.257262</td>\n",
       "      <td>-3.765961</td>\n",
       "      <td>  6.023222</td>\n",
       "      <td>-0.754349</td>\n",
       "      <td> 85.102949</td>\n",
       "      <td> 2.996910</td>\n",
       "      <td> 0.920216</td>\n",
       "      <td> 0.512111</td>\n",
       "      <td>...</td>\n",
       "      <td> 7.285306</td>\n",
       "      <td> 0</td>\n",
       "      <td> 0</td>\n",
       "      <td>-5.667367</td>\n",
       "      <td> 1</td>\n",
       "      <td>-0.514500</td>\n",
       "      <td> 0</td>\n",
       "      <td> 0</td>\n",
       "      <td> 0.659982</td>\n",
       "      <td> 0</td>\n",
       "    </tr>\n",
       "    <tr>\n",
       "      <th>2014-12-19</th>\n",
       "      <td> 2.996910</td>\n",
       "      <td> 0.920216</td>\n",
       "      <td> 3.231700</td>\n",
       "      <td>-7.357244</td>\n",
       "      <td> 10.588944</td>\n",
       "      <td>-2.062772</td>\n",
       "      <td> 95.565373</td>\n",
       "      <td> 2.421455</td>\n",
       "      <td> 0.529902</td>\n",
       "      <td> 0.296047</td>\n",
       "      <td>...</td>\n",
       "      <td> 6.239702</td>\n",
       "      <td> 0</td>\n",
       "      <td> 0</td>\n",
       "      <td>-5.549377</td>\n",
       "      <td> 1</td>\n",
       "      <td>-0.927099</td>\n",
       "      <td> 0</td>\n",
       "      <td> 0</td>\n",
       "      <td> 0.082600</td>\n",
       "      <td> 0</td>\n",
       "    </tr>\n",
       "    <tr>\n",
       "      <th>2014-09-19</th>\n",
       "      <td> 2.421455</td>\n",
       "      <td> 0.529902</td>\n",
       "      <td> 2.470362</td>\n",
       "      <td>-2.715414</td>\n",
       "      <td>  5.185776</td>\n",
       "      <td>-0.122526</td>\n",
       "      <td> 98.113823</td>\n",
       "      <td> 5.162012</td>\n",
       "      <td> 0.599897</td>\n",
       "      <td> 0.325310</td>\n",
       "      <td>...</td>\n",
       "      <td> 8.935134</td>\n",
       "      <td> 0</td>\n",
       "      <td> 0</td>\n",
       "      <td>-7.054315</td>\n",
       "      <td> 1</td>\n",
       "      <td> 2.126565</td>\n",
       "      <td> 0</td>\n",
       "      <td> 0</td>\n",
       "      <td>-1.652266</td>\n",
       "      <td> 0</td>\n",
       "    </tr>\n",
       "  </tbody>\n",
       "</table>\n",
       "<p>3 rows × 39 columns</p>\n",
       "</div>"
      ],
      "text/plain": [
       "                 q1c    q1cstd    q1high     q1low    q1range  q1middle  \\\n",
       "2015-03-20  1.808621  0.851452  2.257262 -3.765961   6.023222 -0.754349   \n",
       "2014-12-19  2.996910  0.920216  3.231700 -7.357244  10.588944 -2.062772   \n",
       "2014-09-19  2.421455  0.529902  2.470362 -2.715414   5.185776 -0.122526   \n",
       "\n",
       "                q1pos       q0c    q0cstd    q0high   ...       m0lixt  \\\n",
       "2015-03-20  85.102949  2.996910  0.920216  0.512111   ...     7.285306   \n",
       "2014-12-19  95.565373  2.421455  0.529902  0.296047   ...     6.239702   \n",
       "2014-09-19  98.113823  5.162012  0.599897  0.325310   ...     8.935134   \n",
       "\n",
       "            m0lixc72  m0lixc288    m0lixd  m0lixm   m0lixtv  m0lixc72v  \\\n",
       "2015-03-20         0          0 -5.667367       1 -0.514500          0   \n",
       "2014-12-19         0          0 -5.549377       1 -0.927099          0   \n",
       "2014-09-19         0          0 -7.054315       1  2.126565          0   \n",
       "\n",
       "            m0lixc288v   m0lixdv  m0lixmv  \n",
       "2015-03-20           0  0.659982        0  \n",
       "2014-12-19           0  0.082600        0  \n",
       "2014-09-19           0 -1.652266        0  \n",
       "\n",
       "[3 rows x 39 columns]"
      ]
     },
     "execution_count": 79,
     "metadata": {},
     "output_type": "execute_result"
    }
   ],
   "source": [
    "data.head(3)"
   ]
  },
  {
   "cell_type": "code",
   "execution_count": 80,
   "metadata": {
    "collapsed": false
   },
   "outputs": [],
   "source": [
    "for cols in datan2.keys():\n",
    "    maxcols = max(datan2[cols])\n",
    "    mincols = min(datan2[cols])\n",
    "    spancols = maxcols - mincols\n",
    "    meancols = maxcols - (spancols / 2)\n",
    "    for n in range(len(datan2)):\n",
    "        if mincols >= 0 or maxcols <= 0:\n",
    "            datan2[cols][n] = (datan2[cols][n] - meancols) / (spancols / 2)\n",
    "        else:\n",
    "            if datan2[cols][n] < 0:\n",
    "                datan2[cols][n] = datan2[cols][n] / abs(mincols)\n",
    "            if datan2[cols][n] > 0:\n",
    "                datan2[cols][n] = datan2[cols][n] / maxcols"
   ]
  },
  {
   "cell_type": "code",
   "execution_count": 81,
   "metadata": {
    "collapsed": false
   },
   "outputs": [
    {
     "name": "stdout",
     "output_type": "stream",
     "text": [
      "q1c -1.0 1.0\n",
      "q1cstd -1.0 1.0\n",
      "q1high -1.0 1.0\n",
      "q1low -1.0 1.0\n",
      "q1range -1.0 1.0\n",
      "q1middle -1.0 1.0\n",
      "q1pos -1.0 1.0\n",
      "q0c -1.0 1.0\n",
      "q0cstd -1.0 1.0\n",
      "q0high -1.0 1.0\n",
      "q0low -1.0 1.0\n",
      "q0spanmean -1.0 1.0\n",
      "q0spanstd -1.0 1.0\n",
      "q0lixt -1.0 1.0\n",
      "q0lixc72 -1.0 1.0\n",
      "q0lixc288 -1.0 1.0\n",
      "q0lixd -1.0 1.0\n",
      "q0lixm -1.0 1.0\n",
      "q0lixtv -1.0 1.0\n",
      "q0lixc72v -1.0 1.0\n",
      "q0lixc288v -1.0 1.0\n",
      "q0lixdv -1.0 1.0\n",
      "q0lixmv -1.0 1.0\n",
      "m0c -1.0 1.0\n",
      "m0cstd -1.0 1.0\n",
      "m0high -1.0 1.0\n",
      "m0low -1.0 1.0\n",
      "m0spanmean -1.0 1.0\n",
      "m0spanstd -1.0 1.0\n",
      "m0lixt -1.0 1.0\n",
      "m0lixc72 -1.0 1.0\n",
      "m0lixc288 -1.0 1.0\n",
      "m0lixd -1.0 1.0\n",
      "m0lixm -1.0 1.0\n",
      "m0lixtv -1.0 1.0\n",
      "m0lixc72v -1.0 1.0\n",
      "m0lixc288v -1.0 1.0\n",
      "m0lixdv -1.0 1.0\n",
      "m0lixmv -1.0 1.0\n"
     ]
    }
   ],
   "source": [
    "for cols in datan2.keys():\n",
    "    maxcols = max(datan2[cols])\n",
    "    mincols = min(datan2[cols])\n",
    "    print cols, mincols, maxcols"
   ]
  },
  {
   "cell_type": "code",
   "execution_count": 82,
   "metadata": {
    "collapsed": false
   },
   "outputs": [
    {
     "data": {
      "text/html": [
       "<div style=\"max-height:1000px;max-width:1500px;overflow:auto;\">\n",
       "<table border=\"1\" class=\"dataframe\">\n",
       "  <thead>\n",
       "    <tr style=\"text-align: right;\">\n",
       "      <th></th>\n",
       "      <th>q1c</th>\n",
       "      <th>q1cstd</th>\n",
       "      <th>q1high</th>\n",
       "      <th>q1low</th>\n",
       "      <th>q1range</th>\n",
       "      <th>q1middle</th>\n",
       "      <th>q1pos</th>\n",
       "      <th>q0c</th>\n",
       "      <th>q0cstd</th>\n",
       "      <th>q0high</th>\n",
       "      <th>...</th>\n",
       "      <th>m0lixt</th>\n",
       "      <th>m0lixc72</th>\n",
       "      <th>m0lixc288</th>\n",
       "      <th>m0lixd</th>\n",
       "      <th>m0lixm</th>\n",
       "      <th>m0lixtv</th>\n",
       "      <th>m0lixc72v</th>\n",
       "      <th>m0lixc288v</th>\n",
       "      <th>m0lixdv</th>\n",
       "      <th>m0lixmv</th>\n",
       "    </tr>\n",
       "  </thead>\n",
       "  <tbody>\n",
       "    <tr>\n",
       "      <th>2015-03-20</th>\n",
       "      <td> 0.157456</td>\n",
       "      <td>-0.760873</td>\n",
       "      <td>-0.633108</td>\n",
       "      <td> 0.721706</td>\n",
       "      <td>-0.737782</td>\n",
       "      <td> 0.024451</td>\n",
       "      <td> 0.848206</td>\n",
       "      <td> 0.178477</td>\n",
       "      <td>-0.732095</td>\n",
       "      <td>-0.756883</td>\n",
       "      <td>...</td>\n",
       "      <td> 0.264939</td>\n",
       "      <td> 0.000000</td>\n",
       "      <td> 0.00000</td>\n",
       "      <td>-0.251692</td>\n",
       "      <td> 1</td>\n",
       "      <td>-0.084272</td>\n",
       "      <td> 0.000000</td>\n",
       "      <td> 0.000000</td>\n",
       "      <td> 0.048247</td>\n",
       "      <td> 0</td>\n",
       "    </tr>\n",
       "    <tr>\n",
       "      <th>2014-12-19</th>\n",
       "      <td> 0.309932</td>\n",
       "      <td>-0.796205</td>\n",
       "      <td>-0.352552</td>\n",
       "      <td> 0.984913</td>\n",
       "      <td>-0.751115</td>\n",
       "      <td> 0.315104</td>\n",
       "      <td> 0.917000</td>\n",
       "      <td>-0.022962</td>\n",
       "      <td>-0.727418</td>\n",
       "      <td>-0.709178</td>\n",
       "      <td>...</td>\n",
       "      <td> 0.218895</td>\n",
       "      <td>-0.463666</td>\n",
       "      <td>-0.10246</td>\n",
       "      <td>-0.188234</td>\n",
       "      <td> 1</td>\n",
       "      <td>-0.078220</td>\n",
       "      <td>-0.463666</td>\n",
       "      <td>-0.105079</td>\n",
       "      <td> 0.070457</td>\n",
       "      <td> 0</td>\n",
       "    </tr>\n",
       "    <tr>\n",
       "      <th>2014-09-19</th>\n",
       "      <td> 0.093027</td>\n",
       "      <td>-0.905005</td>\n",
       "      <td>-0.808376</td>\n",
       "      <td> 0.650728</td>\n",
       "      <td>-0.799954</td>\n",
       "      <td>-0.096806</td>\n",
       "      <td> 0.981138</td>\n",
       "      <td> 0.247914</td>\n",
       "      <td>-0.949596</td>\n",
       "      <td>-1.000000</td>\n",
       "      <td>...</td>\n",
       "      <td> 0.394150</td>\n",
       "      <td> 0.000000</td>\n",
       "      <td> 0.00000</td>\n",
       "      <td>-0.401828</td>\n",
       "      <td> 1</td>\n",
       "      <td>-0.051200</td>\n",
       "      <td> 0.000000</td>\n",
       "      <td> 0.000000</td>\n",
       "      <td> 0.024747</td>\n",
       "      <td> 0</td>\n",
       "    </tr>\n",
       "  </tbody>\n",
       "</table>\n",
       "<p>3 rows × 39 columns</p>\n",
       "</div>"
      ],
      "text/plain": [
       "                 q1c    q1cstd    q1high     q1low   q1range  q1middle  \\\n",
       "2015-03-20  0.157456 -0.760873 -0.633108  0.721706 -0.737782  0.024451   \n",
       "2014-12-19  0.309932 -0.796205 -0.352552  0.984913 -0.751115  0.315104   \n",
       "2014-09-19  0.093027 -0.905005 -0.808376  0.650728 -0.799954 -0.096806   \n",
       "\n",
       "               q1pos       q0c    q0cstd    q0high   ...       m0lixt  \\\n",
       "2015-03-20  0.848206  0.178477 -0.732095 -0.756883   ...     0.264939   \n",
       "2014-12-19  0.917000 -0.022962 -0.727418 -0.709178   ...     0.218895   \n",
       "2014-09-19  0.981138  0.247914 -0.949596 -1.000000   ...     0.394150   \n",
       "\n",
       "            m0lixc72  m0lixc288    m0lixd  m0lixm   m0lixtv  m0lixc72v  \\\n",
       "2015-03-20  0.000000    0.00000 -0.251692       1 -0.084272   0.000000   \n",
       "2014-12-19 -0.463666   -0.10246 -0.188234       1 -0.078220  -0.463666   \n",
       "2014-09-19  0.000000    0.00000 -0.401828       1 -0.051200   0.000000   \n",
       "\n",
       "            m0lixc288v   m0lixdv  m0lixmv  \n",
       "2015-03-20    0.000000  0.048247        0  \n",
       "2014-12-19   -0.105079  0.070457        0  \n",
       "2014-09-19    0.000000  0.024747        0  \n",
       "\n",
       "[3 rows x 39 columns]"
      ]
     },
     "execution_count": 82,
     "metadata": {},
     "output_type": "execute_result"
    }
   ],
   "source": [
    "datan2.head(3)"
   ]
  },
  {
   "cell_type": "code",
   "execution_count": 83,
   "metadata": {
    "collapsed": false
   },
   "outputs": [
    {
     "data": {
      "text/html": [
       "<div style=\"max-height:1000px;max-width:1500px;overflow:auto;\">\n",
       "<table border=\"1\" class=\"dataframe\">\n",
       "  <thead>\n",
       "    <tr style=\"text-align: right;\">\n",
       "      <th></th>\n",
       "      <th>q1c</th>\n",
       "      <th>q1cstd</th>\n",
       "      <th>q1high</th>\n",
       "      <th>q1low</th>\n",
       "      <th>q1range</th>\n",
       "      <th>q1middle</th>\n",
       "      <th>q1pos</th>\n",
       "      <th>q0c</th>\n",
       "      <th>q0cstd</th>\n",
       "      <th>q0high</th>\n",
       "      <th>...</th>\n",
       "      <th>m0lixt</th>\n",
       "      <th>m0lixc72</th>\n",
       "      <th>m0lixc288</th>\n",
       "      <th>m0lixd</th>\n",
       "      <th>m0lixm</th>\n",
       "      <th>m0lixtv</th>\n",
       "      <th>m0lixc72v</th>\n",
       "      <th>m0lixc288v</th>\n",
       "      <th>m0lixdv</th>\n",
       "      <th>m0lixmv</th>\n",
       "    </tr>\n",
       "  </thead>\n",
       "  <tbody>\n",
       "    <tr>\n",
       "      <th>2015-03-20</th>\n",
       "      <td> 2.742932</td>\n",
       "      <td> 0.824285</td>\n",
       "      <td> 3.195691</td>\n",
       "      <td>-2.769740</td>\n",
       "      <td> 5.965430</td>\n",
       "      <td> 0.212975</td>\n",
       "      <td> 84.820592</td>\n",
       "      <td> 4.440649</td>\n",
       "      <td> 0.812940</td>\n",
       "      <td> 0.445199</td>\n",
       "      <td>...</td>\n",
       "      <td> 5.122899</td>\n",
       "      <td> 0.000000</td>\n",
       "      <td> 0.000000</td>\n",
       "      <td>-3.827465</td>\n",
       "      <td> 1</td>\n",
       "      <td>-2.162407</td>\n",
       "      <td> 0.000000</td>\n",
       "      <td> 0.000000</td>\n",
       "      <td> 1.839902</td>\n",
       "      <td> 0</td>\n",
       "    </tr>\n",
       "    <tr>\n",
       "      <th>2014-12-19</th>\n",
       "      <td> 5.399115</td>\n",
       "      <td> 0.756634</td>\n",
       "      <td> 5.639382</td>\n",
       "      <td>-0.150157</td>\n",
       "      <td> 5.789539</td>\n",
       "      <td> 2.744612</td>\n",
       "      <td> 91.699991</td>\n",
       "      <td>-0.695533</td>\n",
       "      <td> 0.820467</td>\n",
       "      <td> 0.487591</td>\n",
       "      <td>...</td>\n",
       "      <td> 4.232588</td>\n",
       "      <td>-1.387678</td>\n",
       "      <td>-1.387678</td>\n",
       "      <td>-2.862472</td>\n",
       "      <td> 1</td>\n",
       "      <td>-2.007115</td>\n",
       "      <td>-1.387678</td>\n",
       "      <td>-1.387678</td>\n",
       "      <td> 2.686905</td>\n",
       "      <td> 0</td>\n",
       "    </tr>\n",
       "    <tr>\n",
       "      <th>2014-09-19</th>\n",
       "      <td> 1.620553</td>\n",
       "      <td> 0.548310</td>\n",
       "      <td> 1.669077</td>\n",
       "      <td>-3.476148</td>\n",
       "      <td> 5.145225</td>\n",
       "      <td>-0.903535</td>\n",
       "      <td> 98.113823</td>\n",
       "      <td> 6.168292</td>\n",
       "      <td> 0.462849</td>\n",
       "      <td> 0.229158</td>\n",
       "      <td>...</td>\n",
       "      <td> 7.621349</td>\n",
       "      <td> 0.000000</td>\n",
       "      <td> 0.000000</td>\n",
       "      <td>-6.110579</td>\n",
       "      <td> 1</td>\n",
       "      <td>-1.313785</td>\n",
       "      <td> 0.000000</td>\n",
       "      <td> 0.000000</td>\n",
       "      <td> 0.943736</td>\n",
       "      <td> 0</td>\n",
       "    </tr>\n",
       "  </tbody>\n",
       "</table>\n",
       "<p>3 rows × 39 columns</p>\n",
       "</div>"
      ],
      "text/plain": [
       "                 q1c    q1cstd    q1high     q1low   q1range  q1middle  \\\n",
       "2015-03-20  2.742932  0.824285  3.195691 -2.769740  5.965430  0.212975   \n",
       "2014-12-19  5.399115  0.756634  5.639382 -0.150157  5.789539  2.744612   \n",
       "2014-09-19  1.620553  0.548310  1.669077 -3.476148  5.145225 -0.903535   \n",
       "\n",
       "                q1pos       q0c    q0cstd    q0high   ...       m0lixt  \\\n",
       "2015-03-20  84.820592  4.440649  0.812940  0.445199   ...     5.122899   \n",
       "2014-12-19  91.699991 -0.695533  0.820467  0.487591   ...     4.232588   \n",
       "2014-09-19  98.113823  6.168292  0.462849  0.229158   ...     7.621349   \n",
       "\n",
       "            m0lixc72  m0lixc288    m0lixd  m0lixm   m0lixtv  m0lixc72v  \\\n",
       "2015-03-20  0.000000   0.000000 -3.827465       1 -2.162407   0.000000   \n",
       "2014-12-19 -1.387678  -1.387678 -2.862472       1 -2.007115  -1.387678   \n",
       "2014-09-19  0.000000   0.000000 -6.110579       1 -1.313785   0.000000   \n",
       "\n",
       "            m0lixc288v   m0lixdv  m0lixmv  \n",
       "2015-03-20    0.000000  1.839902        0  \n",
       "2014-12-19   -1.387678  2.686905        0  \n",
       "2014-09-19    0.000000  0.943736        0  \n",
       "\n",
       "[3 rows x 39 columns]"
      ]
     },
     "execution_count": 83,
     "metadata": {},
     "output_type": "execute_result"
    }
   ],
   "source": [
    "data2.head(3)"
   ]
  },
  {
   "cell_type": "code",
   "execution_count": 84,
   "metadata": {
    "collapsed": true
   },
   "outputs": [],
   "source": [
    "datan.to_csv('datan.csv')\n",
    "datan2.to_csv('datan2.csv')"
   ]
  },
  {
   "cell_type": "markdown",
   "metadata": {},
   "source": [
    "## Overbought/Oversold Indicator using Options Open Interest"
   ]
  },
  {
   "cell_type": "code",
   "execution_count": 85,
   "metadata": {
    "collapsed": false
   },
   "outputs": [
    {
     "data": {
      "text/plain": [
       "4722723"
      ]
     },
     "execution_count": 85,
     "metadata": {},
     "output_type": "execute_result"
    }
   ],
   "source": [
    "options = read_csv('/Users/marcolunardi/Documents/Doc/options.csv', delimiter=',', header=0)\n",
    "options.rename(columns={'Unnamed: 0':'nrow'}, inplace=True)\n",
    "len(options)"
   ]
  },
  {
   "cell_type": "code",
   "execution_count": 86,
   "metadata": {
    "collapsed": false
   },
   "outputs": [
    {
     "data": {
      "text/html": [
       "<div style=\"max-height:1000px;max-width:1500px;overflow:auto;\">\n",
       "<table border=\"1\" class=\"dataframe\">\n",
       "  <thead>\n",
       "    <tr style=\"text-align: right;\">\n",
       "      <th></th>\n",
       "      <th>nrow</th>\n",
       "      <th>date</th>\n",
       "      <th>cl</th>\n",
       "      <th>exp</th>\n",
       "      <th>strike</th>\n",
       "      <th>pc</th>\n",
       "      <th>oi</th>\n",
       "      <th>vol</th>\n",
       "      <th>h</th>\n",
       "      <th>l</th>\n",
       "      <th>o</th>\n",
       "      <th>c</th>\n",
       "      <th>sp</th>\n",
       "    </tr>\n",
       "  </thead>\n",
       "  <tbody>\n",
       "    <tr>\n",
       "      <th>0</th>\n",
       "      <td> 0</td>\n",
       "      <td> 1990-01-02 00:00:00</td>\n",
       "      <td> NSX</td>\n",
       "      <td> 1990-03-17 00:00:00</td>\n",
       "      <td> 330</td>\n",
       "      <td> C</td>\n",
       "      <td>    0</td>\n",
       "      <td> 0</td>\n",
       "      <td> 0</td>\n",
       "      <td> 0</td>\n",
       "      <td> 0</td>\n",
       "      <td> 0</td>\n",
       "      <td> 359.69</td>\n",
       "    </tr>\n",
       "    <tr>\n",
       "      <th>1</th>\n",
       "      <td> 1</td>\n",
       "      <td> 1990-01-02 00:00:00</td>\n",
       "      <td> NSX</td>\n",
       "      <td> 1990-03-17 00:00:00</td>\n",
       "      <td> 335</td>\n",
       "      <td> C</td>\n",
       "      <td>    0</td>\n",
       "      <td> 0</td>\n",
       "      <td> 0</td>\n",
       "      <td> 0</td>\n",
       "      <td> 0</td>\n",
       "      <td> 0</td>\n",
       "      <td> 359.69</td>\n",
       "    </tr>\n",
       "    <tr>\n",
       "      <th>2</th>\n",
       "      <td> 2</td>\n",
       "      <td> 1990-01-02 00:00:00</td>\n",
       "      <td> NSX</td>\n",
       "      <td> 1990-03-17 00:00:00</td>\n",
       "      <td> 340</td>\n",
       "      <td> C</td>\n",
       "      <td> 3007</td>\n",
       "      <td> 0</td>\n",
       "      <td> 0</td>\n",
       "      <td> 0</td>\n",
       "      <td> 0</td>\n",
       "      <td> 0</td>\n",
       "      <td> 359.69</td>\n",
       "    </tr>\n",
       "  </tbody>\n",
       "</table>\n",
       "</div>"
      ],
      "text/plain": [
       "   nrow                 date   cl                  exp  strike pc    oi  vol  \\\n",
       "0     0  1990-01-02 00:00:00  NSX  1990-03-17 00:00:00     330  C     0    0   \n",
       "1     1  1990-01-02 00:00:00  NSX  1990-03-17 00:00:00     335  C     0    0   \n",
       "2     2  1990-01-02 00:00:00  NSX  1990-03-17 00:00:00     340  C  3007    0   \n",
       "\n",
       "   h  l  o  c      sp  \n",
       "0  0  0  0  0  359.69  \n",
       "1  0  0  0  0  359.69  \n",
       "2  0  0  0  0  359.69  "
      ]
     },
     "execution_count": 86,
     "metadata": {},
     "output_type": "execute_result"
    }
   ],
   "source": [
    "options.head(3)"
   ]
  },
  {
   "cell_type": "code",
   "execution_count": 87,
   "metadata": {
    "collapsed": false
   },
   "outputs": [
    {
     "data": {
      "text/html": [
       "<div style=\"max-height:1000px;max-width:1500px;overflow:auto;\">\n",
       "<table border=\"1\" class=\"dataframe\">\n",
       "  <thead>\n",
       "    <tr style=\"text-align: right;\">\n",
       "      <th></th>\n",
       "      <th>nrow</th>\n",
       "      <th>date</th>\n",
       "      <th>cl</th>\n",
       "      <th>exp</th>\n",
       "      <th>strike</th>\n",
       "      <th>pc</th>\n",
       "      <th>oi</th>\n",
       "      <th>vol</th>\n",
       "      <th>h</th>\n",
       "      <th>l</th>\n",
       "      <th>o</th>\n",
       "      <th>c</th>\n",
       "      <th>sp</th>\n",
       "    </tr>\n",
       "  </thead>\n",
       "  <tbody>\n",
       "    <tr>\n",
       "      <th>4722720</th>\n",
       "      <td> 4722720</td>\n",
       "      <td> 2015-06-01 00:00:00</td>\n",
       "      <td> SPX</td>\n",
       "      <td> 2016-03-18 00:00:00</td>\n",
       "      <td> 2800</td>\n",
       "      <td> P</td>\n",
       "      <td>  2</td>\n",
       "      <td> 0</td>\n",
       "      <td> 0</td>\n",
       "      <td> 0</td>\n",
       "      <td> 0</td>\n",
       "      <td> 0</td>\n",
       "      <td> 2111.73</td>\n",
       "    </tr>\n",
       "    <tr>\n",
       "      <th>4722721</th>\n",
       "      <td> 4722721</td>\n",
       "      <td> 2015-06-01 00:00:00</td>\n",
       "      <td> SPX</td>\n",
       "      <td> 2016-03-18 00:00:00</td>\n",
       "      <td> 2900</td>\n",
       "      <td> P</td>\n",
       "      <td> 12</td>\n",
       "      <td> 0</td>\n",
       "      <td> 0</td>\n",
       "      <td> 0</td>\n",
       "      <td> 0</td>\n",
       "      <td> 0</td>\n",
       "      <td> 2111.73</td>\n",
       "    </tr>\n",
       "    <tr>\n",
       "      <th>4722722</th>\n",
       "      <td> 4722722</td>\n",
       "      <td> 2015-06-01 00:00:00</td>\n",
       "      <td> SPX</td>\n",
       "      <td> 2016-03-18 00:00:00</td>\n",
       "      <td> 3000</td>\n",
       "      <td> P</td>\n",
       "      <td> 12</td>\n",
       "      <td> 0</td>\n",
       "      <td> 0</td>\n",
       "      <td> 0</td>\n",
       "      <td> 0</td>\n",
       "      <td> 0</td>\n",
       "      <td> 2111.73</td>\n",
       "    </tr>\n",
       "  </tbody>\n",
       "</table>\n",
       "</div>"
      ],
      "text/plain": [
       "            nrow                 date   cl                  exp  strike pc  \\\n",
       "4722720  4722720  2015-06-01 00:00:00  SPX  2016-03-18 00:00:00    2800  P   \n",
       "4722721  4722721  2015-06-01 00:00:00  SPX  2016-03-18 00:00:00    2900  P   \n",
       "4722722  4722722  2015-06-01 00:00:00  SPX  2016-03-18 00:00:00    3000  P   \n",
       "\n",
       "         oi  vol  h  l  o  c       sp  \n",
       "4722720   2    0  0  0  0  0  2111.73  \n",
       "4722721  12    0  0  0  0  0  2111.73  \n",
       "4722722  12    0  0  0  0  0  2111.73  "
      ]
     },
     "execution_count": 87,
     "metadata": {},
     "output_type": "execute_result"
    }
   ],
   "source": [
    "options.tail(3)"
   ]
  },
  {
   "cell_type": "code",
   "execution_count": 88,
   "metadata": {
    "collapsed": true
   },
   "outputs": [],
   "source": [
    "options['date'] = pd.to_datetime(options['date'])\n",
    "options['exp'] = pd.to_datetime(options['exp'])"
   ]
  },
  {
   "cell_type": "markdown",
   "metadata": {},
   "source": [
    "##Setting expiration and date"
   ]
  },
  {
   "cell_type": "code",
   "execution_count": 89,
   "metadata": {
    "collapsed": true
   },
   "outputs": [],
   "source": [
    "expd = dp.parse(\"2009/03/21\")\n",
    "d = dp.parse(\"2009/03/09\")"
   ]
  },
  {
   "cell_type": "code",
   "execution_count": 90,
   "metadata": {
    "collapsed": false
   },
   "outputs": [
    {
     "data": {
      "text/plain": [
       "42880"
      ]
     },
     "execution_count": 90,
     "metadata": {},
     "output_type": "execute_result"
    }
   ],
   "source": [
    "optexp = options[options.exp == expd]\n",
    "len(optexp)"
   ]
  },
  {
   "cell_type": "code",
   "execution_count": 91,
   "metadata": {
    "collapsed": false
   },
   "outputs": [
    {
     "data": {
      "text/plain": [
       "414"
      ]
     },
     "execution_count": 91,
     "metadata": {},
     "output_type": "execute_result"
    }
   ],
   "source": [
    "optd = optexp[optexp.date == d]\n",
    "optd = optd.reset_index(drop=True)\n",
    "len(optd)"
   ]
  },
  {
   "cell_type": "code",
   "execution_count": 92,
   "metadata": {
    "collapsed": false
   },
   "outputs": [
    {
     "data": {
      "text/plain": [
       "676.52999999999997"
      ]
     },
     "execution_count": 92,
     "metadata": {},
     "output_type": "execute_result"
    }
   ],
   "source": [
    "price = optd.sp[0]\n",
    "price"
   ]
  },
  {
   "cell_type": "code",
   "execution_count": 93,
   "metadata": {
    "collapsed": true
   },
   "outputs": [],
   "source": [
    "#price = 2040\n",
    "strikes = []\n",
    "pcr = []\n",
    "diff = []"
   ]
  },
  {
   "cell_type": "code",
   "execution_count": 94,
   "metadata": {
    "collapsed": false
   },
   "outputs": [
    {
     "data": {
      "text/plain": [
       "[650, 675, 700, 725]"
      ]
     },
     "execution_count": 94,
     "metadata": {},
     "output_type": "execute_result"
    }
   ],
   "source": [
    "if price%25 == 0:\n",
    "    start = price - 25\n",
    "else:\n",
    "    start = (int(price / 25)) * 25\n",
    "strikes = [(start - 25), start, (start + 25), (start + 50)]\n",
    "strikes    "
   ]
  },
  {
   "cell_type": "code",
   "execution_count": 95,
   "metadata": {
    "collapsed": false
   },
   "outputs": [
    {
     "data": {
      "text/plain": [
       "[0.5884643368272928,\n",
       " 0.6400796592676581,\n",
       " 0.5060391910141611,\n",
       " 0.20125384788647804]"
      ]
     },
     "execution_count": 95,
     "metadata": {},
     "output_type": "execute_result"
    }
   ],
   "source": [
    "for s in strikes:\n",
    "    opts = optd[optd.strike == s]\n",
    "    oic = float(np.max(opts.oi[opts.pc == 'C']))\n",
    "    oip = float(np.max(opts.oi[opts.pc == 'P']))\n",
    "    ratio = ((oip/(oic + oip))*2)-1\n",
    "    pcr.append(ratio)\n",
    "    if s < price:\n",
    "        diff.append((((s - 25)/price)-1)*100)\n",
    "    elif s > price:\n",
    "        diff.append((((s + 25)/price)-1)*100)\n",
    "pcr"
   ]
  },
  {
   "cell_type": "code",
   "execution_count": 96,
   "metadata": {
    "collapsed": false
   },
   "outputs": [
    {
     "data": {
      "text/plain": [
       "[-7.6168093063130993,\n",
       " -3.9214816785656192,\n",
       " 7.1645012046768208,\n",
       " 10.85982883242429]"
      ]
     },
     "execution_count": 96,
     "metadata": {},
     "output_type": "execute_result"
    }
   ],
   "source": [
    "diff"
   ]
  },
  {
   "cell_type": "code",
   "execution_count": 97,
   "metadata": {
    "collapsed": false
   },
   "outputs": [],
   "source": [
    "obs = 0\n",
    "mult = 3\n",
    "if pcr[0] < 0:\n",
    "    obs += (abs(pcr[0] * mult) * diff[0])\n",
    "if pcr[1] < 0:\n",
    "    obs += (abs(pcr[1] * mult) * diff[1])\n",
    "if pcr[2] > 0:\n",
    "    obs += (abs(pcr[2] * mult) * diff[2])\n",
    "if pcr[3] > 0:\n",
    "    obs += (abs(pcr[3] * mult) * diff[3])"
   ]
  },
  {
   "cell_type": "code",
   "execution_count": 98,
   "metadata": {
    "collapsed": false
   },
   "outputs": [
    {
     "data": {
      "text/plain": [
       "-17.928882548717961"
      ]
     },
     "execution_count": 98,
     "metadata": {},
     "output_type": "execute_result"
    }
   ],
   "source": [
    "(abs(pcr[0]*4) * diff[0])"
   ]
  },
  {
   "cell_type": "code",
   "execution_count": 99,
   "metadata": {
    "collapsed": false
   },
   "outputs": [
    {
     "data": {
      "text/plain": [
       "-10.040242626562582"
      ]
     },
     "execution_count": 99,
     "metadata": {},
     "output_type": "execute_result"
    }
   ],
   "source": [
    "(abs(pcr[1]*4) * diff[1])"
   ]
  },
  {
   "cell_type": "code",
   "execution_count": 100,
   "metadata": {
    "collapsed": false
   },
   "outputs": [
    {
     "data": {
      "text/plain": [
       "14.502073574538564"
      ]
     },
     "execution_count": 100,
     "metadata": {},
     "output_type": "execute_result"
    }
   ],
   "source": [
    "(abs(pcr[2]*4) * diff[2])"
   ]
  },
  {
   "cell_type": "code",
   "execution_count": 101,
   "metadata": {
    "collapsed": false
   },
   "outputs": [
    {
     "data": {
      "text/plain": [
       "8.742329359655626"
      ]
     },
     "execution_count": 101,
     "metadata": {},
     "output_type": "execute_result"
    }
   ],
   "source": [
    "(abs(pcr[3]*4) * diff[3])"
   ]
  },
  {
   "cell_type": "code",
   "execution_count": 102,
   "metadata": {
    "collapsed": false
   },
   "outputs": [
    {
     "data": {
      "text/plain": [
       "17.433302200645642"
      ]
     },
     "execution_count": 102,
     "metadata": {},
     "output_type": "execute_result"
    }
   ],
   "source": [
    "obs"
   ]
  },
  {
   "cell_type": "markdown",
   "metadata": {
    "collapsed": true
   },
   "source": [
    "## Predicting S&P 500 quarterly fluctuation spans (to be completed)"
   ]
  },
  {
   "cell_type": "code",
   "execution_count": 103,
   "metadata": {
    "collapsed": true
   },
   "outputs": [],
   "source": [
    "from sklearn.cluster import KMeans"
   ]
  },
  {
   "cell_type": "code",
   "execution_count": 104,
   "metadata": {
    "collapsed": false
   },
   "outputs": [
    {
     "name": "stdout",
     "output_type": "stream",
     "text": [
      "Populating the interactive namespace from numpy and matplotlib\n"
     ]
    },
    {
     "name": "stderr",
     "output_type": "stream",
     "text": [
      "WARNING: pylab import has clobbered these variables: ['load', 'unique', 'datetime', 'info', 'exp', 'diff', 'save']\n",
      "`%matplotlib` prevents importing * from pylab and numpy\n"
     ]
    }
   ],
   "source": [
    "%pylab inline"
   ]
  },
  {
   "cell_type": "code",
   "execution_count": 105,
   "metadata": {
    "collapsed": false
   },
   "outputs": [
    {
     "data": {
      "image/png": "[encoded data removed]",
      "text/plain": [
       "<matplotlib.figure.Figure at 0x10f623590>"
      ]
     },
     "execution_count": 105,
     "metadata": {},
     "output_type": "execute_result"
    },
    {
     "data": {
      "image/png": "[encoded data removed]",
      "text/plain": [
       "<matplotlib.figure.Figure at 0x10f623590>"
      ]
     },
     "metadata": {},
     "output_type": "display_data"
    }
   ],
   "source": [
    "hie_data = datan\n",
    "corr_matrix = np.corrcoef(hie_data)\n",
    "sm.graphics.plot_corr(corr_matrix, xnames=list(datan.columns.values))"
   ]
  },
  {
   "cell_type": "code",
   "execution_count": 106,
   "metadata": {
    "collapsed": false
   },
   "outputs": [
    {
     "data": {
      "text/plain": [
       "array([[ 1.        ,  0.97637102,  0.97571912, ...,  0.75602644,\n",
       "         0.31735195,  0.71831393],\n",
       "       [ 0.97637102,  1.        ,  0.98746613, ...,  0.76108568,\n",
       "         0.33198098,  0.7286019 ],\n",
       "       [ 0.97571912,  0.98746613,  1.        , ...,  0.78414543,\n",
       "         0.30269206,  0.73112018],\n",
       "       ..., \n",
       "       [ 0.75602644,  0.76108568,  0.78414543, ...,  1.        ,\n",
       "         0.23370676,  0.62539598],\n",
       "       [ 0.31735195,  0.33198098,  0.30269206, ...,  0.23370676,\n",
       "         1.        ,  0.12259123],\n",
       "       [ 0.71831393,  0.7286019 ,  0.73112018, ...,  0.62539598,\n",
       "         0.12259123,  1.        ]])"
      ]
     },
     "execution_count": 106,
     "metadata": {},
     "output_type": "execute_result"
    }
   ],
   "source": [
    "corr_matrix"
   ]
  },
  {
   "cell_type": "code",
   "execution_count": 107,
   "metadata": {
    "collapsed": false
   },
   "outputs": [
    {
     "name": "stdout",
     "output_type": "stream",
     "text": [
      "Initialization complete\n",
      "Iteration  0, inertia 103601.755\n",
      "Iteration  1, inertia 58602.927\n",
      "Iteration  2, inertia 56897.518\n",
      "Iteration  3, inertia 56144.386\n",
      "Iteration  4, inertia 55878.937\n",
      "Iteration  5, inertia 55332.564\n",
      "Converged at iteration 5\n"
     ]
    },
    {
     "data": {
      "text/plain": [
       "KMeans(copy_x=True, init='k-means++', max_iter=50, n_clusters=3, n_init=1,\n",
       "    n_jobs=-1, precompute_distances=True, random_state=None, tol=0.0001,\n",
       "    verbose=1)"
      ]
     },
     "execution_count": 107,
     "metadata": {},
     "output_type": "execute_result"
    }
   ],
   "source": [
    "num_clusters=3\n",
    "km = KMeans(init='k-means++', max_iter=50, n_init=1, verbose=1, n_jobs=-1, n_clusters=num_clusters)\n",
    "km.fit(ydata2)"
   ]
  },
  {
   "cell_type": "code",
   "execution_count": 108,
   "metadata": {
    "collapsed": false
   },
   "outputs": [
    {
     "name": "stdout",
     "output_type": "stream",
     "text": [
      "Cluster 0:  q1pos,  q1range,  q1high,  q1c,  q1middle,  q1cstd,  q1low, \n",
      "\n",
      "Cluster 1:  q1range,  q1high,  q1cstd,  q1middle,  q1c,  q1low,  q1pos, \n",
      "\n",
      "Cluster 2:  q1range,  q1high,  q1pos,  q1cstd,  q1c,  q1middle,  q1low, \n",
      "\n"
     ]
    }
   ],
   "source": [
    "order_centroids = km.cluster_centers_.argsort()[:, ::-1]\n",
    "terms = list(ydata2.columns.values)\n",
    "for i in range(num_clusters):\n",
    "    print \"Cluster %d:\" % i,\n",
    "    for ind in order_centroids[i, :50]:\n",
    "        print ' %s' % terms[ind] + \",\",\n",
    "    print \"\\n\""
   ]
  },
  {
   "cell_type": "markdown",
   "metadata": {},
   "source": [
    "## Creating datasets for predictions (starting from data2 and after features selection)"
   ]
  },
  {
   "cell_type": "code",
   "execution_count": 177,
   "metadata": {
    "collapsed": true
   },
   "outputs": [],
   "source": [
    "complete = data2.copy()\n",
    "completen = datan2.copy()"
   ]
  },
  {
   "cell_type": "code",
   "execution_count": 178,
   "metadata": {
    "collapsed": false
   },
   "outputs": [
    {
     "data": {
      "text/html": [
       "<div style=\"max-height:1000px;max-width:1500px;overflow:auto;\">\n",
       "<table border=\"1\" class=\"dataframe\">\n",
       "  <thead>\n",
       "    <tr style=\"text-align: right;\">\n",
       "      <th></th>\n",
       "      <th>q1high</th>\n",
       "      <th>q1low</th>\n",
       "      <th>q1range</th>\n",
       "      <th>q1middle</th>\n",
       "      <th>q1pos</th>\n",
       "    </tr>\n",
       "  </thead>\n",
       "  <tbody>\n",
       "    <tr>\n",
       "      <th>2015-03-20</th>\n",
       "      <td> 3.195691</td>\n",
       "      <td>-2.769740</td>\n",
       "      <td> 5.965430</td>\n",
       "      <td> 0.212975</td>\n",
       "      <td> 84.820592</td>\n",
       "    </tr>\n",
       "    <tr>\n",
       "      <th>2014-12-19</th>\n",
       "      <td> 5.639382</td>\n",
       "      <td>-0.150157</td>\n",
       "      <td> 5.789539</td>\n",
       "      <td> 2.744612</td>\n",
       "      <td> 91.699991</td>\n",
       "    </tr>\n",
       "    <tr>\n",
       "      <th>2014-09-19</th>\n",
       "      <td> 1.669077</td>\n",
       "      <td>-3.476148</td>\n",
       "      <td> 5.145225</td>\n",
       "      <td>-0.903535</td>\n",
       "      <td> 98.113823</td>\n",
       "    </tr>\n",
       "  </tbody>\n",
       "</table>\n",
       "</div>"
      ],
      "text/plain": [
       "              q1high     q1low   q1range  q1middle      q1pos\n",
       "2015-03-20  3.195691 -2.769740  5.965430  0.212975  84.820592\n",
       "2014-12-19  5.639382 -0.150157  5.789539  2.744612  91.699991\n",
       "2014-09-19  1.669077 -3.476148  5.145225 -0.903535  98.113823"
      ]
     },
     "execution_count": 178,
     "metadata": {},
     "output_type": "execute_result"
    }
   ],
   "source": [
    "yall = complete.drop(['q1c','q1cstd','q0c','q0cstd','q0high','q0low','q0spanmean','q0spanstd','q0lixt','q0lixc72',\n",
    "                      'q0lixc288','q0lixd','q0lixm','q0lixtv','q0lixc72v','q0lixc288v','q0lixdv','q0lixmv','m0c',\n",
    "                      'm0cstd','m0high','m0low','m0spanmean','m0spanstd','m0lixt','m0lixc72','m0lixc288','m0lixd',\n",
    "                      'm0lixm','m0lixtv','m0lixc72v','m0lixc288v','m0lixdv','m0lixmv'], 1)\n",
    "yalln = completen.drop(['q1c','q1cstd','q0c','q0cstd','q0high','q0low','q0spanmean','q0spanstd','q0lixt','q0lixc72',\n",
    "                      'q0lixc288','q0lixd','q0lixm','q0lixtv','q0lixc72v','q0lixc288v','q0lixdv','q0lixmv','m0c',\n",
    "                      'm0cstd','m0high','m0low','m0spanmean','m0spanstd','m0lixt','m0lixc72','m0lixc288','m0lixd',\n",
    "                      'm0lixm','m0lixtv','m0lixc72v','m0lixc288v','m0lixdv','m0lixmv'], 1)\n",
    "yall.head(3)"
   ]
  },
  {
   "cell_type": "code",
   "execution_count": 179,
   "metadata": {
    "collapsed": false
   },
   "outputs": [
    {
     "data": {
      "text/html": [
       "<div style=\"max-height:1000px;max-width:1500px;overflow:auto;\">\n",
       "<table border=\"1\" class=\"dataframe\">\n",
       "  <thead>\n",
       "    <tr style=\"text-align: right;\">\n",
       "      <th></th>\n",
       "      <th>q0c</th>\n",
       "      <th>q0cstd</th>\n",
       "      <th>q0high</th>\n",
       "      <th>q0low</th>\n",
       "      <th>q0spanmean</th>\n",
       "      <th>q0spanstd</th>\n",
       "      <th>q0lixt</th>\n",
       "      <th>q0lixc72</th>\n",
       "      <th>q0lixc288</th>\n",
       "      <th>q0lixd</th>\n",
       "      <th>...</th>\n",
       "      <th>m0c</th>\n",
       "      <th>m0cstd</th>\n",
       "      <th>m0high</th>\n",
       "      <th>m0low</th>\n",
       "      <th>m0spanmean</th>\n",
       "      <th>m0spanstd</th>\n",
       "      <th>m0lixt</th>\n",
       "      <th>m0lixc72</th>\n",
       "      <th>m0lixd</th>\n",
       "      <th>m0lixm</th>\n",
       "    </tr>\n",
       "  </thead>\n",
       "  <tbody>\n",
       "    <tr>\n",
       "      <th>2015-03-20</th>\n",
       "      <td> 4.440649</td>\n",
       "      <td> 0.812940</td>\n",
       "      <td> 0.445199</td>\n",
       "      <td>-0.535186</td>\n",
       "      <td> 0.987037</td>\n",
       "      <td> 0.574594</td>\n",
       "      <td> 32.300570</td>\n",
       "      <td> 0</td>\n",
       "      <td> 0</td>\n",
       "      <td>-19.985072</td>\n",
       "      <td>...</td>\n",
       "      <td>-1.768981</td>\n",
       "      <td> 0.893247</td>\n",
       "      <td> 0.593115</td>\n",
       "      <td>-0.571646</td>\n",
       "      <td> 1.173138</td>\n",
       "      <td> 0.591319</td>\n",
       "      <td> 5.122899</td>\n",
       "      <td> 0.000000</td>\n",
       "      <td>-3.827465</td>\n",
       "      <td> 1</td>\n",
       "    </tr>\n",
       "    <tr>\n",
       "      <th>2014-12-19</th>\n",
       "      <td>-0.695533</td>\n",
       "      <td> 0.820467</td>\n",
       "      <td> 0.487591</td>\n",
       "      <td>-0.520567</td>\n",
       "      <td> 1.014848</td>\n",
       "      <td> 0.546768</td>\n",
       "      <td> 33.217476</td>\n",
       "      <td> 0</td>\n",
       "      <td> 0</td>\n",
       "      <td>-19.337724</td>\n",
       "      <td>...</td>\n",
       "      <td>-0.921402</td>\n",
       "      <td> 1.115442</td>\n",
       "      <td> 0.731307</td>\n",
       "      <td>-0.687926</td>\n",
       "      <td> 1.431070</td>\n",
       "      <td> 0.552762</td>\n",
       "      <td> 4.232588</td>\n",
       "      <td>-1.387678</td>\n",
       "      <td>-2.862472</td>\n",
       "      <td> 1</td>\n",
       "    </tr>\n",
       "    <tr>\n",
       "      <th>2014-09-19</th>\n",
       "      <td> 6.168292</td>\n",
       "      <td> 0.462849</td>\n",
       "      <td> 0.229158</td>\n",
       "      <td>-0.409953</td>\n",
       "      <td> 0.642071</td>\n",
       "      <td> 0.281328</td>\n",
       "      <td> 42.470507</td>\n",
       "      <td> 0</td>\n",
       "      <td> 0</td>\n",
       "      <td>-22.704580</td>\n",
       "      <td>...</td>\n",
       "      <td> 0.886301</td>\n",
       "      <td> 0.498493</td>\n",
       "      <td> 0.245731</td>\n",
       "      <td>-0.343030</td>\n",
       "      <td> 0.590982</td>\n",
       "      <td> 0.280409</td>\n",
       "      <td> 7.621349</td>\n",
       "      <td> 0.000000</td>\n",
       "      <td>-6.110579</td>\n",
       "      <td> 1</td>\n",
       "    </tr>\n",
       "  </tbody>\n",
       "</table>\n",
       "<p>3 rows × 24 columns</p>\n",
       "</div>"
      ],
      "text/plain": [
       "                 q0c    q0cstd    q0high     q0low  q0spanmean  q0spanstd  \\\n",
       "2015-03-20  4.440649  0.812940  0.445199 -0.535186    0.987037   0.574594   \n",
       "2014-12-19 -0.695533  0.820467  0.487591 -0.520567    1.014848   0.546768   \n",
       "2014-09-19  6.168292  0.462849  0.229158 -0.409953    0.642071   0.281328   \n",
       "\n",
       "               q0lixt  q0lixc72  q0lixc288     q0lixd   ...         m0c  \\\n",
       "2015-03-20  32.300570         0          0 -19.985072   ...   -1.768981   \n",
       "2014-12-19  33.217476         0          0 -19.337724   ...   -0.921402   \n",
       "2014-09-19  42.470507         0          0 -22.704580   ...    0.886301   \n",
       "\n",
       "              m0cstd    m0high     m0low  m0spanmean  m0spanstd    m0lixt  \\\n",
       "2015-03-20  0.893247  0.593115 -0.571646    1.173138   0.591319  5.122899   \n",
       "2014-12-19  1.115442  0.731307 -0.687926    1.431070   0.552762  4.232588   \n",
       "2014-09-19  0.498493  0.245731 -0.343030    0.590982   0.280409  7.621349   \n",
       "\n",
       "            m0lixc72    m0lixd  m0lixm  \n",
       "2015-03-20  0.000000 -3.827465       1  \n",
       "2014-12-19 -1.387678 -2.862472       1  \n",
       "2014-09-19  0.000000 -6.110579       1  \n",
       "\n",
       "[3 rows x 24 columns]"
      ]
     },
     "execution_count": 179,
     "metadata": {},
     "output_type": "execute_result"
    }
   ],
   "source": [
    "xall = complete.drop(['q1c','q1cstd','q1high','q1low','q1range','q1middle','q1pos','q0lixc72v','q0lixc288v','m0lixc288',\n",
    "                    'm0lixtv','m0lixc72v','m0lixc288v','m0lixdv','m0lixmv'], 1)\n",
    "xalln = completen.drop(['q1c','q1cstd','q1high','q1low','q1range','q1middle','q1pos','q0lixc72v','q0lixc288v','m0lixc288',\n",
    "                    'm0lixtv','m0lixc72v','m0lixc288v','m0lixdv','m0lixmv'], 1)\n",
    "xall.head(3)"
   ]
  },
  {
   "cell_type": "code",
   "execution_count": 180,
   "metadata": {
    "collapsed": false
   },
   "outputs": [],
   "source": [
    "testsize = 0.3\n",
    "clf = RandomForestClassifier()\n",
    "#clf = DecisionTreeClassifier()"
   ]
  },
  {
   "cell_type": "markdown",
   "metadata": {},
   "source": [
    "###Q1Range"
   ]
  },
  {
   "cell_type": "code",
   "execution_count": 181,
   "metadata": {
    "collapsed": true
   },
   "outputs": [],
   "source": [
    "yr = yall.q1range\n",
    "xr = xall.drop(['q0lixc288','q0lixc72','m0lixc72'], 1)\n",
    "yrn = yalln.q1range\n",
    "xrn = xalln.drop(['q0lixc288','q0lixc72','m0lixc72'], 1)"
   ]
  },
  {
   "cell_type": "code",
   "execution_count": 182,
   "metadata": {
    "collapsed": false
   },
   "outputs": [
    {
     "data": {
      "text/plain": [
       "array(['q0c', 'q0cstd', 'q0high', 'q0low', 'q0spanmean', 'q0spanstd',\n",
       "       'q0lixt', 'q0lixd', 'q0lixm', 'q0lixtv', 'q0lixdv', 'q0lixmv',\n",
       "       'm0c', 'm0cstd', 'm0high', 'm0low', 'm0spanmean', 'm0spanstd',\n",
       "       'm0lixt', 'm0lixd', 'm0lixm'], dtype=object)"
      ]
     },
     "execution_count": 182,
     "metadata": {},
     "output_type": "execute_result"
    }
   ],
   "source": [
    "xr.columns.values"
   ]
  },
  {
   "cell_type": "markdown",
   "metadata": {},
   "source": [
    "###Q1Low"
   ]
  },
  {
   "cell_type": "code",
   "execution_count": 183,
   "metadata": {
    "collapsed": true
   },
   "outputs": [],
   "source": [
    "yl = yall.q1low\n",
    "xl = xall.drop(['q0lixc288','q0lixt','m0c','m0spanstd','m0lixm'], 1)\n",
    "yln = yalln.q1low\n",
    "xln = xalln.drop(['q0lixc288','q0lixt','m0c','m0spanstd','m0lixm'], 1)"
   ]
  },
  {
   "cell_type": "code",
   "execution_count": 184,
   "metadata": {
    "collapsed": false
   },
   "outputs": [
    {
     "data": {
      "text/plain": [
       "array(['q0c', 'q0cstd', 'q0high', 'q0low', 'q0spanmean', 'q0spanstd',\n",
       "       'q0lixc72', 'q0lixd', 'q0lixm', 'q0lixtv', 'q0lixdv', 'q0lixmv',\n",
       "       'm0cstd', 'm0high', 'm0low', 'm0spanmean', 'm0lixt', 'm0lixc72',\n",
       "       'm0lixd'], dtype=object)"
      ]
     },
     "execution_count": 184,
     "metadata": {},
     "output_type": "execute_result"
    }
   ],
   "source": [
    "xl.columns.values"
   ]
  },
  {
   "cell_type": "markdown",
   "metadata": {},
   "source": [
    "###Q1High"
   ]
  },
  {
   "cell_type": "code",
   "execution_count": 185,
   "metadata": {
    "collapsed": true
   },
   "outputs": [],
   "source": [
    "yh = yall.q1high\n",
    "xh = xall.drop(['q0lixc288','q0lixt','m0c','m0spanstd','m0lixm'], 1)\n",
    "yhn = yalln.q1high\n",
    "xhn = xalln.drop(['q0lixc288','q0lixt','m0c','m0spanstd','m0lixm'], 1)"
   ]
  },
  {
   "cell_type": "code",
   "execution_count": 186,
   "metadata": {
    "collapsed": false
   },
   "outputs": [
    {
     "data": {
      "text/plain": [
       "array(['q0c', 'q0cstd', 'q0high', 'q0low', 'q0spanmean', 'q0spanstd',\n",
       "       'q0lixc72', 'q0lixd', 'q0lixm', 'q0lixtv', 'q0lixdv', 'q0lixmv',\n",
       "       'm0cstd', 'm0high', 'm0low', 'm0spanmean', 'm0lixt', 'm0lixc72',\n",
       "       'm0lixd'], dtype=object)"
      ]
     },
     "execution_count": 186,
     "metadata": {},
     "output_type": "execute_result"
    }
   ],
   "source": [
    "xh.columns.values"
   ]
  },
  {
   "cell_type": "markdown",
   "metadata": {},
   "source": [
    "###Q1Middle"
   ]
  },
  {
   "cell_type": "code",
   "execution_count": 187,
   "metadata": {
    "collapsed": false
   },
   "outputs": [],
   "source": [
    "ym = yall.q1middle\n",
    "xm = xall.drop(['q0c','q0cstd','q0low','q0spanmean','q0spanstd','q0lixt','q0lixc72',\n",
    "               'q0lixd','q0lixm','q0lixtv','q0lixdv','q0lixmv','m0c','m0cstd','m0low','m0high','m0spanmean',\n",
    "               'm0spanstd','m0lixd','m0lixm'], 1)\n",
    "ymn = yalln.q1middle\n",
    "xmn = xalln.drop(['q0c','q0cstd','q0low','q0spanmean','q0spanstd','q0lixt','q0lixc72',\n",
    "               'q0lixd','q0lixm','q0lixtv','q0lixdv','q0lixmv','m0c','m0cstd','m0low','m0high','m0spanmean',\n",
    "               'm0spanstd','m0lixd','m0lixm'], 1)"
   ]
  },
  {
   "cell_type": "code",
   "execution_count": 188,
   "metadata": {
    "collapsed": false
   },
   "outputs": [
    {
     "data": {
      "text/plain": [
       "array(['q0high', 'q0lixc288', 'm0lixt', 'm0lixc72'], dtype=object)"
      ]
     },
     "execution_count": 188,
     "metadata": {},
     "output_type": "execute_result"
    }
   ],
   "source": [
    "xm.columns.values"
   ]
  },
  {
   "cell_type": "markdown",
   "metadata": {},
   "source": [
    "###Q1Pos"
   ]
  },
  {
   "cell_type": "code",
   "execution_count": 189,
   "metadata": {
    "collapsed": true
   },
   "outputs": [],
   "source": [
    "yp = yall.q1pos\n",
    "xp = xall.drop(['q0c','q0cstd','q0high','q0low','q0spanstd','q0lixt','q0lixc72','q0lixd',\n",
    "               'q0lixm','q0lixtv','q0lixdv','q0lixmv','m0c','m0cstd','m0low','m0spanmean','m0spanstd','m0lixm'], 1)\n",
    "ypn = yalln.q1pos\n",
    "xpn = xalln.drop(['q0c','q0cstd','q0high','q0low','q0spanstd','q0lixt','q0lixc72','q0lixd',\n",
    "               'q0lixm','q0lixtv','q0lixdv','q0lixmv','m0c','m0cstd','m0low','m0spanmean','m0spanstd','m0lixm'], 1)"
   ]
  },
  {
   "cell_type": "code",
   "execution_count": 190,
   "metadata": {
    "collapsed": false
   },
   "outputs": [
    {
     "data": {
      "text/plain": [
       "array(['q0spanmean', 'q0lixc288', 'm0high', 'm0lixt', 'm0lixc72', 'm0lixd'], dtype=object)"
      ]
     },
     "execution_count": 190,
     "metadata": {},
     "output_type": "execute_result"
    }
   ],
   "source": [
    "xp.columns.values"
   ]
  },
  {
   "cell_type": "markdown",
   "metadata": {},
   "source": [
    "##Supervised learning predictions"
   ]
  },
  {
   "cell_type": "code",
   "execution_count": 141,
   "metadata": {
    "collapsed": true
   },
   "outputs": [],
   "source": [
    "import matplotlib.pyplot as plt\n",
    "import statsmodels.formula.api as smf\n",
    "from scipy.stats import linregress\n",
    "from pylab import *\n",
    "from urllib import urlopen\n",
    "from sklearn.cross_validation import train_test_split\n",
    "from sklearn.linear_model import LogisticRegression\n",
    "from __future__ import division\n",
    "from sklearn import cross_validation\n",
    "from sklearn.neighbors import KNeighborsClassifier\n",
    "from sklearn.metrics import accuracy_score\n",
    "from sklearn.naive_bayes import GaussianNB\n",
    "from sklearn.svm import SVC\n",
    "from sklearn.tree import DecisionTreeClassifier\n",
    "from sklearn.ensemble import RandomForestClassifier\n",
    "from sklearn.cross_validation import cross_val_score\n",
    "from sklearn.metrics import precision_recall_fscore_support\n",
    "from sklearn import metrics\n",
    "from sklearn.metrics import roc_curve, auc\n",
    "from sklearn.metrics import roc_auc_score\n",
    "from sklearn.preprocessing import label_binarize\n",
    "from sklearn import tree\n",
    "from sklearn.externals.six import StringIO\n",
    "import os\n",
    "from sklearn.externals.six import StringIO  \n",
    "import pydot\n",
    "from sklearn.cross_validation import StratifiedKFold\n",
    "from sklearn import linear_model\n",
    "from sklearn.cross_validation import cross_val_score"
   ]
  },
  {
   "cell_type": "markdown",
   "metadata": {},
   "source": [
    "###Q1low"
   ]
  },
  {
   "cell_type": "code",
   "execution_count": 191,
   "metadata": {
    "collapsed": false
   },
   "outputs": [],
   "source": [
    "X = xl\n",
    "y = yl\n",
    "X_train, X_test, y_train, y_test = cross_validation.train_test_split(X, y, test_size=testsize, random_state=0)\n",
    "Xn = xln\n",
    "yn = yln\n",
    "Xn_train, Xn_test, yn_train, yn_test = cross_validation.train_test_split(Xn, yn, test_size=testsize, random_state=0)"
   ]
  },
  {
   "cell_type": "code",
   "execution_count": 192,
   "metadata": {
    "collapsed": false
   },
   "outputs": [
    {
     "name": "stdout",
     "output_type": "stream",
     "text": [
      "(141, 19) (98, 19) (43, 19)\n"
     ]
    }
   ],
   "source": [
    "print X.shape, X_train.shape, X_test.shape"
   ]
  },
  {
   "cell_type": "code",
   "execution_count": 193,
   "metadata": {
    "collapsed": false
   },
   "outputs": [],
   "source": [
    "model = clf.fit(X_train, y_train)\n",
    "modeln = clf.fit(Xn_train, yn_train)"
   ]
  },
  {
   "cell_type": "code",
   "execution_count": 194,
   "metadata": {
    "collapsed": true
   },
   "outputs": [],
   "source": [
    "testpred = model.predict(X_test)\n",
    "testpredn = model.predict(Xn_test)"
   ]
  },
  {
   "cell_type": "code",
   "execution_count": 195,
   "metadata": {
    "collapsed": true
   },
   "outputs": [],
   "source": [
    "diff = (testpred - y_test)\n",
    "diffn = (testpredn - yn_test)"
   ]
  },
  {
   "cell_type": "code",
   "execution_count": 196,
   "metadata": {
    "collapsed": false
   },
   "outputs": [
    {
     "name": "stdout",
     "output_type": "stream",
     "text": [
      "4.70004912179 19.4803193647\n",
      "0.449623596416 1.83500471415\n"
     ]
    }
   ],
   "source": [
    "print np.mean(abs(diff)), np.max(abs(diff))\n",
    "print np.mean(abs(diffn)), np.max(abs(diffn))"
   ]
  },
  {
   "cell_type": "code",
   "execution_count": 198,
   "metadata": {
    "collapsed": false
   },
   "outputs": [
    {
     "data": {
      "text/html": [
       "<div style=\"max-height:1000px;max-width:1500px;overflow:auto;\">\n",
       "<table border=\"1\" class=\"dataframe\">\n",
       "  <thead>\n",
       "    <tr style=\"text-align: right;\">\n",
       "      <th></th>\n",
       "      <th>actual</th>\n",
       "      <th>predicted</th>\n",
       "      <th>difference</th>\n",
       "    </tr>\n",
       "  </thead>\n",
       "  <tbody>\n",
       "    <tr>\n",
       "      <th>0</th>\n",
       "      <td> 0.000000</td>\n",
       "      <td> 0.871596</td>\n",
       "      <td> 0.871596</td>\n",
       "    </tr>\n",
       "    <tr>\n",
       "      <th>1</th>\n",
       "      <td>-7.492923</td>\n",
       "      <td> 0.871596</td>\n",
       "      <td> 8.364519</td>\n",
       "    </tr>\n",
       "    <tr>\n",
       "      <th>2</th>\n",
       "      <td> 0.000000</td>\n",
       "      <td> 0.871596</td>\n",
       "      <td> 0.871596</td>\n",
       "    </tr>\n",
       "  </tbody>\n",
       "</table>\n",
       "</div>"
      ],
      "text/plain": [
       "     actual  predicted  difference\n",
       "0  0.000000   0.871596    0.871596\n",
       "1 -7.492923   0.871596    8.364519\n",
       "2  0.000000   0.871596    0.871596"
      ]
     },
     "execution_count": 198,
     "metadata": {},
     "output_type": "execute_result"
    }
   ],
   "source": [
    "pred = pd.DataFrame(columns = ['actual','predicted','difference'])\n",
    "pred.actual = y_test\n",
    "pred.predicted = testpred\n",
    "pred.difference = diff\n",
    "pred.head(3)"
   ]
  },
  {
   "cell_type": "markdown",
   "metadata": {},
   "source": [
    "###Q1high"
   ]
  },
  {
   "cell_type": "code",
   "execution_count": 147,
   "metadata": {
    "collapsed": false
   },
   "outputs": [],
   "source": [
    "#X = xh\n",
    "#y = yh\n",
    "X = xhn\n",
    "y = yhn\n",
    "X_train, X_test, y_train, y_test = cross_validation.train_test_split(X, y, test_size=0.3, random_state=0)"
   ]
  },
  {
   "cell_type": "code",
   "execution_count": 148,
   "metadata": {
    "collapsed": false
   },
   "outputs": [
    {
     "name": "stdout",
     "output_type": "stream",
     "text": [
      "(141, 19) (98, 19) (43, 19)\n"
     ]
    }
   ],
   "source": [
    "print X.shape, X_train.shape, X_test.shape"
   ]
  },
  {
   "cell_type": "code",
   "execution_count": 149,
   "metadata": {
    "collapsed": false
   },
   "outputs": [],
   "source": [
    "clf = RandomForestClassifier()\n",
    "#clf = DecisionTreeClassifier()\n",
    "model = clf.fit(X_train, y_train)"
   ]
  },
  {
   "cell_type": "code",
   "execution_count": 150,
   "metadata": {
    "collapsed": false
   },
   "outputs": [
    {
     "name": "stdout",
     "output_type": "stream",
     "text": [
      "0.393469954749 2.0\n"
     ]
    }
   ],
   "source": [
    "testpred = model.predict(X_test)\n",
    "diff = (testpred - y_test)\n",
    "print np.mean(abs(diff)), np.max(abs(diff))"
   ]
  },
  {
   "cell_type": "code",
   "execution_count": 151,
   "metadata": {
    "collapsed": false
   },
   "outputs": [],
   "source": [
    "pred = pd.DataFrame(columns = ['actual','predicted','difference'])\n",
    "pred.actual = y_test\n",
    "pred.predicted = testpred\n",
    "pred.difference = diff"
   ]
  },
  {
   "cell_type": "markdown",
   "metadata": {},
   "source": [
    "###Q1range"
   ]
  },
  {
   "cell_type": "code",
   "execution_count": 152,
   "metadata": {
    "collapsed": false
   },
   "outputs": [],
   "source": [
    "#X = xr\n",
    "#y = yr\n",
    "X = xrn\n",
    "y = yrn\n",
    "X_train, X_test, y_train, y_test = cross_validation.train_test_split(X, y, test_size=0.3, random_state=0)"
   ]
  },
  {
   "cell_type": "code",
   "execution_count": 153,
   "metadata": {
    "collapsed": false
   },
   "outputs": [
    {
     "name": "stdout",
     "output_type": "stream",
     "text": [
      "(141, 21) (98, 21) (43, 21)\n"
     ]
    }
   ],
   "source": [
    "print X.shape, X_train.shape, X_test.shape"
   ]
  },
  {
   "cell_type": "code",
   "execution_count": 154,
   "metadata": {
    "collapsed": false
   },
   "outputs": [],
   "source": [
    "clf = RandomForestClassifier()\n",
    "#clf = DecisionTreeClassifier()\n",
    "model = clf.fit(X_train, y_train)"
   ]
  },
  {
   "cell_type": "code",
   "execution_count": 155,
   "metadata": {
    "collapsed": false
   },
   "outputs": [
    {
     "name": "stdout",
     "output_type": "stream",
     "text": [
      "0.250442452782 1.27070951558\n"
     ]
    }
   ],
   "source": [
    "testpred = model.predict(X_test)\n",
    "diff = (testpred - y_test)\n",
    "print np.mean(abs(diff)), np.max(abs(diff))"
   ]
  },
  {
   "cell_type": "code",
   "execution_count": 156,
   "metadata": {
    "collapsed": false
   },
   "outputs": [],
   "source": [
    "pred = pd.DataFrame(columns = ['actual','predicted','difference'])\n",
    "pred.actual = y_test\n",
    "pred.predicted = testpred\n",
    "pred.difference = diff"
   ]
  },
  {
   "cell_type": "markdown",
   "metadata": {},
   "source": [
    "###Q1pos"
   ]
  },
  {
   "cell_type": "code",
   "execution_count": 157,
   "metadata": {
    "collapsed": false
   },
   "outputs": [],
   "source": [
    "#X = xp\n",
    "#y = yp\n",
    "X = xpn\n",
    "y = ypn\n",
    "X_train, X_test, y_train, y_test = cross_validation.train_test_split(X, y, test_size=0.3, random_state=0)"
   ]
  },
  {
   "cell_type": "code",
   "execution_count": 158,
   "metadata": {
    "collapsed": false
   },
   "outputs": [
    {
     "name": "stdout",
     "output_type": "stream",
     "text": [
      "(141, 7) (98, 7) (43, 7)\n"
     ]
    }
   ],
   "source": [
    "print X.shape, X_train.shape, X_test.shape"
   ]
  },
  {
   "cell_type": "code",
   "execution_count": 159,
   "metadata": {
    "collapsed": false
   },
   "outputs": [],
   "source": [
    "clf = RandomForestClassifier()\n",
    "#clf = DecisionTreeClassifier()\n",
    "model = clf.fit(X_train, y_train)"
   ]
  },
  {
   "cell_type": "code",
   "execution_count": 160,
   "metadata": {
    "collapsed": false
   },
   "outputs": [
    {
     "name": "stdout",
     "output_type": "stream",
     "text": [
      "0.635290291924 2.0\n"
     ]
    }
   ],
   "source": [
    "testpred = model.predict(X_test)\n",
    "diff = (testpred - y_test)\n",
    "print np.mean(abs(diff)), np.max(abs(diff))"
   ]
  },
  {
   "cell_type": "code",
   "execution_count": 161,
   "metadata": {
    "collapsed": false
   },
   "outputs": [],
   "source": [
    "pred = pd.DataFrame(columns = ['actual','predicted','difference'])\n",
    "pred.actual = y_test\n",
    "pred.predicted = testpred\n",
    "pred.difference = diff"
   ]
  },
  {
   "cell_type": "markdown",
   "metadata": {},
   "source": [
    "###Q1middle"
   ]
  },
  {
   "cell_type": "code",
   "execution_count": 162,
   "metadata": {
    "collapsed": false
   },
   "outputs": [],
   "source": [
    "#X = xm\n",
    "#y = ym\n",
    "X = xmn\n",
    "y = ymn\n",
    "X_train, X_test, y_train, y_test = cross_validation.train_test_split(X, y, test_size=0.3, random_state=0)"
   ]
  },
  {
   "cell_type": "code",
   "execution_count": 163,
   "metadata": {
    "collapsed": false
   },
   "outputs": [
    {
     "name": "stdout",
     "output_type": "stream",
     "text": [
      "(141, 4) (98, 4) (43, 4)\n"
     ]
    }
   ],
   "source": [
    "print X.shape, X_train.shape, X_test.shape"
   ]
  },
  {
   "cell_type": "code",
   "execution_count": 164,
   "metadata": {
    "collapsed": false
   },
   "outputs": [],
   "source": [
    "clf = RandomForestClassifier()\n",
    "#clf = DecisionTreeClassifier()\n",
    "model = clf.fit(X_train, y_train)"
   ]
  },
  {
   "cell_type": "code",
   "execution_count": 165,
   "metadata": {
    "collapsed": false
   },
   "outputs": [
    {
     "name": "stdout",
     "output_type": "stream",
     "text": [
      "0.473984228602 1.35381497609\n"
     ]
    }
   ],
   "source": [
    "testpred = model.predict(X_test)\n",
    "diff = (testpred - y_test)\n",
    "print np.mean(abs(diff)), np.max(abs(diff))"
   ]
  },
  {
   "cell_type": "code",
   "execution_count": 166,
   "metadata": {
    "collapsed": false
   },
   "outputs": [],
   "source": [
    "pred = pd.DataFrame(columns = ['actual','predicted','difference'])\n",
    "pred.actual = y_test\n",
    "pred.predicted = testpred\n",
    "pred.difference = diff"
   ]
  },
  {
   "cell_type": "code",
   "execution_count": null,
   "metadata": {
    "collapsed": true
   },
   "outputs": [],
   "source": []
  }
 ],
 "metadata": {
  "kernelspec": {
   "display_name": "Python 2",
   "language": "python",
   "name": "python2"
  },
  "language_info": {
   "codemirror_mode": {
    "name": "ipython",
    "version": 2
   },
   "file_extension": ".py",
   "mimetype": "text/x-python",
   "name": "python",
   "nbconvert_exporter": "python",
   "pygments_lexer": "ipython2",
   "version": "2.7.9"
  }
 },
 "nbformat": 4,
 "nbformat_minor": 0
}
